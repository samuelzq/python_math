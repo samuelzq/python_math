{
 "cells": [
  {
   "cell_type": "markdown",
   "metadata": {},
   "source": [
    "## Python的实例，类和静态方法\n",
    "\n",
    "前文介绍的都是常规实例方法。Python的类还支持类方法和静态方法。对它们之间的差异有一个直观的理解，编写出的面向对象的Python程序才能够更清楚\n",
    "地表达其意图，且更易于长期维护。\n",
    "\n",
    "让我们从写一个(python3)类开始，它包含所有三种方法类型的简单示例，代码如下："
   ]
  },
  {
   "cell_type": "code",
   "execution_count": 2,
   "metadata": {},
   "outputs": [],
   "source": [
    "class MyClass:\n",
    "    def method(self):\n",
    "        return 'instance method called', self\n",
    "\n",
    "    @classmethod\n",
    "    def classmethod(cls):\n",
    "        return 'class method called', cls\n",
    "\n",
    "    @staticmethod\n",
    "    def staticmethod():\n",
    "        return 'static method called'"
   ]
  },
  {
   "cell_type": "markdown",
   "metadata": {},
   "source": [
    "### 实例方法\n",
    "\n",
    "MyClass上的第一个方法名为method，它是一个常规的实例方法。这是前文介绍过的在大多数情况下使用的基本的、没有修饰的方法类型。如前文所述该方法的第一个参数是self，该参数在该方法被调用时指向MyClass的一个实例。\n",
    "\n",
    "通过self参数，实例方法可以自由访问该对象的属性和其它方法。由于可以修改对象的状态，这使得实例方法有很大的权力。\n",
    "实例方法不仅可以修改对象状态，还可以通过属性self.__class__ 来访问类本身。这意味着实例方法也可以修改类状态。\n",
    "\n",
    "### 类方法\n",
    "\n",
    "第二个方法myclass.classmethod由函数修饰符@classmethod标记，它是一个类方法。与实例方法不同，类方法第一个形参是cls，该形参在该方法被调用时指向类而不是类的对象实例。\n",
    "\n",
    "因为类方法只能访问这个cls参数，它不能修改对象实例状态。然而，类方法仍然可以修改应用于类的所有实例的类状态。\n",
    "\n",
    "### 静态方法\n",
    "\n",
    "第三个方法MyClass.staticmethod由函数修饰符@staticmethod标记，它是静态方法。这种类型的方法既不接受self也不接受cls参数。当然，它可以自由地接受任意数量的其他参数。因此静态方法既不能修改对象状态也不能修改类状态。静态方法受限于它们可以访问的数据，它们主要是为了将自定义的方法限制在某一命名空间内。\n",
    "\n",
    "\n",
    "接下来让我们看看在调用这些方法时，它们的实际行为是怎样的。我们将首先创建类的一个实例，然后在其上调用三个不同的方法。\n",
    "\n",
    "MyClass的设置是这样的：每个方法的实现返回一个包含信息的元组，以便我们跟踪正在发生的事情——以及该方法可以访问类或对象的哪些部分。\n",
    "\n",
    "下面代码调用一个实例方法："
   ]
  },
  {
   "cell_type": "code",
   "execution_count": 3,
   "metadata": {},
   "outputs": [
    {
     "data": {
      "text/plain": [
       "('instance method called', <__main__.MyClass at 0x28f258b2340>)"
      ]
     },
     "execution_count": 3,
     "metadata": {},
     "output_type": "execute_result"
    }
   ],
   "source": [
    "obj = MyClass()\n",
    "obj.method()"
   ]
  },
  {
   "cell_type": "markdown",
   "metadata": {},
   "source": [
    "与前文中的示例一样，实例方法可以通过self参数访问对象实例。当实例方法被调用时，Python用实例对象obj替换self参数。当然也可以忽略点操作符这种语法糖(object.method())，手动传递实例对象以获得相同的结果。这里就不再重复举例了。\n",
    "\n",
    "这里流一个问题供大家思考：如果不先创建实例就尝试调用实例方法，会发生什么呢?\n",
    "\n",
    "接下来的代码是类方法："
   ]
  },
  {
   "cell_type": "code",
   "execution_count": 4,
   "metadata": {},
   "outputs": [
    {
     "data": {
      "text/plain": [
       "('class method called', __main__.MyClass)"
      ]
     },
     "execution_count": 4,
     "metadata": {},
     "output_type": "execute_result"
    }
   ],
   "source": [
    "obj.classmethod()"
   ]
  },
  {
   "cell_type": "markdown",
   "metadata": {},
   "source": [
    "通过结果可以看出，调用classmethod()访问的不是<MyClass实例>对象，而是一个<class MyClass>对象，这个对象代表了类本身。\n",
    "\n",
    "    **在Python中的一切都是对象，甚至类本身。**\n",
    "\n",
    "当MyClass.classmethod()被调用时，Python自动将类作为第一个参数传递给函数。请注意，将这些参数命名为self和cls只是一种约定。\n",
    "将它们命名为the_object和_class也能够得到相同的结果。重要的是它们在方法的参数列表中的位置，它们必需处在参数列表第1位。\n",
    "    \n",
    "接下来代码是静态方法：\n",
    "    "
   ]
  },
  {
   "cell_type": "code",
   "execution_count": 5,
   "metadata": {},
   "outputs": [
    {
     "data": {
      "text/plain": [
       "'static method called'"
      ]
     },
     "execution_count": 5,
     "metadata": {},
     "output_type": "execute_result"
    }
   ],
   "source": [
    "obj.staticmethod()"
   ]
  },
  {
   "cell_type": "markdown",
   "metadata": {},
   "source": [
    "当调用静态方法时，Python通过不传入self或cls参数来强制访问限制。\n",
    "这确认了静态方法既不能访问对象实例状态，也不能访问类状态。它们的工作方式类似于常规函数，但属于类(以及每个实例)的命名空间。\n",
    "\n",
    "现在，让我们来看看当我们尝试在类本身上调用这些方法时会发生什么："
   ]
  },
  {
   "cell_type": "code",
   "execution_count": 5,
   "metadata": {},
   "outputs": [
    {
     "data": {
      "text/plain": [
       "('class method called', __main__.MyClass)"
      ]
     },
     "execution_count": 5,
     "metadata": {},
     "output_type": "execute_result"
    }
   ],
   "source": [
    "MyClass.classmethod()"
   ]
  },
  {
   "cell_type": "code",
   "execution_count": 6,
   "metadata": {},
   "outputs": [
    {
     "data": {
      "text/plain": [
       "'static method called'"
      ]
     },
     "execution_count": 6,
     "metadata": {},
     "output_type": "execute_result"
    }
   ],
   "source": [
    "MyClass.staticmethod()\n"
   ]
  },
  {
   "cell_type": "code",
   "execution_count": 7,
   "metadata": {},
   "outputs": [
    {
     "ename": "TypeError",
     "evalue": "method() missing 1 required positional argument: 'self'",
     "output_type": "error",
     "traceback": [
      "\u001b[0;31m---------------------------------------------------------------------------\u001b[0m",
      "\u001b[0;31mTypeError\u001b[0m                                 Traceback (most recent call last)",
      "\u001b[0;32m<ipython-input-7-88f17b4fa117>\u001b[0m in \u001b[0;36m<module>\u001b[0;34m\u001b[0m\n\u001b[0;32m----> 1\u001b[0;31m \u001b[0mMyClass\u001b[0m\u001b[0;34m.\u001b[0m\u001b[0mmethod\u001b[0m\u001b[0;34m(\u001b[0m\u001b[0;34m)\u001b[0m\u001b[0;34m\u001b[0m\u001b[0;34m\u001b[0m\u001b[0m\n\u001b[0m",
      "\u001b[0;31mTypeError\u001b[0m: method() missing 1 required positional argument: 'self'"
     ]
    }
   ],
   "source": [
    "MyClass.method()"
   ]
  },
  {
   "cell_type": "markdown",
   "metadata": {},
   "source": [
    "调用classmethod()和staticmethod()都没有问题，但试图调用实例方法method()时出现TypeError。\n",
    "\n",
    "这是意料之中的，因为我们没有创建一个对象实例。当尝试直接在类本身上调用一个实例函数时，\n",
    "由于Python没有办法填充self参数，因此调用失败。\n",
    "\n",
    "在接下来，我们将通过更实际的示例说明何时使用这些特殊的方法类型。\n",
    "以下代码是一个pizza类：\n"
   ]
  },
  {
   "cell_type": "code",
   "execution_count": 8,
   "metadata": {},
   "outputs": [],
   "source": [
    "class Pizza:\n",
    "    def __init__(self, ingredients):\n",
    "        self.ingredients = ingredients\n",
    "\n",
    "    def __repr__(self):\n",
    "        return 'Pizza(%s})' % self.ingredients"
   ]
  },
  {
   "cell_type": "code",
   "execution_count": 10,
   "metadata": {},
   "outputs": [],
   "source": [
    "p = Pizza(['cheese', 'tomatoes'])"
   ]
  },
  {
   "cell_type": "code",
   "execution_count": 11,
   "metadata": {},
   "outputs": [
    {
     "data": {
      "text/plain": [
       "Pizza(['cheese', 'tomatoes']})"
      ]
     },
     "execution_count": 11,
     "metadata": {},
     "output_type": "execute_result"
    }
   ],
   "source": [
    "p "
   ]
  },
  {
   "cell_type": "code",
   "execution_count": 13,
   "metadata": {},
   "outputs": [
    {
     "data": {
      "text/plain": [
       "\"Pizza(['cheese', 'tomatoes']})\""
      ]
     },
     "execution_count": 13,
     "metadata": {},
     "output_type": "execute_result"
    }
   ],
   "source": [
    "repr(p)"
   ]
  },
  {
   "cell_type": "markdown",
   "metadata": {},
   "source": [
    "现实中披萨有许多美味的变化，以下代码定义了多种披萨："
   ]
  },
  {
   "cell_type": "code",
   "execution_count": 14,
   "metadata": {},
   "outputs": [
    {
     "data": {
      "text/plain": [
       "Pizza(['mozzarella', 'mozzarella', 'mozzarella', 'mozzarella']})"
      ]
     },
     "execution_count": 14,
     "metadata": {},
     "output_type": "execute_result"
    }
   ],
   "source": [
    "Pizza(['mozzarella', 'tomatoes'])\n",
    "Pizza(['mozzarella', 'tomatoes', 'ham', 'mushrooms'])\n",
    "Pizza(['mozzarella'] * 4)"
   ]
  },
  {
   "cell_type": "markdown",
   "metadata": {},
   "source": [
    "这些美味的披萨都有自己的名字。我们应该充分利用这一点，为披萨类的用户提供一个更好的界面来创建他们渴望的披萨对象。\n",
    "\n",
    "一种干净利落的方法是将类方法作为工厂函数，用于创建不同种类的披萨。代码如下："
   ]
  },
  {
   "cell_type": "code",
   "execution_count": 7,
   "metadata": {},
   "outputs": [],
   "source": [
    "class Pizza:\n",
    "    def __init__(self, ingredients):\n",
    "        self.ingredients = ingredients\n",
    "\n",
    "    def __repr__(self):\n",
    "        return f'Pizza({self.ingredients!r})'\n",
    "\n",
    "    @classmethod\n",
    "    def margherita(cls):\n",
    "        return cls(['mozzarella', 'tomatoes'])\n",
    "\n",
    "    @classmethod\n",
    "    def prosciutto(cls):\n",
    "        return cls(['mozzarella', 'tomatoes', 'ham'])"
   ]
  },
  {
   "cell_type": "markdown",
   "metadata": {},
   "source": [
    "以上代码中创建了两个类方法：margherita()和prosciutto()，分别对应不同的披萨类型。它们是新建的工厂函数，都使用cls参数，而不是直接调用Pizza构造函数的。\n",
    "这遵循了Don 't Repeat Yourself (DRY)的原则。如果我们决定在某个时候重命名这个类，我们将不必修改这两个方法的内容。\n",
    "\n",
    "以下代码使用这些工厂函数创建新的对象："
   ]
  },
  {
   "cell_type": "code",
   "execution_count": 8,
   "metadata": {},
   "outputs": [
    {
     "data": {
      "text/plain": [
       "Pizza(['mozzarella', 'tomatoes'])"
      ]
     },
     "execution_count": 8,
     "metadata": {},
     "output_type": "execute_result"
    }
   ],
   "source": [
    "Pizza.margherita()\n"
   ]
  },
  {
   "cell_type": "code",
   "execution_count": 9,
   "metadata": {},
   "outputs": [
    {
     "data": {
      "text/plain": [
       "Pizza(['mozzarella', 'tomatoes', 'ham'])"
      ]
     },
     "execution_count": 9,
     "metadata": {},
     "output_type": "execute_result"
    }
   ],
   "source": [
    "Pizza.prosciutto()"
   ]
  },
  {
   "cell_type": "markdown",
   "metadata": {},
   "source": [
    "如上，我们可以使用工厂函数来创建新的披萨对象，并按照我们想要的方式配置它们。它们都在内部使用相同的__init__构造函数，并简单地提供了一个记住所有各种元素的快捷方式。\n",
    "\n",
    "我们也可以将类方法另一种特殊的构造函数。\n",
    "Python只允许每个类有一个__init__方法。使用类方法可以根据需要添加尽可能多的替代构造函数。\n",
    "\n",
    "接下来的代码新增了静态方法："
   ]
  },
  {
   "cell_type": "code",
   "execution_count": 13,
   "metadata": {},
   "outputs": [
    {
     "data": {
      "text/plain": [
       "50.26548245743669"
      ]
     },
     "execution_count": 13,
     "metadata": {},
     "output_type": "execute_result"
    }
   ],
   "source": [
    "import math\n",
    "\n",
    "class Pizza:\n",
    "    def __init__(self, radius, ingredients):\n",
    "        self.radius = radius\n",
    "        self.ingredients = ingredients\n",
    "\n",
    "    def __repr__(self):\n",
    "        return (f'Pizza({self.radius!r}, '\n",
    "                f'{self.ingredients!r})')\n",
    "\n",
    "    def area(self):\n",
    "        return self.circle_area(self.radius)\n",
    "\n",
    "    @staticmethod\n",
    "    def circle_area(r):\n",
    "        return r ** 2 * math.pi\n",
    "p = Pizza(4, ['mozzarella', 'tomatoes'])\n",
    "p.area()"
   ]
  },
  {
   "cell_type": "code",
   "execution_count": 14,
   "metadata": {},
   "outputs": [
    {
     "data": {
      "text/plain": [
       "50.26548245743669"
      ]
     },
     "execution_count": 14,
     "metadata": {},
     "output_type": "execute_result"
    }
   ],
   "source": [
    "Pizza.circle_area(4)"
   ]
  },
  {
   "cell_type": "markdown",
   "metadata": {},
   "source": [
    "可以看到，Pizza类的构造函数和__repr__都被修改了，以接受一个额外的半径参数。\n",
    "还增添了area()实例方法，用于计算并返回Pizza实例的面积。\n",
    "需注意的是代码中没有使用众所周知的圆面积公式，而是将其分解为一个单独的circle_area()静态方法。\n",
    "\n",
    "当然，这是一个有点简单的例子，但它可以帮助解释静态方法提供的一些好处。\n",
    "\n",
    "正如我们所了解的，静态方法不能访问类或实例状态，因为它们不接受cls或self参数。这是一个很大的限制——但它也是一个很好的信号，表明一个特定的方法是独立于它周围的所有东西的。\n",
    "\n",
    "在上面的例子中，很明显circle_area()不能以任何方式修改类或类实例。(当然，你总是可以用全局变量来解决这个问题，但这不是重点。)\n",
    "\n",
    "为什么这个会有用呢?\n",
    "\n",
    "将一个方法标记为静态不仅仅是为了对此方法进行限制，使得它不能修改类或实例状态。\n",
    "一个重要的用处是，该方法允许我们可以清楚地对类的体系结构进行标注。它是交流开发人员意图的有效方法。有助于开发者在设置的边界内进行新的开发工作。虽然，无视这些限制是很容易的。但在实践中，它们通常有助于避免违背原始设计的意外修改。适当地应用，并且在有意义的时候，以这种方式编写一些方法可以提供维护好处，并减少其他开发人员错误地使用类的可能性。\n",
    "\n",
    "在编写测试代码时，静态方法也有好处。\n",
    "\n",
    "因为circle_area()方法完全独立于类的其余部分，所以测试起来要容易得多。\n",
    "\n",
    "在单元测试中测试方法之前，我们不必担心如何设置一个完整的类实例。我们可以像测试常规函数一样直接测试。同样，这使得将来的维护更加容易。\n",
    "\n"
   ]
  },
  {
   "cell_type": "markdown",
   "metadata": {},
   "source": []
  }
 ],
 "metadata": {
  "kernelspec": {
   "display_name": "Python 3",
   "language": "python",
   "name": "python3"
  },
  "language_info": {
   "codemirror_mode": {
    "name": "ipython",
    "version": 3
   },
   "file_extension": ".py",
   "mimetype": "text/x-python",
   "name": "python",
   "nbconvert_exporter": "python",
   "pygments_lexer": "ipython3",
   "version": "3.8.3"
  }
 },
 "nbformat": 4,
 "nbformat_minor": 4
}
