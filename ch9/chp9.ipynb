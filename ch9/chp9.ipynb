{
 "cells": [
  {
   "cell_type": "markdown",
   "metadata": {},
   "source": [
    "# 第9章\t统计分析\n",
    "\n",
    "## 9.1\t安装Pandas和SciPy\n"
   ]
  },
  {
   "cell_type": "code",
   "execution_count": 1,
   "metadata": {},
   "outputs": [],
   "source": [
    "import math\n",
    "import statistics\n",
    "import numpy\n",
    "import scipy.stats\n",
    "import pandas"
   ]
  },
  {
   "cell_type": "code",
   "execution_count": 2,
   "metadata": {},
   "outputs": [],
   "source": [
    "x = [8.0, 1, 2.5, 4, 28.0]\n",
    "x_with_nan = [8.0, 1, 2.5, math.nan, 4, 28.0]"
   ]
  },
  {
   "cell_type": "code",
   "execution_count": 3,
   "metadata": {},
   "outputs": [
    {
     "data": {
      "text/plain": [
       "[8.0, 1, 2.5, 4, 28.0]"
      ]
     },
     "execution_count": 3,
     "metadata": {},
     "output_type": "execute_result"
    }
   ],
   "source": [
    "x"
   ]
  },
  {
   "cell_type": "code",
   "execution_count": 4,
   "metadata": {},
   "outputs": [
    {
     "data": {
      "text/plain": [
       "[8.0, 1, 2.5, nan, 4, 28.0]"
      ]
     },
     "execution_count": 4,
     "metadata": {},
     "output_type": "execute_result"
    }
   ],
   "source": [
    "x_with_nan"
   ]
  },
  {
   "cell_type": "code",
   "execution_count": 5,
   "metadata": {},
   "outputs": [
    {
     "data": {
      "text/plain": [
       "(True, True)"
      ]
     },
     "execution_count": 5,
     "metadata": {},
     "output_type": "execute_result"
    }
   ],
   "source": [
    "math.isnan(numpy.nan), numpy.isnan(math.nan),\n"
   ]
  },
  {
   "cell_type": "code",
   "execution_count": 6,
   "metadata": {},
   "outputs": [
    {
     "data": {
      "text/plain": [
       "(True, True)"
      ]
     },
     "execution_count": 6,
     "metadata": {},
     "output_type": "execute_result"
    }
   ],
   "source": [
    "math.isnan(x_with_nan[3]), numpy.isnan(x_with_nan[3])"
   ]
  },
  {
   "cell_type": "code",
   "execution_count": 7,
   "metadata": {},
   "outputs": [
    {
     "data": {
      "text/plain": [
       "(array([ 8. ,  1. ,  2.5,  4. , 28. ]),\n",
       " array([ 8. ,  1. ,  2.5,  nan,  4. , 28. ]),\n",
       " 0     8.0\n",
       " 1     1.0\n",
       " 2     2.5\n",
       " 3     4.0\n",
       " 4    28.0\n",
       " dtype: float64,\n",
       " 0     8.0\n",
       " 1     1.0\n",
       " 2     2.5\n",
       " 3     NaN\n",
       " 4     4.0\n",
       " 5    28.0\n",
       " dtype: float64)"
      ]
     },
     "execution_count": 7,
     "metadata": {},
     "output_type": "execute_result"
    }
   ],
   "source": [
    "y, y_with_nan = numpy.array(x), numpy.array(x_with_nan)\n",
    "z, z_with_nan = pandas.Series(x), pandas.Series(x_with_nan)\n",
    "y, y_with_nan,z,z_with_nan"
   ]
  },
  {
   "cell_type": "markdown",
   "metadata": {},
   "source": [
    "### 9.2.1\t平均值"
   ]
  },
  {
   "cell_type": "code",
   "execution_count": 8,
   "metadata": {},
   "outputs": [
    {
     "data": {
      "text/plain": [
       "8.7"
      ]
     },
     "execution_count": 8,
     "metadata": {},
     "output_type": "execute_result"
    }
   ],
   "source": [
    "def Mean(s):\n",
    "    \"\"\"\n",
    "    计算一组数据的平均值\n",
    "\n",
    "    入参\n",
    "    _____\n",
    "    s: float\n",
    "       一组数据\n",
    "\n",
    "    返回值\n",
    "    ______\n",
    "    m: float\n",
    "       平均值\n",
    "    \"\"\"\n",
    "    m = float(sum(s)) / len(s)\n",
    "    return m\n",
    "Mean(x)"
   ]
  },
  {
   "cell_type": "code",
   "execution_count": 9,
   "metadata": {},
   "outputs": [
    {
     "name": "stdout",
     "output_type": "stream",
     "text": [
      "x的平均值是： 8.7\n"
     ]
    }
   ],
   "source": [
    "print(\"x的平均值是： %g\" % (Mean(x)))"
   ]
  },
  {
   "cell_type": "code",
   "execution_count": 10,
   "metadata": {},
   "outputs": [
    {
     "data": {
      "text/plain": [
       "8.7"
      ]
     },
     "execution_count": 10,
     "metadata": {},
     "output_type": "execute_result"
    }
   ],
   "source": [
    "mean_ = statistics.mean(x)\n",
    "mean_"
   ]
  },
  {
   "cell_type": "code",
   "execution_count": 11,
   "metadata": {},
   "outputs": [
    {
     "data": {
      "text/plain": [
       "8.7"
      ]
     },
     "execution_count": 11,
     "metadata": {},
     "output_type": "execute_result"
    }
   ],
   "source": [
    "mean_ = statistics.fmean(x)\n",
    "mean_"
   ]
  },
  {
   "cell_type": "code",
   "execution_count": 12,
   "metadata": {},
   "outputs": [
    {
     "data": {
      "text/plain": [
       "nan"
      ]
     },
     "execution_count": 12,
     "metadata": {},
     "output_type": "execute_result"
    }
   ],
   "source": [
    "mean_ = statistics.mean(x_with_nan)\n",
    "mean_"
   ]
  },
  {
   "cell_type": "code",
   "execution_count": 13,
   "metadata": {},
   "outputs": [
    {
     "data": {
      "text/plain": [
       "nan"
      ]
     },
     "execution_count": 13,
     "metadata": {},
     "output_type": "execute_result"
    }
   ],
   "source": [
    "mean_ = statistics.fmean(x_with_nan)\n",
    "mean_"
   ]
  },
  {
   "cell_type": "code",
   "execution_count": 14,
   "metadata": {},
   "outputs": [
    {
     "data": {
      "text/plain": [
       "(8.7, 8.7)"
      ]
     },
     "execution_count": 14,
     "metadata": {},
     "output_type": "execute_result"
    }
   ],
   "source": [
    "numpy.mean(y), y.mean()"
   ]
  },
  {
   "cell_type": "code",
   "execution_count": 15,
   "metadata": {},
   "outputs": [
    {
     "data": {
      "text/plain": [
       "(nan, nan)"
      ]
     },
     "execution_count": 15,
     "metadata": {},
     "output_type": "execute_result"
    }
   ],
   "source": [
    "numpy.mean(y_with_nan), y_with_nan.mean()"
   ]
  },
  {
   "cell_type": "markdown",
   "metadata": {},
   "source": [
    "通常我们并不需要获得nan值，此时可以使用numpy.nanmean()\n"
   ]
  },
  {
   "cell_type": "code",
   "execution_count": 16,
   "metadata": {},
   "outputs": [
    {
     "data": {
      "text/plain": [
       "8.7"
      ]
     },
     "execution_count": 16,
     "metadata": {},
     "output_type": "execute_result"
    }
   ],
   "source": [
    "numpy.nanmean(y_with_nan)"
   ]
  },
  {
   "cell_type": "code",
   "execution_count": 17,
   "metadata": {},
   "outputs": [],
   "source": [
    "a = numpy.array([[8.0, 1, 2.5, 4, 28.0], [0.1, 0.2, 0.3, 0.25, 0.15]])"
   ]
  },
  {
   "cell_type": "code",
   "execution_count": 18,
   "metadata": {},
   "outputs": [
    {
     "name": "stdout",
     "output_type": "stream",
     "text": [
      "数组每行的均值:\n",
      "[8.7 0.2]\n",
      "数组每列的均值:\n",
      "[ 4.05   0.6    1.4    2.125 14.075]\n"
     ]
    }
   ],
   "source": [
    "print('数组每行的均值:')\n",
    "print(numpy.mean(a, axis = 1))\n",
    "\n",
    "print('数组每列的均值:')\n",
    "print((numpy.mean(a, axis = 0)))"
   ]
  },
  {
   "cell_type": "code",
   "execution_count": 19,
   "metadata": {},
   "outputs": [
    {
     "data": {
      "text/plain": [
       "8.7"
      ]
     },
     "execution_count": 19,
     "metadata": {},
     "output_type": "execute_result"
    }
   ],
   "source": [
    "z_with_nan.mean()"
   ]
  },
  {
   "cell_type": "markdown",
   "metadata": {},
   "source": [
    "此行为是可选参数skipna的默认值造成的。可以通过更改此参数来修改行为。"
   ]
  },
  {
   "cell_type": "markdown",
   "metadata": {},
   "source": [
    "### 9.2.2\t加权平均值"
   ]
  },
  {
   "cell_type": "code",
   "execution_count": 20,
   "metadata": {},
   "outputs": [
    {
     "data": {
      "text/plain": [
       "4.8"
      ]
     },
     "execution_count": 20,
     "metadata": {},
     "output_type": "execute_result"
    }
   ],
   "source": [
    "0.2 * 2 + 0.5 * 4 + 0.3 * 8"
   ]
  },
  {
   "cell_type": "code",
   "execution_count": 21,
   "metadata": {},
   "outputs": [
    {
     "data": {
      "text/plain": [
       "6.95"
      ]
     },
     "execution_count": 21,
     "metadata": {},
     "output_type": "execute_result"
    }
   ],
   "source": [
    "x = [8.0, 1, 2.5, 4, 28.0]\n",
    "w = [0.1, 0.2, 0.3, 0.25, 0.15]\n",
    "\n",
    "def WMean(s, w):\n",
    "    \"\"\"\n",
    "    计算一组数据的加权平均值\n",
    "\n",
    "    入参\n",
    "    _____\n",
    "    s: float\n",
    "       一组数据\n",
    "    w: float\n",
    "       数据的权重\n",
    "\n",
    "    返回值\n",
    "    ______\n",
    "    wm: float\n",
    "       加权平均值\n",
    "    \"\"\"\n",
    "    wm = sum(w[i] * s[i] for i in range(len(x))) / sum(w)\n",
    "    return wm\n",
    "\n",
    "WMean(x, w)"
   ]
  },
  {
   "cell_type": "code",
   "execution_count": 22,
   "metadata": {},
   "outputs": [
    {
     "data": {
      "text/plain": [
       "6.95"
      ]
     },
     "execution_count": 22,
     "metadata": {},
     "output_type": "execute_result"
    }
   ],
   "source": [
    "def WMean(s, w):\n",
    "    \"\"\"\n",
    "    计算一组数据的加权平均值\n",
    "    使用zip()的实现\n",
    "\n",
    "    入参\n",
    "    _____\n",
    "    s: float\n",
    "       一组数据\n",
    "    w: float\n",
    "       数据的权重\n",
    "\n",
    "    返回值\n",
    "    ______\n",
    "    wm: float\n",
    "       加权平均值\n",
    "    \"\"\"\n",
    "    wm = sum(x_ * w_ for (x_, w_) in zip(x, w)) / sum(w)\n",
    "    return wm\n",
    "\n",
    "WMean(x, w)\n",
    "\n"
   ]
  },
  {
   "cell_type": "code",
   "execution_count": 23,
   "metadata": {},
   "outputs": [
    {
     "data": {
      "text/plain": [
       "6.95"
      ]
     },
     "execution_count": 23,
     "metadata": {},
     "output_type": "execute_result"
    }
   ],
   "source": [
    "y, z, w = numpy.array(x), pandas.Series(x), numpy.array(w)\n",
    "wmean = numpy.average(y, weights=w)\n",
    "wmean"
   ]
  },
  {
   "cell_type": "code",
   "execution_count": 24,
   "metadata": {},
   "outputs": [
    {
     "data": {
      "text/plain": [
       "6.95"
      ]
     },
     "execution_count": 24,
     "metadata": {},
     "output_type": "execute_result"
    }
   ],
   "source": [
    "wmean = numpy.average(z, weights=w)\n",
    "wmean"
   ]
  },
  {
   "cell_type": "code",
   "execution_count": 25,
   "metadata": {},
   "outputs": [
    {
     "data": {
      "text/plain": [
       "nan"
      ]
     },
     "execution_count": 25,
     "metadata": {},
     "output_type": "execute_result"
    }
   ],
   "source": [
    "w = numpy.array([0.1, 0.2, 0.3, 0.0, 0.2, 0.1])\n",
    "(w * y_with_nan).sum() / w.sum()"
   ]
  },
  {
   "cell_type": "code",
   "execution_count": 26,
   "metadata": {},
   "outputs": [
    {
     "data": {
      "text/plain": [
       "(nan, nan)"
      ]
     },
     "execution_count": 26,
     "metadata": {},
     "output_type": "execute_result"
    }
   ],
   "source": [
    "numpy.average(y_with_nan, weights=w), numpy.average(z_with_nan, weights=w)\n"
   ]
  },
  {
   "cell_type": "code",
   "execution_count": 27,
   "metadata": {},
   "outputs": [
    {
     "data": {
      "text/plain": [
       "array([0.625, 2.625, 4.625])"
      ]
     },
     "execution_count": 27,
     "metadata": {},
     "output_type": "execute_result"
    }
   ],
   "source": [
    "a = numpy.arange(6).reshape(3,2) \n",
    "wts = numpy.array([3,5])\n",
    "numpy.average(a, axis = 1, weights=wts)  # 每行加权平均"
   ]
  },
  {
   "cell_type": "markdown",
   "metadata": {},
   "source": [
    "### 9.2.3\t调和平均值"
   ]
  },
  {
   "cell_type": "code",
   "execution_count": 28,
   "metadata": {},
   "outputs": [
    {
     "data": {
      "text/plain": [
       "2.7613412228796843"
      ]
     },
     "execution_count": 28,
     "metadata": {},
     "output_type": "execute_result"
    }
   ],
   "source": [
    "def HMean(s):\n",
    "    \"\"\"\n",
    "    计算一组数据的调和平均值\n",
    "\n",
    "    入参\n",
    "    _____\n",
    "    s: float\n",
    "       一组数据\n",
    "\n",
    "    返回值\n",
    "    ______\n",
    "    hm: float\n",
    "       调和平均值\n",
    "    \"\"\"\n",
    "    hmean = len(x) / sum(1 / item for item in x)\n",
    "    return hmean\n",
    "HMean(x)"
   ]
  },
  {
   "cell_type": "code",
   "execution_count": 29,
   "metadata": {},
   "outputs": [
    {
     "data": {
      "text/plain": [
       "2.7613412228796843"
      ]
     },
     "execution_count": 29,
     "metadata": {},
     "output_type": "execute_result"
    }
   ],
   "source": [
    "hmean = statistics.harmonic_mean(x)\n",
    "hmean"
   ]
  },
  {
   "cell_type": "code",
   "execution_count": 30,
   "metadata": {},
   "outputs": [
    {
     "data": {
      "text/plain": [
       "nan"
      ]
     },
     "execution_count": 30,
     "metadata": {},
     "output_type": "execute_result"
    }
   ],
   "source": [
    "statistics.harmonic_mean(x_with_nan)"
   ]
  },
  {
   "cell_type": "code",
   "execution_count": 31,
   "metadata": {},
   "outputs": [
    {
     "data": {
      "text/plain": [
       "0"
      ]
     },
     "execution_count": 31,
     "metadata": {},
     "output_type": "execute_result"
    }
   ],
   "source": [
    " statistics.harmonic_mean([1, 0, 2])"
   ]
  },
  {
   "cell_type": "code",
   "execution_count": 32,
   "metadata": {},
   "outputs": [
    {
     "ename": "StatisticsError",
     "evalue": "harmonic mean does not support negative values",
     "output_type": "error",
     "traceback": [
      "\u001b[1;31m---------------------------------------------------------------------------\u001b[0m",
      "\u001b[1;31mStatisticsError\u001b[0m                           Traceback (most recent call last)",
      "\u001b[1;32m<ipython-input-32-48e67b8a6e37>\u001b[0m in \u001b[0;36m<module>\u001b[1;34m\u001b[0m\n\u001b[1;32m----> 1\u001b[1;33m \u001b[0mstatistics\u001b[0m\u001b[1;33m.\u001b[0m\u001b[0mharmonic_mean\u001b[0m\u001b[1;33m(\u001b[0m\u001b[1;33m[\u001b[0m\u001b[1;36m1\u001b[0m\u001b[1;33m,\u001b[0m \u001b[1;36m2\u001b[0m\u001b[1;33m,\u001b[0m \u001b[1;33m-\u001b[0m\u001b[1;36m2\u001b[0m\u001b[1;33m]\u001b[0m\u001b[1;33m)\u001b[0m\u001b[1;33m\u001b[0m\u001b[1;33m\u001b[0m\u001b[0m\n\u001b[0m",
      "\u001b[1;32mC:\\ProgramData\\Anaconda3\\lib\\statistics.py\u001b[0m in \u001b[0;36mharmonic_mean\u001b[1;34m(data)\u001b[0m\n\u001b[0;32m    404\u001b[0m             \u001b[1;32mraise\u001b[0m \u001b[0mTypeError\u001b[0m\u001b[1;33m(\u001b[0m\u001b[1;34m'unsupported type'\u001b[0m\u001b[1;33m)\u001b[0m\u001b[1;33m\u001b[0m\u001b[1;33m\u001b[0m\u001b[0m\n\u001b[0;32m    405\u001b[0m     \u001b[1;32mtry\u001b[0m\u001b[1;33m:\u001b[0m\u001b[1;33m\u001b[0m\u001b[1;33m\u001b[0m\u001b[0m\n\u001b[1;32m--> 406\u001b[1;33m         \u001b[0mT\u001b[0m\u001b[1;33m,\u001b[0m \u001b[0mtotal\u001b[0m\u001b[1;33m,\u001b[0m \u001b[0mcount\u001b[0m \u001b[1;33m=\u001b[0m \u001b[0m_sum\u001b[0m\u001b[1;33m(\u001b[0m\u001b[1;36m1\u001b[0m\u001b[1;33m/\u001b[0m\u001b[0mx\u001b[0m \u001b[1;32mfor\u001b[0m \u001b[0mx\u001b[0m \u001b[1;32min\u001b[0m \u001b[0m_fail_neg\u001b[0m\u001b[1;33m(\u001b[0m\u001b[0mdata\u001b[0m\u001b[1;33m,\u001b[0m \u001b[0merrmsg\u001b[0m\u001b[1;33m)\u001b[0m\u001b[1;33m)\u001b[0m\u001b[1;33m\u001b[0m\u001b[1;33m\u001b[0m\u001b[0m\n\u001b[0m\u001b[0;32m    407\u001b[0m     \u001b[1;32mexcept\u001b[0m \u001b[0mZeroDivisionError\u001b[0m\u001b[1;33m:\u001b[0m\u001b[1;33m\u001b[0m\u001b[1;33m\u001b[0m\u001b[0m\n\u001b[0;32m    408\u001b[0m         \u001b[1;32mreturn\u001b[0m \u001b[1;36m0\u001b[0m\u001b[1;33m\u001b[0m\u001b[1;33m\u001b[0m\u001b[0m\n",
      "\u001b[1;32mC:\\ProgramData\\Anaconda3\\lib\\statistics.py\u001b[0m in \u001b[0;36m_sum\u001b[1;34m(data, start)\u001b[0m\n\u001b[0;32m    164\u001b[0m     \u001b[1;32mfor\u001b[0m \u001b[0mtyp\u001b[0m\u001b[1;33m,\u001b[0m \u001b[0mvalues\u001b[0m \u001b[1;32min\u001b[0m \u001b[0mgroupby\u001b[0m\u001b[1;33m(\u001b[0m\u001b[0mdata\u001b[0m\u001b[1;33m,\u001b[0m \u001b[0mtype\u001b[0m\u001b[1;33m)\u001b[0m\u001b[1;33m:\u001b[0m\u001b[1;33m\u001b[0m\u001b[1;33m\u001b[0m\u001b[0m\n\u001b[0;32m    165\u001b[0m         \u001b[0mT\u001b[0m \u001b[1;33m=\u001b[0m \u001b[0m_coerce\u001b[0m\u001b[1;33m(\u001b[0m\u001b[0mT\u001b[0m\u001b[1;33m,\u001b[0m \u001b[0mtyp\u001b[0m\u001b[1;33m)\u001b[0m  \u001b[1;31m# or raise TypeError\u001b[0m\u001b[1;33m\u001b[0m\u001b[1;33m\u001b[0m\u001b[0m\n\u001b[1;32m--> 166\u001b[1;33m         \u001b[1;32mfor\u001b[0m \u001b[0mn\u001b[0m\u001b[1;33m,\u001b[0m\u001b[0md\u001b[0m \u001b[1;32min\u001b[0m \u001b[0mmap\u001b[0m\u001b[1;33m(\u001b[0m\u001b[0m_exact_ratio\u001b[0m\u001b[1;33m,\u001b[0m \u001b[0mvalues\u001b[0m\u001b[1;33m)\u001b[0m\u001b[1;33m:\u001b[0m\u001b[1;33m\u001b[0m\u001b[1;33m\u001b[0m\u001b[0m\n\u001b[0m\u001b[0;32m    167\u001b[0m             \u001b[0mcount\u001b[0m \u001b[1;33m+=\u001b[0m \u001b[1;36m1\u001b[0m\u001b[1;33m\u001b[0m\u001b[1;33m\u001b[0m\u001b[0m\n\u001b[0;32m    168\u001b[0m             \u001b[0mpartials\u001b[0m\u001b[1;33m[\u001b[0m\u001b[0md\u001b[0m\u001b[1;33m]\u001b[0m \u001b[1;33m=\u001b[0m \u001b[0mpartials_get\u001b[0m\u001b[1;33m(\u001b[0m\u001b[0md\u001b[0m\u001b[1;33m,\u001b[0m \u001b[1;36m0\u001b[0m\u001b[1;33m)\u001b[0m \u001b[1;33m+\u001b[0m \u001b[0mn\u001b[0m\u001b[1;33m\u001b[0m\u001b[1;33m\u001b[0m\u001b[0m\n",
      "\u001b[1;32mC:\\ProgramData\\Anaconda3\\lib\\statistics.py\u001b[0m in \u001b[0;36m<genexpr>\u001b[1;34m(.0)\u001b[0m\n\u001b[0;32m    404\u001b[0m             \u001b[1;32mraise\u001b[0m \u001b[0mTypeError\u001b[0m\u001b[1;33m(\u001b[0m\u001b[1;34m'unsupported type'\u001b[0m\u001b[1;33m)\u001b[0m\u001b[1;33m\u001b[0m\u001b[1;33m\u001b[0m\u001b[0m\n\u001b[0;32m    405\u001b[0m     \u001b[1;32mtry\u001b[0m\u001b[1;33m:\u001b[0m\u001b[1;33m\u001b[0m\u001b[1;33m\u001b[0m\u001b[0m\n\u001b[1;32m--> 406\u001b[1;33m         \u001b[0mT\u001b[0m\u001b[1;33m,\u001b[0m \u001b[0mtotal\u001b[0m\u001b[1;33m,\u001b[0m \u001b[0mcount\u001b[0m \u001b[1;33m=\u001b[0m \u001b[0m_sum\u001b[0m\u001b[1;33m(\u001b[0m\u001b[1;36m1\u001b[0m\u001b[1;33m/\u001b[0m\u001b[0mx\u001b[0m \u001b[1;32mfor\u001b[0m \u001b[0mx\u001b[0m \u001b[1;32min\u001b[0m \u001b[0m_fail_neg\u001b[0m\u001b[1;33m(\u001b[0m\u001b[0mdata\u001b[0m\u001b[1;33m,\u001b[0m \u001b[0merrmsg\u001b[0m\u001b[1;33m)\u001b[0m\u001b[1;33m)\u001b[0m\u001b[1;33m\u001b[0m\u001b[1;33m\u001b[0m\u001b[0m\n\u001b[0m\u001b[0;32m    407\u001b[0m     \u001b[1;32mexcept\u001b[0m \u001b[0mZeroDivisionError\u001b[0m\u001b[1;33m:\u001b[0m\u001b[1;33m\u001b[0m\u001b[1;33m\u001b[0m\u001b[0m\n\u001b[0;32m    408\u001b[0m         \u001b[1;32mreturn\u001b[0m \u001b[1;36m0\u001b[0m\u001b[1;33m\u001b[0m\u001b[1;33m\u001b[0m\u001b[0m\n",
      "\u001b[1;32mC:\\ProgramData\\Anaconda3\\lib\\statistics.py\u001b[0m in \u001b[0;36m_fail_neg\u001b[1;34m(values, errmsg)\u001b[0m\n\u001b[0;32m    287\u001b[0m     \u001b[1;32mfor\u001b[0m \u001b[0mx\u001b[0m \u001b[1;32min\u001b[0m \u001b[0mvalues\u001b[0m\u001b[1;33m:\u001b[0m\u001b[1;33m\u001b[0m\u001b[1;33m\u001b[0m\u001b[0m\n\u001b[0;32m    288\u001b[0m         \u001b[1;32mif\u001b[0m \u001b[0mx\u001b[0m \u001b[1;33m<\u001b[0m \u001b[1;36m0\u001b[0m\u001b[1;33m:\u001b[0m\u001b[1;33m\u001b[0m\u001b[1;33m\u001b[0m\u001b[0m\n\u001b[1;32m--> 289\u001b[1;33m             \u001b[1;32mraise\u001b[0m \u001b[0mStatisticsError\u001b[0m\u001b[1;33m(\u001b[0m\u001b[0merrmsg\u001b[0m\u001b[1;33m)\u001b[0m\u001b[1;33m\u001b[0m\u001b[1;33m\u001b[0m\u001b[0m\n\u001b[0m\u001b[0;32m    290\u001b[0m         \u001b[1;32myield\u001b[0m \u001b[0mx\u001b[0m\u001b[1;33m\u001b[0m\u001b[1;33m\u001b[0m\u001b[0m\n\u001b[0;32m    291\u001b[0m \u001b[1;33m\u001b[0m\u001b[0m\n",
      "\u001b[1;31mStatisticsError\u001b[0m: harmonic mean does not support negative values"
     ]
    }
   ],
   "source": [
    "statistics.harmonic_mean([1, 2, -2]) "
   ]
  },
  {
   "cell_type": "code",
   "execution_count": 33,
   "metadata": {},
   "outputs": [
    {
     "data": {
      "text/plain": [
       "(array([ 8. ,  1. ,  2.5,  4. , 28. ]), 2.7613412228796843)"
      ]
     },
     "execution_count": 33,
     "metadata": {},
     "output_type": "execute_result"
    }
   ],
   "source": [
    "y, scipy.stats.hmean(y)"
   ]
  },
  {
   "cell_type": "code",
   "execution_count": 34,
   "metadata": {},
   "outputs": [
    {
     "data": {
      "text/plain": [
       "(0     8.0\n",
       " 1     1.0\n",
       " 2     2.5\n",
       " 3     4.0\n",
       " 4    28.0\n",
       " dtype: float64,\n",
       " 2.7613412228796843)"
      ]
     },
     "execution_count": 34,
     "metadata": {},
     "output_type": "execute_result"
    }
   ],
   "source": [
    "z, scipy.stats.hmean(z)"
   ]
  },
  {
   "cell_type": "markdown",
   "metadata": {},
   "source": [
    "### 9.2.4\t几何平均值"
   ]
  },
  {
   "cell_type": "code",
   "execution_count": 35,
   "metadata": {},
   "outputs": [
    {
     "data": {
      "text/plain": [
       "4.677885674856041"
      ]
     },
     "execution_count": 35,
     "metadata": {},
     "output_type": "execute_result"
    }
   ],
   "source": [
    "def GMean(s):\n",
    "    \"\"\"\n",
    "    计算一组数据的几何平均值\n",
    "\n",
    "    入参\n",
    "    _____\n",
    "    s: float\n",
    "       一组数据\n",
    "\n",
    "    返回值\n",
    "    ______\n",
    "    hm: float\n",
    "       几何平均值\n",
    "    \"\"\"\n",
    "    gmean = 1\n",
    "    for item in x:\n",
    "        gmean *= item\n",
    "\n",
    "    gmean **= 1 / len(x)\n",
    "    return gmean\n",
    "\n",
    "GMean(x)"
   ]
  },
  {
   "cell_type": "code",
   "execution_count": 36,
   "metadata": {},
   "outputs": [
    {
     "data": {
      "text/plain": [
       "(4.67788567485604, nan)"
      ]
     },
     "execution_count": 36,
     "metadata": {},
     "output_type": "execute_result"
    }
   ],
   "source": [
    "statistics.geometric_mean(x), statistics.geometric_mean(x_with_nan)"
   ]
  },
  {
   "cell_type": "code",
   "execution_count": 37,
   "metadata": {},
   "outputs": [
    {
     "data": {
      "text/plain": [
       "4.67788567485604"
      ]
     },
     "execution_count": 37,
     "metadata": {},
     "output_type": "execute_result"
    }
   ],
   "source": [
    "scipy.stats.gmean(y)"
   ]
  },
  {
   "cell_type": "code",
   "execution_count": 38,
   "metadata": {},
   "outputs": [
    {
     "data": {
      "text/plain": [
       "4.67788567485604"
      ]
     },
     "execution_count": 38,
     "metadata": {},
     "output_type": "execute_result"
    }
   ],
   "source": [
    "scipy.stats.gmean(z)"
   ]
  },
  {
   "cell_type": "code",
   "execution_count": 39,
   "metadata": {},
   "outputs": [
    {
     "name": "stdout",
     "output_type": "stream",
     "text": [
      "x的算术平均值是：8.700\n",
      "x的几何平均值是：4.678\n",
      "x的调和平均值是：2.761\n"
     ]
    }
   ],
   "source": [
    "print('x的算术平均值是：%0.3f' % (statistics.mean(x)))\n",
    "print('x的几何平均值是：%0.3f' % (statistics.geometric_mean(x)))\n",
    "print('x的调和平均值是：%0.3f' % (statistics.harmonic_mean(x)))\n"
   ]
  },
  {
   "cell_type": "markdown",
   "metadata": {},
   "source": [
    "### 9.2.5\t中位值"
   ]
  },
  {
   "cell_type": "code",
   "execution_count": 40,
   "metadata": {},
   "outputs": [
    {
     "data": {
      "text/plain": [
       "4"
      ]
     },
     "execution_count": 40,
     "metadata": {},
     "output_type": "execute_result"
    }
   ],
   "source": [
    "def Median(s):\n",
    "    \"\"\"\n",
    "    计算一组数据的中位值\n",
    "\n",
    "    入参\n",
    "    _____\n",
    "    s: float\n",
    "       一组数据\n",
    "\n",
    "    返回值\n",
    "    ______\n",
    "    median: float\n",
    "       中位值\n",
    "    \"\"\"\n",
    "    n = len(s)\n",
    "    s.sort()\n",
    "\n",
    "    if n % 2 == 0:        # 偶数个数据\n",
    "        m1 = n//2 - 1     # 整数除法\n",
    "        m2 = m1 + 1\n",
    "        median = (s[m1] + s[m2])/2\n",
    "    else:                # 奇数个数据\n",
    "        m = (n - 1)//2\n",
    "        median = s[m]\n",
    "\n",
    "    return median\n",
    "Median(x)"
   ]
  },
  {
   "cell_type": "code",
   "execution_count": 41,
   "metadata": {},
   "outputs": [
    {
     "data": {
      "text/plain": [
       "(4, 3.25)"
      ]
     },
     "execution_count": 41,
     "metadata": {},
     "output_type": "execute_result"
    }
   ],
   "source": [
    "statistics.median(x),statistics.median(x[:-1])"
   ]
  },
  {
   "cell_type": "code",
   "execution_count": 42,
   "metadata": {},
   "outputs": [
    {
     "data": {
      "text/plain": [
       "2.5"
      ]
     },
     "execution_count": 42,
     "metadata": {},
     "output_type": "execute_result"
    }
   ],
   "source": [
    "statistics.median_low(x[:-1])"
   ]
  },
  {
   "cell_type": "code",
   "execution_count": 43,
   "metadata": {},
   "outputs": [
    {
     "data": {
      "text/plain": [
       "4"
      ]
     },
     "execution_count": 43,
     "metadata": {},
     "output_type": "execute_result"
    }
   ],
   "source": [
    "statistics.median_high(x[:-1])"
   ]
  },
  {
   "cell_type": "code",
   "execution_count": 44,
   "metadata": {},
   "outputs": [
    {
     "data": {
      "text/plain": [
       "6.0"
      ]
     },
     "execution_count": 44,
     "metadata": {},
     "output_type": "execute_result"
    }
   ],
   "source": [
    "statistics.median(x_with_nan)"
   ]
  },
  {
   "cell_type": "code",
   "execution_count": 45,
   "metadata": {},
   "outputs": [
    {
     "data": {
      "text/plain": [
       "4"
      ]
     },
     "execution_count": 45,
     "metadata": {},
     "output_type": "execute_result"
    }
   ],
   "source": [
    "statistics.median_low(x_with_nan)"
   ]
  },
  {
   "cell_type": "code",
   "execution_count": 46,
   "metadata": {},
   "outputs": [
    {
     "data": {
      "text/plain": [
       "8.0"
      ]
     },
     "execution_count": 46,
     "metadata": {},
     "output_type": "execute_result"
    }
   ],
   "source": [
    "statistics.median_high(x_with_nan)"
   ]
  },
  {
   "cell_type": "code",
   "execution_count": 47,
   "metadata": {},
   "outputs": [
    {
     "data": {
      "text/plain": [
       "(4.0, 3.25)"
      ]
     },
     "execution_count": 47,
     "metadata": {},
     "output_type": "execute_result"
    }
   ],
   "source": [
    "numpy.median(y), numpy.median(y[:-1])"
   ]
  },
  {
   "cell_type": "code",
   "execution_count": 48,
   "metadata": {},
   "outputs": [
    {
     "data": {
      "text/plain": [
       "4.0"
      ]
     },
     "execution_count": 48,
     "metadata": {},
     "output_type": "execute_result"
    }
   ],
   "source": [
    "numpy.nanmedian(y_with_nan)"
   ]
  },
  {
   "cell_type": "code",
   "execution_count": 49,
   "metadata": {},
   "outputs": [
    {
     "data": {
      "text/plain": [
       "3.25"
      ]
     },
     "execution_count": 49,
     "metadata": {},
     "output_type": "execute_result"
    }
   ],
   "source": [
    "numpy.nanmedian(y_with_nan[:-1])"
   ]
  },
  {
   "cell_type": "code",
   "execution_count": 50,
   "metadata": {},
   "outputs": [
    {
     "data": {
      "text/plain": [
       "array([0.5, 2.5, 4.5])"
      ]
     },
     "execution_count": 50,
     "metadata": {},
     "output_type": "execute_result"
    }
   ],
   "source": [
    "# 数组每行的中位值\n",
    "numpy.median(a, axis = 1)\n"
   ]
  },
  {
   "cell_type": "code",
   "execution_count": 51,
   "metadata": {},
   "outputs": [
    {
     "data": {
      "text/plain": [
       "array([2., 3.])"
      ]
     },
     "execution_count": 51,
     "metadata": {},
     "output_type": "execute_result"
    }
   ],
   "source": [
    "#数组每列的中位值\n",
    "numpy.median(a, axis = 0)"
   ]
  },
  {
   "cell_type": "code",
   "execution_count": 52,
   "metadata": {},
   "outputs": [
    {
     "data": {
      "text/plain": [
       "4.0"
      ]
     },
     "execution_count": 52,
     "metadata": {},
     "output_type": "execute_result"
    }
   ],
   "source": [
    "z.median()"
   ]
  },
  {
   "cell_type": "code",
   "execution_count": 53,
   "metadata": {},
   "outputs": [
    {
     "data": {
      "text/plain": [
       "4.0"
      ]
     },
     "execution_count": 53,
     "metadata": {},
     "output_type": "execute_result"
    }
   ],
   "source": [
    "z_with_nan.median()"
   ]
  },
  {
   "cell_type": "code",
   "execution_count": 54,
   "metadata": {},
   "outputs": [
    {
     "data": {
      "text/plain": [
       "nan"
      ]
     },
     "execution_count": 54,
     "metadata": {},
     "output_type": "execute_result"
    }
   ],
   "source": [
    "z_with_nan.median(skipna=False)"
   ]
  },
  {
   "cell_type": "markdown",
   "metadata": {},
   "source": [
    "### 9.2.6\t众数"
   ]
  },
  {
   "cell_type": "code",
   "execution_count": 55,
   "metadata": {},
   "outputs": [
    {
     "data": {
      "text/plain": [
       "[2]"
      ]
     },
     "execution_count": 55,
     "metadata": {},
     "output_type": "execute_result"
    }
   ],
   "source": [
    "u = [2, 3, 2, 8, 12]\n",
    "def Mode(s):\n",
    "  \n",
    "    \"\"\"\n",
    "    求一组数据的众数\n",
    "\n",
    "    入参\n",
    "    _____\n",
    "    s: float\n",
    "       一组数据\n",
    "\n",
    "    返回值\n",
    "    ______\n",
    "    mode: float\n",
    "       第一个出现的众数\n",
    "    \"\"\"\n",
    "    hist = {}\n",
    "    for x in s:\n",
    "        hist[x] = hist.get(x, 0) + 1\n",
    "\n",
    "    # 将字典按value排序\n",
    "    h = sorted(hist.items(), key = lambda items:items[1], reverse=True)\n",
    "    max = h[0][0]\n",
    "    mode = []\n",
    "    for n in h:\n",
    "        if max > n[1]:\n",
    "            break\n",
    "        mode.append(n[0])\n",
    "\n",
    "    return mode\n",
    "\n",
    "Mode(u)"
   ]
  },
  {
   "cell_type": "code",
   "execution_count": 56,
   "metadata": {},
   "outputs": [
    {
     "data": {
      "text/plain": [
       "[2]"
      ]
     },
     "execution_count": 56,
     "metadata": {},
     "output_type": "execute_result"
    }
   ],
   "source": [
    "import collections\n",
    "\n",
    "def Mode2(s):\n",
    "\n",
    "    \"\"\"\n",
    "    求一组数据的众数 \n",
    "\n",
    "    入参\n",
    "    _____\n",
    "    s: float\n",
    "       一组数\n",
    "\n",
    "    返回值\n",
    "    ______\n",
    "    mode: float\n",
    "       众数数列\n",
    "    \"\"\"\n",
    "    h = collections.Counter(s).most_common()\n",
    "    max = h[0][1]\n",
    "    mode = []\n",
    "    for n in h:\n",
    "        if max > n[1]:\n",
    "            break\n",
    "        mode.append(n[0])\n",
    "\n",
    "    return mode\n",
    "\n",
    "Mode2(u)"
   ]
  },
  {
   "cell_type": "code",
   "execution_count": 57,
   "metadata": {},
   "outputs": [
    {
     "data": {
      "text/plain": [
       "2"
      ]
     },
     "execution_count": 57,
     "metadata": {},
     "output_type": "execute_result"
    }
   ],
   "source": [
    "mode_ = statistics.mode(u)\n",
    "mode_"
   ]
  },
  {
   "cell_type": "code",
   "execution_count": 58,
   "metadata": {},
   "outputs": [
    {
     "data": {
      "text/plain": [
       "[2]"
      ]
     },
     "execution_count": 58,
     "metadata": {},
     "output_type": "execute_result"
    }
   ],
   "source": [
    "mode_ = statistics.multimode(u)\n",
    "mode_"
   ]
  },
  {
   "cell_type": "code",
   "execution_count": 59,
   "metadata": {},
   "outputs": [
    {
     "data": {
      "text/plain": [
       "12"
      ]
     },
     "execution_count": 59,
     "metadata": {},
     "output_type": "execute_result"
    }
   ],
   "source": [
    "v = [12, 15, 12, 15, 21, 15, 12]\n",
    "statistics.mode(v) "
   ]
  },
  {
   "cell_type": "code",
   "execution_count": 60,
   "metadata": {},
   "outputs": [
    {
     "data": {
      "text/plain": [
       "[12, 15]"
      ]
     },
     "execution_count": 60,
     "metadata": {},
     "output_type": "execute_result"
    }
   ],
   "source": [
    "statistics.multimode(v)"
   ]
  },
  {
   "cell_type": "code",
   "execution_count": 61,
   "metadata": {},
   "outputs": [
    {
     "data": {
      "text/plain": [
       "2"
      ]
     },
     "execution_count": 61,
     "metadata": {},
     "output_type": "execute_result"
    }
   ],
   "source": [
    "statistics.mode([2, math.nan, 2])"
   ]
  },
  {
   "cell_type": "code",
   "execution_count": 62,
   "metadata": {},
   "outputs": [
    {
     "data": {
      "text/plain": [
       "nan"
      ]
     },
     "execution_count": 62,
     "metadata": {},
     "output_type": "execute_result"
    }
   ],
   "source": [
    "statistics.mode([2, math.nan, 0, math.nan, 5])"
   ]
  },
  {
   "cell_type": "code",
   "execution_count": 63,
   "metadata": {},
   "outputs": [
    {
     "data": {
      "text/plain": [
       "ModeResult(mode=array([2]), count=array([2]))"
      ]
     },
     "execution_count": 63,
     "metadata": {},
     "output_type": "execute_result"
    }
   ],
   "source": [
    "u, v = numpy.array(u), numpy.array(v)\n",
    "mode_ = scipy.stats.mode(u)\n",
    "mode_"
   ]
  },
  {
   "cell_type": "code",
   "execution_count": 64,
   "metadata": {},
   "outputs": [
    {
     "data": {
      "text/plain": [
       "ModeResult(mode=array([12]), count=array([3]))"
      ]
     },
     "execution_count": 64,
     "metadata": {},
     "output_type": "execute_result"
    }
   ],
   "source": [
    "mode_ = scipy.stats.mode(v)\n",
    "mode_"
   ]
  },
  {
   "cell_type": "code",
   "execution_count": 65,
   "metadata": {},
   "outputs": [
    {
     "data": {
      "text/plain": [
       "array([12])"
      ]
     },
     "execution_count": 65,
     "metadata": {},
     "output_type": "execute_result"
    }
   ],
   "source": [
    "mode_.mode"
   ]
  },
  {
   "cell_type": "code",
   "execution_count": 66,
   "metadata": {},
   "outputs": [
    {
     "data": {
      "text/plain": [
       "array([3])"
      ]
     },
     "execution_count": 66,
     "metadata": {},
     "output_type": "execute_result"
    }
   ],
   "source": [
    "mode_.count"
   ]
  },
  {
   "cell_type": "code",
   "execution_count": 67,
   "metadata": {},
   "outputs": [
    {
     "data": {
      "text/plain": [
       "0    2\n",
       "dtype: int32"
      ]
     },
     "execution_count": 67,
     "metadata": {},
     "output_type": "execute_result"
    }
   ],
   "source": [
    "u, v, w = pandas.Series(u), pandas.Series(v), pandas.Series([2, 2, math.nan])\n",
    "u.mode()"
   ]
  },
  {
   "cell_type": "code",
   "execution_count": 68,
   "metadata": {},
   "outputs": [
    {
     "data": {
      "text/plain": [
       "0    12\n",
       "1    15\n",
       "dtype: int32"
      ]
     },
     "execution_count": 68,
     "metadata": {},
     "output_type": "execute_result"
    }
   ],
   "source": [
    "v.mode()"
   ]
  },
  {
   "cell_type": "code",
   "execution_count": 69,
   "metadata": {},
   "outputs": [
    {
     "data": {
      "text/plain": [
       "0    2.0\n",
       "dtype: float64"
      ]
     },
     "execution_count": 69,
     "metadata": {},
     "output_type": "execute_result"
    }
   ],
   "source": [
    "w.mode()"
   ]
  },
  {
   "cell_type": "markdown",
   "metadata": {},
   "source": [
    "如上所见，.mode()返回一个包含所有众数的新的pd.Series。 如果希望.mode()将nan值考虑在内，则只需传递可选参数dropna = False。"
   ]
  },
  {
   "cell_type": "markdown",
   "metadata": {},
   "source": [
    "### 9.2.7\t方差"
   ]
  },
  {
   "cell_type": "code",
   "execution_count": 70,
   "metadata": {},
   "outputs": [
    {
     "data": {
      "text/plain": [
       "123.19999999999999"
      ]
     },
     "execution_count": 70,
     "metadata": {},
     "output_type": "execute_result"
    }
   ],
   "source": [
    "def Var(s, m=None):\n",
    "    \"\"\"\n",
    "    求一组数据的方差\n",
    "\n",
    "    入参\n",
    "    _____\n",
    "    s: float list\n",
    "       一组数据\n",
    "    m: flost，默认None\n",
    "        数据的均值\n",
    "\n",
    "    返回值\n",
    "    ______\n",
    "    v: float\n",
    "        方差\n",
    "    \"\"\"\n",
    "    if m is None:\n",
    "        m = Mean(s)   # 求平均值\n",
    "\n",
    "    # 计算每一个数据与平均值的差的平方\n",
    "    v = sum((item - m)**2 for item in x) / (len(x) - 1)    \n",
    "    return v\n",
    "\n",
    "Var(x)\n"
   ]
  },
  {
   "cell_type": "code",
   "execution_count": 71,
   "metadata": {},
   "outputs": [
    {
     "data": {
      "text/plain": [
       "123.2"
      ]
     },
     "execution_count": 71,
     "metadata": {},
     "output_type": "execute_result"
    }
   ],
   "source": [
    "var_ = statistics.variance(x)\n",
    "var_"
   ]
  },
  {
   "cell_type": "code",
   "execution_count": 72,
   "metadata": {},
   "outputs": [
    {
     "data": {
      "text/plain": [
       "nan"
      ]
     },
     "execution_count": 72,
     "metadata": {},
     "output_type": "execute_result"
    }
   ],
   "source": [
    "statistics.variance(x, mean_)"
   ]
  },
  {
   "cell_type": "code",
   "execution_count": 73,
   "metadata": {},
   "outputs": [
    {
     "data": {
      "text/plain": [
       "nan"
      ]
     },
     "execution_count": 73,
     "metadata": {},
     "output_type": "execute_result"
    }
   ],
   "source": [
    "statistics.variance(x_with_nan)"
   ]
  },
  {
   "cell_type": "code",
   "execution_count": 74,
   "metadata": {},
   "outputs": [
    {
     "data": {
      "text/plain": [
       "123.19999999999999"
      ]
     },
     "execution_count": 74,
     "metadata": {},
     "output_type": "execute_result"
    }
   ],
   "source": [
    "var_ = numpy.var(y, ddof=1)\n",
    "var_"
   ]
  },
  {
   "cell_type": "code",
   "execution_count": 75,
   "metadata": {},
   "outputs": [
    {
     "data": {
      "text/plain": [
       "123.19999999999999"
      ]
     },
     "execution_count": 75,
     "metadata": {},
     "output_type": "execute_result"
    }
   ],
   "source": [
    "var_ = y.var(ddof=1)\n",
    "var_"
   ]
  },
  {
   "cell_type": "code",
   "execution_count": 76,
   "metadata": {},
   "outputs": [
    {
     "data": {
      "text/plain": [
       "(nan, nan)"
      ]
     },
     "execution_count": 76,
     "metadata": {},
     "output_type": "execute_result"
    }
   ],
   "source": [
    "numpy.var(y_with_nan, ddof=1), y_with_nan.var(ddof=1)"
   ]
  },
  {
   "cell_type": "code",
   "execution_count": 77,
   "metadata": {},
   "outputs": [
    {
     "data": {
      "text/plain": [
       "123.19999999999999"
      ]
     },
     "execution_count": 77,
     "metadata": {},
     "output_type": "execute_result"
    }
   ],
   "source": [
    "numpy.nanvar(y_with_nan, ddof=1)"
   ]
  },
  {
   "cell_type": "code",
   "execution_count": 78,
   "metadata": {},
   "outputs": [
    {
     "data": {
      "text/plain": [
       "(123.19999999999999, 123.19999999999999)"
      ]
     },
     "execution_count": 78,
     "metadata": {},
     "output_type": "execute_result"
    }
   ],
   "source": [
    "z.var(ddof=1), z_with_nan.var(ddof=1)"
   ]
  },
  {
   "cell_type": "markdown",
   "metadata": {},
   "source": [
    "pd.Series对象的var()方法也有参数ddof，但是它的默认值是1，所以可以忽略它。如果需要与nan值相关的不同行为，那么可以使用可选参数skipna。"
   ]
  },
  {
   "cell_type": "markdown",
   "metadata": {},
   "source": [
    "### 9.2.8\t标准差"
   ]
  },
  {
   "cell_type": "code",
   "execution_count": 79,
   "metadata": {},
   "outputs": [
    {
     "data": {
      "text/plain": [
       "11.099549540409285"
      ]
     },
     "execution_count": 79,
     "metadata": {},
     "output_type": "execute_result"
    }
   ],
   "source": [
    "std_ = var_ ** 0.5\n",
    "std_"
   ]
  },
  {
   "cell_type": "code",
   "execution_count": 80,
   "metadata": {},
   "outputs": [
    {
     "name": "stdout",
     "output_type": "stream",
     "text": [
      "x的标准差是：11.099550\n"
     ]
    }
   ],
   "source": [
    "def Deviation(s, v=None):\n",
    "    \"\"\"\n",
    "    求一组数据的标准差\n",
    "\n",
    "    入参\n",
    "    _____\n",
    "    s: float list\n",
    "    一组数据 \n",
    "    v: flost，默认None\n",
    "    数据的方差\n",
    "\n",
    "    返回值\n",
    "    ______\n",
    "    d: float\n",
    "    标准差\n",
    "    \"\"\"\n",
    "    if v is None:\n",
    "        v = Var(s) # 求方差\n",
    "\n",
    "    import math\n",
    "    d = math.sqrt(v)\n",
    "    return d\n",
    "    \n",
    "print(\"x的标准差是：%f\"%(Deviation(x)))\n"
   ]
  },
  {
   "cell_type": "code",
   "execution_count": 81,
   "metadata": {},
   "outputs": [
    {
     "data": {
      "text/plain": [
       "11.099549540409287"
      ]
     },
     "execution_count": 81,
     "metadata": {},
     "output_type": "execute_result"
    }
   ],
   "source": [
    "std_ = statistics.stdev(x)\n",
    "std_"
   ]
  },
  {
   "cell_type": "code",
   "execution_count": 82,
   "metadata": {},
   "outputs": [
    {
     "data": {
      "text/plain": [
       "(11.099549540409285, 11.099549540409285)"
      ]
     },
     "execution_count": 82,
     "metadata": {},
     "output_type": "execute_result"
    }
   ],
   "source": [
    "numpy.std(y, ddof=1), y.std(ddof=1)"
   ]
  },
  {
   "cell_type": "code",
   "execution_count": 83,
   "metadata": {},
   "outputs": [
    {
     "data": {
      "text/plain": [
       "(nan, nan)"
      ]
     },
     "execution_count": 83,
     "metadata": {},
     "output_type": "execute_result"
    }
   ],
   "source": [
    "numpy.std(y_with_nan, ddof=1), y_with_nan.std(ddof=1)"
   ]
  },
  {
   "cell_type": "code",
   "execution_count": 84,
   "metadata": {},
   "outputs": [
    {
     "data": {
      "text/plain": [
       "11.099549540409285"
      ]
     },
     "execution_count": 84,
     "metadata": {},
     "output_type": "execute_result"
    }
   ],
   "source": [
    "numpy.nanstd(y_with_nan, ddof=1)\n"
   ]
  },
  {
   "cell_type": "code",
   "execution_count": 85,
   "metadata": {},
   "outputs": [
    {
     "name": "stdout",
     "output_type": "stream",
     "text": [
      "数组的方差是：833.250000\n",
      "数组的标准差是：28.866070\n",
      "数组每行的方差是：\n",
      "[33.25 33.25 33.25 33.25 33.25]\n",
      "数组每行的标准差是：\n",
      "[5.7662813 5.7662813 5.7662813 5.7662813 5.7662813]\n"
     ]
    }
   ],
   "source": [
    "a = numpy.arange(100).reshape(5, 20) \n",
    "print(\"数组的方差是：%3f\"%(numpy.var(a)))\n",
    "print(\"数组的标准差是：%3f\"%(numpy.std(a)))\n",
    "print(\"数组每行的方差是：\")\n",
    "print(numpy.var(a, axis = 1))\n",
    "print(\"数组每行的标准差是：\")\n",
    "print(numpy.std(a, axis = 1))"
   ]
  },
  {
   "cell_type": "code",
   "execution_count": 86,
   "metadata": {},
   "outputs": [
    {
     "data": {
      "text/plain": [
       "(11.099549540409285, 11.099549540409285)"
      ]
     },
     "execution_count": 86,
     "metadata": {},
     "output_type": "execute_result"
    }
   ],
   "source": [
    "z.std(ddof=1), z_with_nan.std(ddof=1)"
   ]
  },
  {
   "cell_type": "markdown",
   "metadata": {},
   "source": [
    "\n",
    "### 9.2.9\t偏度"
   ]
  },
  {
   "cell_type": "code",
   "execution_count": 87,
   "metadata": {},
   "outputs": [
    {
     "data": {
      "text/plain": [
       "1.9470432273905929"
      ]
     },
     "execution_count": 87,
     "metadata": {},
     "output_type": "execute_result"
    }
   ],
   "source": [
    "def Skew(s, mean=None, std=None):\n",
    "    \"\"\"\n",
    "    计算一组数据的偏度\n",
    "\n",
    "    入参\n",
    "    _____\n",
    "    s: float\n",
    "       一组数据\n",
    "    mean: float\n",
    "       数据的均值\n",
    "    std: float\n",
    "        数据的标准差\n",
    "\n",
    "    返回值\n",
    "    ______\n",
    "    skew: float\n",
    "       数据的偏度\n",
    "    \"\"\"\n",
    "    if (mean == None):\n",
    "        m = Mean(s)\n",
    "    else:\n",
    "        m = mean\n",
    "    n = len(s)\n",
    "    if (std == None):\n",
    "        s = (sum((item - m)**2 for item in s) / (n - 1))**0.5\n",
    "    else:\n",
    "        s = std\n",
    "\n",
    "    skew = (sum((item - m)**3 for item in x)\n",
    "         * n / ((n - 1) * (n - 2) * s**3))\n",
    "    return skew\n",
    "\n",
    "x = [8.0, 1, 2.5, 4, 28.0]\n",
    "Skew(x)"
   ]
  },
  {
   "cell_type": "code",
   "execution_count": 88,
   "metadata": {},
   "outputs": [
    {
     "data": {
      "text/plain": [
       "(1.9470432273905927, nan)"
      ]
     },
     "execution_count": 88,
     "metadata": {},
     "output_type": "execute_result"
    }
   ],
   "source": [
    "y, y_with_nan = numpy.array(x), numpy.array(x_with_nan)\n",
    "scipy.stats.skew(y, bias=False), scipy.stats.skew(y_with_nan, bias=False)"
   ]
  },
  {
   "cell_type": "code",
   "execution_count": 89,
   "metadata": {},
   "outputs": [
    {
     "data": {
      "text/plain": [
       "(1.9470432273905924, 1.9470432273905924)"
      ]
     },
     "execution_count": 89,
     "metadata": {},
     "output_type": "execute_result"
    }
   ],
   "source": [
    "z, z_with_nan = pandas.Series(x), pandas.Series(x_with_nan)\n",
    "z.skew(), z_with_nan.skew()"
   ]
  },
  {
   "cell_type": "markdown",
   "metadata": {},
   "source": [
    "\n",
    "### 9.2.10\t百分位数"
   ]
  },
  {
   "cell_type": "code",
   "execution_count": 90,
   "metadata": {},
   "outputs": [
    {
     "data": {
      "text/plain": [
       "-3.44"
      ]
     },
     "execution_count": 90,
     "metadata": {},
     "output_type": "execute_result"
    }
   ],
   "source": [
    "import math\n",
    "\n",
    "def Percentile(s, percent):\n",
    "    \"\"\"\n",
    "    求数据集中的百分位数\n",
    "    \n",
    "    入参\n",
    "    _____\n",
    "    s: float\n",
    "       一组数据\n",
    "    percent: float\n",
    "       百分位，0.0～1.0之间的数值\n",
    "    key: float\n",
    "        数据的标准差\n",
    "\n",
    "    返回值\n",
    "    ______\n",
    "    p: float\n",
    "       百分位数\n",
    "    \"\"\"\n",
    "    if not s:\n",
    "        return None\n",
    "    k = (len(s)-1) * percent\n",
    "    f = math.floor(k)\n",
    "    c = math.ceil(k)\n",
    "    \n",
    "    # 整数索引，直接返回数据集中的值\n",
    "    if f == c:\n",
    "        return key(s[int(k)])\n",
    "    \n",
    "    # 非整数索引，将相邻两个数加权平均\n",
    "    d0 = s[int(f)] * (c-k)\n",
    "    d1 = s[int(c)] * (k-f)\n",
    "    return d0+d1\n",
    "\n",
    "x = [-5.0, -1.1, 0.1, 2.0, 8.0, 12.8, 21.0, 25.8, 41.0]\n",
    "Percentile(x, 0.05)"
   ]
  },
  {
   "cell_type": "code",
   "execution_count": 91,
   "metadata": {},
   "outputs": [
    {
     "data": {
      "text/plain": [
       "[8.0]"
      ]
     },
     "execution_count": 91,
     "metadata": {},
     "output_type": "execute_result"
    }
   ],
   "source": [
    "x = [-5.0, -1.1, 0.1, 2.0, 8.0, 12.8, 21.0, 25.8, 41.0]\n",
    "statistics.quantiles(x, n=2)"
   ]
  },
  {
   "cell_type": "code",
   "execution_count": 92,
   "metadata": {},
   "outputs": [
    {
     "data": {
      "text/plain": [
       "[0.1, 8.0, 21.0]"
      ]
     },
     "execution_count": 92,
     "metadata": {},
     "output_type": "execute_result"
    }
   ],
   "source": [
    "statistics.quantiles(x, n=4, method='inclusive')"
   ]
  },
  {
   "cell_type": "code",
   "execution_count": 93,
   "metadata": {},
   "outputs": [
    {
     "data": {
      "text/plain": [
       "(-3.44, 34.919999999999995)"
      ]
     },
     "execution_count": 93,
     "metadata": {},
     "output_type": "execute_result"
    }
   ],
   "source": [
    "y = numpy.array(x)\n",
    "numpy.percentile(y, 5), numpy.percentile(y, 95)"
   ]
  },
  {
   "cell_type": "code",
   "execution_count": 94,
   "metadata": {},
   "outputs": [
    {
     "data": {
      "text/plain": [
       "array([ 0.1,  8. , 21. ])"
      ]
     },
     "execution_count": 94,
     "metadata": {},
     "output_type": "execute_result"
    }
   ],
   "source": [
    "numpy.percentile(y, [25, 50, 75])"
   ]
  },
  {
   "cell_type": "code",
   "execution_count": 95,
   "metadata": {},
   "outputs": [
    {
     "data": {
      "text/plain": [
       "array([-5. , -1.1,  nan,  0.1,  2. ,  8. , 12.8, 21. , 25.8, 41. ])"
      ]
     },
     "execution_count": 95,
     "metadata": {},
     "output_type": "execute_result"
    }
   ],
   "source": [
    "y_with_nan = numpy.insert(y, 2, numpy.nan)\n",
    "y_with_nan"
   ]
  },
  {
   "cell_type": "code",
   "execution_count": 96,
   "metadata": {},
   "outputs": [
    {
     "data": {
      "text/plain": [
       "array([ 0.1,  8. , 21. ])"
      ]
     },
     "execution_count": 96,
     "metadata": {},
     "output_type": "execute_result"
    }
   ],
   "source": [
    "numpy.nanpercentile(y_with_nan, [25, 50, 75])"
   ]
  },
  {
   "cell_type": "code",
   "execution_count": 97,
   "metadata": {},
   "outputs": [
    {
     "data": {
      "text/plain": [
       "(-3.44, 34.919999999999995)"
      ]
     },
     "execution_count": 97,
     "metadata": {},
     "output_type": "execute_result"
    }
   ],
   "source": [
    "numpy.quantile(y, 0.05), numpy.quantile(y, 0.95)"
   ]
  },
  {
   "cell_type": "code",
   "execution_count": 98,
   "metadata": {},
   "outputs": [
    {
     "data": {
      "text/plain": [
       "array([ 0.1,  8. , 21. ])"
      ]
     },
     "execution_count": 98,
     "metadata": {},
     "output_type": "execute_result"
    }
   ],
   "source": [
    "numpy.quantile(y, [0.25, 0.5, 0.75])"
   ]
  },
  {
   "cell_type": "code",
   "execution_count": 99,
   "metadata": {},
   "outputs": [
    {
     "data": {
      "text/plain": [
       "array([ 0.1,  8. , 21. ])"
      ]
     },
     "execution_count": 99,
     "metadata": {},
     "output_type": "execute_result"
    }
   ],
   "source": [
    "numpy.nanquantile(y_with_nan, [0.25, 0.5, 0.75])"
   ]
  },
  {
   "cell_type": "code",
   "execution_count": 100,
   "metadata": {},
   "outputs": [
    {
     "name": "stdout",
     "output_type": "stream",
     "text": [
      "数组是:\n",
      "[[30 40 70]\n",
      " [80 20 10]\n",
      " [50 90 60]]\n",
      "数组第50个百分数:\n",
      "50.0\n",
      "数组每行第50个百分数:\n",
      "[40. 20. 60.]\n",
      "数组每列第50个百分数:\n",
      "[50. 40. 60.]\n"
     ]
    }
   ],
   "source": [
    "a = numpy.array([[30,40,70],[80,20,10],[50,90,60]]) \n",
    "\n",
    "print('数组是:' )\n",
    "print(a)  \n",
    "\n",
    "print('数组第50个百分数:')\n",
    "print(numpy.percentile(a,50))\n",
    "\n",
    "print('数组每行第50个百分数:')\n",
    "print(numpy.percentile(a,50, axis = 1))\n",
    "\n",
    "print('数组每列第50个百分数:')\n",
    "print(numpy.percentile(a,50, axis = 0))\n"
   ]
  },
  {
   "cell_type": "code",
   "execution_count": 101,
   "metadata": {},
   "outputs": [
    {
     "data": {
      "text/plain": [
       "(-3.44, 34.919999999999995)"
      ]
     },
     "execution_count": 101,
     "metadata": {},
     "output_type": "execute_result"
    }
   ],
   "source": [
    "z, z_with_nan = pandas.Series(y), pandas.Series(y_with_nan)\n",
    "z.quantile(0.05), z.quantile(0.95)"
   ]
  },
  {
   "cell_type": "code",
   "execution_count": 102,
   "metadata": {},
   "outputs": [
    {
     "data": {
      "text/plain": [
       "(0.25     0.1\n",
       " 0.50     8.0\n",
       " 0.75    21.0\n",
       " dtype: float64,\n",
       " 0.25     0.1\n",
       " 0.50     8.0\n",
       " 0.75    21.0\n",
       " dtype: float64)"
      ]
     },
     "execution_count": 102,
     "metadata": {},
     "output_type": "execute_result"
    }
   ],
   "source": [
    "z.quantile([0.25, 0.5, 0.75]), z_with_nan.quantile([0.25, 0.5, 0.75])"
   ]
  },
  {
   "cell_type": "markdown",
   "metadata": {},
   "source": [
    "\n",
    "### 9.2.11\t范围"
   ]
  },
  {
   "cell_type": "code",
   "execution_count": 103,
   "metadata": {},
   "outputs": [
    {
     "data": {
      "text/plain": [
       "([-5.0, -1.1, 0.1, 2.0, 8.0, 12.8, 21.0, 25.8, 41.0], 46.0)"
      ]
     },
     "execution_count": 103,
     "metadata": {},
     "output_type": "execute_result"
    }
   ],
   "source": [
    "def Range(s):\n",
    "    \"\"\"\n",
    "    计算一组数据的范围\n",
    "\n",
    "    入参\n",
    "    _____\n",
    "    s: float\n",
    "       一组数据\n",
    "\n",
    "    返回值\n",
    "    ______\n",
    "    range: float\n",
    "       数据的范围\n",
    "    \"\"\"\n",
    "    return max(s) - min(s)\n",
    "x, Range(x)"
   ]
  },
  {
   "cell_type": "code",
   "execution_count": 104,
   "metadata": {},
   "outputs": [
    {
     "data": {
      "text/plain": [
       "(46.0, 46.0)"
      ]
     },
     "execution_count": 104,
     "metadata": {},
     "output_type": "execute_result"
    }
   ],
   "source": [
    "numpy.ptp(y), numpy.ptp(z)"
   ]
  },
  {
   "cell_type": "code",
   "execution_count": 105,
   "metadata": {},
   "outputs": [
    {
     "data": {
      "text/plain": [
       "(nan, nan)"
      ]
     },
     "execution_count": 105,
     "metadata": {},
     "output_type": "execute_result"
    }
   ],
   "source": [
    "numpy.ptp(y_with_nan), numpy.ptp(z_with_nan)"
   ]
  },
  {
   "cell_type": "code",
   "execution_count": 106,
   "metadata": {},
   "outputs": [
    {
     "data": {
      "text/plain": [
       "20.9"
      ]
     },
     "execution_count": 106,
     "metadata": {},
     "output_type": "execute_result"
    }
   ],
   "source": [
    "quartiles = numpy.quantile(y, [0.25, 0.75])\n",
    "quartiles[1] - quartiles[0]"
   ]
  },
  {
   "cell_type": "code",
   "execution_count": 107,
   "metadata": {},
   "outputs": [
    {
     "data": {
      "text/plain": [
       "20.9"
      ]
     },
     "execution_count": 107,
     "metadata": {},
     "output_type": "execute_result"
    }
   ],
   "source": [
    "quartiles = z.quantile([0.25, 0.75])\n",
    "quartiles[0.75] - quartiles[0.25]"
   ]
  },
  {
   "cell_type": "code",
   "execution_count": 108,
   "metadata": {},
   "outputs": [
    {
     "name": "stdout",
     "output_type": "stream",
     "text": [
      "数组的数值范围:\n",
      "80\n",
      "数组每一行的数值范围:\n",
      "[40 70 40]\n",
      "数组每一列的数值范围i:\n",
      "[50 70 60]\n"
     ]
    }
   ],
   "source": [
    "print('数组的数值范围:') \n",
    "print(numpy.ptp(a))\n",
    "\n",
    "print('数组每一行的数值范围:')\n",
    "print(numpy.ptp(a, axis = 1))\n",
    "\n",
    "print('数组每一列的数值范围i:')\n",
    "print(numpy.ptp(a, axis = 0))\n"
   ]
  },
  {
   "cell_type": "markdown",
   "metadata": {},
   "source": [
    "## 9.3\t描述性统计"
   ]
  },
  {
   "cell_type": "code",
   "execution_count": 109,
   "metadata": {},
   "outputs": [
    {
     "data": {
      "text/plain": [
       "DescribeResult(nobs=9, minmax=(-5.0, 41.0), mean=11.622222222222222, variance=228.75194444444446, skewness=0.9249043136685094, kurtosis=0.14770623629658886)"
      ]
     },
     "execution_count": 109,
     "metadata": {},
     "output_type": "execute_result"
    }
   ],
   "source": [
    "result = scipy.stats.describe(y, ddof=1, bias=False)\n",
    "result"
   ]
  },
  {
   "cell_type": "code",
   "execution_count": 110,
   "metadata": {},
   "outputs": [
    {
     "data": {
      "text/plain": [
       "9"
      ]
     },
     "execution_count": 110,
     "metadata": {},
     "output_type": "execute_result"
    }
   ],
   "source": [
    "result.nobs"
   ]
  },
  {
   "cell_type": "code",
   "execution_count": 111,
   "metadata": {},
   "outputs": [
    {
     "data": {
      "text/plain": [
       "(-5.0, 41.0)"
      ]
     },
     "execution_count": 111,
     "metadata": {},
     "output_type": "execute_result"
    }
   ],
   "source": [
    "result.minmax[0], result.minmax[1] "
   ]
  },
  {
   "cell_type": "code",
   "execution_count": 112,
   "metadata": {},
   "outputs": [
    {
     "data": {
      "text/plain": [
       "(11.622222222222222, 228.75194444444446)"
      ]
     },
     "execution_count": 112,
     "metadata": {},
     "output_type": "execute_result"
    }
   ],
   "source": [
    "result.mean, result.variance"
   ]
  },
  {
   "cell_type": "code",
   "execution_count": 113,
   "metadata": {},
   "outputs": [
    {
     "data": {
      "text/plain": [
       "(0.9249043136685094, 0.14770623629658886)"
      ]
     },
     "execution_count": 113,
     "metadata": {},
     "output_type": "execute_result"
    }
   ],
   "source": [
    "result.skewness, result.kurtosis"
   ]
  },
  {
   "cell_type": "code",
   "execution_count": 114,
   "metadata": {},
   "outputs": [
    {
     "data": {
      "text/plain": [
       "count     9.000000\n",
       "mean     11.622222\n",
       "std      15.124548\n",
       "min      -5.000000\n",
       "25%       0.100000\n",
       "50%       8.000000\n",
       "75%      21.000000\n",
       "max      41.000000\n",
       "dtype: float64"
      ]
     },
     "execution_count": 114,
     "metadata": {},
     "output_type": "execute_result"
    }
   ],
   "source": [
    "result = z.describe()   # pandas\n",
    "result"
   ]
  },
  {
   "cell_type": "code",
   "execution_count": 115,
   "metadata": {},
   "outputs": [
    {
     "data": {
      "text/plain": [
       "(11.622222222222222, 15.12454774346805)"
      ]
     },
     "execution_count": 115,
     "metadata": {},
     "output_type": "execute_result"
    }
   ],
   "source": [
    "result['mean'], result['std']\n"
   ]
  },
  {
   "cell_type": "code",
   "execution_count": 116,
   "metadata": {},
   "outputs": [
    {
     "data": {
      "text/plain": [
       "(-5.0, 41.0)"
      ]
     },
     "execution_count": 116,
     "metadata": {},
     "output_type": "execute_result"
    }
   ],
   "source": [
    "result['min'], result['max']"
   ]
  },
  {
   "cell_type": "code",
   "execution_count": 117,
   "metadata": {},
   "outputs": [
    {
     "data": {
      "text/plain": [
       "(0.1, 8.0, 21.0)"
      ]
     },
     "execution_count": 117,
     "metadata": {},
     "output_type": "execute_result"
    }
   ],
   "source": [
    "result['25%'], result['50%'], result['75%']"
   ]
  },
  {
   "cell_type": "markdown",
   "metadata": {},
   "source": [
    "\n",
    "##  9.4\t数据相关性"
   ]
  },
  {
   "cell_type": "code",
   "execution_count": 118,
   "metadata": {},
   "outputs": [],
   "source": [
    "x = list(range(-10, 11))\n",
    "y = [0, 2, 2, 2, 2, 3, 3, 6, 7, 4, 7, 6, 6, 9, 4, 5, 5, 10, 11, 12, 14]\n",
    "x_, y_ = numpy.array(x), numpy.array(y)\n",
    "x__, y__ = pandas.Series(x_), pandas.Series(y_)"
   ]
  },
  {
   "cell_type": "markdown",
   "metadata": {},
   "source": [
    "### 9.4.1\t协方差"
   ]
  },
  {
   "cell_type": "code",
   "execution_count": 119,
   "metadata": {},
   "outputs": [
    {
     "data": {
      "text/plain": [
       "19.95"
      ]
     },
     "execution_count": 119,
     "metadata": {},
     "output_type": "execute_result"
    }
   ],
   "source": [
    "def Cov(x, y):\n",
    "    \"\"\"\n",
    "    计算两组数据的协方差\n",
    "\n",
    "    入参\n",
    "    _____\n",
    "    x: 可迭代对象\n",
    "       第一组数据\n",
    "    y: 可迭代对象\n",
    "       第二组数据\n",
    "\n",
    "    返回值\n",
    "    ______\n",
    "    cov_xy: float\n",
    "       两组数据的协方差\n",
    "    \"\"\"\n",
    "\n",
    "    n = len(x)\n",
    "    mean_x, mean_y = sum(x) / n, sum(y) / n\n",
    "    cov_xy = (sum((x[k] - mean_x) * (y[k] - mean_y) for k in range(n))  / (n - 1))\n",
    "    return cov_xy\n",
    "Cov(x, y)"
   ]
  },
  {
   "cell_type": "code",
   "execution_count": 120,
   "metadata": {},
   "outputs": [
    {
     "data": {
      "text/plain": [
       "array([[38.5       , 19.95      ],\n",
       "       [19.95      , 13.91428571]])"
      ]
     },
     "execution_count": 120,
     "metadata": {},
     "output_type": "execute_result"
    }
   ],
   "source": [
    "cov_matrix = numpy.cov(x_, y_)\n",
    "cov_matrix"
   ]
  },
  {
   "cell_type": "code",
   "execution_count": 121,
   "metadata": {},
   "outputs": [
    {
     "data": {
      "text/plain": [
       "(38.5, 13.914285714285711)"
      ]
     },
     "execution_count": 121,
     "metadata": {},
     "output_type": "execute_result"
    }
   ],
   "source": [
    "x_.var(ddof=1), y_.var(ddof=1)"
   ]
  },
  {
   "cell_type": "code",
   "execution_count": 122,
   "metadata": {},
   "outputs": [
    {
     "data": {
      "text/plain": [
       "(19.95, 19.95)"
      ]
     },
     "execution_count": 122,
     "metadata": {},
     "output_type": "execute_result"
    }
   ],
   "source": [
    "x__.cov(y__), y__.cov(x__)"
   ]
  },
  {
   "cell_type": "markdown",
   "metadata": {},
   "source": [
    "### 9.4.2\t相关系数"
   ]
  },
  {
   "cell_type": "code",
   "execution_count": 123,
   "metadata": {},
   "outputs": [
    {
     "data": {
      "text/plain": [
       "0.861950005631606"
      ]
     },
     "execution_count": 123,
     "metadata": {},
     "output_type": "execute_result"
    }
   ],
   "source": [
    "def Corrcoef(x, y):\n",
    "    \"\"\"\n",
    "    计算两组数据的相关系数\n",
    "\n",
    "    入参\n",
    "    _____\n",
    "    x: 可迭代对象\n",
    "       第一组数据\n",
    "    y: 可迭代对象\n",
    "       第二组数据\n",
    "\n",
    "    返回值\n",
    "    ______\n",
    "    r: float\n",
    "       两组数据的相关系数\n",
    "    \"\"\"\n",
    "\n",
    "    n = len(x)\n",
    "    mean_x, mean_y = sum(x) / n, sum(y) / n\n",
    "\n",
    "    var_x = sum((item - mean_x)**2 for item in x) / (n - 1)\n",
    "    var_y = sum((item - mean_y)**2 for item in y) / (n - 1)\n",
    "    std_x, std_y = var_x ** 0.5, var_y ** 0.5    \n",
    "    cov_xy = (sum((x[k] - mean_x) * (y[k] - mean_y) for k in range(n))  / (n - 1))\n",
    "    r = cov_xy / (std_x * std_y)\n",
    "    return r\n",
    "Corrcoef(x, y)"
   ]
  },
  {
   "cell_type": "code",
   "execution_count": 124,
   "metadata": {},
   "outputs": [
    {
     "data": {
      "text/plain": [
       "(0.8619500056316061, 5.122760847201135e-07)"
      ]
     },
     "execution_count": 124,
     "metadata": {},
     "output_type": "execute_result"
    }
   ],
   "source": [
    "r, p = scipy.stats.pearsonr(x_, y_)\n",
    "r, p\n"
   ]
  },
  {
   "cell_type": "code",
   "execution_count": 125,
   "metadata": {},
   "outputs": [
    {
     "data": {
      "text/plain": [
       "array([[1.        , 0.86195001],\n",
       "       [0.86195001, 1.        ]])"
      ]
     },
     "execution_count": 125,
     "metadata": {},
     "output_type": "execute_result"
    }
   ],
   "source": [
    "corr_matrix = numpy.corrcoef(x_, y_)\n",
    "corr_matrix"
   ]
  },
  {
   "cell_type": "code",
   "execution_count": 126,
   "metadata": {},
   "outputs": [
    {
     "data": {
      "text/plain": [
       "LinregressResult(slope=0.5181818181818181, intercept=5.714285714285714, rvalue=0.8619500056316057, pvalue=5.122760847201238e-07, stderr=0.06992387660074986)"
      ]
     },
     "execution_count": 126,
     "metadata": {},
     "output_type": "execute_result"
    }
   ],
   "source": [
    "scipy.stats.linregress(x_, y_)"
   ]
  },
  {
   "cell_type": "code",
   "execution_count": 127,
   "metadata": {},
   "outputs": [
    {
     "data": {
      "text/plain": [
       "0.8619500056316057"
      ]
     },
     "execution_count": 127,
     "metadata": {},
     "output_type": "execute_result"
    }
   ],
   "source": [
    "result = scipy.stats.linregress(x_, y_)\n",
    "r = result.rvalue\n",
    "r"
   ]
  },
  {
   "cell_type": "code",
   "execution_count": 128,
   "metadata": {},
   "outputs": [
    {
     "data": {
      "text/plain": [
       "(0.861950005631606, 0.861950005631606)"
      ]
     },
     "execution_count": 128,
     "metadata": {},
     "output_type": "execute_result"
    }
   ],
   "source": [
    "x__.corr(y__), y__.corr(x__)"
   ]
  },
  {
   "cell_type": "markdown",
   "metadata": {},
   "source": [
    "## 9.5\t从文件读取数据\n",
    "### 9.5.1\t处理CSV文件"
   ]
  },
  {
   "cell_type": "code",
   "execution_count": 129,
   "metadata": {},
   "outputs": [
    {
     "name": "stdout",
     "output_type": "stream",
     "text": [
      "数据库：年度数据\n",
      "\n",
      "时间：最近10年\n",
      "\n",
      "指标,2019年,2018年,2017年,2016年,2015年,2014年,2013年,2012年,2011年,2010年\n",
      "\n",
      "年底总人口(万人),140005.00,139538.00,139008.00,138271.00,137462.00,136782.00,136072.00,135404.00,134735.00,134091.00\n",
      "\n",
      "男性人口(万人),71527.00,71351.00,71137.00,70815.00,70414.00,70079.00,69728.00,69395.00,69068.00,68748.46\n",
      "\n",
      "女性人口(万人),68478.00,68187.00,67871.00,67456.00,67048.00,66703.00,66344.00,66009.00,65667.00,65342.54\n",
      "\n",
      "城镇人口(万人),84843.00,83136.74,81347.48,79298.42,77116.18,74915.50,73111.49,71181.88,69078.63,66978.45\n",
      "\n",
      "乡村人口(万人),55162.00,56401.26,57660.52,58972.58,60345.82,61866.50,62960.51,64222.12,65656.37,67112.55\n",
      "\n",
      "数据来源：国家统计局\n",
      "\n"
     ]
    }
   ],
   "source": [
    "import csv\n",
    "\n",
    "with open('population.csv','r') as myFile:\n",
    "    for line in myFile.readlines():\n",
    "        print(line)"
   ]
  },
  {
   "cell_type": "code",
   "execution_count": 130,
   "metadata": {},
   "outputs": [],
   "source": [
    "def load_data(file_name):\n",
    "    \"\"\"\n",
    "    load_data(file_name)\n",
    "    打开数据文件，将其中数据提取出来。\n",
    "\n",
    "    入参\n",
    "    _____\n",
    "    file_name: string\n",
    "       数据文件名\n",
    "\n",
    "    返回值\n",
    "    ______\n",
    "    raw_data: string list\n",
    "        文本形式的原始数据\n",
    "        \n",
    "    stats：float array\n",
    "        统计数据\n",
    "        \n",
    "    x: int list\n",
    "        年份列表\n",
    "    \"\"\"\n",
    "    raw_data = []\n",
    "    with open(file_name, 'r') as csv_file:\n",
    "        lines = csv.reader(csv_file)\n",
    "        for line in lines:\n",
    "            raw_data.append(line)\n",
    "    \n",
    "    # 将年份提取出来\n",
    "    import re\n",
    "    dat_re = re.compile(r'\\d+\\.?\\d*')\n",
    "    x = [int(dat_re.search(i).group()) \n",
    "         for i in raw_data[2] if dat_re.search(i)]\n",
    "    #print(x)\n",
    "\n",
    "    # 由于数据按年份倒序存放，因此需要颠倒顺序\n",
    "    stats = numpy.genfromtxt(file_name, delimiter=',',\n",
    "                             skip_header=3, skip_footer=1)[..., -1:0:-1]\n",
    "    return (raw_data, stats, x[-1::-1])"
   ]
  },
  {
   "cell_type": "code",
   "execution_count": 131,
   "metadata": {},
   "outputs": [],
   "source": [
    "def print_data(raw_data):\n",
    "    \"\"\"\n",
    "    print_data(raw_data)\n",
    "    格式化输出统计数据。\n",
    "\n",
    "    入参\n",
    "    _____\n",
    "    raw_data: string list\n",
    "       原始数据\n",
    "\n",
    "    返回值\n",
    "    ______\n",
    "        无\n",
    "    \"\"\"\n",
    "    import prettytable as pt\n",
    "\n",
    "    f_name = True\n",
    "    tb = pt.PrettyTable()\n",
    "    for line in raw_data:\n",
    "        if (len(line) > 1):\n",
    "            if (f_name == True):\n",
    "                tb.field_names = line   # 第一行是栏位名称\n",
    "                f_name = False\n",
    "            else:\n",
    "                tb.add_row(line)        # 统计数据\n",
    "        else:\n",
    "            print(line[0])              # 非统计数据\n",
    "    print(tb)"
   ]
  },
  {
   "cell_type": "code",
   "execution_count": 132,
   "metadata": {},
   "outputs": [],
   "source": [
    "import matplotlib.pyplot as plt\n",
    "\n",
    "field_names = [u'年底总人口', u'男性人口', u'女性人口', u'城镇人口', u'乡村人口']\n",
    "def plot_date(stats, x):\n",
    "    \"\"\"\n",
    "    plot_date(stats, x)\n",
    "    根据统计数据绘制折线图。\n",
    "\n",
    "    入参\n",
    "    _____\n",
    "    stats: array\n",
    "       统计数据\n",
    "       \n",
    "    x: int list\n",
    "        年份列表\n",
    "\n",
    "    返回值\n",
    "    ______\n",
    "        无\n",
    "    \"\"\"\n",
    "    plt.rcParams['font.sans-serif'] = ['SimHei']\n",
    "    plt.xlabel(\"年份\")\n",
    "    plt.ylabel(\"人口(万人)\")\n",
    "    \n",
    "    x_major_locator=plt.MultipleLocator(1)\n",
    "    ax=plt.gca()\n",
    "    ax.xaxis.set_major_locator(x_major_locator)\n",
    "\n",
    "    for i in range(numpy.shape(stats)[0]):\n",
    "        plt.plot(x, stats[i], marker='.', label=field_names[i])\n",
    "    plt.legend(loc='upper left')\n",
    "    plt.show()"
   ]
  },
  {
   "cell_type": "code",
   "execution_count": 133,
   "metadata": {},
   "outputs": [
    {
     "name": "stdout",
     "output_type": "stream",
     "text": [
      "数据库：年度数据\n",
      "时间：最近10年\n",
      "数据来源：国家统计局\n",
      "+------------------+-----------+-----------+-----------+-----------+-----------+-----------+-----------+-----------+-----------+-----------+\n",
      "|       指标       |   2019年  |   2018年  |   2017年  |   2016年  |   2015年  |   2014年  |   2013年  |   2012年  |   2011年  |   2010年  |\n",
      "+------------------+-----------+-----------+-----------+-----------+-----------+-----------+-----------+-----------+-----------+-----------+\n",
      "| 年底总人口(万人) | 140005.00 | 139538.00 | 139008.00 | 138271.00 | 137462.00 | 136782.00 | 136072.00 | 135404.00 | 134735.00 | 134091.00 |\n",
      "|  男性人口(万人)  |  71527.00 |  71351.00 |  71137.00 |  70815.00 |  70414.00 |  70079.00 |  69728.00 |  69395.00 |  69068.00 |  68748.46 |\n",
      "|  女性人口(万人)  |  68478.00 |  68187.00 |  67871.00 |  67456.00 |  67048.00 |  66703.00 |  66344.00 |  66009.00 |  65667.00 |  65342.54 |\n",
      "|  城镇人口(万人)  |  84843.00 |  83136.74 |  81347.48 |  79298.42 |  77116.18 |  74915.50 |  73111.49 |  71181.88 |  69078.63 |  66978.45 |\n",
      "|  乡村人口(万人)  |  55162.00 |  56401.26 |  57660.52 |  58972.58 |  60345.82 |  61866.50 |  62960.51 |  64222.12 |  65656.37 |  67112.55 |\n",
      "+------------------+-----------+-----------+-----------+-----------+-----------+-----------+-----------+-----------+-----------+-----------+\n"
     ]
    },
    {
     "data": {
      "image/png": "[encoded data removed]",
      "text/plain": [
       "<Figure size 432x288 with 1 Axes>"
      ]
     },
     "metadata": {
      "needs_background": "light"
     },
     "output_type": "display_data"
    }
   ],
   "source": [
    "qd, q, X = load_data('population.csv')\n",
    "print_data(qd)\n",
    "plot_date(q, X)"
   ]
  },
  {
   "cell_type": "markdown",
   "metadata": {},
   "source": [
    "### 9.5.2\t对象化处理数据"
   ]
  },
  {
   "cell_type": "code",
   "execution_count": 134,
   "metadata": {},
   "outputs": [],
   "source": [
    "import numpy\n",
    "import csv\n",
    "import prettytable as pt\n",
    "import matplotlib.pyplot as plt\n",
    "import re\n",
    "\n",
    "class MyStats():\n",
    "    \"\"\"\n",
    "    用来处理来自国家统计局（https://data.stats.gov.cn/）的统计数据的基类。\n",
    "    国家统计局的数据格式通常如下：\n",
    "        \n",
    "        第1行：  数据库：年度数据\n",
    "        第2行：  时间：最近xx年\n",
    "        第3行：  指标，年份1，年份2，……，年份n\n",
    "        第4行：  指标1\n",
    "        ……\n",
    "        第n行：  指标n\n",
    "        第n+1行：数据来源：国家统计局\n",
    "\n",
    "    本基类提取不同数据文件对象的公共部分。\n",
    "\n",
    "    属性\n",
    "    ----\n",
    "    file_name: string\n",
    "        数据文件的文件名。\n",
    "\n",
    "    raw_data : string list\n",
    "        以文本形式保存的原始数据。\n",
    "    \n",
    "    stats： float list\n",
    "        统计数据组成的数组。\n",
    "        \n",
    "    x： int list\n",
    "        绘图时，X坐标刻度。\n",
    "\n",
    "    方法\n",
    "    ----\n",
    "    print_data()\n",
    "        以格式化的方式输出统计数据\n",
    "    plot_date()\n",
    "        绘制统计曲线.\n",
    "\n",
    "    \"\"\"\n",
    "    def __init__(self, file_name):\n",
    "        \"\"\"\n",
    "        MyStats类构造函数\n",
    "        打开数据文件，将其中数据提取出来。\n",
    "\n",
    "        入参\n",
    "        _____\n",
    "        file_name: string\n",
    "           数据文件名\n",
    "\n",
    "        返回值\n",
    "        ______\n",
    "            无\n",
    "        \"\"\"\n",
    "        self.__file_name = file_name\n",
    "        raw_data = []\n",
    "        with open(file_name, 'r') as csv_file:\n",
    "            lines = csv.reader(csv_file)\n",
    "            for line in lines:\n",
    "                raw_data.append(line)\n",
    "\n",
    "        # 将年份提取出来\n",
    "        dat_re = re.compile(r'\\d+\\.?\\d*')\n",
    "        x = [int(dat_re.search(i).group()) for i in raw_data[2] if dat_re.search(i)]\n",
    "\n",
    "        # 提取统计数据。由于统计是依时间逆序排列，因此需要反转排列顺序。\n",
    "        self.__stats = numpy.genfromtxt(file_name, delimiter=',',\n",
    "                                 skip_header=3, skip_footer=1)[..., -1:0:-1]\n",
    "        self.__raw_data = raw_data\n",
    "        self.__x = x[-1::-1]\n",
    "\n",
    "    def __del__(self):\n",
    "        \"\"\"\n",
    "        MyStats类析构函数。\n",
    "        \"\"\"\n",
    "        del self.__raw_data\n",
    "        del self.__x\n",
    "\n",
    "    def print_data(self):\n",
    "        \"\"\"\n",
    "        将统计数据格式化输出。\n",
    "        \"\"\"\n",
    "        f_name = True\n",
    "        tb = pt.PrettyTable()\n",
    "        for line in self.__raw_data:\n",
    "            if (len(line) > 1):\n",
    "                if (f_name == True):\n",
    "                    tb.field_names = line\n",
    "                    f_name = False\n",
    "                else:\n",
    "                    tb.add_row(line)\n",
    "            else:\n",
    "                print(line[0])\n",
    "        print(tb)\n",
    "\n",
    "    def plot_date(self, field_names):\n",
    "        \"\"\"\n",
    "        绘制统计图表。\n",
    "        \"\"\"\n",
    "        plt.rcParams['font.sans-serif'] = ['SimHei']\n",
    "\n",
    "        x_major_locator=plt.MultipleLocator(1)\n",
    "        ax=plt.gca()\n",
    "        ax.xaxis.set_major_locator(x_major_locator)\n",
    "\n",
    "        for i in range(numpy.shape(self.__stats)[0]):\n",
    "            plt.plot(self.__x, self.__stats[i], marker='.', label=field_names[i])\n",
    "        plt.legend(loc='upper left')\n",
    "        plt.show()            \n"
   ]
  },
  {
   "cell_type": "code",
   "execution_count": 135,
   "metadata": {},
   "outputs": [],
   "source": [
    "class Population(MyStats):\n",
    "    field_names = [u'年底总人口', u'男性人口', u'女性人口', u'城镇人口', u'乡村人口']\n",
    "    \n",
    "    def __init__(self, file_name):\n",
    "        super(Population, self).__init__(file_name)\n",
    "    \n",
    "    def plot_date(self):        \n",
    "        plt.xlabel(\"年份\")\n",
    "        plt.ylabel(\"人口(万人)\")\n",
    "        super(Population, self).plot_date(self.field_names)"
   ]
  },
  {
   "cell_type": "code",
   "execution_count": 136,
   "metadata": {},
   "outputs": [
    {
     "name": "stdout",
     "output_type": "stream",
     "text": [
      "数据库：年度数据\n",
      "时间：最近10年\n",
      "数据来源：国家统计局\n",
      "+------------------+-----------+-----------+-----------+-----------+-----------+-----------+-----------+-----------+-----------+-----------+\n",
      "|       指标       |   2019年  |   2018年  |   2017年  |   2016年  |   2015年  |   2014年  |   2013年  |   2012年  |   2011年  |   2010年  |\n",
      "+------------------+-----------+-----------+-----------+-----------+-----------+-----------+-----------+-----------+-----------+-----------+\n",
      "| 年底总人口(万人) | 140005.00 | 139538.00 | 139008.00 | 138271.00 | 137462.00 | 136782.00 | 136072.00 | 135404.00 | 134735.00 | 134091.00 |\n",
      "|  男性人口(万人)  |  71527.00 |  71351.00 |  71137.00 |  70815.00 |  70414.00 |  70079.00 |  69728.00 |  69395.00 |  69068.00 |  68748.46 |\n",
      "|  女性人口(万人)  |  68478.00 |  68187.00 |  67871.00 |  67456.00 |  67048.00 |  66703.00 |  66344.00 |  66009.00 |  65667.00 |  65342.54 |\n",
      "|  城镇人口(万人)  |  84843.00 |  83136.74 |  81347.48 |  79298.42 |  77116.18 |  74915.50 |  73111.49 |  71181.88 |  69078.63 |  66978.45 |\n",
      "|  乡村人口(万人)  |  55162.00 |  56401.26 |  57660.52 |  58972.58 |  60345.82 |  61866.50 |  62960.51 |  64222.12 |  65656.37 |  67112.55 |\n",
      "+------------------+-----------+-----------+-----------+-----------+-----------+-----------+-----------+-----------+-----------+-----------+\n"
     ]
    },
    {
     "data": {
      "image/png": "[encoded data removed]",
      "text/plain": [
       "<Figure size 432x288 with 1 Axes>"
      ]
     },
     "metadata": {
      "needs_background": "light"
     },
     "output_type": "display_data"
    }
   ],
   "source": [
    "if __name__ == '__main__':   \n",
    "    p = Population('population.csv')\n",
    "    p.print_data()\n",
    "    p.plot_date()\n",
    "    del p"
   ]
  },
  {
   "cell_type": "markdown",
   "metadata": {},
   "source": [
    "## 9.6\t绘制统计图\n",
    "### 9.6.1\t上海车牌竞拍"
   ]
  },
  {
   "cell_type": "code",
   "execution_count": 137,
   "metadata": {},
   "outputs": [
    {
     "data": {
      "text/plain": [
       "(204,)"
      ]
     },
     "execution_count": 137,
     "metadata": {},
     "output_type": "execute_result"
    }
   ],
   "source": [
    "license_data = numpy.genfromtxt('Shanghai_license_plate_price.csv',\n",
    "                                delimiter=',', names=True)\n",
    "numpy.shape(license_data)\n"
   ]
  },
  {
   "cell_type": "code",
   "execution_count": 138,
   "metadata": {},
   "outputs": [
    {
     "data": {
      "text/plain": [
       "dtype([('Date', '<f8'), ('Total_number_of_license_issued', '<f8'), ('lowest_price', '<f8'), ('avg_price', '<f8'), ('Total_number_of_applicants', '<f8')])"
      ]
     },
     "execution_count": 138,
     "metadata": {},
     "output_type": "execute_result"
    }
   ],
   "source": [
    "license_data.dtype"
   ]
  },
  {
   "cell_type": "code",
   "execution_count": 139,
   "metadata": {},
   "outputs": [
    {
     "data": {
      "text/plain": [
       "(nan, 1800., 13100., 14057., 4590.)"
      ]
     },
     "execution_count": 139,
     "metadata": {},
     "output_type": "execute_result"
    }
   ],
   "source": [
    "license_data[1]"
   ]
  },
  {
   "cell_type": "code",
   "execution_count": 140,
   "metadata": {},
   "outputs": [
    {
     "data": {
      "text/plain": [
       "numpy.void"
      ]
     },
     "execution_count": 140,
     "metadata": {},
     "output_type": "execute_result"
    }
   ],
   "source": [
    "type(license_data[1])"
   ]
  },
  {
   "cell_type": "code",
   "execution_count": 141,
   "metadata": {},
   "outputs": [
    {
     "data": {
      "text/plain": [
       "array([nan, nan, nan, nan, nan, nan, nan, nan, nan, nan, nan, nan, nan,\n",
       "       nan, nan, nan, nan, nan, nan, nan, nan, nan, nan, nan, nan, nan,\n",
       "       nan, nan, nan, nan, nan, nan, nan, nan, nan, nan, nan, nan, nan,\n",
       "       nan, nan, nan, nan, nan, nan, nan, nan, nan, nan, nan, nan, nan,\n",
       "       nan, nan, nan, nan, nan, nan, nan, nan, nan, nan, nan, nan, nan,\n",
       "       nan, nan, nan, nan, nan, nan, nan, nan, nan, nan, nan, nan, nan,\n",
       "       nan, nan, nan, nan, nan, nan, nan, nan, nan, nan, nan, nan, nan,\n",
       "       nan, nan, nan, nan, nan, nan, nan, nan, nan, nan, nan, nan, nan,\n",
       "       nan, nan, nan, nan, nan, nan, nan, nan, nan, nan, nan, nan, nan,\n",
       "       nan, nan, nan, nan, nan, nan, nan, nan, nan, nan, nan, nan, nan,\n",
       "       nan, nan, nan, nan, nan, nan, nan, nan, nan, nan, nan, nan, nan,\n",
       "       nan, nan, nan, nan, nan, nan, nan, nan, nan, nan, nan, nan, nan,\n",
       "       nan, nan, nan, nan, nan, nan, nan, nan, nan, nan, nan, nan, nan,\n",
       "       nan, nan, nan, nan, nan, nan, nan, nan, nan, nan, nan, nan, nan,\n",
       "       nan, nan, nan, nan, nan, nan, nan, nan, nan, nan, nan, nan, nan,\n",
       "       nan, nan, nan, nan, nan, nan, nan, nan, nan])"
      ]
     },
     "execution_count": 141,
     "metadata": {},
     "output_type": "execute_result"
    }
   ],
   "source": [
    "license_data['Date']"
   ]
  },
  {
   "cell_type": "code",
   "execution_count": 142,
   "metadata": {},
   "outputs": [
    {
     "data": {
      "text/plain": [
       "array([ 1400.,  1800.,  2000.,  2300.,  2350.,  2800.,  3000.,  3000.,\n",
       "        3200.,  3200.,  3200.,  3600.,  3000.,  3000.,  3000.,  3300.,\n",
       "        3800.,  5500.,  6000.,  4500.,  6650.,  4500.,  5042.,  4776.,\n",
       "        5000.,  4800.,  4800.,  5500.,  6527.,  6233.,  6600.,  6800.,\n",
       "        6640.,  6600.,  6600.,  5500.,  5500.,  3800.,  4000.,  5000.,\n",
       "        5833.,  5690.,  6326.,  6829.,  6700.,  6000.,  5700.,  5700.,\n",
       "        5000.,  3800.,  4500.,  5000.,  4500.,  4500.,  5500.,  6200.,\n",
       "        6500.,  6500.,  6000.,  6500.,  6000.,  3500.,  4000.,  5500.,\n",
       "        6000.,  6000.,  5500.,  8000.,  8500.,  7500.,  7500.,  7500.,\n",
       "       16000.,  9300.,  9000.,  8200.,  7700.,  6800.,  6000.,  6500.,\n",
       "        5000.,  5500.,  4500.,  5200.,  5200.,  6000.,  6500.,  7200.,\n",
       "        8000.,  8000.,  8000.,  8500.,  8000.,  8000.,  8000.,  8000.,\n",
       "        7500.,  8000.,  8500.,  8500.,  9200.,  9000.,  9000.,  9000.,\n",
       "        9000.,  8500.,  9000.,  8000.,  7500.,  8000.,  8000.,  9000.,\n",
       "        9000.,  9000.,  9000.,  9500.,  9000.,  9000.,  8500.,  8000.,\n",
       "        8000.,  8000.,  8500.,  9300.,  9500.,  9500.,  9500.,  9500.,\n",
       "        9500.,  9500.,  9500.,  9000.,  9000.,  9000., 11000.,  9000.,\n",
       "        9000.,  9000.,  9000.,  9000., 10000.,  8500.,  8500.,  8100.,\n",
       "        7400.,  7400.,  8200.,  7400.,  7400.,  7400.,  7400.,  8300.,\n",
       "        7400.,  7400.,  7447.,  7990.,  7653.,  7406.,  8288.,  7482.,\n",
       "        7441.,  7531.,  7454.,  8727.,  7763.,  7514.,  7698.,  9409.,\n",
       "        8363.,  8310., 11829., 11598., 11546., 11475., 11549., 12889.,\n",
       "       11621., 11549., 12261., 12215., 10157., 10356., 12196., 10316.,\n",
       "       10312., 10325., 10558., 12413., 11388., 11002., 12147., 12183.,\n",
       "       11098.,  9855., 11916., 10216., 10775., 10395., 10402., 12712.,\n",
       "       10728., 11766., 12850., 12832.])"
      ]
     },
     "execution_count": 142,
     "metadata": {},
     "output_type": "execute_result"
    }
   ],
   "source": [
    "license_data['Total_number_of_license_issued']"
   ]
  },
  {
   "cell_type": "code",
   "execution_count": 143,
   "metadata": {},
   "outputs": [],
   "source": [
    "# 读取CSV文件中第一列的内容\n",
    "with open('Shanghai_license_plate_price.csv', 'r') as csvfile:\n",
    "    reader = csv.reader(csvfile)\n",
    "    next(reader)\n",
    "    column0 = [row[0] for row in reader]\n"
   ]
  },
  {
   "cell_type": "code",
   "execution_count": 144,
   "metadata": {},
   "outputs": [],
   "source": [
    "import time\n",
    "import matplotlib as mpl\n",
    "import datetime\n",
    "\n",
    "# 将第一列数据转换成x轴日期刻度\n",
    "x= []\n",
    "for t in column0:\n",
    "    d = time.strptime(t, \"%b-%y\") # 将日期字符串转换为时间元组\n",
    "    # 将日期时间对象转换为Matplotlib日期后，添加到列表x\n",
    "    x.append(mpl.dates.date2num(datetime.datetime(d.tm_year, d.tm_mon, 1)))"
   ]
  },
  {
   "cell_type": "code",
   "execution_count": 145,
   "metadata": {},
   "outputs": [],
   "source": [
    "# 获取数据最大值\n",
    "y_max = 0\n",
    "y_min = numpy.Inf\n",
    "\n",
    "# 数据文件中包含的不同数据项\n",
    "field = ['Total number of license issued', \n",
    "         'lowest price', 'avg price', 'Total number of applicants']\n",
    "\n",
    "for column in field:\n",
    "    if column == 'Date':\n",
    "        continue\n",
    "    column_rec_name = column.replace('\\n', '_').replace(' ', '_')\n",
    "    ymax = numpy.amax(license_data[column_rec_name])\n",
    "    ymin = numpy.amin(license_data[column_rec_name])\n",
    "    if (y_max < ymax):\n",
    "        y_max = ymax\n",
    "    if (y_min > ymin):\n",
    "        y_min = ymin"
   ]
  },
  {
   "cell_type": "code",
   "execution_count": 146,
   "metadata": {},
   "outputs": [
    {
     "data": {
      "image/png": "[encoded data removed]",
      "text/plain": [
       "<Figure size 1728x1440 with 1 Axes>"
      ]
     },
     "metadata": {
      "needs_background": "light"
     },
     "output_type": "display_data"
    }
   ],
   "source": [
    "import matplotlib.pyplot as plt\n",
    "\n",
    "fig, ax = plt.subplots(1, 1, figsize=(24, 20))\n",
    "\n",
    "# 删除绘图框线。\n",
    "ax.spines['top'].set_visible(False)\n",
    "ax.spines['bottom'].set_visible(False)\n",
    "ax.spines['right'].set_visible(False)\n",
    "ax.spines['left'].set_visible(False)\n",
    "\n",
    "# 确保轴刻度只显示在绘图的底部和左侧。\n",
    "ax.get_xaxis().tick_bottom()\n",
    "ax.get_yaxis().tick_left()\n",
    "\n",
    "# 根据日期和数值范围设置X、Y显示范围\n",
    "ax.set_xlim(x[0], x[-1])\n",
    "ax.set_ylim(y_min, y_max)  \n",
    "\n",
    "# 不同数据对应的颜色编码\n",
    "ax.set_prop_cycle(color=['slateblue', 'red', 'blue', 'black'])\n",
    "\n",
    "# 用于调整数据标签在的Y坐标，因为部分数据最后一个值可能比较接近\n",
    "y_offsets = {'Total number of license issued': 0, 'lowest price': 1500,\n",
    "             'avg price': -1500,\n",
    "             'Total number of applicants': 0}\n",
    "\n",
    "for column in field:\n",
    "    # 把每一条线分别用它自己的颜色画出来。\n",
    "    column_rec_name = column.replace('\\n', '_').replace(' ', '_')\n",
    "    line, = ax.plot(x, column_rec_name, data= license_data,  lw=1.5)\n",
    "   \n",
    "    # 在每行的右端添加一个文本标签。\n",
    "    y_pos = license_data[column_rec_name][-1]\n",
    "    y_max = numpy.amax(license_data[column_rec_name])\n",
    "    d = numpy.where(license_data[column_rec_name] == y_max)\n",
    "       \n",
    "    # 添加特定的偏移量，因为一些标签重叠了。\n",
    "    y_pos += y_offsets[column]\n",
    "\n",
    "    ax.text(x[-1], y_pos, column, fontsize=14, color=line.get_color())\n",
    "    for idx in numpy.nditer(d):        \n",
    "        ax.annotate('{label} max value'.format(label=column_rec_name), \n",
    "                     xy = (x[idx], y_max), \n",
    "                     xytext = (x[idx]+500, y_max+3500+y_offsets[column]),\n",
    "                     arrowprops = dict(facecolor = line.get_color(),\n",
    "                                       shrink = 0.05))\n",
    "# X轴刻度以年月的形式显示\n",
    "monthsLoc = mpl.dates.MonthLocator(interval=6)\n",
    "monthsLoc1 = mpl.dates.MonthLocator(interval=2)\n",
    "ax.xaxis.set_major_locator(monthsLoc)\n",
    "ax.xaxis.set_minor_locator(monthsLoc1)\n",
    "monthsFmt = mpl.dates.DateFormatter('%Y-%b')\n",
    "ax.xaxis.set_major_formatter(monthsFmt)\n",
    "fig.autofmt_xdate(bottom=0.18)\n",
    "fig.subplots_adjust(left=0.18)\n",
    "#plt.savefig('Shanghai_car_licence.png')\n",
    "plt.show()"
   ]
  },
  {
   "cell_type": "code",
   "execution_count": 147,
   "metadata": {},
   "outputs": [
    {
     "data": {
      "image/png": "[encoded data removed]",
      "text/plain": [
       "<Figure size 1152x1152 with 3 Axes>"
      ]
     },
     "metadata": {
      "needs_background": "light"
     },
     "output_type": "display_data"
    }
   ],
   "source": [
    "count = license_data.size\n",
    "avg_mean = int(numpy.mean(license_data['avg_price'])/1000)\n",
    "avg_median = int(numpy.median(license_data['avg_price'])/1000)\n",
    "avg_min = int(numpy.min(license_data['avg_price'])/1000)\n",
    "avg_max = int(numpy.max(license_data['avg_price'])/1000)\n",
    "avg_25p, avg_50p, avg_75p = (numpy.percentile(\n",
    "    license_data['lowest_price'], [25, 50, 75])/1000).astype(int)\n",
    "\n",
    "lowest_mean = int(numpy.mean(license_data['lowest_price'])/1000)\n",
    "lowest_median = int(numpy.median(license_data['lowest_price'])/1000)\n",
    "lowest_min = int(numpy.min(license_data['lowest_price'])/1000)\n",
    "lowest_max = int(numpy.max(license_data['lowest_price'])/1000)\n",
    "lowest_25p, lowest_50p, lowest_75p = (numpy.percentile(\n",
    "    license_data['lowest_price'], [25, 50, 75])/1000).astype(int)\n",
    "\n",
    "# 定义坐标系大小\n",
    "left, width = 0.1, 0.65\n",
    "bottom, height = 0.1, 0.65\n",
    "spacing = 0.005\n",
    "rect_scatter = [left, bottom, width, height]\n",
    "rect_histx = [left, bottom + height + spacing, width, 0.2]\n",
    "rect_histy = [left + width + spacing, bottom, 0.2, height]\n",
    "\n",
    "# 创建正方形绘图\n",
    "fig = plt.figure(figsize=(16, 16))\n",
    "\n",
    "# 在绘图上划分坐标系\n",
    "ax = fig.add_axes(rect_scatter)\n",
    "ax_histx = fig.add_axes(rect_histx, sharex=ax)\n",
    "ax_histy = fig.add_axes(rect_histy, sharey=ax)\n",
    "\n",
    "# 坐标系相邻的区域不显示刻度\n",
    "ax_histx.tick_params(axis=\"x\", labelbottom=False)\n",
    "ax_histy.tick_params(axis=\"y\", labelleft=False)\n",
    "\n",
    "# 绘图\n",
    "ax.scatter(license_data['avg_price'], license_data['lowest_price'])\n",
    "ax_histx.hist(license_data['avg_price'], bins=20)\n",
    "ax_histx.set_title('average price')\n",
    "ax_histx.text(50000, 15, 'Mean: {}k \\nMax: {}k\\nMedian: {}k\\n25%: {}k\\n50%: {}k\\n75%: {}k'.format(avg_mean, avg_max, avg_median, avg_25p, avg_50p, avg_75p), style='italic',\n",
    "        bbox={'facecolor': 'lightblue', 'alpha': 0.5, 'pad': 10})\n",
    "ax_histy.hist(license_data['lowest_price'],orientation='horizontal')\n",
    "ax_histy.set_title('lowest price')\n",
    "ax_histy.text(25, 55000, 'Mean: {}k \\nMax: {}k\\nMedian: {}k\\n25%: {}k\\n50%: {}k\\n75%: {}k'.format(lowest_mean, lowest_max, lowest_median,\n",
    "                                                                                                  lowest_25p, lowest_50p, lowest_75p), style='italic',\n",
    "        bbox={'facecolor': 'lightblue', 'alpha': 0.5, 'pad': 10})\n",
    "\n",
    "plt.show()"
   ]
  },
  {
   "cell_type": "code",
   "execution_count": 179,
   "metadata": {},
   "outputs": [],
   "source": [
    "data = numpy.genfromtxt('weatherdata-3111216.csv',\n",
    "                         delimiter=',', skip_header=1)"
   ]
  },
  {
   "cell_type": "code",
   "execution_count": 180,
   "metadata": {},
   "outputs": [
    {
     "data": {
      "text/plain": [
       "array([[         nan, 121.56199646,  31.06679916, ...,   0.7752598 ,\n",
       "          4.87125324,          nan],\n",
       "       [         nan, 121.56199646,  31.06679916, ...,   0.80982999,\n",
       "          3.13875072,          nan],\n",
       "       [         nan, 121.56199646,  31.06679916, ...,   0.85897935,\n",
       "          7.0988013 ,          nan],\n",
       "       ...,\n",
       "       [         nan, 121.56199646,  31.06679916, ...,   0.81235931,\n",
       "         28.19720235,          nan],\n",
       "       [         nan, 121.56199646,  31.06679916, ...,   0.79428873,\n",
       "         28.56608974,          nan],\n",
       "       [         nan, 121.56199646,  31.06679916, ...,   0.83383561,\n",
       "         28.12646966,          nan]])"
      ]
     },
     "execution_count": 180,
     "metadata": {},
     "output_type": "execute_result"
    }
   ],
   "source": [
    "data"
   ]
  },
  {
   "cell_type": "code",
   "execution_count": 181,
   "metadata": {},
   "outputs": [
    {
     "data": {
      "text/plain": [
       "[(1979, 1),\n",
       " (1979, 1),\n",
       " (1979, 1),\n",
       " (1979, 1),\n",
       " (1979, 1),\n",
       " (1979, 1),\n",
       " (1979, 1),\n",
       " (1979, 1),\n",
       " (1979, 1),\n",
       " (1979, 1),\n",
       " (1979, 1),\n",
       " (1979, 1),\n",
       " (1979, 1),\n",
       " (1979, 1),\n",
       " (1979, 1),\n",
       " (1979, 1),\n",
       " (1979, 1),\n",
       " (1979, 1),\n",
       " (1979, 1),\n",
       " (1979, 1),\n",
       " (1979, 1),\n",
       " (1979, 1),\n",
       " (1979, 1),\n",
       " (1979, 1),\n",
       " (1979, 1),\n",
       " (1979, 1),\n",
       " (1979, 1),\n",
       " (1979, 1),\n",
       " (1979, 1),\n",
       " (1979, 1),\n",
       " (1979, 1),\n",
       " (1979, 2),\n",
       " (1979, 2),\n",
       " (1979, 2),\n",
       " (1979, 2),\n",
       " (1979, 2),\n",
       " (1979, 2),\n",
       " (1979, 2),\n",
       " (1979, 2),\n",
       " (1979, 2),\n",
       " (1979, 2),\n",
       " (1979, 2),\n",
       " (1979, 2),\n",
       " (1979, 2),\n",
       " (1979, 2),\n",
       " (1979, 2),\n",
       " (1979, 2),\n",
       " (1979, 2),\n",
       " (1979, 2),\n",
       " (1979, 2),\n",
       " (1979, 2),\n",
       " (1979, 2),\n",
       " (1979, 2),\n",
       " (1979, 2),\n",
       " (1979, 2),\n",
       " (1979, 2),\n",
       " (1979, 2),\n",
       " (1979, 2),\n",
       " (1979, 2),\n",
       " (1979, 3),\n",
       " (1979, 3),\n",
       " (1979, 3),\n",
       " (1979, 3),\n",
       " (1979, 3),\n",
       " (1979, 3),\n",
       " (1979, 3),\n",
       " (1979, 3),\n",
       " (1979, 3),\n",
       " (1979, 3),\n",
       " (1979, 3),\n",
       " (1979, 3),\n",
       " (1979, 3),\n",
       " (1979, 3),\n",
       " (1979, 3),\n",
       " (1979, 3),\n",
       " (1979, 3),\n",
       " (1979, 3),\n",
       " (1979, 3),\n",
       " (1979, 3),\n",
       " (1979, 3),\n",
       " (1979, 3),\n",
       " (1979, 3),\n",
       " (1979, 3),\n",
       " (1979, 3),\n",
       " (1979, 3),\n",
       " (1979, 3),\n",
       " (1979, 3),\n",
       " (1979, 3),\n",
       " (1979, 3),\n",
       " (1979, 3),\n",
       " (1979, 4),\n",
       " (1979, 4),\n",
       " (1979, 4),\n",
       " (1979, 4),\n",
       " (1979, 4),\n",
       " (1979, 4),\n",
       " (1979, 4),\n",
       " (1979, 4),\n",
       " (1979, 4),\n",
       " (1979, 4),\n",
       " (1979, 4),\n",
       " (1979, 4),\n",
       " (1979, 4),\n",
       " (1979, 4),\n",
       " (1979, 4),\n",
       " (1979, 4),\n",
       " (1979, 4),\n",
       " (1979, 4),\n",
       " (1979, 4),\n",
       " (1979, 4),\n",
       " (1979, 4),\n",
       " (1979, 4),\n",
       " (1979, 4),\n",
       " (1979, 4),\n",
       " (1979, 4),\n",
       " (1979, 4),\n",
       " (1979, 4),\n",
       " (1979, 4),\n",
       " (1979, 4),\n",
       " (1979, 4),\n",
       " (1979, 5),\n",
       " (1979, 5),\n",
       " (1979, 5),\n",
       " (1979, 5),\n",
       " (1979, 5),\n",
       " (1979, 5),\n",
       " (1979, 5),\n",
       " (1979, 5),\n",
       " (1979, 5),\n",
       " (1979, 5),\n",
       " (1979, 5),\n",
       " (1979, 5),\n",
       " (1979, 5),\n",
       " (1979, 5),\n",
       " (1979, 5),\n",
       " (1979, 5),\n",
       " (1979, 5),\n",
       " (1979, 5),\n",
       " (1979, 5),\n",
       " (1979, 5),\n",
       " (1979, 5),\n",
       " (1979, 5),\n",
       " (1979, 5),\n",
       " (1979, 5),\n",
       " (1979, 5),\n",
       " (1979, 5),\n",
       " (1979, 5),\n",
       " (1979, 5),\n",
       " (1979, 5),\n",
       " (1979, 5),\n",
       " (1979, 5),\n",
       " (1979, 6),\n",
       " (1979, 6),\n",
       " (1979, 6),\n",
       " (1979, 6),\n",
       " (1979, 6),\n",
       " (1979, 6),\n",
       " (1979, 6),\n",
       " (1979, 6),\n",
       " (1979, 6),\n",
       " (1979, 6),\n",
       " (1979, 6),\n",
       " (1979, 6),\n",
       " (1979, 6),\n",
       " (1979, 6),\n",
       " (1979, 6),\n",
       " (1979, 6),\n",
       " (1979, 6),\n",
       " (1979, 6),\n",
       " (1979, 6),\n",
       " (1979, 6),\n",
       " (1979, 6),\n",
       " (1979, 6),\n",
       " (1979, 6),\n",
       " (1979, 6),\n",
       " (1979, 6),\n",
       " (1979, 6),\n",
       " (1979, 6),\n",
       " (1979, 6),\n",
       " (1979, 6),\n",
       " (1979, 6),\n",
       " (1979, 7),\n",
       " (1979, 7),\n",
       " (1979, 7),\n",
       " (1979, 7),\n",
       " (1979, 7),\n",
       " (1979, 7),\n",
       " (1979, 7),\n",
       " (1979, 7),\n",
       " (1979, 7),\n",
       " (1979, 7),\n",
       " (1979, 7),\n",
       " (1979, 7),\n",
       " (1979, 7),\n",
       " (1979, 7),\n",
       " (1979, 7),\n",
       " (1979, 7),\n",
       " (1979, 7),\n",
       " (1979, 7),\n",
       " (1979, 7),\n",
       " (1979, 7),\n",
       " (1979, 7),\n",
       " (1979, 7),\n",
       " (1979, 7),\n",
       " (1979, 7),\n",
       " (1979, 7),\n",
       " (1979, 7),\n",
       " (1979, 7),\n",
       " (1979, 7),\n",
       " (1979, 7),\n",
       " (1979, 7),\n",
       " (1979, 7),\n",
       " (1979, 8),\n",
       " (1979, 8),\n",
       " (1979, 8),\n",
       " (1979, 8),\n",
       " (1979, 8),\n",
       " (1979, 8),\n",
       " (1979, 8),\n",
       " (1979, 8),\n",
       " (1979, 8),\n",
       " (1979, 8),\n",
       " (1979, 8),\n",
       " (1979, 8),\n",
       " (1979, 8),\n",
       " (1979, 8),\n",
       " (1979, 8),\n",
       " (1979, 8),\n",
       " (1979, 8),\n",
       " (1979, 8),\n",
       " (1979, 8),\n",
       " (1979, 8),\n",
       " (1979, 8),\n",
       " (1979, 8),\n",
       " (1979, 8),\n",
       " (1979, 8),\n",
       " (1979, 8),\n",
       " (1979, 8),\n",
       " (1979, 8),\n",
       " (1979, 8),\n",
       " (1979, 8),\n",
       " (1979, 8),\n",
       " (1979, 8),\n",
       " (1979, 9),\n",
       " (1979, 9),\n",
       " (1979, 9),\n",
       " (1979, 9),\n",
       " (1979, 9),\n",
       " (1979, 9),\n",
       " (1979, 9),\n",
       " (1979, 9),\n",
       " (1979, 9),\n",
       " (1979, 9),\n",
       " (1979, 9),\n",
       " (1979, 9),\n",
       " (1979, 9),\n",
       " (1979, 9),\n",
       " (1979, 9),\n",
       " (1979, 9),\n",
       " (1979, 9),\n",
       " (1979, 9),\n",
       " (1979, 9),\n",
       " (1979, 9),\n",
       " (1979, 9),\n",
       " (1979, 9),\n",
       " (1979, 9),\n",
       " (1979, 9),\n",
       " (1979, 9),\n",
       " (1979, 9),\n",
       " (1979, 9),\n",
       " (1979, 9),\n",
       " (1979, 9),\n",
       " (1979, 9),\n",
       " (1979, 10),\n",
       " (1979, 10),\n",
       " (1979, 10),\n",
       " (1979, 10),\n",
       " (1979, 10),\n",
       " (1979, 10),\n",
       " (1979, 10),\n",
       " (1979, 10),\n",
       " (1979, 10),\n",
       " (1979, 10),\n",
       " (1979, 10),\n",
       " (1979, 10),\n",
       " (1979, 10),\n",
       " (1979, 10),\n",
       " (1979, 10),\n",
       " (1979, 10),\n",
       " (1979, 10),\n",
       " (1979, 10),\n",
       " (1979, 10),\n",
       " (1979, 10),\n",
       " (1979, 10),\n",
       " (1979, 10),\n",
       " (1979, 10),\n",
       " (1979, 10),\n",
       " (1979, 10),\n",
       " (1979, 10),\n",
       " (1979, 10),\n",
       " (1979, 10),\n",
       " (1979, 10),\n",
       " (1979, 10),\n",
       " (1979, 10),\n",
       " (1979, 11),\n",
       " (1979, 11),\n",
       " (1979, 11),\n",
       " (1979, 11),\n",
       " (1979, 11),\n",
       " (1979, 11),\n",
       " (1979, 11),\n",
       " (1979, 11),\n",
       " (1979, 11),\n",
       " (1979, 11),\n",
       " (1979, 11),\n",
       " (1979, 11),\n",
       " (1979, 11),\n",
       " (1979, 11),\n",
       " (1979, 11),\n",
       " (1979, 11),\n",
       " (1979, 11),\n",
       " (1979, 11),\n",
       " (1979, 11),\n",
       " (1979, 11),\n",
       " (1979, 11),\n",
       " (1979, 11),\n",
       " (1979, 11),\n",
       " (1979, 11),\n",
       " (1979, 11),\n",
       " (1979, 11),\n",
       " (1979, 11),\n",
       " (1979, 11),\n",
       " (1979, 11),\n",
       " (1979, 11),\n",
       " (1979, 12),\n",
       " (1979, 12),\n",
       " (1979, 12),\n",
       " (1979, 12),\n",
       " (1979, 12),\n",
       " (1979, 12),\n",
       " (1979, 12),\n",
       " (1979, 12),\n",
       " (1979, 12),\n",
       " (1979, 12),\n",
       " (1979, 12),\n",
       " (1979, 12),\n",
       " (1979, 12),\n",
       " (1979, 12),\n",
       " (1979, 12),\n",
       " (1979, 12),\n",
       " (1979, 12),\n",
       " (1979, 12),\n",
       " (1979, 12),\n",
       " (1979, 12),\n",
       " (1979, 12),\n",
       " (1979, 12),\n",
       " (1979, 12),\n",
       " (1979, 12),\n",
       " (1979, 12),\n",
       " (1979, 12),\n",
       " (1979, 12),\n",
       " (1979, 12),\n",
       " (1979, 12),\n",
       " (1979, 12),\n",
       " (1979, 12),\n",
       " (1980, 1),\n",
       " (1980, 1),\n",
       " (1980, 1),\n",
       " (1980, 1),\n",
       " (1980, 1),\n",
       " (1980, 1),\n",
       " (1980, 1),\n",
       " (1980, 1),\n",
       " (1980, 1),\n",
       " (1980, 1),\n",
       " (1980, 1),\n",
       " (1980, 1),\n",
       " (1980, 1),\n",
       " (1980, 1),\n",
       " (1980, 1),\n",
       " (1980, 1),\n",
       " (1980, 1),\n",
       " (1980, 1),\n",
       " (1980, 1),\n",
       " (1980, 1),\n",
       " (1980, 1),\n",
       " (1980, 1),\n",
       " (1980, 1),\n",
       " (1980, 1),\n",
       " (1980, 1),\n",
       " (1980, 1),\n",
       " (1980, 1),\n",
       " (1980, 1),\n",
       " (1980, 1),\n",
       " (1980, 1),\n",
       " (1980, 1),\n",
       " (1980, 2),\n",
       " (1980, 2),\n",
       " (1980, 2),\n",
       " (1980, 2),\n",
       " (1980, 2),\n",
       " (1980, 2),\n",
       " (1980, 2),\n",
       " (1980, 2),\n",
       " (1980, 2),\n",
       " (1980, 2),\n",
       " (1980, 2),\n",
       " (1980, 2),\n",
       " (1980, 2),\n",
       " (1980, 2),\n",
       " (1980, 2),\n",
       " (1980, 2),\n",
       " (1980, 2),\n",
       " (1980, 2),\n",
       " (1980, 2),\n",
       " (1980, 2),\n",
       " (1980, 2),\n",
       " (1980, 2),\n",
       " (1980, 2),\n",
       " (1980, 2),\n",
       " (1980, 2),\n",
       " (1980, 2),\n",
       " (1980, 2),\n",
       " (1980, 2),\n",
       " (1980, 2),\n",
       " (1980, 3),\n",
       " (1980, 3),\n",
       " (1980, 3),\n",
       " (1980, 3),\n",
       " (1980, 3),\n",
       " (1980, 3),\n",
       " (1980, 3),\n",
       " (1980, 3),\n",
       " (1980, 3),\n",
       " (1980, 3),\n",
       " (1980, 3),\n",
       " (1980, 3),\n",
       " (1980, 3),\n",
       " (1980, 3),\n",
       " (1980, 3),\n",
       " (1980, 3),\n",
       " (1980, 3),\n",
       " (1980, 3),\n",
       " (1980, 3),\n",
       " (1980, 3),\n",
       " (1980, 3),\n",
       " (1980, 3),\n",
       " (1980, 3),\n",
       " (1980, 3),\n",
       " (1980, 3),\n",
       " (1980, 3),\n",
       " (1980, 3),\n",
       " (1980, 3),\n",
       " (1980, 3),\n",
       " (1980, 3),\n",
       " (1980, 3),\n",
       " (1980, 4),\n",
       " (1980, 4),\n",
       " (1980, 4),\n",
       " (1980, 4),\n",
       " (1980, 4),\n",
       " (1980, 4),\n",
       " (1980, 4),\n",
       " (1980, 4),\n",
       " (1980, 4),\n",
       " (1980, 4),\n",
       " (1980, 4),\n",
       " (1980, 4),\n",
       " (1980, 4),\n",
       " (1980, 4),\n",
       " (1980, 4),\n",
       " (1980, 4),\n",
       " (1980, 4),\n",
       " (1980, 4),\n",
       " (1980, 4),\n",
       " (1980, 4),\n",
       " (1980, 4),\n",
       " (1980, 4),\n",
       " (1980, 4),\n",
       " (1980, 4),\n",
       " (1980, 4),\n",
       " (1980, 4),\n",
       " (1980, 4),\n",
       " (1980, 4),\n",
       " (1980, 4),\n",
       " (1980, 4),\n",
       " (1980, 5),\n",
       " (1980, 5),\n",
       " (1980, 5),\n",
       " (1980, 5),\n",
       " (1980, 5),\n",
       " (1980, 5),\n",
       " (1980, 5),\n",
       " (1980, 5),\n",
       " (1980, 5),\n",
       " (1980, 5),\n",
       " (1980, 5),\n",
       " (1980, 5),\n",
       " (1980, 5),\n",
       " (1980, 5),\n",
       " (1980, 5),\n",
       " (1980, 5),\n",
       " (1980, 5),\n",
       " (1980, 5),\n",
       " (1980, 5),\n",
       " (1980, 5),\n",
       " (1980, 5),\n",
       " (1980, 5),\n",
       " (1980, 5),\n",
       " (1980, 5),\n",
       " (1980, 5),\n",
       " (1980, 5),\n",
       " (1980, 5),\n",
       " (1980, 5),\n",
       " (1980, 5),\n",
       " (1980, 5),\n",
       " (1980, 5),\n",
       " (1980, 6),\n",
       " (1980, 6),\n",
       " (1980, 6),\n",
       " (1980, 6),\n",
       " (1980, 6),\n",
       " (1980, 6),\n",
       " (1980, 6),\n",
       " (1980, 6),\n",
       " (1980, 6),\n",
       " (1980, 6),\n",
       " (1980, 6),\n",
       " (1980, 6),\n",
       " (1980, 6),\n",
       " (1980, 6),\n",
       " (1980, 6),\n",
       " (1980, 6),\n",
       " (1980, 6),\n",
       " (1980, 6),\n",
       " (1980, 6),\n",
       " (1980, 6),\n",
       " (1980, 6),\n",
       " (1980, 6),\n",
       " (1980, 6),\n",
       " (1980, 6),\n",
       " (1980, 6),\n",
       " (1980, 6),\n",
       " (1980, 6),\n",
       " (1980, 6),\n",
       " (1980, 6),\n",
       " (1980, 6),\n",
       " (1980, 7),\n",
       " (1980, 7),\n",
       " (1980, 7),\n",
       " (1980, 7),\n",
       " (1980, 7),\n",
       " (1980, 7),\n",
       " (1980, 7),\n",
       " (1980, 7),\n",
       " (1980, 7),\n",
       " (1980, 7),\n",
       " (1980, 7),\n",
       " (1980, 7),\n",
       " (1980, 7),\n",
       " (1980, 7),\n",
       " (1980, 7),\n",
       " (1980, 7),\n",
       " (1980, 7),\n",
       " (1980, 7),\n",
       " (1980, 7),\n",
       " (1980, 7),\n",
       " (1980, 7),\n",
       " (1980, 7),\n",
       " (1980, 7),\n",
       " (1980, 7),\n",
       " (1980, 7),\n",
       " (1980, 7),\n",
       " (1980, 7),\n",
       " (1980, 7),\n",
       " (1980, 7),\n",
       " (1980, 7),\n",
       " (1980, 7),\n",
       " (1980, 8),\n",
       " (1980, 8),\n",
       " (1980, 8),\n",
       " (1980, 8),\n",
       " (1980, 8),\n",
       " (1980, 8),\n",
       " (1980, 8),\n",
       " (1980, 8),\n",
       " (1980, 8),\n",
       " (1980, 8),\n",
       " (1980, 8),\n",
       " (1980, 8),\n",
       " (1980, 8),\n",
       " (1980, 8),\n",
       " (1980, 8),\n",
       " (1980, 8),\n",
       " (1980, 8),\n",
       " (1980, 8),\n",
       " (1980, 8),\n",
       " (1980, 8),\n",
       " (1980, 8),\n",
       " (1980, 8),\n",
       " (1980, 8),\n",
       " (1980, 8),\n",
       " (1980, 8),\n",
       " (1980, 8),\n",
       " (1980, 8),\n",
       " (1980, 8),\n",
       " (1980, 8),\n",
       " (1980, 8),\n",
       " (1980, 8),\n",
       " (1980, 9),\n",
       " (1980, 9),\n",
       " (1980, 9),\n",
       " (1980, 9),\n",
       " (1980, 9),\n",
       " (1980, 9),\n",
       " (1980, 9),\n",
       " (1980, 9),\n",
       " (1980, 9),\n",
       " (1980, 9),\n",
       " (1980, 9),\n",
       " (1980, 9),\n",
       " (1980, 9),\n",
       " (1980, 9),\n",
       " (1980, 9),\n",
       " (1980, 9),\n",
       " (1980, 9),\n",
       " (1980, 9),\n",
       " (1980, 9),\n",
       " (1980, 9),\n",
       " (1980, 9),\n",
       " (1980, 9),\n",
       " (1980, 9),\n",
       " (1980, 9),\n",
       " (1980, 9),\n",
       " (1980, 9),\n",
       " (1980, 9),\n",
       " (1980, 9),\n",
       " (1980, 9),\n",
       " (1980, 9),\n",
       " (1980, 10),\n",
       " (1980, 10),\n",
       " (1980, 10),\n",
       " (1980, 10),\n",
       " (1980, 10),\n",
       " (1980, 10),\n",
       " (1980, 10),\n",
       " (1980, 10),\n",
       " (1980, 10),\n",
       " (1980, 10),\n",
       " (1980, 10),\n",
       " (1980, 10),\n",
       " (1980, 10),\n",
       " (1980, 10),\n",
       " (1980, 10),\n",
       " (1980, 10),\n",
       " (1980, 10),\n",
       " (1980, 10),\n",
       " (1980, 10),\n",
       " (1980, 10),\n",
       " (1980, 10),\n",
       " (1980, 10),\n",
       " (1980, 10),\n",
       " (1980, 10),\n",
       " (1980, 10),\n",
       " (1980, 10),\n",
       " (1980, 10),\n",
       " (1980, 10),\n",
       " (1980, 10),\n",
       " (1980, 10),\n",
       " (1980, 10),\n",
       " (1980, 11),\n",
       " (1980, 11),\n",
       " (1980, 11),\n",
       " (1980, 11),\n",
       " (1980, 11),\n",
       " (1980, 11),\n",
       " (1980, 11),\n",
       " (1980, 11),\n",
       " (1980, 11),\n",
       " (1980, 11),\n",
       " (1980, 11),\n",
       " (1980, 11),\n",
       " (1980, 11),\n",
       " (1980, 11),\n",
       " (1980, 11),\n",
       " (1980, 11),\n",
       " (1980, 11),\n",
       " (1980, 11),\n",
       " (1980, 11),\n",
       " (1980, 11),\n",
       " (1980, 11),\n",
       " (1980, 11),\n",
       " (1980, 11),\n",
       " (1980, 11),\n",
       " (1980, 11),\n",
       " (1980, 11),\n",
       " (1980, 11),\n",
       " (1980, 11),\n",
       " (1980, 11),\n",
       " (1980, 11),\n",
       " (1980, 12),\n",
       " (1980, 12),\n",
       " (1980, 12),\n",
       " (1980, 12),\n",
       " (1980, 12),\n",
       " (1980, 12),\n",
       " (1980, 12),\n",
       " (1980, 12),\n",
       " (1980, 12),\n",
       " (1980, 12),\n",
       " (1980, 12),\n",
       " (1980, 12),\n",
       " (1980, 12),\n",
       " (1980, 12),\n",
       " (1980, 12),\n",
       " (1980, 12),\n",
       " (1980, 12),\n",
       " (1980, 12),\n",
       " (1980, 12),\n",
       " (1980, 12),\n",
       " (1980, 12),\n",
       " (1980, 12),\n",
       " (1980, 12),\n",
       " (1980, 12),\n",
       " (1980, 12),\n",
       " (1980, 12),\n",
       " (1980, 12),\n",
       " (1980, 12),\n",
       " (1980, 12),\n",
       " (1980, 12),\n",
       " (1980, 12),\n",
       " (1981, 1),\n",
       " (1981, 1),\n",
       " (1981, 1),\n",
       " (1981, 1),\n",
       " (1981, 1),\n",
       " (1981, 1),\n",
       " (1981, 1),\n",
       " (1981, 1),\n",
       " (1981, 1),\n",
       " (1981, 1),\n",
       " (1981, 1),\n",
       " (1981, 1),\n",
       " (1981, 1),\n",
       " (1981, 1),\n",
       " (1981, 1),\n",
       " (1981, 1),\n",
       " (1981, 1),\n",
       " (1981, 1),\n",
       " (1981, 1),\n",
       " (1981, 1),\n",
       " (1981, 1),\n",
       " (1981, 1),\n",
       " (1981, 1),\n",
       " (1981, 1),\n",
       " (1981, 1),\n",
       " (1981, 1),\n",
       " (1981, 1),\n",
       " (1981, 1),\n",
       " (1981, 1),\n",
       " (1981, 1),\n",
       " (1981, 1),\n",
       " (1981, 2),\n",
       " (1981, 2),\n",
       " (1981, 2),\n",
       " (1981, 2),\n",
       " (1981, 2),\n",
       " (1981, 2),\n",
       " (1981, 2),\n",
       " (1981, 2),\n",
       " (1981, 2),\n",
       " (1981, 2),\n",
       " (1981, 2),\n",
       " (1981, 2),\n",
       " (1981, 2),\n",
       " (1981, 2),\n",
       " (1981, 2),\n",
       " (1981, 2),\n",
       " (1981, 2),\n",
       " (1981, 2),\n",
       " (1981, 2),\n",
       " (1981, 2),\n",
       " (1981, 2),\n",
       " (1981, 2),\n",
       " (1981, 2),\n",
       " (1981, 2),\n",
       " (1981, 2),\n",
       " (1981, 2),\n",
       " (1981, 2),\n",
       " (1981, 2),\n",
       " (1981, 3),\n",
       " (1981, 3),\n",
       " (1981, 3),\n",
       " (1981, 3),\n",
       " (1981, 3),\n",
       " (1981, 3),\n",
       " (1981, 3),\n",
       " (1981, 3),\n",
       " (1981, 3),\n",
       " (1981, 3),\n",
       " (1981, 3),\n",
       " (1981, 3),\n",
       " (1981, 3),\n",
       " (1981, 3),\n",
       " (1981, 3),\n",
       " (1981, 3),\n",
       " (1981, 3),\n",
       " (1981, 3),\n",
       " (1981, 3),\n",
       " (1981, 3),\n",
       " (1981, 3),\n",
       " (1981, 3),\n",
       " (1981, 3),\n",
       " (1981, 3),\n",
       " (1981, 3),\n",
       " (1981, 3),\n",
       " (1981, 3),\n",
       " (1981, 3),\n",
       " (1981, 3),\n",
       " (1981, 3),\n",
       " (1981, 3),\n",
       " (1981, 4),\n",
       " (1981, 4),\n",
       " (1981, 4),\n",
       " (1981, 4),\n",
       " (1981, 4),\n",
       " (1981, 4),\n",
       " (1981, 4),\n",
       " (1981, 4),\n",
       " (1981, 4),\n",
       " (1981, 4),\n",
       " (1981, 4),\n",
       " (1981, 4),\n",
       " (1981, 4),\n",
       " (1981, 4),\n",
       " (1981, 4),\n",
       " (1981, 4),\n",
       " (1981, 4),\n",
       " (1981, 4),\n",
       " (1981, 4),\n",
       " (1981, 4),\n",
       " (1981, 4),\n",
       " (1981, 4),\n",
       " (1981, 4),\n",
       " (1981, 4),\n",
       " (1981, 4),\n",
       " (1981, 4),\n",
       " (1981, 4),\n",
       " (1981, 4),\n",
       " (1981, 4),\n",
       " (1981, 4),\n",
       " (1981, 5),\n",
       " (1981, 5),\n",
       " (1981, 5),\n",
       " (1981, 5),\n",
       " (1981, 5),\n",
       " (1981, 5),\n",
       " (1981, 5),\n",
       " (1981, 5),\n",
       " (1981, 5),\n",
       " (1981, 5),\n",
       " (1981, 5),\n",
       " (1981, 5),\n",
       " (1981, 5),\n",
       " (1981, 5),\n",
       " (1981, 5),\n",
       " (1981, 5),\n",
       " (1981, 5),\n",
       " (1981, 5),\n",
       " (1981, 5),\n",
       " (1981, 5),\n",
       " (1981, 5),\n",
       " (1981, 5),\n",
       " (1981, 5),\n",
       " (1981, 5),\n",
       " (1981, 5),\n",
       " (1981, 5),\n",
       " (1981, 5),\n",
       " (1981, 5),\n",
       " (1981, 5),\n",
       " (1981, 5),\n",
       " (1981, 5),\n",
       " (1981, 6),\n",
       " (1981, 6),\n",
       " (1981, 6),\n",
       " (1981, 6),\n",
       " (1981, 6),\n",
       " (1981, 6),\n",
       " (1981, 6),\n",
       " (1981, 6),\n",
       " (1981, 6),\n",
       " (1981, 6),\n",
       " (1981, 6),\n",
       " (1981, 6),\n",
       " (1981, 6),\n",
       " (1981, 6),\n",
       " (1981, 6),\n",
       " (1981, 6),\n",
       " (1981, 6),\n",
       " (1981, 6),\n",
       " (1981, 6),\n",
       " (1981, 6),\n",
       " (1981, 6),\n",
       " (1981, 6),\n",
       " (1981, 6),\n",
       " (1981, 6),\n",
       " (1981, 6),\n",
       " (1981, 6),\n",
       " (1981, 6),\n",
       " (1981, 6),\n",
       " (1981, 6),\n",
       " (1981, 6),\n",
       " (1981, 7),\n",
       " (1981, 7),\n",
       " (1981, 7),\n",
       " (1981, 7),\n",
       " (1981, 7),\n",
       " (1981, 7),\n",
       " (1981, 7),\n",
       " (1981, 7),\n",
       " (1981, 7),\n",
       " (1981, 7),\n",
       " (1981, 7),\n",
       " (1981, 7),\n",
       " (1981, 7),\n",
       " (1981, 7),\n",
       " (1981, 7),\n",
       " (1981, 7),\n",
       " (1981, 7),\n",
       " (1981, 7),\n",
       " (1981, 7),\n",
       " (1981, 7),\n",
       " (1981, 7),\n",
       " (1981, 7),\n",
       " (1981, 7),\n",
       " (1981, 7),\n",
       " (1981, 7),\n",
       " (1981, 7),\n",
       " (1981, 7),\n",
       " (1981, 7),\n",
       " (1981, 7),\n",
       " (1981, 7),\n",
       " (1981, 7),\n",
       " (1981, 8),\n",
       " (1981, 8),\n",
       " (1981, 8),\n",
       " (1981, 8),\n",
       " (1981, 8),\n",
       " (1981, 8),\n",
       " (1981, 8),\n",
       " (1981, 8),\n",
       " (1981, 8),\n",
       " (1981, 8),\n",
       " (1981, 8),\n",
       " (1981, 8),\n",
       " (1981, 8),\n",
       " (1981, 8),\n",
       " (1981, 8),\n",
       " (1981, 8),\n",
       " (1981, 8),\n",
       " (1981, 8),\n",
       " (1981, 8),\n",
       " (1981, 8),\n",
       " (1981, 8),\n",
       " (1981, 8),\n",
       " (1981, 8),\n",
       " (1981, 8),\n",
       " (1981, 8),\n",
       " (1981, 8),\n",
       " (1981, 8),\n",
       " (1981, 8),\n",
       " (1981, 8),\n",
       " (1981, 8),\n",
       " (1981, 8),\n",
       " (1981, 9),\n",
       " (1981, 9),\n",
       " (1981, 9),\n",
       " (1981, 9),\n",
       " (1981, 9),\n",
       " (1981, 9),\n",
       " (1981, 9),\n",
       " (1981, 9),\n",
       " (1981, 9),\n",
       " (1981, 9),\n",
       " (1981, 9),\n",
       " (1981, 9),\n",
       " (1981, 9),\n",
       " (1981, 9),\n",
       " (1981, 9),\n",
       " (1981, 9),\n",
       " (1981, 9),\n",
       " (1981, 9),\n",
       " (1981, 9),\n",
       " (1981, 9),\n",
       " (1981, 9),\n",
       " (1981, 9),\n",
       " (1981, 9),\n",
       " (1981, 9),\n",
       " (1981, 9),\n",
       " (1981, 9),\n",
       " ...]"
      ]
     },
     "execution_count": 181,
     "metadata": {},
     "output_type": "execute_result"
    }
   ],
   "source": [
    "with open('weatherdata-3111216.csv','r') as csvfile:\n",
    "    reader = csv.DictReader(csvfile)\n",
    "\n",
    "    column = []\n",
    "    date = []                    # 记录数据中的年月\n",
    "    year = {}                    # 记录数据中的年\n",
    "    for row in reader:\n",
    "        column.append(row['Date'])\n",
    "        dtime = time.strptime(row['Date'], \"%m/%d/%Y\")\n",
    "        date.append((dtime.tm_year, dtime.tm_mon))\n",
    "        year[dtime.tm_year] = year.get(dtime.tm_year, 0) + 1\n",
    "date"
   ]
  },
  {
   "cell_type": "code",
   "execution_count": 187,
   "metadata": {},
   "outputs": [
    {
     "data": {
      "text/plain": [
       "[31,\n",
       " 28,\n",
       " 31,\n",
       " 30,\n",
       " 31,\n",
       " 30,\n",
       " 31,\n",
       " 31,\n",
       " 30,\n",
       " 31,\n",
       " 30,\n",
       " 31,\n",
       " 31,\n",
       " 29,\n",
       " 31,\n",
       " 30,\n",
       " 31,\n",
       " 30,\n",
       " 31,\n",
       " 31,\n",
       " 30,\n",
       " 31,\n",
       " 30,\n",
       " 31,\n",
       " 31,\n",
       " 28,\n",
       " 31,\n",
       " 30,\n",
       " 31,\n",
       " 30,\n",
       " 31,\n",
       " 31,\n",
       " 30,\n",
       " 31,\n",
       " 30,\n",
       " 31,\n",
       " 31,\n",
       " 28,\n",
       " 31,\n",
       " 30,\n",
       " 31,\n",
       " 30,\n",
       " 31,\n",
       " 31,\n",
       " 30,\n",
       " 31,\n",
       " 30,\n",
       " 31,\n",
       " 31,\n",
       " 28,\n",
       " 31,\n",
       " 30,\n",
       " 31,\n",
       " 30,\n",
       " 31,\n",
       " 31,\n",
       " 1,\n",
       " 31,\n",
       " 30,\n",
       " 31,\n",
       " 31,\n",
       " 29,\n",
       " 31,\n",
       " 30,\n",
       " 31,\n",
       " 30,\n",
       " 31,\n",
       " 31,\n",
       " 30,\n",
       " 31,\n",
       " 30,\n",
       " 31,\n",
       " 31,\n",
       " 28,\n",
       " 31,\n",
       " 30,\n",
       " 31,\n",
       " 30,\n",
       " 31,\n",
       " 31,\n",
       " 30,\n",
       " 31,\n",
       " 30,\n",
       " 31,\n",
       " 31,\n",
       " 28,\n",
       " 31,\n",
       " 30,\n",
       " 30,\n",
       " 30,\n",
       " 31,\n",
       " 31,\n",
       " 30,\n",
       " 31,\n",
       " 30,\n",
       " 24,\n",
       " 31,\n",
       " 28,\n",
       " 31,\n",
       " 30,\n",
       " 31,\n",
       " 30,\n",
       " 31,\n",
       " 31,\n",
       " 30,\n",
       " 31,\n",
       " 30,\n",
       " 31,\n",
       " 31,\n",
       " 29,\n",
       " 31,\n",
       " 30,\n",
       " 31,\n",
       " 30,\n",
       " 31,\n",
       " 31,\n",
       " 30,\n",
       " 31,\n",
       " 30,\n",
       " 31,\n",
       " 31,\n",
       " 28,\n",
       " 31,\n",
       " 30,\n",
       " 31,\n",
       " 30,\n",
       " 31,\n",
       " 31,\n",
       " 30,\n",
       " 31,\n",
       " 30,\n",
       " 31,\n",
       " 31,\n",
       " 28,\n",
       " 31,\n",
       " 30,\n",
       " 31,\n",
       " 30,\n",
       " 31,\n",
       " 31,\n",
       " 30,\n",
       " 31,\n",
       " 30,\n",
       " 31,\n",
       " 31,\n",
       " 28,\n",
       " 31,\n",
       " 30,\n",
       " 31,\n",
       " 30,\n",
       " 31,\n",
       " 31,\n",
       " 30,\n",
       " 31,\n",
       " 30,\n",
       " 31,\n",
       " 31,\n",
       " 29,\n",
       " 31,\n",
       " 30,\n",
       " 31,\n",
       " 30,\n",
       " 31,\n",
       " 31,\n",
       " 30,\n",
       " 31,\n",
       " 30,\n",
       " 31,\n",
       " 31,\n",
       " 28,\n",
       " 31,\n",
       " 30,\n",
       " 31,\n",
       " 30,\n",
       " 31,\n",
       " 31,\n",
       " 30,\n",
       " 31,\n",
       " 30,\n",
       " 31,\n",
       " 31,\n",
       " 28,\n",
       " 31,\n",
       " 30,\n",
       " 31,\n",
       " 30,\n",
       " 31,\n",
       " 31,\n",
       " 30,\n",
       " 31,\n",
       " 30,\n",
       " 31,\n",
       " 31,\n",
       " 28,\n",
       " 31,\n",
       " 30,\n",
       " 31,\n",
       " 30,\n",
       " 31,\n",
       " 31,\n",
       " 30,\n",
       " 31,\n",
       " 30,\n",
       " 31,\n",
       " 31,\n",
       " 29,\n",
       " 31,\n",
       " 30,\n",
       " 31,\n",
       " 1,\n",
       " 31,\n",
       " 31,\n",
       " 30,\n",
       " 31,\n",
       " 30,\n",
       " 31,\n",
       " 31,\n",
       " 28,\n",
       " 31,\n",
       " 30,\n",
       " 31,\n",
       " 30,\n",
       " 31,\n",
       " 31,\n",
       " 30,\n",
       " 31,\n",
       " 30,\n",
       " 31,\n",
       " 31,\n",
       " 28,\n",
       " 31,\n",
       " 30,\n",
       " 31,\n",
       " 30,\n",
       " 31,\n",
       " 31,\n",
       " 30,\n",
       " 31,\n",
       " 30,\n",
       " 31,\n",
       " 28,\n",
       " 31,\n",
       " 30,\n",
       " 31,\n",
       " 30,\n",
       " 31,\n",
       " 31,\n",
       " 30,\n",
       " 31,\n",
       " 30,\n",
       " 31,\n",
       " 31,\n",
       " 29,\n",
       " 31,\n",
       " 30,\n",
       " 31,\n",
       " 30,\n",
       " 31,\n",
       " 31,\n",
       " 30,\n",
       " 31,\n",
       " 30,\n",
       " 31,\n",
       " 31,\n",
       " 28,\n",
       " 31,\n",
       " 30,\n",
       " 31,\n",
       " 30,\n",
       " 31,\n",
       " 31,\n",
       " 30,\n",
       " 31,\n",
       " 30,\n",
       " 31,\n",
       " 31,\n",
       " 28,\n",
       " 31,\n",
       " 30,\n",
       " 31,\n",
       " 30,\n",
       " 31,\n",
       " 31,\n",
       " 30,\n",
       " 31,\n",
       " 30,\n",
       " 31,\n",
       " 31,\n",
       " 28,\n",
       " 31,\n",
       " 30,\n",
       " 31,\n",
       " 30,\n",
       " 31,\n",
       " 31,\n",
       " 30,\n",
       " 31,\n",
       " 30,\n",
       " 31,\n",
       " 31,\n",
       " 29,\n",
       " 31,\n",
       " 30,\n",
       " 31,\n",
       " 30,\n",
       " 31,\n",
       " 31,\n",
       " 30,\n",
       " 31,\n",
       " 30,\n",
       " 31,\n",
       " 31,\n",
       " 28,\n",
       " 31,\n",
       " 30,\n",
       " 31,\n",
       " 30,\n",
       " 31,\n",
       " 31,\n",
       " 30,\n",
       " 31,\n",
       " 30,\n",
       " 31,\n",
       " 31,\n",
       " 28,\n",
       " 31,\n",
       " 30,\n",
       " 31,\n",
       " 30,\n",
       " 31,\n",
       " 31,\n",
       " 30,\n",
       " 31,\n",
       " 30,\n",
       " 31,\n",
       " 31,\n",
       " 28,\n",
       " 31,\n",
       " 30,\n",
       " 31,\n",
       " 30,\n",
       " 31,\n",
       " 31,\n",
       " 30,\n",
       " 31,\n",
       " 30,\n",
       " 31,\n",
       " 31,\n",
       " 29,\n",
       " 31,\n",
       " 30,\n",
       " 31,\n",
       " 30,\n",
       " 31,\n",
       " 31,\n",
       " 30,\n",
       " 31,\n",
       " 30,\n",
       " 31,\n",
       " 31,\n",
       " 28,\n",
       " 31,\n",
       " 30,\n",
       " 31,\n",
       " 30,\n",
       " 31,\n",
       " 31,\n",
       " 30,\n",
       " 31,\n",
       " 30,\n",
       " 31,\n",
       " 31,\n",
       " 28,\n",
       " 31,\n",
       " 30,\n",
       " 31,\n",
       " 30,\n",
       " 31,\n",
       " 31,\n",
       " 30,\n",
       " 31,\n",
       " 30,\n",
       " 31,\n",
       " 31,\n",
       " 28,\n",
       " 31,\n",
       " 30,\n",
       " 31,\n",
       " 30,\n",
       " 31,\n",
       " 31,\n",
       " 30,\n",
       " 31,\n",
       " 30,\n",
       " 31,\n",
       " 31,\n",
       " 29,\n",
       " 31,\n",
       " 30,\n",
       " 31,\n",
       " 30,\n",
       " 31,\n",
       " 31,\n",
       " 30,\n",
       " 31,\n",
       " 30,\n",
       " 31,\n",
       " 31,\n",
       " 28,\n",
       " 31,\n",
       " 30,\n",
       " 31,\n",
       " 30,\n",
       " 31,\n",
       " 31,\n",
       " 30,\n",
       " 31,\n",
       " 30,\n",
       " 31,\n",
       " 31,\n",
       " 28,\n",
       " 31,\n",
       " 30,\n",
       " 31,\n",
       " 30,\n",
       " 31]"
      ]
     },
     "execution_count": 187,
     "metadata": {},
     "output_type": "execute_result"
    }
   ],
   "source": [
    "# 将年份提取出来\n",
    "years = list(year.keys())\n",
    "\n",
    "# 将每月的天数提取出来\n",
    "h = collections.Counter(date)\n",
    "days = list(h.values())\n",
    "days"
   ]
  },
  {
   "cell_type": "code",
   "execution_count": 188,
   "metadata": {},
   "outputs": [],
   "source": [
    "precipitation = data[:, -4]      # 日降雨量\n",
    "rainfall = numpy.empty((36, 12)) # 月平均降雨量数组\n"
   ]
  },
  {
   "cell_type": "code",
   "execution_count": 189,
   "metadata": {},
   "outputs": [
    {
     "data": {
      "text/plain": [
       "array([[150.17784416, 130.95026042, 137.98459688, 144.68773557,\n",
       "        111.14006272, 127.03923259, 102.59326426, 159.81059239,\n",
       "        121.45687185, 127.77752852, 146.38392897, 141.26892209],\n",
       "       [162.47313309, 148.58510004, 150.99051617, 146.91974701,\n",
       "        133.00137894, 109.24634951, 108.35119294, 100.41110034,\n",
       "        115.59103058, 130.335291  , 122.7014955 , 147.30595461],\n",
       "       [172.47082412, 127.70762607, 144.20262463, 120.15585874,\n",
       "        121.28209803, 129.14957982, 129.15568161, 112.20152871,\n",
       "        132.04624302, 134.78944309, 168.67525415, 156.96707794],\n",
       "       [149.1413918 , 127.89717226, 145.04990061, 130.20627146,\n",
       "        129.89391373, 110.09431446, 122.32301227, 139.74351172,\n",
       "         98.83263017, 112.64387246, 156.41509565, 154.98573966],\n",
       "       [141.3456182 , 136.09452558, 139.18375449, 139.38877126,\n",
       "        135.21176421, 116.10283782, 122.47984702, 110.93124903,\n",
       "          2.3520018 , 124.32611479, 123.12706786, 144.78509877],\n",
       "       [164.39231827, 136.83068969, 145.51743034, 128.64671233,\n",
       "        131.17994299, 113.59210848, 111.20390166, 168.04973998,\n",
       "        100.38411277, 129.58965096, 135.83050685, 168.59085477],\n",
       "       [157.28480128, 144.06881098, 139.2658129 , 129.79448157,\n",
       "        133.44490393, 124.96688162, 141.00503815, 132.97124242,\n",
       "        117.66209799, 142.58309601, 131.61925575, 157.69499169],\n",
       "       [145.02149704, 125.15701239, 134.46680497, 119.27776176,\n",
       "        114.07262491, 118.99832443, 112.54070406, 138.73633895,\n",
       "        108.61486563, 122.43981031, 145.49626138, 116.75924045],\n",
       "       [163.58543012, 145.73774903, 147.75552088, 134.93969061,\n",
       "        129.79411423, 113.83662257, 114.34289717, 107.61569411,\n",
       "        125.48320971, 135.14584531, 142.0383393 , 140.88012862],\n",
       "       [138.945659  , 149.24160823, 144.67499073, 128.23316876,\n",
       "        136.77955565, 103.50466554, 132.94687058, 102.87302945,\n",
       "        133.84402366, 133.73465853, 132.77434687, 144.14114812],\n",
       "       [160.11714594, 132.38946346, 146.18201217, 131.54023536,\n",
       "        103.2153165 , 113.12783881, 147.21029428, 128.18510009,\n",
       "        126.67822918, 122.50671797, 151.36048261, 139.25711003],\n",
       "       [162.96147996, 147.5744486 , 135.28870695, 146.73055899,\n",
       "        131.41947506, 129.15753388, 128.18320266, 128.24186086,\n",
       "        142.00282105, 117.53328902, 131.37113159, 147.10617542],\n",
       "       [150.36645219, 134.88776054, 142.99161653, 122.67837433,\n",
       "        109.82801643, 105.10084323, 115.16657678, 115.31377313,\n",
       "        130.76194727, 129.4494206 , 124.50828616, 142.36072656],\n",
       "       [148.00736893, 129.30018012, 146.07677836, 123.24158831,\n",
       "        118.50688863, 116.29363579, 117.02982411, 125.51335367,\n",
       "        141.91558143, 137.92304401, 129.69639129, 139.35797583],\n",
       "       [169.03265922, 140.1151726 , 140.14990748, 132.20061907,\n",
       "        128.29283645, 125.44101951,  98.27835221,  98.46563313,\n",
       "        102.27029875, 128.87474509, 133.71533489, 160.15590629],\n",
       "       [141.06467352, 146.73648945, 137.24111614, 110.01403293,\n",
       "        142.33062928, 115.2628122 , 130.49216184, 165.45748216,\n",
       "        112.00185657, 154.81653753, 131.19261907, 160.17795683],\n",
       "       [145.81230887, 122.93674864, 144.67003193, 125.69811982,\n",
       "        146.85619285, 110.62839185, 130.7764054 , 146.00954288,\n",
       "        120.37609038, 119.78948774, 127.99861023, 139.89305909],\n",
       "       [143.842592  , 148.8248063 , 153.54933753, 141.99796931,\n",
       "        121.8633966 ,   3.26540908, 131.44139091, 120.63138061,\n",
       "        131.27848973, 134.12812637, 154.0444302 , 127.83280217],\n",
       "       [163.52189874, 131.85830166, 142.24907606, 127.57469576,\n",
       "        131.01293909, 110.15430338, 118.68465842, 146.29525289,\n",
       "        117.11468245, 113.63427416, 142.68904942, 163.56545902],\n",
       "       [168.15024207, 145.16322765, 145.10046566, 137.63610591,\n",
       "        128.17513141, 124.45248736, 114.48579336, 115.81986574,\n",
       "        129.84410899, 130.87295152, 130.67675216, 143.05863315],\n",
       "       [129.62104311, 162.188687  , 140.13971673, 128.48525009,\n",
       "        121.86246556, 112.34045966,  97.39299714, 131.08206561,\n",
       "        133.70814424, 136.11569979, 140.46918749, 186.92338101],\n",
       "       [135.51407543, 136.71835378, 139.26205604, 135.52449607,\n",
       "        103.2236306 , 126.54870035, 139.73583795, 140.81860157,\n",
       "        142.70614167, 159.54357936, 150.44164125, 175.77682077],\n",
       "       [148.75474041, 148.92959423, 137.27534174, 112.18712129,\n",
       "        114.62090124, 132.72352595, 123.34336744, 143.19881284,\n",
       "        125.48121823, 124.22467426, 174.09097858, 143.32636008],\n",
       "       [113.95245373, 131.961468  , 130.5173674 , 116.60982325,\n",
       "        121.91957384, 113.39839987, 114.00155381, 114.76614122,\n",
       "        135.67679572, 145.47140204, 178.01928147, 155.10921861],\n",
       "       [131.08872925, 153.88167003, 128.55085079, 120.38118902,\n",
       "        110.89251492, 108.68383682, 128.1132695 , 128.61846661,\n",
       "        133.69650535, 157.34162651, 150.39180403, 142.22691612],\n",
       "       [134.26557706, 153.80971529, 143.54878401, 127.45545125,\n",
       "        110.24815499, 130.2732933 , 145.15013932, 142.82067509,\n",
       "        142.78796718, 119.07618684, 159.70999079, 135.82501828],\n",
       "       [148.2395011 , 138.87536989, 129.62307969, 145.61633531,\n",
       "        127.27390717, 123.66661041, 141.71410822, 135.5401789 ,\n",
       "        127.51198202, 117.77710235, 157.42781194, 148.48975284],\n",
       "       [145.56645655, 142.89634457, 146.17881398, 139.58477553,\n",
       "        116.37234509, 146.79905254, 119.69959778, 120.42553492,\n",
       "        115.20015801, 148.64346011, 139.67372605, 148.66552919],\n",
       "       [126.87395484, 164.98392582, 124.45281171, 146.41805993,\n",
       "        118.50528632, 105.72353363, 149.72274986, 125.2833626 ,\n",
       "        139.31870542, 132.41480646, 150.4421146 , 163.43168674],\n",
       "       [130.53308277, 142.77039211, 133.68743721, 138.91933394,\n",
       "        124.84692549, 144.79995605, 100.2840515 , 115.37310908,\n",
       "        106.56939091, 122.50530795, 148.65066509, 142.18868348],\n",
       "       [137.0018181 , 141.24547913, 136.43866974, 120.95012687,\n",
       "        124.14077771, 119.16333192, 123.58285571, 108.56904854,\n",
       "        113.10625468, 155.88655481, 139.61070331, 146.96543699],\n",
       "       [143.65751208, 172.2000474 , 132.70564798, 131.4921836 ,\n",
       "         94.8670496 , 120.35789159, 112.88939157, 125.39835607,\n",
       "        144.07198109, 109.8111889 , 169.65333064, 118.42460204],\n",
       "       [100.93722843, 111.61947613, 106.30801281, 109.54294923,\n",
       "         97.27097015,  93.03895762,  92.49203631,  88.63360167,\n",
       "         94.11440488, 107.26013268, 118.6612023 , 118.66665647],\n",
       "       [109.19018626, 110.45180989, 117.80497711,  95.90427991,\n",
       "         88.32908695,  95.22894705, 125.00807488,  93.1243595 ,\n",
       "         93.46221253, 115.23972188, 138.00567745, 111.28104331],\n",
       "       [112.05330311, 120.29408758, 116.18187971, 122.57444226,\n",
       "         88.11383266, 107.39367897, 107.89487653,  86.47324468,\n",
       "        115.70427352, 100.19171868, 111.81867316, 113.54148654],\n",
       "       [128.60382328, 122.28472812, 106.15690208, 112.05395542,\n",
       "         89.29675646,  93.77432032,   0.        ,   0.        ,\n",
       "          0.        ,   0.        ,   0.        ,   0.        ]])"
      ]
     },
     "execution_count": 189,
     "metadata": {},
     "output_type": "execute_result"
    }
   ],
   "source": [
    "# 计算每月平均\n",
    "start = 0\n",
    "stop = 0\n",
    "it = numpy.nditer(rainfall, op_flags=['readwrite'])\n",
    "\n",
    "with it:\n",
    "    i = 0\n",
    "    start = 0\n",
    "    stop = 0\n",
    "    for x in it:\n",
    "        if (i < len(days)):\n",
    "            stop += days [i]\n",
    "            avr = numpy.sum(precipitation[start:stop])\n",
    "            x[...] = avr\n",
    "            start = stop\n",
    "            i += 1\n",
    "        else:\n",
    "            x[...] = 0\n",
    "rainfall\n"
   ]
  },
  {
   "cell_type": "code",
   "execution_count": 190,
   "metadata": {},
   "outputs": [
    {
     "data": {
      "image/png": "[encoded data removed]",
      "text/plain": [
       "<Figure size 864x648 with 1 Axes>"
      ]
     },
     "metadata": {
      "needs_background": "light"
     },
     "output_type": "display_data"
    },
    {
     "data": {
      "image/png": "[encoded data removed]",
      "text/plain": [
       "<Figure size 864x648 with 1 Axes>"
      ]
     },
     "metadata": {
      "needs_background": "light"
     },
     "output_type": "display_data"
    },
    {
     "data": {
      "image/png": "[encoded data removed]",
      "text/plain": [
       "<Figure size 864x648 with 1 Axes>"
      ]
     },
     "metadata": {
      "needs_background": "light"
     },
     "output_type": "display_data"
    }
   ],
   "source": [
    "# 将年份提取出来\n",
    "years = list(year.keys())\n",
    "plt.rcParams['font.sans-serif'] = ['SimHei']\n",
    "fig, ax = plt.subplots(1, 1, figsize=(12, 9))\n",
    "ax.plot(years, rainfall[:,0])\n",
    "ax.set_xlabel('年')\n",
    "ax.set_ylabel('一月份降水量')\n",
    "plt.show()\n",
    "\n",
    "mean_rainfall_in_month = rainfall.mean(axis=0)\n",
    "mean_rainfall_per_year = rainfall.mean(axis=1)\n",
    "fig, ax = plt.subplots(1, 1, figsize=(12, 9))\n",
    "ax.plot(years, mean_rainfall_per_year)\n",
    "ax.set_xlabel('年')\n",
    "ax.set_ylabel('年均降水量')\n",
    "plt.show()\n",
    "\n",
    "std_rainfall_per_year = rainfall.std(axis=1)\n",
    "fig, ax = plt.subplots(1, 1, figsize=(12, 9))\n",
    "ax.errorbar(years, mean_rainfall_per_year, yerr = std_rainfall_per_year)\n",
    "ax.set_xlabel('年')\n",
    "ax.set_ylabel('年均降水量')\n",
    "plt.show()\n",
    "\n"
   ]
  },
  {
   "cell_type": "code",
   "execution_count": 191,
   "metadata": {},
   "outputs": [],
   "source": [
    "mean_rainfall_in_month = rainfall.mean(axis=0)\n",
    "mean_rainfall_per_year = rainfall.mean(axis=1)\n"
   ]
  },
  {
   "cell_type": "code",
   "execution_count": 192,
   "metadata": {},
   "outputs": [
    {
     "data": {
      "image/png": "[encoded data removed]",
      "text/plain": [
       "<Figure size 864x648 with 1 Axes>"
      ]
     },
     "metadata": {
      "needs_background": "light"
     },
     "output_type": "display_data"
    }
   ],
   "source": [
    "mean_rainfall_in_month = rainfall.mean(axis=0)\n",
    "mean_rainfall_per_year = rainfall.mean(axis=1)\n",
    "fig, ax = plt.subplots(1, 1, figsize=(12, 9))\n",
    "ax.plot(years[0:-2:], mean_rainfall_per_year[0:-2])\n",
    "ax.set_xlabel('年')\n",
    "ax.set_ylabel('年均降水量')\n",
    "plt.show()\n"
   ]
  },
  {
   "cell_type": "code",
   "execution_count": 193,
   "metadata": {},
   "outputs": [
    {
     "data": {
      "image/png": "[encoded data removed]",
      "text/plain": [
       "<Figure size 864x648 with 1 Axes>"
      ]
     },
     "metadata": {
      "needs_background": "light"
     },
     "output_type": "display_data"
    }
   ],
   "source": [
    "std_rainfall_per_year = rainfall.std(axis=1)\n",
    "fig, ax = plt.subplots(1, 1, figsize=(12, 9))\n",
    "ax.errorbar(years, mean_rainfall_per_year, yerr = std_rainfall_per_year)\n",
    "ax.set_xlabel('年')\n",
    "ax.set_ylabel('年均降水量')\n",
    "plt.show()\n"
   ]
  },
  {
   "cell_type": "code",
   "execution_count": 194,
   "metadata": {},
   "outputs": [
    {
     "data": {
      "image/png": "[encoded data removed]",
      "text/plain": [
       "<Figure size 864x648 with 1 Axes>"
      ]
     },
     "metadata": {
      "needs_background": "light"
     },
     "output_type": "display_data"
    }
   ],
   "source": [
    "fig, ax = plt.subplots(1, 1, figsize=(12, 9))\n",
    "ax.plot(years, mean_rainfall_per_year)\n",
    "ax.fill_between(years, mean_rainfall_per_year -\n",
    "                std_rainfall_per_year,\n",
    "                mean_rainfall_per_year + \n",
    "                std_rainfall_per_year, alpha=0.25, color=None)\n",
    "ax.set_xlabel('年')\n",
    "ax.set_ylabel('年均降水量')\n",
    "plt.show()\n"
   ]
  },
  {
   "cell_type": "code",
   "execution_count": 195,
   "metadata": {},
   "outputs": [
    {
     "data": {
      "text/plain": [
       "Text(0, 0.5, '月降水量')"
      ]
     },
     "execution_count": 195,
     "metadata": {},
     "output_type": "execute_result"
    },
    {
     "data": {
      "image/png": "[encoded data removed]",
      "text/plain": [
       "<Figure size 864x648 with 1 Axes>"
      ]
     },
     "metadata": {
      "needs_background": "light"
     },
     "output_type": "display_data"
    }
   ],
   "source": [
    "fig, ax = plt.subplots(1, 1, figsize=(12, 9))\n",
    "months = ['Jan', 'Feb', 'Mar', 'Apr', 'May', 'Jun',\n",
    "          'Jul', 'Aug', 'Sep', 'Oct', 'Nov', 'Dec']\n",
    "ax.boxplot(rainfall, labels=months)\n",
    "ax.set_xlabel('月')\n",
    "ax.set_ylabel('月降水量')\n"
   ]
  },
  {
   "cell_type": "code",
   "execution_count": 196,
   "metadata": {},
   "outputs": [
    {
     "data": {
      "image/png": "[encoded data removed]",
      "text/plain": [
       "<Figure size 864x648 with 1 Axes>"
      ]
     },
     "metadata": {
      "needs_background": "light"
     },
     "output_type": "display_data"
    },
    {
     "data": {
      "image/png": "[encoded data removed]",
      "text/plain": [
       "<Figure size 864x648 with 1 Axes>"
      ]
     },
     "metadata": {
      "needs_background": "light"
     },
     "output_type": "display_data"
    },
    {
     "data": {
      "image/png": "[encoded data removed]",
      "text/plain": [
       "<Figure size 864x648 with 1 Axes>"
      ]
     },
     "metadata": {
      "needs_background": "light"
     },
     "output_type": "display_data"
    },
    {
     "data": {
      "text/plain": [
       "Text(0, 0.5, '月降水量')"
      ]
     },
     "execution_count": 196,
     "metadata": {},
     "output_type": "execute_result"
    },
    {
     "data": {
      "image/png": "[encoded data removed]",
      "text/plain": [
       "<Figure size 864x648 with 1 Axes>"
      ]
     },
     "metadata": {
      "needs_background": "light"
     },
     "output_type": "display_data"
    }
   ],
   "source": [
    "import numpy\n",
    "import csv\n",
    "import time\n",
    "import datetime\n",
    "import matplotlib.pyplot as plt\n",
    "import matplotlib as mpl\n",
    "import collections\n",
    "\n",
    "data = numpy.genfromtxt('weatherdata-3111216.csv',\n",
    "                         delimiter=',', skip_header=1)\n",
    "\n",
    "with open('weatherdata-3111216.csv','r') as csvfile:\n",
    "    reader = csv.DictReader(csvfile)\n",
    "\n",
    "    column = []\n",
    "    date = []                    # 记录数据中的年月\n",
    "    year = {}                    # 记录数据中的年\n",
    "    for row in reader:\n",
    "        column.append(row['Date'])\n",
    "        dtime = time.strptime(row['Date'], \"%m/%d/%Y\")\n",
    "        date.append((dtime.tm_year, dtime.tm_mon))\n",
    "        year[dtime.tm_year] = year.get(dtime.tm_year, 0) + 1\n",
    "\n",
    "# 将年份提取出来\n",
    "years = list(year.keys())\n",
    "\n",
    "# 将每月的天数提取出来\n",
    "h = collections.Counter(date)\n",
    "days = list(h.values())\n",
    "\n",
    "precipitation = data[:, -4]       # 日降雨量\n",
    "rainfall =  numpy.empty((36, 12)) # 月平均降雨量数组\n",
    "\n",
    "# 计算每月平均\n",
    "start = 0\n",
    "stop = 0\n",
    "it = numpy.nditer(rainfall, op_flags=['readwrite'])\n",
    "\n",
    "with it:\n",
    "    i = 0\n",
    "    start = 0\n",
    "    stop = 0\n",
    "    for x in it:\n",
    "        if (i < len(days)):\n",
    "            stop += days [i]\n",
    "            avr = numpy.sum(precipitation[start:stop])\n",
    "            x[...] = avr\n",
    "            start = stop\n",
    "            i += 1\n",
    "        else:\n",
    "            x[...] = 0\n",
    "\n",
    "plt.rcParams['font.sans-serif'] = ['SimHei']\n",
    "fig, ax = plt.subplots(1, 1, figsize=(12, 9))\n",
    "ax.plot(years, rainfall[:,0])\n",
    "ax.set_xlabel('年')\n",
    "ax.set_ylabel('一月份降水量')\n",
    "plt.show()\n",
    "\n",
    "mean_rainfall_in_month = rainfall.mean(axis=0)\n",
    "mean_rainfall_per_year = rainfall.mean(axis=1)\n",
    "fig, ax = plt.subplots(1, 1, figsize=(12, 9))\n",
    "ax.plot(years, mean_rainfall_per_year)\n",
    "ax.set_xlabel('年')\n",
    "ax.set_ylabel('年均降水量')\n",
    "plt.show()\n",
    "\n",
    "std_rainfall_per_year = rainfall.std(axis=1)\n",
    "fig, ax = plt.subplots(1, 1, figsize=(12, 9))\n",
    "ax.errorbar(years, mean_rainfall_per_year, yerr = std_rainfall_per_year)\n",
    "ax.set_xlabel('年')\n",
    "ax.set_ylabel('年均降水量')\n",
    "plt.show()\n",
    "\n",
    "fig, ax = plt.subplots(1, 1, figsize=(12, 9))\n",
    "months = ['Jan', 'Feb', 'Mar', 'Apr', 'May', 'Jun',\n",
    "          'Jul', 'Aug', 'Sep', 'Oct', 'Nov', 'Dec']\n",
    "ax.boxplot(rainfall, labels=months)\n",
    "ax.set_xlabel('月')\n",
    "ax.set_ylabel('月降水量')"
   ]
  },
  {
   "cell_type": "markdown",
   "metadata": {},
   "source": [
    "## 练习"
   ]
  },
  {
   "cell_type": "code",
   "execution_count": 198,
   "metadata": {},
   "outputs": [
    {
     "data": {
      "text/plain": [
       "array([[10.  ,  8.04, 10.  ,  9.14, 10.  ,  7.46,  8.  ,  6.58],\n",
       "       [ 8.  ,  6.95,  8.  ,  8.14,  8.  ,  6.77,  8.  ,  5.76],\n",
       "       [13.  ,  7.58, 13.  ,  8.74, 13.  , 12.74,  8.  ,  7.71],\n",
       "       [ 9.  ,  8.81,  9.  ,  8.77,  9.  ,  7.11,  8.  ,  8.84],\n",
       "       [11.  ,  8.33, 11.  ,  9.26, 11.  ,  7.81,  8.  ,  8.47],\n",
       "       [14.  ,  9.96, 14.  ,  8.1 , 14.  ,  8.84,  8.  ,  7.04],\n",
       "       [ 6.  ,  7.24,  6.  ,  6.13,  6.  ,  6.08,  8.  ,  5.25],\n",
       "       [ 4.  ,  4.26,  4.  ,  3.1 ,  4.  ,  5.39, 19.  , 12.5 ],\n",
       "       [12.  , 10.84, 12.  ,  9.13, 12.  ,  8.15,  8.  ,  5.56],\n",
       "       [ 7.  ,  4.82,  7.  ,  7.26,  7.  ,  6.42,  8.  ,  7.91],\n",
       "       [ 5.  ,  5.68,  5.  ,  4.74,  5.  ,  5.73,  8.  ,  6.89]])"
      ]
     },
     "execution_count": 198,
     "metadata": {},
     "output_type": "execute_result"
    }
   ],
   "source": [
    "# 1\n",
    "data = numpy.genfromtxt('anscombe_quartet.csv',\n",
    "                         delimiter=',', skip_header=1)\n",
    "data"
   ]
  },
  {
   "cell_type": "code",
   "execution_count": 207,
   "metadata": {},
   "outputs": [
    {
     "name": "stdout",
     "output_type": "stream",
     "text": [
      "平均值： 9.00， 标准差： 3.32\n",
      "\n",
      "平均值： 7.50， 标准差： 2.03\n",
      "\n",
      "平均值： 9.00， 标准差： 3.32\n",
      "\n",
      "平均值： 7.50， 标准差： 2.03\n",
      "\n",
      "平均值： 9.00， 标准差： 3.32\n",
      "\n",
      "平均值： 7.50， 标准差： 2.03\n",
      "\n",
      "平均值： 9.00， 标准差： 3.32\n",
      "\n",
      "平均值： 7.50， 标准差： 2.03\n",
      "\n"
     ]
    }
   ],
   "source": [
    "# 2\n",
    "\n",
    "for i in range(8):\n",
    "    print(\"平均值： %.2f， 标准差： %.2f\\n\" % (data[:,i].mean(), data[:,i].std(ddof=1)))\n"
   ]
  },
  {
   "cell_type": "code",
   "execution_count": 219,
   "metadata": {},
   "outputs": [
    {
     "name": "stdout",
     "output_type": "stream",
     "text": [
      "第一组数据的线性回归斜率为0.5, 相关系数为1\n",
      "第二组数据的线性回归斜率为0.5, 相关系数为1\n",
      "第三组数据的线性回归斜率为0.5, 相关系数为1\n",
      "第四组数据的线性回归斜率为0.5, 相关系数为1\n"
     ]
    }
   ],
   "source": [
    "# 3\n",
    "\n",
    "# 第一组数据的线性回归\n",
    "x1 = data[:,0]\n",
    "y1 = data[:,1]\n",
    "A1 =  numpy.vstack([x1, numpy.ones(len(x1))]).T\n",
    "a1, b1 = numpy.linalg.lstsq(A1,y1,rcond=None)[0]\n",
    "print(\"第一组数据的线性回归斜率为%.2g, 相关系数为%g\"%(a1, numpy.corrcoef(x1, y1)[0][0]))\n",
    "\n",
    "# 第2组数据的线性回归\n",
    "x2 = data[:,2]\n",
    "y2 = data[:,3]\n",
    "A2 =  numpy.vstack([x2, numpy.ones(len(x2))]).T\n",
    "a2, b2 = numpy.linalg.lstsq(A2,y2,rcond=None)[0]\n",
    "print(\"第二组数据的线性回归斜率为%.2g, 相关系数为%g\"%(a2, numpy.corrcoef(x2, y2)[0][0]))\n",
    "\n",
    "\n",
    "# 第3组数据的线性回归\n",
    "x3 = data[:,4]\n",
    "y3 = data[:,5]\n",
    "A3 =  numpy.vstack([x3, numpy.ones(len(x3))]).T\n",
    "a3, b3 = numpy.linalg.lstsq(A3,y3,rcond=None)[0]\n",
    "print(\"第三组数据的线性回归斜率为%.2g, 相关系数为%g\"%(a3, numpy.corrcoef(x3, y3)[0][0]))\n",
    "\n",
    "# 第4组数据的线性回归\n",
    "x4 = data[:,6]\n",
    "y4 = data[:,7]\n",
    "A4 =  numpy.vstack([x4, numpy.ones(len(x4))]).T\n",
    "a4, b4 = numpy.linalg.lstsq(A4,y4,rcond=None)[0]\n",
    "print(\"第四组数据的线性回归斜率为%.2g, 相关系数为%g\"%(a4, numpy.corrcoef(x4, y4)[0][0]))\n"
   ]
  },
  {
   "cell_type": "code",
   "execution_count": 229,
   "metadata": {},
   "outputs": [
    {
     "data": {
      "image/png": "[encoded data removed]",
      "text/plain": [
       "<Figure size 864x648 with 4 Axes>"
      ]
     },
     "metadata": {
      "needs_background": "light"
     },
     "output_type": "display_data"
    }
   ],
   "source": [
    "# 4\n",
    "fig, ax = plt.subplots(2, 2, figsize=(12, 9))\n",
    "ax[0][0].plot(x1, a1*x1+b1, label='Fitted lien')\n",
    "ax[0][0].plot(x1, y1, 'o', label='Original data')\n",
    "ax[0][0].set_xlabel(\"x1\")\n",
    "ax[0][0].set_ylabel(\"y1\")\n",
    "ax[0][0].legend()\n",
    "\n",
    "ax[0][1].plot(x2, a2*x2+b2, label='Fitted lien')\n",
    "ax[0][1].plot(x2, y2, 'o', label='Original data')\n",
    "ax[0][1].set_xlabel(\"x2\")\n",
    "ax[0][1].set_ylabel(\"y2\")\n",
    "ax[0][1].legend()\n",
    "\n",
    "ax[1][0].plot(x3, a3*x3+b3, label='Fitted lien')\n",
    "ax[1][0].plot(x3, y3, 'o', label='Original data')\n",
    "ax[1][0].set_xlabel(\"x3\")\n",
    "ax[1][0].set_ylabel(\"y3\")\n",
    "ax[1][0].legend()\n",
    "\n",
    "ax[1][1].plot(x4, a4*x4+b4, label='Fitted lien')\n",
    "ax[1][1].plot(x4, y4, 'o', label='Original data')\n",
    "ax[1][1].set_xlabel(\"x4\")\n",
    "ax[1][1].set_ylabel(\"y4\")\n",
    "ax[1][1].legend()\n",
    "plt.show()\n",
    "\n",
    "\n"
   ]
  }
 ],
 "metadata": {
  "kernelspec": {
   "display_name": "Python 3",
   "language": "python",
   "name": "python3"
  },
  "language_info": {
   "codemirror_mode": {
    "name": "ipython",
    "version": 3
   },
   "file_extension": ".py",
   "mimetype": "text/x-python",
   "name": "python",
   "nbconvert_exporter": "python",
   "pygments_lexer": "ipython3",
   "version": "3.8.3"
  }
 },
 "nbformat": 4,
 "nbformat_minor": 4
}
