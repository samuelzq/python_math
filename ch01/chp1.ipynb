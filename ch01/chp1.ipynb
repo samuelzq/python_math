{
 "cells": [
  {
   "cell_type": "markdown",
   "metadata": {},
   "source": [
    "# 关于Python Math模块的补充说明\n",
    "\n",
    "数学计算是大多数Python开发的基本部分。无论是在做一个科学项目，一个金融应用程序，还是任何其他类型的编程工作，都不能逃避对数学的需要。\n",
    "对于Python中简单的数学计算，可以使用内置的数学运算符，比如加法(+)、减法(-)、除法(/)和乘法(\\*)。但更高级的运算，如指数、对数、三角或幂函数，没有内置。这是否意味着需要从头开始实现所有这些函数呢？幸运的是，这是没有必要的，Python提供了一个专门为高级数学操作设计的模块：math。\n",
    "\n",
    "接下来，我们将了解：\n",
    "\n",
    "* Python math模块是什么\n",
    "* 如何利用math模块功能解决现实生活中的问题\n",
    "* math模块的常数是什么，包括pi, tau和欧拉数\n",
    "* 内置函数和math库函数有什么区别\n",
    "* math、cmath和NumPy之间的区别是什么\n",
    "\n",
    "Python Math模块被设计用来处理数学运算。它随标准Python一起打包发布。Math模块的大部分函数都是对C平台的数学函数的简单包装。因为它的底层函数是用CPython编写的，所以数学模块是高效的，并且符合C标准。\n",
    "\n",
    "Python Math模块使得应用程序可以执行常见和有用的数学计算。下面是Math模块的一些实际用途:\n",
    "\n",
    "* 使用阶乘计算组合和排列\n",
    "* 用三角函数计算杆的高度\n",
    "* 用指数函数计算放射性衰变\n",
    "* 用双曲函数计算悬索桥的曲线\n",
    "* 解二次方程\n",
    "* 利用三角函数模拟周期函数，例如声波和光波\n",
    "\n",
    "由于math模块随Python发行版一起打包，所以不必单独安装它。使用它只需如下面代码一样，直接导入即可:"
   ]
  },
  {
   "cell_type": "code",
   "execution_count": 2,
   "metadata": {},
   "outputs": [],
   "source": [
    "import math"
   ]
  },
  {
   "cell_type": "markdown",
   "metadata": {},
   "source": [
    "导入之后，我们便可以使用Math模块了。"
   ]
  },
  {
   "cell_type": "markdown",
   "metadata": {},
   "source": [
    "## Math模块中的常量\n",
    "\n",
    "Python Math模块提供了各种预定义的常量。访问这些常量有几个优点：首先，不必手动将它们硬编码到的程序中，这节省了大量时间。\n",
    "另外，它们为整个代码提供了一致性。该模块包括几个著名的数学常数和重要值:\n",
    "* π\n",
    "* τ\n",
    "* 欧拉数\n",
    "* ∞\n",
    "* 非数值(NaN)\n",
    "\n",
    "### Pi\n",
    "\n",
    "圆周率(π)是圆的周长(c)与直径(d)之比：\n",
    "        $${\\pi = c/d}$$\n",
    "这个比率对任何圆都是相同的。\n",
    "\n",
    "π是一个无理数，这意味着它不能表示为一个简单的分数。因此，π有无限个小数位数，但它可以近似为22/7，或3.141。\n",
    "\n",
    "圆周率是世界上公认的最著名的数学常数。它有自己的庆祝日，称为圆周率日，即3月14日。\n",
    "\n",
    "以下代码是使用Math模块中的pi常量：\n"
   ]
  },
  {
   "cell_type": "code",
   "execution_count": 3,
   "metadata": {},
   "outputs": [
    {
     "data": {
      "text/plain": [
       "3.141592653589793"
      ]
     },
     "execution_count": 3,
     "metadata": {},
     "output_type": "execute_result"
    }
   ],
   "source": [
    "math.pi"
   ]
  },
  {
   "cell_type": "markdown",
   "metadata": {},
   "source": [
    "在Python中pi的值被指定为小数点后15位。所提供的位数取决于底层C编译器。Python默认情况下打印前15位数字和数学。pi总是返回一个浮点值。\n",
    "\n",
    "我们可以用2πr计算一个圆的周长，其中r是圆的半径，代码如下:"
   ]
  },
  {
   "cell_type": "code",
   "execution_count": 4,
   "metadata": {},
   "outputs": [
    {
     "name": "stdout",
     "output_type": "stream",
     "text": [
      "圆的周长 = 2 * 3.1416 * 3 = 18.8496\n"
     ]
    }
   ],
   "source": [
    "r = 3\n",
    "circumference = 2 * math.pi * r\n",
    "print(\"圆的周长 = 2 * %.4f * %d = %.4f\"%(math.pi, r, circumference))"
   ]
  },
  {
   "cell_type": "markdown",
   "metadata": {},
   "source": [
    "以下代码是计算圆面积："
   ]
  },
  {
   "cell_type": "code",
   "execution_count": 5,
   "metadata": {},
   "outputs": [
    {
     "name": "stdout",
     "output_type": "stream",
     "text": [
      "圆的面积 = 3.1416 * 5^2 = 78.5398\n"
     ]
    }
   ],
   "source": [
    "r = 5\n",
    "area = math.pi * r * r\n",
    "print(\"圆的面积 = %.4f * %d^2 = %.4f\"%(math.pi, r, area))"
   ]
  },
  {
   "cell_type": "markdown",
   "metadata": {},
   "source": [
    "如上所示，使用Python进行数学计算遇到π时，最好的做法是使用math模块给出的pi值，而不是对该值进行硬编码。"
   ]
  },
  {
   "cell_type": "markdown",
   "metadata": {},
   "source": [
    "### Tau\n",
    "\n",
    "Tau(τ)是圆的周长与半径的比值。这个常数等于2π，它也是一个无理数，大约是6.28。\n",
    "\n",
    "许多数学表达式使用2π，而使用τ可以帮助简化方程。例如，我们可以代入τ，使用更简单的方程τr，而不是用2πr来计算圆的周长。\n",
    "\n",
    "然而，使用τ作为圆常数仍在争论中。如果需要的话，可以如以下代码使用："
   ]
  },
  {
   "cell_type": "code",
   "execution_count": 6,
   "metadata": {},
   "outputs": [
    {
     "data": {
      "text/plain": [
       "6.283185307179586"
      ]
     },
     "execution_count": 6,
     "metadata": {},
     "output_type": "execute_result"
    }
   ],
   "source": [
    "math.tau"
   ]
  },
  {
   "cell_type": "code",
   "execution_count": 7,
   "metadata": {},
   "outputs": [
    {
     "name": "stdout",
     "output_type": "stream",
     "text": [
      "圆的周长 = 6.2832 * 3 = 18.8496\n"
     ]
    }
   ],
   "source": [
    "r = 3\n",
    "circumference = math.tau * r\n",
    "print(\"圆的周长 = %.4f * %d = %.4f\"%(math.tau, r, circumference))"
   ]
  },
  {
   "cell_type": "markdown",
   "metadata": {},
   "source": [
    "### 欧拉数\n",
    "\n",
    "欧拉数(e)是一个常数，它是自然对数的基础，自然对数是一种常用来计算增长率或衰减率的数学函数。和π和τ一样，欧拉数是一个无理数，有无限个小数点。e的值常近似为2.718。\n",
    "\n",
    "欧拉数是一个重要的常数，因为它有许多实际用途，如计算人口随时间的增长或确定放射性衰变率。可以从Math模块中访问欧拉数，代码如下：\n",
    "\n"
   ]
  },
  {
   "cell_type": "code",
   "execution_count": 8,
   "metadata": {},
   "outputs": [
    {
     "data": {
      "text/plain": [
       "2.718281828459045"
      ]
     },
     "execution_count": 8,
     "metadata": {},
     "output_type": "execute_result"
    }
   ],
   "source": [
    "math.e"
   ]
  },
  {
   "cell_type": "markdown",
   "metadata": {},
   "source": [
    "### 无穷\n",
    "\n",
    "无穷大不能用数来定义。相反，它是一个数学概念，代表着无穷无尽的事物。无穷大可以向正负两个方向移动。\n",
    "\n",
    "如果需要将给定值与绝对最大值或最小值进行比较时，可以在算法中使用无穷大。Python中正无穷和负无穷的值如以下代码所示:"
   ]
  },
  {
   "cell_type": "code",
   "execution_count": 9,
   "metadata": {},
   "outputs": [
    {
     "name": "stdout",
     "output_type": "stream",
     "text": [
      "正无穷大是 inf\n",
      "负无穷大是 -inf\n"
     ]
    }
   ],
   "source": [
    "print(\"正无穷大是\", math.inf)\n",
    "print(\"负无穷大是\", -math.inf)"
   ]
  },
  {
   "cell_type": "markdown",
   "metadata": {},
   "source": [
    "无穷大不是一个数值。相反，它定义为math.inf。Python在3.5版本中引入了这个常量，它相当于float(\"inf\"):"
   ]
  },
  {
   "cell_type": "code",
   "execution_count": 10,
   "metadata": {},
   "outputs": [
    {
     "data": {
      "text/plain": [
       "True"
      ]
     },
     "execution_count": 10,
     "metadata": {},
     "output_type": "execute_result"
    }
   ],
   "source": [
    "float(\"inf\") == math.inf"
   ]
  },
  {
   "cell_type": "markdown",
   "metadata": {},
   "source": [
    "float(\"inf\")和math.inf都表示无穷大的概念，使math.inf大于任何数值，示例如下："
   ]
  },
  {
   "cell_type": "code",
   "execution_count": 11,
   "metadata": {},
   "outputs": [
    {
     "data": {
      "text/plain": [
       "True"
      ]
     },
     "execution_count": 11,
     "metadata": {},
     "output_type": "execute_result"
    }
   ],
   "source": [
    "x = 1e308\n",
    "math.inf > x"
   ]
  },
  {
   "cell_type": "markdown",
   "metadata": {},
   "source": [
    "在上面的代码中，math.inf大于x的值10^308（双精度浮点数的最大值）。\n",
    "\n",
    "同样，-math.inf小于任何值，代码如下："
   ]
  },
  {
   "cell_type": "code",
   "execution_count": 12,
   "metadata": {},
   "outputs": [
    {
     "data": {
      "text/plain": [
       "True"
      ]
     },
     "execution_count": 12,
     "metadata": {},
     "output_type": "execute_result"
    }
   ],
   "source": [
    "y = -1e308\n",
    "y > -math.inf"
   ]
  },
  {
   "cell_type": "markdown",
   "metadata": {},
   "source": [
    "y的值是-10^308，负无穷小于y的值。没有一个数可以大于无穷大或小于负无穷大。任何针对math.inf的数学运算都不能改变它的值，示例如下："
   ]
  },
  {
   "cell_type": "code",
   "execution_count": 13,
   "metadata": {},
   "outputs": [
    {
     "data": {
      "text/plain": [
       "(inf, inf)"
      ]
     },
     "execution_count": 13,
     "metadata": {},
     "output_type": "execute_result"
    }
   ],
   "source": [
    "math.inf + 1e308, math.inf / 1e308"
   ]
  },
  {
   "cell_type": "markdown",
   "metadata": {},
   "source": [
    "可见，加法和除法都不会改变math.inf的值。\n",
    "\n",
    "### 非数值(NaN)\n",
    "\n",
    "Python在3.5版中引入了NaN常量。\n",
    "NaN并不是一个真正的数学概念。它起源于计算机科学领域，是对非数值的引用。NaN值可能是由于无效输入引起的，也可能表示做为数的变量已被文本字符或符号破坏。\n",
    "最好的做法是检查值是否为NaN。如果是这样，则可能导致程序中的值无效。\n",
    "\n",
    "以下代码观察math.nan的值："
   ]
  },
  {
   "cell_type": "code",
   "execution_count": 14,
   "metadata": {},
   "outputs": [
    {
     "data": {
      "text/plain": [
       "nan"
      ]
     },
     "execution_count": 14,
     "metadata": {},
     "output_type": "execute_result"
    }
   ],
   "source": [
    "math.nan"
   ]
  },
  {
   "cell_type": "markdown",
   "metadata": {},
   "source": [
    "NaN不是一个数。math.nan的值是nan，与float(“nan”)的值相同。\n",
    "\n",
    "\n",
    "## 算术函数\n",
    "\n",
    "数论是纯数学的一个分支，纯数学是对自然数的研究。数论通常处理正整数或整数。\n",
    "\n",
    "Python Math模块提供了在数论和表示理论(一个相关领域)中有用的函数。这些函数允许你计算一系列重要的值，包括以下内容:\n",
    "\n",
    "* 一个数的阶乘\n",
    "* 两个数的最大公约数\n",
    "* 可迭代对象的和\n",
    "\n",
    "### factorial()函数\n",
    "\n",
    "阶乘用于排列或组合的运算。可以通过将所选数和1之间的所有整数相乘来确定一个数的阶乘。阶层的数学描述为n!。\n",
    "\n",
    "下表显示了4、6和7的阶乘值:\n",
    "\n",
    "|符号|描述|表达式|结果|\n",
    "|:---:|:---:|:---:|:---:|\n",
    "|4!|4的阶乘|4 x 3 x 2 x 1|24|\n",
    "|6!|6的阶乘|6 x 5 x 4 x 3 x 2 x 1|720|\n",
    "|7!|7的阶乘|7 x 6 x 5 x 4 x 3 x 2 x 1|5040|\n",
    "\n",
    "从表格中你可以看到4!也就是4的阶乘，将4到1的所有整数相乘得到24。同样，6!和7!分别得到720和5040。\n",
    "\n",
    "在Python中，可以使用以下方法来实现阶乘函数:\n",
    "\n",
    "* for循环\n",
    "* 递归函数\n",
    "* math.factorial()\n",
    "\n",
    "以下代码是使用for循环的阶乘实现。这是一个相对简单的方法："
   ]
  },
  {
   "cell_type": "code",
   "execution_count": 15,
   "metadata": {},
   "outputs": [
    {
     "data": {
      "text/plain": [
       "5040"
      ]
     },
     "execution_count": 15,
     "metadata": {},
     "output_type": "execute_result"
    }
   ],
   "source": [
    "def Factorial(num):\n",
    "    \"\"\"\n",
    "    使用For循环实现阶乘\n",
    "    \n",
    "    参数\n",
    "    ____\n",
    "    num: int\n",
    "        求num的阶层\n",
    "        \n",
    "    返回值\n",
    "    _____\n",
    "    factorial: int\n",
    "        阶乘值\n",
    "    \"\"\"\n",
    "    if num < 0:\n",
    "        return 0\n",
    "    if num == 0:\n",
    "        return 1\n",
    "\n",
    "    factorial = 1\n",
    "    for i in range(1, num + 1):\n",
    "        factorial = factorial * i\n",
    "    return factorial\n",
    "\n",
    "Factorial(7)"
   ]
  },
  {
   "cell_type": "markdown",
   "metadata": {},
   "source": [
    "最方便的方法是直接使用math库的函数factorial()，代码如下："
   ]
  },
  {
   "cell_type": "code",
   "execution_count": 16,
   "metadata": {},
   "outputs": [
    {
     "data": {
      "text/plain": [
       "5040"
      ]
     },
     "execution_count": 16,
     "metadata": {},
     "output_type": "execute_result"
    }
   ],
   "source": [
    "math.factorial(7)"
   ]
  },
  {
   "cell_type": "markdown",
   "metadata": {},
   "source": [
    "函数factorial()，仅接受非负整数，如果传入负数或者小数，将得到ValueError。示例如下："
   ]
  },
  {
   "cell_type": "code",
   "execution_count": 17,
   "metadata": {},
   "outputs": [
    {
     "ename": "ValueError",
     "evalue": "factorial() only accepts integral values",
     "output_type": "error",
     "traceback": [
      "\u001b[1;31m---------------------------------------------------------------------------\u001b[0m",
      "\u001b[1;31mValueError\u001b[0m                                Traceback (most recent call last)",
      "\u001b[1;32m<ipython-input-17-ad0d56075f62>\u001b[0m in \u001b[0;36m<module>\u001b[1;34m\u001b[0m\n\u001b[1;32m----> 1\u001b[1;33m \u001b[0mmath\u001b[0m\u001b[1;33m.\u001b[0m\u001b[0mfactorial\u001b[0m\u001b[1;33m(\u001b[0m\u001b[1;36m4.3\u001b[0m\u001b[1;33m)\u001b[0m\u001b[1;33m\u001b[0m\u001b[1;33m\u001b[0m\u001b[0m\n\u001b[0m",
      "\u001b[1;31mValueError\u001b[0m: factorial() only accepts integral values"
     ]
    }
   ],
   "source": [
    "math.factorial(4.3)"
   ]
  },
  {
   "cell_type": "markdown",
   "metadata": {},
   "source": [
    "错误提示中显示该函数仅能接收整数。"
   ]
  },
  {
   "cell_type": "code",
   "execution_count": null,
   "metadata": {},
   "outputs": [],
   "source": [
    "math.factorial(-5)"
   ]
  },
  {
   "cell_type": "markdown",
   "metadata": {},
   "source": [
    "出错提示中显示，不支持负数作为入参。\n",
    "\n",
    "下面我们比较以下math库函数factorial()与我们自定义的函数Factorial()运行效率的差别"
   ]
  },
  {
   "cell_type": "code",
   "execution_count": 18,
   "metadata": {},
   "outputs": [
    {
     "name": "stdout",
     "output_type": "stream",
     "text": [
      "Wall time: 0 ns\n"
     ]
    },
    {
     "data": {
      "text/plain": [
       "93326215443944152681699238856266700490715968264381621468592963895217599993229915608941463976156518286253697920827223758251185210916864000000000000000000000000"
      ]
     },
     "execution_count": 18,
     "metadata": {},
     "output_type": "execute_result"
    }
   ],
   "source": [
    "%time Factorial(100)"
   ]
  },
  {
   "cell_type": "code",
   "execution_count": 21,
   "metadata": {},
   "outputs": [
    {
     "name": "stdout",
     "output_type": "stream",
     "text": [
      "Wall time: 0 ns\n"
     ]
    },
    {
     "data": {
      "text/plain": [
       "93326215443944152681699238856266700490715968264381621468592963895217599993229915608941463976156518286253697920827223758251185210916864000000000000000000000000"
      ]
     },
     "execution_count": 21,
     "metadata": {},
     "output_type": "execute_result"
    }
   ],
   "source": [
    "%time math.factorial(100)"
   ]
  },
  {
   "cell_type": "markdown",
   "metadata": {},
   "source": [
    "从执行时间可以看出，math库函数factorial()比纯Python的实现更快。这是因为它的底层由C实现。尽管根据CPU的不同，可能会得到不同的计时结果，但factorial()总是最快的。\n",
    "\n",
    "函数factorial()不仅快，而且更稳定。当实现自己的函数时，必须显式地为各种异常情况编写代码，例如处理负数或小数输入。\n",
    "实现中的一个错误可能导致程序运行出现bug。但是在使用factorial()时，不必担心灾难情况，因为函数会处理所有灾难情况。因此，最好的实践是尽可能地使用factorial()。\n",
    "\n",
    "### 函数ceil()\n",
    "\n",
    "函数math.ceil()将返回大于或等于给定数的最小整数值。无论正数或负数，该函都将返回下一个大于给定值的整数。\n",
    "\n",
    "例如，输入5.43将返回值6，而输入-12.43将返回值-12。 math.ceil()可以将正或负实数作为输入值，并且始终返回整数值。\n",
    "\n",
    "当向ceil()输入一个整数值时，它将返回相同的数。示例如下："
   ]
  },
  {
   "cell_type": "code",
   "execution_count": 31,
   "metadata": {},
   "outputs": [
    {
     "data": {
      "text/plain": [
       "(6, -12)"
      ]
     },
     "execution_count": 31,
     "metadata": {},
     "output_type": "execute_result"
    }
   ],
   "source": [
    "math.ceil(5.43), math.ceil(-12.43)\n",
    "\n"
   ]
  },
  {
   "cell_type": "code",
   "execution_count": 32,
   "metadata": {},
   "outputs": [
    {
     "data": {
      "text/plain": [
       "(6, -11)"
      ]
     },
     "execution_count": 32,
     "metadata": {},
     "output_type": "execute_result"
    }
   ],
   "source": [
    "math.ceil(6), math.ceil(-11)"
   ]
  },
  {
   "cell_type": "markdown",
   "metadata": {},
   "source": [
    "如果输入的值不是数，函数将返回TypeError。代码如下："
   ]
  },
  {
   "cell_type": "code",
   "execution_count": 33,
   "metadata": {},
   "outputs": [
    {
     "ename": "TypeError",
     "evalue": "must be real number, not str",
     "output_type": "error",
     "traceback": [
      "\u001b[0;31m---------------------------------------------------------------------------\u001b[0m",
      "\u001b[0;31mTypeError\u001b[0m                                 Traceback (most recent call last)",
      "\u001b[0;32m<ipython-input-33-6b47497c589c>\u001b[0m in \u001b[0;36m<module>\u001b[0;34m\u001b[0m\n\u001b[0;32m----> 1\u001b[0;31m \u001b[0mmath\u001b[0m\u001b[0;34m.\u001b[0m\u001b[0mceil\u001b[0m\u001b[0;34m(\u001b[0m\u001b[0;34m\"x\"\u001b[0m\u001b[0;34m)\u001b[0m\u001b[0;34m\u001b[0m\u001b[0;34m\u001b[0m\u001b[0m\n\u001b[0m",
      "\u001b[0;31mTypeError\u001b[0m: must be real number, not str"
     ]
    }
   ],
   "source": [
    "math.ceil(\"x\")"
   ]
  },
  {
   "cell_type": "markdown",
   "metadata": {},
   "source": [
    "### 函数floor()\n",
    "\n",
    "函数floor()的行为与ceil()相反，它将返回小于或等于给定数的最接近的整数值。例如，输入8.72将返回8，输入-12.34输入将返回-13。floor()可以接受正数或负数作为输入，并返回一个整数值。如果输入一个整数值，那么函数将返回相同的值。示例如下："
   ]
  },
  {
   "cell_type": "code",
   "execution_count": 34,
   "metadata": {},
   "outputs": [
    {
     "data": {
      "text/plain": [
       "(8, -13)"
      ]
     },
     "execution_count": 34,
     "metadata": {},
     "output_type": "execute_result"
    }
   ],
   "source": [
    "math.floor(8.72), math.floor(-12.34)"
   ]
  },
  {
   "cell_type": "code",
   "execution_count": 35,
   "metadata": {},
   "outputs": [
    {
     "data": {
      "text/plain": [
       "(6, -11)"
      ]
     },
     "execution_count": 35,
     "metadata": {},
     "output_type": "execute_result"
    }
   ],
   "source": [
    "math.floor(6), math.floor(-11)"
   ]
  },
  {
   "cell_type": "markdown",
   "metadata": {},
   "source": [
    "同样，如果输入的值不是数，函数floor()将返回TypeError。代码如下："
   ]
  },
  {
   "cell_type": "code",
   "execution_count": 36,
   "metadata": {},
   "outputs": [
    {
     "ename": "TypeError",
     "evalue": "must be real number, not str",
     "output_type": "error",
     "traceback": [
      "\u001b[0;31m---------------------------------------------------------------------------\u001b[0m",
      "\u001b[0;31mTypeError\u001b[0m                                 Traceback (most recent call last)",
      "\u001b[0;32m<ipython-input-36-c49ad4f39c09>\u001b[0m in \u001b[0;36m<module>\u001b[0;34m\u001b[0m\n\u001b[0;32m----> 1\u001b[0;31m \u001b[0mmath\u001b[0m\u001b[0;34m.\u001b[0m\u001b[0mfloor\u001b[0m\u001b[0;34m(\u001b[0m\u001b[0;34m\"x\"\u001b[0m\u001b[0;34m)\u001b[0m\u001b[0;34m\u001b[0m\u001b[0;34m\u001b[0m\u001b[0m\n\u001b[0m",
      "\u001b[0;31mTypeError\u001b[0m: must be real number, not str"
     ]
    }
   ],
   "source": [
    "math.floor(\"x\")"
   ]
  },
  {
   "cell_type": "markdown",
   "metadata": {},
   "source": [
    "### 函数trunc()\n",
    "\n",
    "当需要只保留某个小数的整数部分时，可以使用Math模块的函数trunc()。\n",
    "\n",
    "去掉小数是一种舍入方法。使用trunc()，负数总是向上取整（类似于ceil()函数)，正数总是向下取整（类似于floor()函数）。\n",
    "\n",
    "下面代码演示trunc()函数如何使正数或负数截尾："
   ]
  },
  {
   "cell_type": "code",
   "execution_count": 37,
   "metadata": {},
   "outputs": [
    {
     "data": {
      "text/plain": [
       "(12, -43)"
      ]
     },
     "execution_count": 37,
     "metadata": {},
     "output_type": "execute_result"
    }
   ],
   "source": [
    " math.trunc(12.52), math.trunc(-43.24)"
   ]
  },
  {
   "cell_type": "markdown",
   "metadata": {},
   "source": [
    "### 函数isclose()\n",
    "\n",
    "在某些情况下(特别是在数据科学领域中)，可能需要确定两个数字是否彼此接近。但要做到这一点，首先需要回答一个重要的问题：多接近才算接近？\n",
    "\n",
    "例如，取以一组数：2.32、2.33和2.331。当你用两个小数点来衡量亲密度时，2.32和2.33非常接近。但实际上，2.33和2.331更接近。因此，“接近”是一个相对的概念。如果没有某种阈值，则无法确定接近程度。\n",
    "\n",
    "幸运的是，Math模块提供了一个名为isclose()的函数，允许设置阈值或容忍值。如果两个数字都在设定的接近度容忍范围内，则返回True，否则返回False。\n",
    "\n",
    "让我们来看看如何使用默认公差来比较两个数字:\n",
    "\n",
    "* 相对容差（rel_tol），是评估实际值与预期值之间的差异相对于预期值的量值。这是容忍的百分比。默认值为1e-09或0.000000001。\n",
    "* 绝对容差（abs_tol）被认为是“接近”的最大差值，而不管输入值的大小。默认值是0.0。\n",
    "\n",
    "当满足以下条件时，isclose()将返回True:\n",
    "\n",
    "    abs(a-b) <= max(rel_tol * max(abs(a), abs(b)), abs_tol)\n",
    "\n",
    "函数isclose()使用上面的表达式来确定两个数的接近度。\n",
    "\n",
    "在下面的例子中，6和7不是接近的:"
   ]
  },
  {
   "cell_type": "code",
   "execution_count": 38,
   "metadata": {},
   "outputs": [
    {
     "data": {
      "text/plain": [
       "False"
      ]
     },
     "execution_count": 38,
     "metadata": {},
     "output_type": "execute_result"
    }
   ],
   "source": [
    "math.isclose(6, 7)"
   ]
  },
  {
   "cell_type": "markdown",
   "metadata": {},
   "source": [
    "数字6和7被认为不接近，因为其相对容差设置为小数点后9位。但是如果在相同的公差下输入6.999999999和7，那么它们被认为是接近的，代码如下："
   ]
  },
  {
   "cell_type": "code",
   "execution_count": 39,
   "metadata": {},
   "outputs": [
    {
     "data": {
      "text/plain": [
       "True"
      ]
     },
     "execution_count": 39,
     "metadata": {},
     "output_type": "execute_result"
    }
   ],
   "source": [
    "math.isclose(6.999999999, 7)"
   ]
  },
  {
   "cell_type": "markdown",
   "metadata": {},
   "source": [
    "可以看到值6.999999999在7的小数点后9位之内。因此，基于默认的相对公差，6.999999999和7被认为是接近的。\n",
    "\n",
    "可以根据需要任意调整相对公差。如果将rel_tol设置为0.2，则认为6和7很接近，代码如下："
   ]
  },
  {
   "cell_type": "code",
   "execution_count": 40,
   "metadata": {},
   "outputs": [
    {
     "data": {
      "text/plain": [
       "True"
      ]
     },
     "execution_count": 40,
     "metadata": {},
     "output_type": "execute_result"
    }
   ],
   "source": [
    "math.isclose(6, 7, rel_tol=0.2)"
   ]
  },
  {
   "cell_type": "markdown",
   "metadata": {},
   "source": [
    "可以观察到6和7现在已经被认为接近了。这是因为它们彼此之间的距离不超过20％。\n",
    "\n",
    "与rel_tol一样，也可以根据需要调整abs_tol值。要被视为接近，输入值之间的差异必须小于或等于绝对公差值。以下代码设置abs_tol："
   ]
  },
  {
   "cell_type": "code",
   "execution_count": 41,
   "metadata": {},
   "outputs": [
    {
     "data": {
      "text/plain": [
       "(True, False)"
      ]
     },
     "execution_count": 41,
     "metadata": {},
     "output_type": "execute_result"
    }
   ],
   "source": [
    "math.isclose(6, 7, abs_tol=1.0)\n"
   ]
  },
  {
   "cell_type": "code",
   "execution_count": 42,
   "metadata": {},
   "outputs": [
    {
     "data": {
      "text/plain": [
       "False"
      ]
     },
     "execution_count": 42,
     "metadata": {},
     "output_type": "execute_result"
    }
   ],
   "source": [
    "math.isclose(6, 7, abs_tol=0.2)"
   ]
  },
  {
   "cell_type": "markdown",
   "metadata": {},
   "source": [
    "当将绝对公差设置为1时，数字6和7很接近，因为它们之间的差等于绝对公差。然而，在第2种情况下，6和7之间的差值不小于或等于确定的绝对容差0.2。\n",
    "\n",
    "可以对非常小的值使用abs_tol，代码如下："
   ]
  },
  {
   "cell_type": "code",
   "execution_count": 43,
   "metadata": {},
   "outputs": [
    {
     "data": {
      "text/plain": [
       "False"
      ]
     },
     "execution_count": 43,
     "metadata": {},
     "output_type": "execute_result"
    }
   ],
   "source": [
    "math.isclose(1, 1.0000001, abs_tol=1e-08)"
   ]
  },
  {
   "cell_type": "code",
   "execution_count": 44,
   "metadata": {},
   "outputs": [
    {
     "data": {
      "text/plain": [
       "True"
      ]
     },
     "execution_count": 44,
     "metadata": {},
     "output_type": "execute_result"
    }
   ],
   "source": [
    "math.isclose(1, 1.00000001, abs_tol=1e-08)"
   ]
  },
  {
   "cell_type": "markdown",
   "metadata": {},
   "source": [
    "我们可以使用函数isclose()确定非常小的数之间的接近程度。下面的代码使用nan和inf来说明几个关于接近程度的特殊情况。"
   ]
  },
  {
   "cell_type": "code",
   "execution_count": 45,
   "metadata": {},
   "outputs": [
    {
     "data": {
      "text/plain": [
       "False"
      ]
     },
     "execution_count": 45,
     "metadata": {},
     "output_type": "execute_result"
    }
   ],
   "source": [
    "math.isclose(math.nan, 1e308)"
   ]
  },
  {
   "cell_type": "code",
   "execution_count": 46,
   "metadata": {},
   "outputs": [
    {
     "data": {
      "text/plain": [
       "False"
      ]
     },
     "execution_count": 46,
     "metadata": {},
     "output_type": "execute_result"
    }
   ],
   "source": [
    "math.isclose(math.nan, math.nan)"
   ]
  },
  {
   "cell_type": "code",
   "execution_count": 47,
   "metadata": {},
   "outputs": [
    {
     "data": {
      "text/plain": [
       "False"
      ]
     },
     "execution_count": 47,
     "metadata": {},
     "output_type": "execute_result"
    }
   ],
   "source": [
    "math.isclose(math.inf, 1e308)"
   ]
  },
  {
   "cell_type": "code",
   "execution_count": 48,
   "metadata": {},
   "outputs": [
    {
     "data": {
      "text/plain": [
       "True"
      ]
     },
     "execution_count": 48,
     "metadata": {},
     "output_type": "execute_result"
    }
   ],
   "source": [
    "math.isclose(math.inf, math.inf)"
   ]
  },
  {
   "cell_type": "markdown",
   "metadata": {},
   "source": [
    "从上面的例子可以看出，nan不接近任何值，甚至不接近它本身。另一方面，inf不接近任何数值，甚至不接近非常大的数值，但它很接近自身。"
   ]
  },
  {
   "cell_type": "markdown",
   "metadata": {},
   "source": [
    "## 幂函数\n",
    "\n",
    "幂函数取任意数字x作为输入，求x的n次方并返回。Python的Math模块提供了几个与幂相关的函数。包括幂函数、指数函数和平方根函数。\n",
    "\n",
    "\n",
    "### 使用pow()计算一个数的幂\n",
    "\n",
    "幂函数有如下公式，其中变量x是底数，变量n是幂，a可以是任意常数：\n",
    "${f(x)=ax^n}$\n",
    "\n",
    "函数math.pow()用来得到一个数的幂。有一个内置函数pow()，它与math.pow()不同。关于它们的不同，稍后会做出说明。math.pow()接受两个参数，如下所示："
   ]
  },
  {
   "cell_type": "code",
   "execution_count": 49,
   "metadata": {},
   "outputs": [
    {
     "data": {
      "text/plain": [
       "32.0"
      ]
     },
     "execution_count": 49,
     "metadata": {},
     "output_type": "execute_result"
    }
   ],
   "source": [
    "math.pow(2, 5)"
   ]
  },
  {
   "cell_type": "code",
   "execution_count": 50,
   "metadata": {},
   "outputs": [
    {
     "data": {
      "text/plain": [
       "47.59134846789696"
      ]
     },
     "execution_count": 50,
     "metadata": {},
     "output_type": "execute_result"
    }
   ],
   "source": [
    "math.pow(5, 2.4)"
   ]
  },
  {
   "cell_type": "markdown",
   "metadata": {},
   "source": [
    "第一个参数是底数，第二个参数是幂值。可以提供整数或小数作为输入，函数总是返回一个浮点值。在math.pow()中定义了一些特殊情况。\n",
    "\n",
    "当以1为底取任意次幂时，结果为1.0。示例如下："
   ]
  },
  {
   "cell_type": "code",
   "execution_count": 51,
   "metadata": {},
   "outputs": [
    {
     "data": {
      "text/plain": [
       "1.0"
      ]
     },
     "execution_count": 51,
     "metadata": {},
     "output_type": "execute_result"
    }
   ],
   "source": [
    "math.pow(1.0, 3)"
   ]
  },
  {
   "cell_type": "markdown",
   "metadata": {},
   "source": [
    "当底数为1时，结果总是1.0。同样地，任何底数的0次方的结果总是1.0。示例如下："
   ]
  },
  {
   "cell_type": "code",
   "execution_count": 52,
   "metadata": {},
   "outputs": [
    {
     "data": {
      "text/plain": [
       "1.0"
      ]
     },
     "execution_count": 52,
     "metadata": {},
     "output_type": "execute_result"
    }
   ],
   "source": [
    "math.pow(4, 0.0)"
   ]
  },
  {
   "cell_type": "code",
   "execution_count": 53,
   "metadata": {},
   "outputs": [
    {
     "data": {
      "text/plain": [
       "1.0"
      ]
     },
     "execution_count": 53,
     "metadata": {},
     "output_type": "execute_result"
    }
   ],
   "source": [
    "math.pow(-4, 0.0)"
   ]
  },
  {
   "cell_type": "code",
   "execution_count": 58,
   "metadata": {},
   "outputs": [
    {
     "data": {
      "text/plain": [
       "1.0"
      ]
     },
     "execution_count": 58,
     "metadata": {},
     "output_type": "execute_result"
    }
   ],
   "source": [
    "math.pow(0, 0.0)"
   ]
  },
  {
   "cell_type": "code",
   "execution_count": 54,
   "metadata": {},
   "outputs": [
    {
     "data": {
      "text/plain": [
       "1.0"
      ]
     },
     "execution_count": 54,
     "metadata": {},
     "output_type": "execute_result"
    }
   ],
   "source": [
    "math.pow(math.nan, 0.0)"
   ]
  },
  {
   "cell_type": "markdown",
   "metadata": {},
   "source": [
    "即使底是nan，结果也是1.0。"
   ]
  },
  {
   "cell_type": "markdown",
   "metadata": {},
   "source": [
    "0.0的任何次正是次幂都是0.0。示例如下："
   ]
  },
  {
   "cell_type": "code",
   "execution_count": 55,
   "metadata": {},
   "outputs": [
    {
     "data": {
      "text/plain": [
       "0.0"
      ]
     },
     "execution_count": 55,
     "metadata": {},
     "output_type": "execute_result"
    }
   ],
   "source": [
    "math.pow(0.0, 2)"
   ]
  },
  {
   "cell_type": "code",
   "execution_count": 59,
   "metadata": {},
   "outputs": [
    {
     "data": {
      "text/plain": [
       "0.0"
      ]
     },
     "execution_count": 59,
     "metadata": {},
     "output_type": "execute_result"
    }
   ],
   "source": [
    "math.pow(0.0, 2.3)"
   ]
  },
  {
   "cell_type": "markdown",
   "metadata": {},
   "source": [
    "但是取0.0的负数次幂将得到ValueError，代码如下："
   ]
  },
  {
   "cell_type": "code",
   "execution_count": 60,
   "metadata": {},
   "outputs": [
    {
     "ename": "ValueError",
     "evalue": "math domain error",
     "output_type": "error",
     "traceback": [
      "\u001b[0;31m---------------------------------------------------------------------------\u001b[0m",
      "\u001b[0;31mValueError\u001b[0m                                Traceback (most recent call last)",
      "\u001b[0;32m<ipython-input-60-b757568dab99>\u001b[0m in \u001b[0;36m<module>\u001b[0;34m\u001b[0m\n\u001b[0;32m----> 1\u001b[0;31m \u001b[0mmath\u001b[0m\u001b[0;34m.\u001b[0m\u001b[0mpow\u001b[0m\u001b[0;34m(\u001b[0m\u001b[0;36m0.0\u001b[0m\u001b[0;34m,\u001b[0m \u001b[0;34m-\u001b[0m\u001b[0;36m2\u001b[0m\u001b[0;34m)\u001b[0m\u001b[0;34m\u001b[0m\u001b[0;34m\u001b[0m\u001b[0m\n\u001b[0m",
      "\u001b[0;31mValueError\u001b[0m: math domain error"
     ]
    }
   ],
   "source": [
    "math.pow(0.0, -2)"
   ]
  },
  {
   "cell_type": "markdown",
   "metadata": {},
   "source": [
    "ValueError仅在基值为0时发生。如果基数是除0之外的任何其他数字，那么函数将返回一个有效的幂值。  \n",
    "\n",
    "除了math.pow()之外，Python中还有两种计算数字幂的内置方法:\n",
    "\n",
    "* x ** y\n",
    "* pow()\n",
    "\n",
    "第一个选项很简单。前文中已经用过了。该方法的返回类型由输入决定，代码如下："
   ]
  },
  {
   "cell_type": "code",
   "execution_count": 61,
   "metadata": {},
   "outputs": [
    {
     "data": {
      "text/plain": [
       "9"
      ]
     },
     "execution_count": 61,
     "metadata": {},
     "output_type": "execute_result"
    }
   ],
   "source": [
    "3 ** 2"
   ]
  },
  {
   "cell_type": "code",
   "execution_count": 62,
   "metadata": {},
   "outputs": [
    {
     "data": {
      "text/plain": [
       "9.849155306759329"
      ]
     },
     "execution_count": 62,
     "metadata": {},
     "output_type": "execute_result"
    }
   ],
   "source": [
    "2 ** 3.3"
   ]
  },
  {
   "cell_type": "markdown",
   "metadata": {},
   "source": [
    "当使用整数时，将得到一个整数值。当使用浮点数时，返回类型更改为浮点型。\n",
    "\n",
    "第二种选择是一个通用的内置函数。内置的pow()不必使用任何导入便可以使用，该函数有三个参数：\n",
    "* base 底数\n",
    "* power 幂指数\n",
    "* modulus 模数\n",
    "\n",
    "前两个参数是强制的，而第三个参数是可选的。你可以输入整型数或浮点数，函数将根据输入返回适当的结果。示例如下："
   ]
  },
  {
   "cell_type": "code",
   "execution_count": 63,
   "metadata": {},
   "outputs": [
    {
     "data": {
      "text/plain": [
       "9"
      ]
     },
     "execution_count": 63,
     "metadata": {},
     "output_type": "execute_result"
    }
   ],
   "source": [
    "pow(3, 2)"
   ]
  },
  {
   "cell_type": "code",
   "execution_count": 64,
   "metadata": {},
   "outputs": [
    {
     "data": {
      "text/plain": [
       "9.849155306759329"
      ]
     },
     "execution_count": 64,
     "metadata": {},
     "output_type": "execute_result"
    }
   ],
   "source": [
    "pow(2, 3.3)"
   ]
  },
  {
   "cell_type": "markdown",
   "metadata": {},
   "source": [
    "内置的pow()有两个必选参数，它们的工作原理与x ** y语法中的base和power相同。pow()还有第三个可选参数：模数。密码术中经常使用此参数。带有可选模数参数的内置pow()等价于等式(x ** y) % z. Python语法如下所示："
   ]
  },
  {
   "cell_type": "code",
   "execution_count": 65,
   "metadata": {},
   "outputs": [
    {
     "data": {
      "text/plain": [
       "(4, True)"
      ]
     },
     "execution_count": 65,
     "metadata": {},
     "output_type": "execute_result"
    }
   ],
   "source": [
    "pow(32, 6, 5), (32 ** 6) % 5 == pow(32, 6, 5)\n"
   ]
  },
  {
   "cell_type": "markdown",
   "metadata": {},
   "source": [
    "pow()将底数32的6次幂取模5的模，在这种情况下，结果是4。\n",
    "\n",
    "尽管这三种计算幂的方法可以得到相同的结果。但它们之间有一些实现上的差异，因此会影响执行的效率。下面是对它们执行效率的比较。"
   ]
  },
  {
   "cell_type": "code",
   "execution_count": 66,
   "metadata": {},
   "outputs": [
    {
     "name": "stdout",
     "output_type": "stream",
     "text": [
      "CPU times: user 18 µs, sys: 3 µs, total: 21 µs\n",
      "Wall time: 30 µs\n"
     ]
    },
    {
     "data": {
      "text/plain": [
       "100000000000000000000000000000000000000000000000000000000000000000000000000000000000000000000000000000000000000000000000000000000000000000000000000000000000000000000000000000000000000000000000000000000000000000000000000000000000000000000000000000000000000000000000000000000000000000000000000000000000000000000"
      ]
     },
     "execution_count": 66,
     "metadata": {},
     "output_type": "execute_result"
    }
   ],
   "source": [
    "%time 10 ** 308"
   ]
  },
  {
   "cell_type": "code",
   "execution_count": 68,
   "metadata": {},
   "outputs": [
    {
     "name": "stdout",
     "output_type": "stream",
     "text": [
      "CPU times: user 28 µs, sys: 0 ns, total: 28 µs\n",
      "Wall time: 38.4 µs\n"
     ]
    },
    {
     "data": {
      "text/plain": [
       "100000000000000000000000000000000000000000000000000000000000000000000000000000000000000000000000000000000000000000000000000000000000000000000000000000000000000000000000000000000000000000000000000000000000000000000000000000000000000000000000000000000000000000000000000000000000000000000000000000000000000000000"
      ]
     },
     "execution_count": 68,
     "metadata": {},
     "output_type": "execute_result"
    }
   ],
   "source": [
    "%time pow(10, 308)"
   ]
  },
  {
   "cell_type": "code",
   "execution_count": 70,
   "metadata": {},
   "outputs": [
    {
     "name": "stdout",
     "output_type": "stream",
     "text": [
      "CPU times: user 6 µs, sys: 1 µs, total: 7 µs\n",
      "Wall time: 9.78 µs\n"
     ]
    },
    {
     "data": {
      "text/plain": [
       "1e+308"
      ]
     },
     "execution_count": 70,
     "metadata": {},
     "output_type": "execute_result"
    }
   ],
   "source": [
    "%time math.pow(10, 308)"
   ]
  },
  {
   "cell_type": "markdown",
   "metadata": {},
   "source": [
    "不同的CPU下可能会得到不同的数值结果，但最终的结果都会发现内建函数pow()的运行效率是最低的。\n",
    "math.pow()效率高的原因在于它的实现方式。它依赖于底层C语言。另一方面，pow()和x ** y使用输入对象自己的\\*\\*操作符实现。然而，math.pow()不能处理复数(这将在后面的部分进行解释)，而pow()和\\*\\*可以。"
   ]
  },
  {
   "cell_type": "markdown",
   "metadata": {},
   "source": [
    "### 函数exp()\n",
    "\n",
    "不同于幂函数，在指数函数中指数为变量。\n",
    "$${f(x)=a^x}$$\n",
    "这里a可以是任意常数，x是幂值为变量。\n",
    "\n",
    "那么指数函数有什么特别之处呢？函数的值随着x值的增加而迅速增长。如果底数大于1，那么函数值随着x的增加而不断增加。指数函数的一个特殊性质是，函数的斜率也随着x的增加而连续增加。\n",
    "\n",
    "前一节中了解了欧拉数。它是自然对数的底数。当欧拉数被纳入指数函数时，就变成了自然指数函数:\n",
    "$${f(x)=e^x}$$\n",
    "这个函数在许多现实生活中都有使用。指数增长通常用于描述人口增长或放射性衰变率。这两个都可以用自然指数函数来计算。\n",
    "\n",
    "Python数学模块提供了一个函数exp()用于求自然指数。示例如下：\n"
   ]
  },
  {
   "cell_type": "code",
   "execution_count": 71,
   "metadata": {},
   "outputs": [
    {
     "data": {
      "text/plain": [
       "1318815734.4832146"
      ]
     },
     "execution_count": 71,
     "metadata": {},
     "output_type": "execute_result"
    }
   ],
   "source": [
    "math.exp(21)"
   ]
  },
  {
   "cell_type": "code",
   "execution_count": 72,
   "metadata": {},
   "outputs": [
    {
     "data": {
      "text/plain": [
       "0.30119421191220214"
      ]
     },
     "execution_count": 72,
     "metadata": {},
     "output_type": "execute_result"
    }
   ],
   "source": [
    "math.exp(-1.2)"
   ]
  },
  {
   "cell_type": "markdown",
   "metadata": {},
   "source": [
    "输入可以是正数的也可以是负数，函数exp()总是返回一个浮点值。如果输入不是数值，则该方法将返回TypeError。代码如下："
   ]
  },
  {
   "cell_type": "code",
   "execution_count": 73,
   "metadata": {},
   "outputs": [
    {
     "ename": "TypeError",
     "evalue": "must be real number, not str",
     "output_type": "error",
     "traceback": [
      "\u001b[0;31m---------------------------------------------------------------------------\u001b[0m",
      "\u001b[0;31mTypeError\u001b[0m                                 Traceback (most recent call last)",
      "\u001b[0;32m<ipython-input-73-d942eff83a60>\u001b[0m in \u001b[0;36m<module>\u001b[0;34m\u001b[0m\n\u001b[0;32m----> 1\u001b[0;31m \u001b[0mmath\u001b[0m\u001b[0;34m.\u001b[0m\u001b[0mexp\u001b[0m\u001b[0;34m(\u001b[0m\u001b[0;34m\"x\"\u001b[0m\u001b[0;34m)\u001b[0m\u001b[0;34m\u001b[0m\u001b[0;34m\u001b[0m\u001b[0m\n\u001b[0m",
      "\u001b[0;31mTypeError\u001b[0m: must be real number, not str"
     ]
    }
   ],
   "source": [
    "math.exp(\"x\")"
   ]
  },
  {
   "cell_type": "markdown",
   "metadata": {},
   "source": [
    "也可以用e ** x表达式或通过使用pow(math.e, x)计算自然指数。这三种方法的执行时间对比如下："
   ]
  },
  {
   "cell_type": "code",
   "execution_count": 85,
   "metadata": {},
   "outputs": [
    {
     "name": "stdout",
     "output_type": "stream",
     "text": [
      "CPU times: user 19 µs, sys: 0 ns, total: 19 µs\n",
      "Wall time: 28.6 µs\n"
     ]
    },
    {
     "data": {
      "text/plain": [
       "5.790291477135e+133"
      ]
     },
     "execution_count": 85,
     "metadata": {},
     "output_type": "execute_result"
    }
   ],
   "source": [
    "%time math.e ** 308"
   ]
  },
  {
   "cell_type": "code",
   "execution_count": 86,
   "metadata": {},
   "outputs": [
    {
     "name": "stdout",
     "output_type": "stream",
     "text": [
      "CPU times: user 26 µs, sys: 4 µs, total: 30 µs\n",
      "Wall time: 44.6 µs\n"
     ]
    },
    {
     "data": {
      "text/plain": [
       "5.790291477135e+133"
      ]
     },
     "execution_count": 86,
     "metadata": {},
     "output_type": "execute_result"
    }
   ],
   "source": [
    "%time pow(math.e, 308)"
   ]
  },
  {
   "cell_type": "code",
   "execution_count": 87,
   "metadata": {},
   "outputs": [
    {
     "name": "stdout",
     "output_type": "stream",
     "text": [
      "CPU times: user 19 µs, sys: 0 ns, total: 19 µs\n",
      "Wall time: 30 µs\n"
     ]
    },
    {
     "data": {
      "text/plain": [
       "5.790291477135095e+133"
      ]
     },
     "execution_count": 87,
     "metadata": {},
     "output_type": "execute_result"
    }
   ],
   "source": [
    "%time math.exp(308)"
   ]
  },
  {
   "cell_type": "code",
   "execution_count": 88,
   "metadata": {},
   "outputs": [
    {
     "name": "stdout",
     "output_type": "stream",
     "text": [
      "CPU times: user 7 µs, sys: 0 ns, total: 7 µs\n",
      "Wall time: 9.54 µs\n"
     ]
    },
    {
     "data": {
      "text/plain": [
       "5.790291477135e+133"
      ]
     },
     "execution_count": 88,
     "metadata": {},
     "output_type": "execute_result"
    }
   ],
   "source": [
    "%time math.pow(math.e, 308)"
   ]
  },
  {
   "cell_type": "markdown",
   "metadata": {},
   "source": [
    "可以看到math.exp()比其他方法快，而pow(e, x)是最慢的。这是与预期相同，因为Math模块的底层是由C实现的。\n",
    "\n",
    "值得注意的是，e ** x和pow(e, x)返回相同的值，但exp()返回的值略有不同。这是由于实现的差异造成的。Python文档指出，exp()比其他两个方法更精确。"
   ]
  },
  {
   "cell_type": "markdown",
   "metadata": {},
   "source": [
    "当一个不稳定的原子发射电离辐射而失去能量时，就会发生放射性衰变。放射性衰变的速率是用半衰期来测量的，半衰期是母核衰变一半所花费的时间。可以用以下公式计算衰减过程:\n",
    "$${N_{(t)}=N_{(0)}e^{\\frac{-693t}{T}}}$$\n",
    "可以用上面的公式来计算某一放射性元素在一定年份后的剩余量。给定公式的变量如下:\n",
    "\n",
    "* N(0)是物质的初始量。\n",
    "* N(t)是经过一段时间(t)还没有衰减的量。\n",
    "* T是衰变量的半衰期。\n",
    "* e是欧拉数。\n",
    "\n",
    "科学研究已经确定了所有放射性元素的半衰期。可以代入方程式的值来计算任何放射性物质的剩余数量。\n",
    "\n",
    "放射性同位素锶-90的半衰期为38.1年。样本中含有100毫克锶-90。可以计算100年后剩余的锶-90有多少毫克:"
   ]
  },
  {
   "cell_type": "code",
   "execution_count": 90,
   "metadata": {},
   "outputs": [
    {
     "name": "stdout",
     "output_type": "stream",
     "text": [
      "剩余的Sr-90有: 16.2204毫克\n"
     ]
    }
   ],
   "source": [
    "half_life = 38.1\n",
    "initial = 100\n",
    "time = 100\n",
    "remaining = initial * math.exp(-0.693 * time / half_life)\n",
    "print(\"剩余的锶-90有: %.4f毫克\"%remaining)\n"
   ]
  },
  {
   "cell_type": "markdown",
   "metadata": {},
   "source": [
    "根据已知条件使用math.exp来简化方程。将数值代入方程，100年后，仍有16.22mg 锶-90残留。\n",
    "\n",
    "### 对数函数\n",
    "\n",
    "对数函数可以看作是指数函数的逆函数。它们用以下形式表示：\n",
    "$${f(x)=\\log_{a}{(x)}}$$\n",
    "这里a是对数的底数，可以是任何数。指数函数可以用对数函数的形式表示，反之亦然。\n",
    "\n",
    "一个数的自然对数以自然常数（或欧拉数）e为底数的对数：\n",
    "$${f(x)=\\log_{e}{(x)}}$$\n",
    "和指数函数一样，自然对数使用常数e，它通常被描述为f(x) = ln(x)，其中e是隐式的。\n",
    "\n",
    "自然对数的用法和指数函数的用法是一样的。它被用来计算人口增长率或元素中的放射性衰变率等数值。\n",
    "\n",
    "Math模块的函数log()有两个参数。第一项是强制性的，第二项是可选的。通过一个参数，可以得到输入的自然对数(以e为底)，代码如下："
   ]
  },
  {
   "cell_type": "code",
   "execution_count": 91,
   "metadata": {},
   "outputs": [
    {
     "data": {
      "text/plain": [
       "1.3862943611198906"
      ]
     },
     "execution_count": 91,
     "metadata": {},
     "output_type": "execute_result"
    }
   ],
   "source": [
    "math.log(4)"
   ]
  },
  {
   "cell_type": "code",
   "execution_count": 92,
   "metadata": {},
   "outputs": [
    {
     "data": {
      "text/plain": [
       "1.0"
      ]
     },
     "execution_count": 92,
     "metadata": {},
     "output_type": "execute_result"
    }
   ],
   "source": [
    "math.log(math.e)"
   ]
  },
  {
   "cell_type": "markdown",
   "metadata": {},
   "source": [
    "但是，如果输入一个非正数，函数将返回一个ValueError，示例如下："
   ]
  },
  {
   "cell_type": "code",
   "execution_count": 93,
   "metadata": {},
   "outputs": [
    {
     "ename": "ValueError",
     "evalue": "math domain error",
     "output_type": "error",
     "traceback": [
      "\u001b[0;31m---------------------------------------------------------------------------\u001b[0m",
      "\u001b[0;31mValueError\u001b[0m                                Traceback (most recent call last)",
      "\u001b[0;32m<ipython-input-93-986324ee0bdd>\u001b[0m in \u001b[0;36m<module>\u001b[0;34m\u001b[0m\n\u001b[0;32m----> 1\u001b[0;31m \u001b[0mmath\u001b[0m\u001b[0;34m.\u001b[0m\u001b[0mlog\u001b[0m\u001b[0;34m(\u001b[0m\u001b[0;34m-\u001b[0m\u001b[0;36m3\u001b[0m\u001b[0;34m)\u001b[0m\u001b[0;34m\u001b[0m\u001b[0;34m\u001b[0m\u001b[0m\n\u001b[0m",
      "\u001b[0;31mValueError\u001b[0m: math domain error"
     ]
    }
   ],
   "source": [
    "math.log(-3)"
   ]
  },
  {
   "cell_type": "markdown",
   "metadata": {},
   "source": [
    "不能向log()输入负值，这是因为对于负数和0的对数是没有定义的。\n",
    "\n",
    "log()函数的第2个可选入参是底数，默认值是欧拉数，因此它默认是求自然对数。通过输入不同的值，可以求不同底数的对数，代码如下："
   ]
  },
  {
   "cell_type": "code",
   "execution_count": 94,
   "metadata": {},
   "outputs": [
    {
     "data": {
      "text/plain": [
       "2.0"
      ]
     },
     "execution_count": 94,
     "metadata": {},
     "output_type": "execute_result"
    }
   ],
   "source": [
    "math.log(4, 2)"
   ]
  },
  {
   "cell_type": "code",
   "execution_count": 95,
   "metadata": {},
   "outputs": [
    {
     "data": {
      "text/plain": [
       "0.711260668712669"
      ]
     },
     "execution_count": 95,
     "metadata": {},
     "output_type": "execute_result"
    }
   ],
   "source": [
    "math.log(math.pi, 5)"
   ]
  },
  {
   "cell_type": "markdown",
   "metadata": {},
   "source": [
    "Python Math模块还提供了两个单独的函数，用以计算以2和10为底的对数，代码如下："
   ]
  },
  {
   "cell_type": "code",
   "execution_count": 96,
   "metadata": {},
   "outputs": [
    {
     "data": {
      "text/plain": [
       "(0.4971498726941338, 0.4971498726941338)"
      ]
     },
     "execution_count": 96,
     "metadata": {},
     "output_type": "execute_result"
    }
   ],
   "source": [
    "math.log10(math.pi), math.log(math.pi, 10)"
   ]
  },
  {
   "cell_type": "markdown",
   "metadata": {},
   "source": [
    "Python文档还提到log10()比log(x, 10)更准确，尽管这两个函数的目标相同。\n",
    "\n",
    "前一节的例子使用math.exp()计算放射性元素在一段时间后的剩余数量。我们也可以通过测量一个间隔的质量变化来找到未知放射性元素的半衰期，此时需要使用math.log()。\n",
    "\n",
    "下式是用来计算放射性元素的半衰期的公式：\n",
    "$${T=\\frac{-693t}{\\ln({\\frac{N_(t)}{N(0)}})}}$$\n",
    "\n",
    "给定公式的变量如下:\n",
    "* T是半衰期。\n",
    "* N(0)是物质的初始量。\n",
    "* N(t)是经过一段时间t还没有衰减的量。\n",
    "* ln是自然对数。\n",
    "\n",
    "\n",
    "假设现有一个未知的放射性元素样本。100年前它被发现时，样本量是100毫克。经过100年的衰变后，只剩下16.22毫克。以下代码使用上面的公式，计算出这个未知元素的半衰期："
   ]
  },
  {
   "cell_type": "code",
   "execution_count": 97,
   "metadata": {},
   "outputs": [
    {
     "name": "stdout",
     "output_type": "stream",
     "text": [
      "未知物的半衰期是38.099424\n"
     ]
    }
   ],
   "source": [
    "initial = 100\n",
    "remaining = 16.22\n",
    "time = 100\n",
    "half_life = (-0.693 * time) / math.log(remaining / initial)\n",
    "print(\"未知物的半衰期是%f\"%(half_life))"
   ]
  },
  {
   "cell_type": "markdown",
   "metadata": {},
   "source": [
    "可以看到这个未知元素的半衰期大约是38.1年。根据这些信息，可以确定这个未知元素是锶-90。\n",
    "\n",
    "\n",
    "## Math库中其它的重要数学函数\n",
    "\n",
    "Python math模块有许多用于数学计算的有用函数，接下来将简要地介绍math模块中其它一些重要函数。\n",
    "\n",
    "### 计算最大公约数\n",
    "\n",
    "两个正数的最大公约数(GCD)是能将两个数整的最大正整数。\n",
    "\n",
    "例如，15和25的GCD是5，5是能够同时整除15和25的最大整数；15和30的GCD是15，因为15和30都可以被15除，没有余数。\n",
    "\n",
    "计算GCD的算法很多，但是我们无须自己实现。Python math模块提供了一个名为math.gcd()的函数，可以计算两个数的GCD。它接受正数或负数作为输入，并返回适当的GCD。但是，小数不能作为输入。\n",
    "\n",
    "### 计算可迭代对象的和\n",
    "\n",
    "如果想要在不使用循环的情况下找到可迭代对象值的和，那么math.fsum()可能是最简单的方法。可以使用数组、元组或列表等迭代对象作为输入，函数返回值的和。一个名为sum()的内置函数也允许计算可迭代对象的和，但fsum()比sum()更精确。\n",
    "\n",
    "### 计算平方根\n",
    "\n",
    "一个数的平方根是一个值，当它与自己相乘时，就得到这个数。可以使用math.sqrt()找到任何正实数(整数或小数)的平方根。返回值始终是一个浮点值。如果尝试输入一个负数，函数将抛出一个ValueError。\n",
    "\n",
    "### 转换角度值\n",
    "\n",
    "在现实生活和数学中，经常会遇到需要测量角度才能进行计算的情况。角度可以用度数或弧度来测量。有时必须将角度转换成弧度，反之亦然。如果想把角度转换成弧度，可以使用math.radians()，它返回度输入的弧度值。同样地，如果想将弧度转换为角度，那么可以使用math.degrees()。\n",
    "\n",
    "### 计算三角函数值\n",
    "\n",
    "三角学是对三角形的研究。它处理角和三角形各边之间的关系。三角学主要对直角三角形感兴趣(其中一个内角是90度)，但它也可以应用于其他类型的三角形。Python math模块提供了非常有用的函数，可以执行三角计算。相关函数见下表\n",
    "\n",
    "|函数|描述|\n",
    "|:---|:---|\n",
    "|math.sin()|计算正弦值|\n",
    "|math.cos()|计算余弦值|\n",
    "|math.tan()|计算正切值|\n",
    "|math.asin()|计算反正弦|\n",
    "|math.acos()|计算反余弦|\n",
    "|math.atan()|计算反正切|\n",
    "|math.hypot()|计算直角三角形的斜边|\n",
    "\n",
    "以上三角的入参和反三角函数返回值都是弧度，请看以下代码："
   ]
  },
  {
   "cell_type": "code",
   "execution_count": 98,
   "metadata": {},
   "outputs": [
    {
     "data": {
      "text/plain": [
       "-1.0"
      ]
     },
     "execution_count": 98,
     "metadata": {},
     "output_type": "execute_result"
    }
   ],
   "source": [
    "math.cos(math.pi)"
   ]
  },
  {
   "cell_type": "markdown",
   "metadata": {},
   "source": [
    "math.cos()的输入是弧度，如果应用中是角度，则需要首先使用math.radians()将其转化为弧度。其它的三角函数具有相同的特征。"
   ]
  },
  {
   "cell_type": "code",
   "execution_count": 99,
   "metadata": {},
   "outputs": [
    {
     "data": {
      "text/plain": [
       "3.141592653589793"
      ]
     },
     "execution_count": 99,
     "metadata": {},
     "output_type": "execute_result"
    }
   ],
   "source": [
    "math.acos(-1)"
   ]
  },
  {
   "cell_type": "markdown",
   "metadata": {},
   "source": [
    "反三角函数返回弧度值，如果应用中是角度，则需要首先使用math.degrees()将其转化为角度。其它的反三角函数具有相同的特征。\n",
    "\n",
    "函数math.hypot()根据直角三角形的两个直角边计算斜边，代码如下："
   ]
  },
  {
   "cell_type": "code",
   "execution_count": 103,
   "metadata": {},
   "outputs": [
    {
     "data": {
      "text/plain": [
       "5.0"
      ]
     },
     "execution_count": 103,
     "metadata": {},
     "output_type": "execute_result"
    }
   ],
   "source": [
    "parendicular = 3\n",
    "base = 4\n",
    "math.hypot(parendicular, base)"
   ]
  },
  {
   "cell_type": "markdown",
   "metadata": {},
   "source": [
    "复数是实数和虚数的组合。它有a + bi的公式，其中a是实数bi是虚数。实数和虚数可以解释如下:\n",
    "\n",
    "* 一个实数就是你能想到的任何数。例如，12、4.3、-19.0都是实数。\n",
    "* 虚数的平方是负数。\n",
    "\n",
    "例如复数7+3i中，7是实数，3i是虚数。复数主要应用于几何、微积分、科学计算，特别是电子学。\n",
    "\n",
    "Python Math模块的函数没有配备处理复数的功能。然而，Python提供了一个专门处理复数的模块，即cmath模块。Python Cmath模块对Math进行了扩充，针对复数实现了许多相同的函数。可以像导入Math模块一样导入Cmath模块，而无须事先安装。\n",
    "\n",
    "以下代码定义了一个复数："
   ]
  },
  {
   "cell_type": "code",
   "execution_count": 105,
   "metadata": {},
   "outputs": [
    {
     "data": {
      "text/plain": [
       "((2+3j), complex)"
      ]
     },
     "execution_count": 105,
     "metadata": {},
     "output_type": "execute_result"
    }
   ],
   "source": [
    "import cmath\n",
    "\n",
    "c = 2 + 3j\n",
    "c, type(c)"
   ]
  },
  {
   "cell_type": "markdown",
   "metadata": {},
   "source": [
    "注意:在数学中，虚数单位通常用i表示。在某些领域，同样的东西更习惯用j表示。在Python中，用j表示虚数。\n",
    "\n",
    "Python还提供了一个特殊的内置函数complex()，以下代码使用complex()创建复数对象："
   ]
  },
  {
   "cell_type": "code",
   "execution_count": 106,
   "metadata": {},
   "outputs": [
    {
     "data": {
      "text/plain": [
       "((2+3j), complex)"
      ]
     },
     "execution_count": 106,
     "metadata": {},
     "output_type": "execute_result"
    }
   ],
   "source": [
    "c = complex(2, 3)\n",
    "c, type(c)\n"
   ]
  },
  {
   "cell_type": "markdown",
   "metadata": {},
   "source": [
    "可以使用任何一种方法来创建复数。\n",
    "\n",
    "以下代码使用了cmath模块中相关的数学函数对复数进行运算："
   ]
  },
  {
   "cell_type": "code",
   "execution_count": 107,
   "metadata": {},
   "outputs": [
    {
     "data": {
      "text/plain": [
       "(1.6741492280355401+0.8959774761298381j)"
      ]
     },
     "execution_count": 107,
     "metadata": {},
     "output_type": "execute_result"
    }
   ],
   "source": [
    "cmath.sqrt(c)"
   ]
  },
  {
   "cell_type": "code",
   "execution_count": 108,
   "metadata": {},
   "outputs": [
    {
     "data": {
      "text/plain": [
       "(1.2824746787307684+0.982793723247329j)"
      ]
     },
     "execution_count": 108,
     "metadata": {},
     "output_type": "execute_result"
    }
   ],
   "source": [
    "cmath.log(c)"
   ]
  },
  {
   "cell_type": "code",
   "execution_count": 109,
   "metadata": {},
   "outputs": [
    {
     "data": {
      "text/plain": [
       "(-7.315110094901103+1.0427436562359045j)"
      ]
     },
     "execution_count": 109,
     "metadata": {},
     "output_type": "execute_result"
    }
   ],
   "source": [
    "cmath.exp(c)"
   ]
  },
  {
   "cell_type": "markdown",
   "metadata": {},
   "source": [
    "从以上结果可见，运算的结果仍然是一个复数对象。\n",
    "\n"
   ]
  }
 ],
 "metadata": {
  "kernelspec": {
   "display_name": "Python 3",
   "language": "python",
   "name": "python3"
  },
  "language_info": {
   "codemirror_mode": {
    "name": "ipython",
    "version": 3
   },
   "file_extension": ".py",
   "mimetype": "text/x-python",
   "name": "python",
   "nbconvert_exporter": "python",
   "pygments_lexer": "ipython3",
   "version": "3.8.3"
  }
 },
 "nbformat": 4,
 "nbformat_minor": 4
}
