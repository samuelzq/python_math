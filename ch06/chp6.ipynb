{
 "cells": [
  {
   "cell_type": "markdown",
   "metadata": {},
   "source": [
    "# 第6章\t类和面向对象编程\n",
    "\n",
    "\n",
    "## 6.1\t代表数学公式的类\n",
    "如果需要评估不同物体间引力和距离的关系，则需要为m1和m2引入不同的值。我们定义一个以r为入参的函数，在函数内部计算引力值并将其返回"
   ]
  },
  {
   "cell_type": "code",
   "execution_count": 1,
   "metadata": {},
   "outputs": [],
   "source": [
    "from scipy.constants import G\n",
    "\n",
    "m1 = 0.5\n",
    "m2 = 1.5\n",
    "\n",
    "def uni_gravity1(r):\n",
    "    \"\"\"\n",
    "    计算两物体之间的万有引力\n",
    "    \n",
    "    参数\n",
    "    ____\n",
    "    r: float\n",
    "        两物体之间的距离\n",
    "        \n",
    "    返回值\n",
    "    ____\n",
    "    G: float\n",
    "        两物体之间的万有引力\n",
    "    \"\"\"\n",
    "    return m1*m2*G/r**2\n"
   ]
  },
  {
   "cell_type": "markdown",
   "metadata": {},
   "source": [
    "也可以将m1和m2也作为函数入参。代码如下"
   ]
  },
  {
   "cell_type": "code",
   "execution_count": 2,
   "metadata": {},
   "outputs": [],
   "source": [
    "def uni_gravity2(r, m1=0.5, m2=1.5):\n",
    "    \"\"\"\n",
    "    计算两物体之间的万有引力\n",
    "    \n",
    "    参数\n",
    "    ____\n",
    "    r: float\n",
    "        两物体之间的距离\n",
    "    m1: float\n",
    "        第一个物体的质量\n",
    "    m2: float\n",
    "        第二个物体的质量\n",
    "        \n",
    "    返回值\n",
    "    ____\n",
    "    G: float\n",
    "        两物体之间的万有引力\n",
    "    \"\"\"\n",
    "    return m1*m2*G/r**2\n"
   ]
  },
  {
   "cell_type": "markdown",
   "metadata": {},
   "source": [
    "我们可以将公式6-1定义成UniGravity类"
   ]
  },
  {
   "cell_type": "code",
   "execution_count": 3,
   "metadata": {},
   "outputs": [],
   "source": [
    "class UniGravity:\n",
    "    \"\"\"\n",
    "    两物体之间的万有引力\n",
    "\n",
    "    ...\n",
    "\n",
    "    属性\n",
    "    ----\n",
    "    m1: float\n",
    "        物体1的质量。\n",
    "    m2: float\n",
    "        物体2的质量。\n",
    "\n",
    "    Methods\n",
    "    -------\n",
    "    value(r)\n",
    "        两物体之间在距离r时的万有引力。\n",
    "\n",
    "    \"\"\"\n",
    "    def __init__(self, m1, m2):\n",
    "        self.m1 = m1\n",
    "        self.m2 = m2\n",
    "\n",
    "    def value(self, r):\n",
    "        return self.m1*self.m2*G/r**2\n"
   ]
  },
  {
   "cell_type": "code",
   "execution_count": 4,
   "metadata": {},
   "outputs": [
    {
     "data": {
      "text/plain": [
       "__main__.UniGravity"
      ]
     },
     "execution_count": 4,
     "metadata": {},
     "output_type": "execute_result"
    }
   ],
   "source": [
    "g1 = UniGravity(0.1, 3.5)\n",
    "type(g1)\n"
   ]
  },
  {
   "cell_type": "code",
   "execution_count": 5,
   "metadata": {},
   "outputs": [],
   "source": [
    "# 定义新的对象\n",
    "g2 = UniGravity(1.2, 2.4)"
   ]
  },
  {
   "cell_type": "markdown",
   "metadata": {},
   "source": [
    "g2是不同于g1的新实例，它的属性是m1=1.2kg和m2=2.4kg。当然，也可以创建具有相同属性的不同实例，"
   ]
  },
  {
   "cell_type": "code",
   "execution_count": 6,
   "metadata": {},
   "outputs": [
    {
     "name": "stdout",
     "output_type": "stream",
     "text": [
      "<__main__.UniGravity object at 0x000001378C25C610>\n",
      "<__main__.UniGravity object at 0x000001378C25CE20>\n"
     ]
    },
    {
     "data": {
      "text/plain": [
       "False"
      ]
     },
     "execution_count": 6,
     "metadata": {},
     "output_type": "execute_result"
    }
   ],
   "source": [
    "g3 = UniGravity(0.1, 3.5)\n",
    "print(g1)\n",
    "print(g3)\n",
    "g1 == g3"
   ]
  },
  {
   "cell_type": "code",
   "execution_count": 7,
   "metadata": {},
   "outputs": [
    {
     "name": "stdout",
     "output_type": "stream",
     "text": [
      "2.336005e-15\n",
      "1.9221983999999995e-14\n",
      "2.336005e-15\n"
     ]
    }
   ],
   "source": [
    "print(g1.value(100))\n",
    "print(g2.value(100))\n",
    "print(g3.value(100))"
   ]
  },
  {
   "cell_type": "markdown",
   "metadata": {},
   "source": [
    "自定义一个变量来记录G"
   ]
  },
  {
   "cell_type": "code",
   "execution_count": 8,
   "metadata": {},
   "outputs": [],
   "source": [
    "class UniGravity:\n",
    "    def __init__(self, m1, m2):\n",
    "        self.m1 = m1\n",
    "        self.m2 = m2\n",
    "\n",
    "    def value(self, r):\n",
    "        G = 6.67e-11\n",
    "        return self.m1*self.m2*G/r**2\n"
   ]
  },
  {
   "cell_type": "markdown",
   "metadata": {},
   "source": [
    "常量被放置的位置最好在初始化方法__init__()内"
   ]
  },
  {
   "cell_type": "code",
   "execution_count": 9,
   "metadata": {},
   "outputs": [],
   "source": [
    "class UniGravity:\n",
    "    def __init__(self, m1, m2):\n",
    "        G = 6.67e-11\n",
    "        self.m = m1 * m2 * G\n",
    "\n",
    "    def value(self, r):\n",
    "        return self.m/r**2\n"
   ]
  },
  {
   "cell_type": "markdown",
   "metadata": {},
   "source": [
    "为不同的质量组合创建不同的实例，然后利用相同的方法求它们在不同距离下的引力值"
   ]
  },
  {
   "cell_type": "code",
   "execution_count": 10,
   "metadata": {},
   "outputs": [
    {
     "data": {
      "image/png": "[encoded data removed]",
      "text/plain": [
       "<Figure size 432x288 with 1 Axes>"
      ]
     },
     "metadata": {
      "needs_background": "light"
     },
     "output_type": "display_data"
    }
   ],
   "source": [
    "import matplotlib.pyplot as plt\n",
    "g1 = UniGravity(0.1, 3.5)\n",
    "g2 = UniGravity(1.2, 2.4)\n",
    "\n",
    "r = []\n",
    "g1_list = []\n",
    "g2_list = []\n",
    "for i in range(50, 1000, 50):\n",
    "    r.append(i)\n",
    "    g1_list.append(g1.value(i))\n",
    "    g2_list.append(g2.value(i))\n",
    "plt.plot(r, g1_list, c='b', ls='-', \n",
    "         label=\"m1=01, m2=3.5\")       # 蓝色实线\n",
    "plt.plot(r, g2_list, c='k', ls='-.',  # 黑色点划线\n",
    "         label=\"m1=1.2, m2=2.4\")\n",
    "plt.legend(loc='best')\n",
    "plt.show()\n"
   ]
  },
  {
   "cell_type": "markdown",
   "metadata": {},
   "source": [
    "## 6.2\t类的通用格式\n",
    "通用的模板"
   ]
  },
  {
   "cell_type": "raw",
   "metadata": {},
   "source": [
    "class MyClass:\n",
    "     # 类属性\n",
    "     class_var1 = 0\n",
    "     class_var2 = 0\n",
    "\n",
    "    def __init__(self, p1, p2,...):\n",
    "        # 构造函数，创建类的实例的属性\n",
    "        self.attr1 = p1\n",
    "        self.attr2 = p2\n",
    "\n",
    "        # 访问类属性，前缀是类名称\n",
    "        MyClass.class_var1 += 1\n",
    "        ...\n",
    "\n",
    "    def method1(self, arg):\n",
    "        # 请注意前缀self\n",
    "        result = self.attr1 + ......\n",
    "\n",
    "        # 创建新的对象属性\n",
    "        if desired\n",
    "            self.attrx = arg...\n",
    "        return result\n",
    "\n",
    "    def method2(self):\n",
    "        # self必须是第一个入参\n",
    "        ...\n",
    "        print(...)\n"
   ]
  },
  {
   "cell_type": "markdown",
   "metadata": {},
   "source": [
    "## 6.3\t受保护的类属性\n",
    "\n",
    "关于学生信息的类需要封装学生的名称、学号和各科成绩，并且还需要提供用于存入，提取和打印有关某为学生信息的方法。 定义此类的代码如下所示："
   ]
  },
  {
   "cell_type": "code",
   "execution_count": 11,
   "metadata": {},
   "outputs": [],
   "source": [
    "class Student():\n",
    "    \"\"\"\n",
    "    学生类\n",
    "    \n",
    "    ...\n",
    "    类属性\n",
    "    _____\n",
    "    class_name: string\n",
    "        ‘Student’\n",
    "    stu_count: int\n",
    "        学生的总数\n",
    "    \n",
    "    实例属性\n",
    "    ________\n",
    "    no: int\n",
    "        学号\n",
    "    name: string\n",
    "        姓名\n",
    "    age: int\n",
    "        年龄\n",
    "    score: float\n",
    "        成绩\n",
    "    grage: int\n",
    "        年级\n",
    "        \n",
    "    方法\n",
    "    ____\n",
    "    displayCount:\n",
    "        输出当前学生总数\n",
    "    set_score：\n",
    "        修改某学生的分数\n",
    "    print_socre：\n",
    "        输出某学生的分数\n",
    "    \"\"\"\n",
    "    # 类名称\n",
    "    class_name = 'Student'\n",
    "    # 学生总数\n",
    "    stu_count = 0\n",
    "\n",
    "    def __init__ (self, no, name, age, score, grade):\n",
    "        self.no = no\n",
    "        self.name = name\n",
    "        self.age = age\n",
    "        self.score = score\n",
    "        self.grade = grade\n",
    "        Student.stu_count += 1\n",
    "\n",
    "    def displayCount(self):\n",
    "        print(\"Total students %d\" % (Student.stu_count))\n",
    "\n",
    "    def set_score (self, score):\n",
    "        self.score = score\n",
    "\n",
    "    def print_socre(self):\n",
    "        print(\"%s: %s\" % (self.name, self.score))   \n"
   ]
  },
  {
   "cell_type": "markdown",
   "metadata": {},
   "source": [
    "创建两个不同的Student 实例，并调用类的各种方法来输出信息"
   ]
  },
  {
   "cell_type": "code",
   "execution_count": 12,
   "metadata": {},
   "outputs": [
    {
     "name": "stdout",
     "output_type": "stream",
     "text": [
      "Richard: 95.5\n",
      "Sam: 86\n",
      "Total students 2\n"
     ]
    }
   ],
   "source": [
    "stu1 = Student(1, 'Richard', 10, 95.5, 5)\n",
    "stu2 = Student(2, 'Sam', 13, 86, 7)\n",
    "stu1.print_socre()\n",
    "stu2.print_socre()\n",
    "stu2.displayCount()    \n"
   ]
  },
  {
   "cell_type": "markdown",
   "metadata": {},
   "source": [
    "如果某一位学生的成绩需要更改，可以像如下代码一样更改学生的属性："
   ]
  },
  {
   "cell_type": "code",
   "execution_count": 13,
   "metadata": {},
   "outputs": [
    {
     "name": "stdout",
     "output_type": "stream",
     "text": [
      "Richard: 87\n"
     ]
    }
   ],
   "source": [
    "stu1.score = 87\n",
    "stu1.print_socre()\n"
   ]
  },
  {
   "cell_type": "markdown",
   "metadata": {},
   "source": [
    "在大型软件系统中，以这种方式直接操纵属性通常会导致出错。它被认为是一种不良的编程风格。因为这种操控方式有一个隐含的缺陷，请看如下代码："
   ]
  },
  {
   "cell_type": "code",
   "execution_count": 14,
   "metadata": {},
   "outputs": [
    {
     "name": "stdout",
     "output_type": "stream",
     "text": [
      "Joe: 87\n"
     ]
    }
   ],
   "source": [
    "stu1.name = 'Joe'\n",
    "stu1.print_socre()\n"
   ]
  },
  {
   "cell_type": "markdown",
   "metadata": {},
   "source": [
    "将所有的属性都改为私有属性"
   ]
  },
  {
   "cell_type": "code",
   "execution_count": 15,
   "metadata": {},
   "outputs": [
    {
     "ename": "AttributeError",
     "evalue": "'Student' object has no attribute '__socre'",
     "output_type": "error",
     "traceback": [
      "\u001b[1;31m---------------------------------------------------------------------------\u001b[0m",
      "\u001b[1;31mAttributeError\u001b[0m                            Traceback (most recent call last)",
      "\u001b[1;32m<ipython-input-15-192dac85f9e8>\u001b[0m in \u001b[0;36m<module>\u001b[1;34m\u001b[0m\n\u001b[0;32m     25\u001b[0m \u001b[1;33m\u001b[0m\u001b[0m\n\u001b[0;32m     26\u001b[0m \u001b[0mstu1\u001b[0m \u001b[1;33m=\u001b[0m \u001b[0mStudent\u001b[0m\u001b[1;33m(\u001b[0m\u001b[1;36m1\u001b[0m\u001b[1;33m,\u001b[0m \u001b[1;34m'Richard'\u001b[0m\u001b[1;33m,\u001b[0m \u001b[1;36m10\u001b[0m\u001b[1;33m,\u001b[0m \u001b[1;36m95.5\u001b[0m\u001b[1;33m,\u001b[0m \u001b[1;36m5\u001b[0m\u001b[1;33m)\u001b[0m\u001b[1;33m\u001b[0m\u001b[1;33m\u001b[0m\u001b[0m\n\u001b[1;32m---> 27\u001b[1;33m \u001b[0mprint\u001b[0m\u001b[1;33m(\u001b[0m\u001b[0mstu1\u001b[0m\u001b[1;33m.\u001b[0m\u001b[0m__socre\u001b[0m\u001b[1;33m)\u001b[0m\u001b[1;33m\u001b[0m\u001b[1;33m\u001b[0m\u001b[0m\n\u001b[0m",
      "\u001b[1;31mAttributeError\u001b[0m: 'Student' object has no attribute '__socre'"
     ]
    }
   ],
   "source": [
    "class Student():\n",
    "    # 类名称\n",
    "    __class_name = 'Student'\n",
    "    # 学生总数\n",
    "    __stu_count = 0\n",
    "    def __init__ (self, no, name, age, score, grade):\n",
    "        self.__no = no\n",
    "        self.__name = name\n",
    "        self.__age = age\n",
    "        self.__score = score\n",
    "        self.__grade = grade\n",
    "        Student.__stu_count += 1\n",
    "\n",
    "    def displayCount(self):\n",
    "        print(\"Total students %d\" % (Student.__stu_count))\n",
    "    \n",
    "    def set_score(self, score):\n",
    "        self.__score = score\n",
    "\n",
    "    def get_score(self, score):\n",
    "        return self.__score\n",
    "\n",
    "    def print_socre(self):\n",
    "        print(\"%s: %s\" % (self.__name, self.__score))\n",
    "\n",
    "stu1 = Student(1, 'Richard', 10, 95.5, 5)\n",
    "print(stu1.__socre)\n"
   ]
  },
  {
   "cell_type": "markdown",
   "metadata": {},
   "source": [
    "虽然直接访问私有属性会引发错误，但是下面的代码却可以正常执行："
   ]
  },
  {
   "cell_type": "code",
   "execution_count": 16,
   "metadata": {},
   "outputs": [
    {
     "name": "stdout",
     "output_type": "stream",
     "text": [
      "97\n",
      "Richard: 95.5\n"
     ]
    }
   ],
   "source": [
    "stu1.__score = 97\n",
    "print(stu1.__score)\n",
    "stu1.print_socre()\n"
   ]
  },
  {
   "cell_type": "markdown",
   "metadata": {},
   "source": [
    "访问私有属性"
   ]
  },
  {
   "cell_type": "code",
   "execution_count": 17,
   "metadata": {},
   "outputs": [
    {
     "data": {
      "text/plain": [
       "99"
      ]
     },
     "execution_count": 17,
     "metadata": {},
     "output_type": "execute_result"
    }
   ],
   "source": [
    "stu2 = Student(2, 'Lily', 11, 99, 7)\n",
    "stu2._Student__score\n"
   ]
  },
  {
   "cell_type": "markdown",
   "metadata": {},
   "source": [
    "## 6.4\t对象属性和类属性\n",
    "\n",
    "访问类属性"
   ]
  },
  {
   "cell_type": "code",
   "execution_count": 18,
   "metadata": {},
   "outputs": [
    {
     "name": "stdout",
     "output_type": "stream",
     "text": [
      "Student\n",
      "Student\n",
      "Total students 2\n",
      "Total students 2\n"
     ]
    }
   ],
   "source": [
    "print(stu1._Student__class_name)\n",
    "print(stu2._Student__class_name)\n",
    "stu1.displayCount()\n",
    "stu2.displayCount()         \n"
   ]
  },
  {
   "cell_type": "markdown",
   "metadata": {},
   "source": [
    "## 6.5\t特殊方法\n",
    "\n",
    "\n",
    "### 6.5.1\t__call__\n",
    "为UniGravity添加__call__方法"
   ]
  },
  {
   "cell_type": "code",
   "execution_count": 19,
   "metadata": {},
   "outputs": [
    {
     "name": "stdout",
     "output_type": "stream",
     "text": [
      "2.1357759999999998e-16\n"
     ]
    }
   ],
   "source": [
    "class UniGravity:\n",
    "    def __init__(self, m1, m2):\n",
    "        self.m1 = m1\n",
    "        self.m2 = m2\n",
    "        \n",
    "    def __call__(self, r):\n",
    "        return self.m1*self.m2*G/r**2\n",
    "\n",
    "g1 = UniGravity(1.0, 3.2)\n",
    "print(g1(1000))\n"
   ]
  },
  {
   "cell_type": "code",
   "execution_count": 20,
   "metadata": {},
   "outputs": [
    {
     "name": "stdout",
     "output_type": "stream",
     "text": [
      "1.999733711954832\n",
      "0.0\n",
      "-1.000088900582341\n"
     ]
    }
   ],
   "source": [
    "from math import *\n",
    "\n",
    "class Derivative2:\n",
    "    \"\"\"\n",
    "    求二阶导数的类\n",
    "    \"\"\"\n",
    "    def __init__(self, f, h=1E-6):\n",
    "        self.f = f\n",
    "        self.h = float(h)\n",
    "\n",
    "    def __call__(self, x):\n",
    "        f, h = self.f, self.h      # 代码简洁一些\n",
    "        r = (f(x-h) - 2*f(x) + f(x+h))/float(h*h)\n",
    "        return r\n",
    "\n",
    "def f(x):\n",
    "    return x**2 - 1\n",
    "\n",
    "d2f = Derivative2(f)\n",
    "d2sin = Derivative2(sin)\n",
    "print(d2f(1.5))       # 自定义函数在1.5处的二阶导数\n",
    "print(d2sin(pi))      # sin()在pi的二阶导数\n",
    "print(d2sin(pi/2))    # sin()在pi/2的二阶导数\n"
   ]
  },
  {
   "cell_type": "markdown",
   "metadata": {},
   "source": [
    "### 6.5.2\t__del__\n",
    "析构函数"
   ]
  },
  {
   "cell_type": "code",
   "execution_count": 21,
   "metadata": {},
   "outputs": [
    {
     "name": "stdout",
     "output_type": "stream",
     "text": [
      "Delete an instance of class Derivative2\n"
     ]
    }
   ],
   "source": [
    "class Derivative2:\n",
    "    \"\"\"\n",
    "    求二阶导数的类\n",
    "    \"\"\"\n",
    "\n",
    "    def __init__(self, f, h=1E-6):\n",
    "        pass\n",
    "        \n",
    "    def __del__(self):\n",
    "        print(\"Delete an instance of class Derivative2\")\n",
    "\n",
    "df = Derivative2(f)\n",
    "del df\n",
    "\n"
   ]
  },
  {
   "cell_type": "markdown",
   "metadata": {},
   "source": [
    "### 6.5.3\t__str__\n",
    "__str__方法"
   ]
  },
  {
   "cell_type": "code",
   "execution_count": 22,
   "metadata": {},
   "outputs": [
    {
     "name": "stdout",
     "output_type": "stream",
     "text": [
      "2.803206e-13\n",
      "m1 * m2 * G / r * r; m1 = 1.2; m2 = 35\n"
     ]
    }
   ],
   "source": [
    "class UniGravity:\n",
    "    def __init__(self, m1, m2):\n",
    "        self.m1 = m1\n",
    "        self.m2 = m2\n",
    "\n",
    "    def __call__(self, r):\n",
    "        return self.m1*self.m2*G/r**2\n",
    "\n",
    "    def __str__(self): \n",
    "        return 'm1 * m2 * G / r * r; '\\\n",
    "               'm1 = %g; m2 = %g' % (self.m1, self.m2)         \n",
    "\n",
    "g=UniGravity(1.2, 35)\n",
    "print(g(100))\n",
    "print(g)"
   ]
  },
  {
   "cell_type": "markdown",
   "metadata": {},
   "source": [
    "### 6.5.4\t__repr__"
   ]
  },
  {
   "cell_type": "code",
   "execution_count": 23,
   "metadata": {},
   "outputs": [
    {
     "name": "stdout",
     "output_type": "stream",
     "text": [
      "UniGravity(1.200000, 35.000000)\n",
      "m1 * m2 * G / r * r; m1 = 1.2; m2 = 35\n"
     ]
    }
   ],
   "source": [
    "class UniGravity:\n",
    "    def __init__(self, m1, m2):\n",
    "        self.m1 = m1\n",
    "        self.m2 = m2\n",
    "\n",
    "    def __call__(self, r):\n",
    "        return self.m1*self.m2*G/r**2\n",
    "\n",
    "    def __str__(self):\n",
    "        return 'm1 * m2 * G / r * r; '\\\n",
    "               'm1 = %g; m2 = %g' % (self.m1, self.m2)\n",
    "\n",
    "    def __repr__(self):\n",
    "        return 'UniGravity(%f, %f)' % (self.m1, self.m2)\n",
    "\n",
    "g1 = UniGravity(1.2, 35)\n",
    "g = repr(g1)\n",
    "g2 = eval(g)\n",
    "print(g)\n",
    "print(g2)         \n"
   ]
  },
  {
   "cell_type": "markdown",
   "metadata": {},
   "source": [
    "### 6.5.5\t__abs__"
   ]
  },
  {
   "cell_type": "code",
   "execution_count": 24,
   "metadata": {},
   "outputs": [
    {
     "data": {
      "text/plain": [
       "5.0"
      ]
     },
     "execution_count": 24,
     "metadata": {},
     "output_type": "execute_result"
    }
   ],
   "source": [
    "class Vector:\n",
    "    def __init__(self, x_comp, y_comp):\n",
    "        self.x_comp = x_comp\n",
    "        self.y_comp = y_comp\n",
    "\n",
    "    def __abs__(self):\n",
    "        return (self.x_comp ** 2 + self.y_comp ** 2) ** 0.5\n",
    "\n",
    "vector = Vector(3, 4)\n",
    "abs(vector)\n"
   ]
  },
  {
   "cell_type": "markdown",
   "metadata": {},
   "source": [
    "## Python的类和静态方法\n"
   ]
  },
  {
   "cell_type": "code",
   "execution_count": 25,
   "metadata": {},
   "outputs": [],
   "source": [
    "class MyClass:\n",
    "    def method(self):\n",
    "        return 'instance method called', self\n",
    "\n",
    "    @classmethod\n",
    "    def classmethod(cls):\n",
    "        return 'class method called', cls\n",
    "\n",
    "    @staticmethod\n",
    "    def staticmethod():\n",
    "        return 'static method called'"
   ]
  },
  {
   "cell_type": "markdown",
   "metadata": {},
   "source": [
    "\n",
    "下面代码调用一个实例方法："
   ]
  },
  {
   "cell_type": "code",
   "execution_count": 26,
   "metadata": {},
   "outputs": [
    {
     "data": {
      "text/plain": [
       "('instance method called', <__main__.MyClass at 0x1378d062fd0>)"
      ]
     },
     "execution_count": 26,
     "metadata": {},
     "output_type": "execute_result"
    }
   ],
   "source": [
    "obj = MyClass()\n",
    "obj.method()"
   ]
  },
  {
   "cell_type": "markdown",
   "metadata": {},
   "source": [
    "接下来的代码是类方法："
   ]
  },
  {
   "cell_type": "code",
   "execution_count": 27,
   "metadata": {},
   "outputs": [
    {
     "data": {
      "text/plain": [
       "('class method called', __main__.MyClass)"
      ]
     },
     "execution_count": 27,
     "metadata": {},
     "output_type": "execute_result"
    }
   ],
   "source": [
    "obj.classmethod()"
   ]
  },
  {
   "cell_type": "markdown",
   "metadata": {},
   "source": [
    "    \n",
    "接下来代码是静态方法：\n",
    "    "
   ]
  },
  {
   "cell_type": "code",
   "execution_count": 28,
   "metadata": {},
   "outputs": [
    {
     "data": {
      "text/plain": [
       "'static method called'"
      ]
     },
     "execution_count": 28,
     "metadata": {},
     "output_type": "execute_result"
    }
   ],
   "source": [
    "obj.staticmethod()"
   ]
  },
  {
   "cell_type": "markdown",
   "metadata": {},
   "source": [
    "在类本身上调用这些方法时会发生什么："
   ]
  },
  {
   "cell_type": "code",
   "execution_count": 29,
   "metadata": {},
   "outputs": [
    {
     "data": {
      "text/plain": [
       "('class method called', __main__.MyClass)"
      ]
     },
     "execution_count": 29,
     "metadata": {},
     "output_type": "execute_result"
    }
   ],
   "source": [
    "MyClass.classmethod()"
   ]
  },
  {
   "cell_type": "code",
   "execution_count": 30,
   "metadata": {},
   "outputs": [
    {
     "data": {
      "text/plain": [
       "'static method called'"
      ]
     },
     "execution_count": 30,
     "metadata": {},
     "output_type": "execute_result"
    }
   ],
   "source": [
    "MyClass.staticmethod()\n"
   ]
  },
  {
   "cell_type": "code",
   "execution_count": 31,
   "metadata": {},
   "outputs": [
    {
     "ename": "TypeError",
     "evalue": "method() missing 1 required positional argument: 'self'",
     "output_type": "error",
     "traceback": [
      "\u001b[1;31m---------------------------------------------------------------------------\u001b[0m",
      "\u001b[1;31mTypeError\u001b[0m                                 Traceback (most recent call last)",
      "\u001b[1;32m<ipython-input-31-88f17b4fa117>\u001b[0m in \u001b[0;36m<module>\u001b[1;34m\u001b[0m\n\u001b[1;32m----> 1\u001b[1;33m \u001b[0mMyClass\u001b[0m\u001b[1;33m.\u001b[0m\u001b[0mmethod\u001b[0m\u001b[1;33m(\u001b[0m\u001b[1;33m)\u001b[0m\u001b[1;33m\u001b[0m\u001b[1;33m\u001b[0m\u001b[0m\n\u001b[0m",
      "\u001b[1;31mTypeError\u001b[0m: method() missing 1 required positional argument: 'self'"
     ]
    }
   ],
   "source": [
    "MyClass.method()"
   ]
  },
  {
   "cell_type": "markdown",
   "metadata": {},
   "source": [
    "以下代码是一个pizza类：\n"
   ]
  },
  {
   "cell_type": "code",
   "execution_count": 32,
   "metadata": {},
   "outputs": [],
   "source": [
    "class Pizza:\n",
    "    def __init__(self, ingredients):\n",
    "        self.ingredients = ingredients\n",
    "\n",
    "    def __repr__(self):\n",
    "        return 'Pizza(%s})' % self.ingredients"
   ]
  },
  {
   "cell_type": "code",
   "execution_count": 33,
   "metadata": {},
   "outputs": [],
   "source": [
    "p = Pizza(['cheese', 'tomatoes'])"
   ]
  },
  {
   "cell_type": "code",
   "execution_count": 34,
   "metadata": {},
   "outputs": [
    {
     "data": {
      "text/plain": [
       "Pizza(['cheese', 'tomatoes']})"
      ]
     },
     "execution_count": 34,
     "metadata": {},
     "output_type": "execute_result"
    }
   ],
   "source": [
    "p "
   ]
  },
  {
   "cell_type": "code",
   "execution_count": 35,
   "metadata": {},
   "outputs": [
    {
     "data": {
      "text/plain": [
       "\"Pizza(['cheese', 'tomatoes']})\""
      ]
     },
     "execution_count": 35,
     "metadata": {},
     "output_type": "execute_result"
    }
   ],
   "source": [
    "repr(p)"
   ]
  },
  {
   "cell_type": "markdown",
   "metadata": {},
   "source": [
    "现实中披萨有许多美味的变化，以下代码定义了多种披萨："
   ]
  },
  {
   "cell_type": "code",
   "execution_count": 36,
   "metadata": {},
   "outputs": [
    {
     "data": {
      "text/plain": [
       "Pizza(['mozzarella', 'mozzarella', 'mozzarella', 'mozzarella']})"
      ]
     },
     "execution_count": 36,
     "metadata": {},
     "output_type": "execute_result"
    }
   ],
   "source": [
    "Pizza(['mozzarella', 'tomatoes'])\n",
    "Pizza(['mozzarella', 'tomatoes', 'ham', 'mushrooms'])\n",
    "Pizza(['mozzarella'] * 4)"
   ]
  },
  {
   "cell_type": "markdown",
   "metadata": {},
   "source": [
    "将类方法作为工厂函数，用于创建不同种类的披萨。代码如下："
   ]
  },
  {
   "cell_type": "code",
   "execution_count": 37,
   "metadata": {},
   "outputs": [],
   "source": [
    "class Pizza:\n",
    "    def __init__(self, ingredients):\n",
    "        self.ingredients = ingredients\n",
    "\n",
    "    def __repr__(self):\n",
    "        return f'Pizza({self.ingredients!r})'\n",
    "\n",
    "    @classmethod\n",
    "    def margherita(cls):\n",
    "        return cls(['mozzarella', 'tomatoes'])\n",
    "\n",
    "    @classmethod\n",
    "    def prosciutto(cls):\n",
    "        return cls(['mozzarella', 'tomatoes', 'ham'])"
   ]
  },
  {
   "cell_type": "markdown",
   "metadata": {},
   "source": [
    "\n",
    "以下代码使用这些工厂函数创建新的对象："
   ]
  },
  {
   "cell_type": "code",
   "execution_count": 38,
   "metadata": {},
   "outputs": [
    {
     "data": {
      "text/plain": [
       "(Pizza(['mozzarella', 'tomatoes']), Pizza(['mozzarella', 'tomatoes', 'ham']))"
      ]
     },
     "execution_count": 38,
     "metadata": {},
     "output_type": "execute_result"
    }
   ],
   "source": [
    "Pizza.margherita(), Pizza.prosciutto()\n"
   ]
  },
  {
   "cell_type": "code",
   "execution_count": null,
   "metadata": {},
   "outputs": [],
   "source": []
  },
  {
   "cell_type": "markdown",
   "metadata": {},
   "source": [
    "\n",
    "\n",
    "接下来的代码新增了静态方法："
   ]
  },
  {
   "cell_type": "code",
   "execution_count": 39,
   "metadata": {},
   "outputs": [
    {
     "data": {
      "text/plain": [
       "50.26548245743669"
      ]
     },
     "execution_count": 39,
     "metadata": {},
     "output_type": "execute_result"
    }
   ],
   "source": [
    "import math\n",
    "\n",
    "class Pizza:\n",
    "    def __init__(self, radius, ingredients):\n",
    "        self.radius = radius\n",
    "        self.ingredients = ingredients\n",
    "\n",
    "    def __repr__(self):\n",
    "        return (f'Pizza({self.radius!r}, '\n",
    "                f'{self.ingredients!r})')\n",
    "\n",
    "    def area(self):\n",
    "        return self.circle_area(self.radius)\n",
    "\n",
    "    @staticmethod\n",
    "    def circle_area(r):\n",
    "        return r ** 2 * math.pi\n",
    "p = Pizza(4, ['mozzarella', 'tomatoes'])\n",
    "p.area()"
   ]
  },
  {
   "cell_type": "code",
   "execution_count": 40,
   "metadata": {},
   "outputs": [
    {
     "data": {
      "text/plain": [
       "50.26548245743669"
      ]
     },
     "execution_count": 40,
     "metadata": {},
     "output_type": "execute_result"
    }
   ],
   "source": [
    "Pizza.circle_area(4)"
   ]
  },
  {
   "cell_type": "markdown",
   "metadata": {},
   "source": [
    "##\t如何知道类的内容\n",
    "\n"
   ]
  },
  {
   "cell_type": "code",
   "execution_count": 41,
   "metadata": {},
   "outputs": [],
   "source": [
    "class A:\n",
    "    \"\"\"\n",
    "    一个类的例子\n",
    "    \"\"\"\n",
    "    def __init__(self, value):\n",
    "        self.v = value\n"
   ]
  },
  {
   "cell_type": "code",
   "execution_count": 42,
   "metadata": {},
   "outputs": [
    {
     "data": {
      "text/plain": [
       "['__class__',\n",
       " '__delattr__',\n",
       " '__dict__',\n",
       " '__dir__',\n",
       " '__doc__',\n",
       " '__eq__',\n",
       " '__format__',\n",
       " '__ge__',\n",
       " '__getattribute__',\n",
       " '__gt__',\n",
       " '__hash__',\n",
       " '__init__',\n",
       " '__init_subclass__',\n",
       " '__le__',\n",
       " '__lt__',\n",
       " '__module__',\n",
       " '__ne__',\n",
       " '__new__',\n",
       " '__reduce__',\n",
       " '__reduce_ex__',\n",
       " '__repr__',\n",
       " '__setattr__',\n",
       " '__sizeof__',\n",
       " '__str__',\n",
       " '__subclasshook__',\n",
       " '__weakref__',\n",
       " 'v']"
      ]
     },
     "execution_count": 42,
     "metadata": {},
     "output_type": "execute_result"
    }
   ],
   "source": [
    "a = A(2)\n",
    "dir(a)\n"
   ]
  },
  {
   "cell_type": "code",
   "execution_count": 43,
   "metadata": {},
   "outputs": [
    {
     "name": "stdout",
     "output_type": "stream",
     "text": [
      "\n",
      "    一个类的例子\n",
      "    \n",
      "__main__\n",
      "{'v': 2}\n"
     ]
    }
   ],
   "source": [
    "print(a.__doc__)\n",
    "print(a.__module__)\n",
    "print(a.__dict__)\n"
   ]
  },
  {
   "cell_type": "code",
   "execution_count": 44,
   "metadata": {},
   "outputs": [
    {
     "name": "stdout",
     "output_type": "stream",
     "text": [
      "{'v': [1, 2]}\n",
      "{'v': [1, 2], 'myvar': 10}\n"
     ]
    }
   ],
   "source": [
    "a = A([1,2])\n",
    "print(a.__dict__)\n",
    "a.myvar = 10\n",
    "print(a.__dict__)\n"
   ]
  },
  {
   "cell_type": "markdown",
   "metadata": {},
   "source": [
    "## 6.8\t类的测试函数"
   ]
  },
  {
   "cell_type": "code",
   "execution_count": 45,
   "metadata": {},
   "outputs": [],
   "source": [
    "def test_Derivative2():\n",
    "    # 以下是一个二次函数的公式，其二阶导数与h无关\n",
    "    f = lambda x: a*x**2 + b\n",
    "    a=3.5; b=8\n",
    "    ddfdx = Derivative2(f, h=0.5)\n",
    "    diff = abs(ddfdx(4.5) - a)\n",
    "    assert diff < 1E-14, 'bug in class Derivative2, diff=%s' % diff\n"
   ]
  },
  {
   "cell_type": "markdown",
   "metadata": {},
   "source": [
    "## 6.9\t类层次结构和继承"
   ]
  },
  {
   "cell_type": "code",
   "execution_count": 46,
   "metadata": {},
   "outputs": [],
   "source": [
    "class Teacher:\n",
    "    \"\"\"\n",
    "    教师类\n",
    "    \n",
    "    ...\n",
    "    属性\n",
    "    ____\n",
    "    name: string\n",
    "        姓名\n",
    "    age: int\n",
    "        年龄\n",
    "    gender: string\n",
    "        性别\n",
    "    salary: int\n",
    "        薪资\n",
    "    course: string\n",
    "        所授课程\n",
    "    \n",
    "    方法\n",
    "    ____\n",
    "    tell:\n",
    "        列出某位教师的属性\n",
    "    teaching:\n",
    "        某位教师姓名即所授课程\n",
    "    \"\"\"\n",
    "\n",
    "    def __init__(self, name, age, gender, salary, course):\n",
    "        self.name = name\n",
    "        self.age = age\n",
    "        self.gender = gender\n",
    "        self.salary = salary\n",
    "        self.course = course\n",
    "\n",
    "    def __del__(self):\n",
    "        print(\"[%s] is resigned\" % self.__name)\n",
    "\n",
    "    def tell(self):\n",
    "        print('----%s----' % self.name)\n",
    "        for k, v in self.__dict__.items():\n",
    "            print(k, v)\n",
    "        print('----end-----') \n",
    "\n",
    "    def teaching(self):\n",
    "        print(\"Teacher [%s] is teaching [%s]\" % (self.name, self.course))"
   ]
  },
  {
   "cell_type": "code",
   "execution_count": 47,
   "metadata": {},
   "outputs": [],
   "source": [
    "class Student:\n",
    "    \"\"\"\n",
    "    学生类\n",
    "    \n",
    "    ...\n",
    "    属性\n",
    "    ____\n",
    "    name: string\n",
    "        姓名\n",
    "    age: int\n",
    "        年龄\n",
    "    gender: string\n",
    "        性别\n",
    "    tuition: int\n",
    "        学费\n",
    "    course: string\n",
    "        所上课程\n",
    "    credit: int\n",
    "        修得学分\n",
    "    \n",
    "    方法\n",
    "    ____\n",
    "    tell:\n",
    "        列出某位学生的属性\n",
    "    teaching:\n",
    "        某位学生姓名即所报课程\n",
    "    \"\"\"\n",
    "\n",
    "    def __init__(self, name, age, gender, course, tuition):\n",
    "\n",
    "        self.name = name\n",
    "        self.age = age\n",
    "        self.gender = gender\n",
    "        self.course = course\n",
    "        self.tuition = tuition\n",
    "        self.credit = 0\n",
    "\n",
    "    def __del__(self):\n",
    "        print(\"[%s] graduated\" % self.name)\n",
    "\n",
    "    def tell(self):\n",
    "        print('----%s----' % self.name)\n",
    "        for k, v in self.__dict__.items():\n",
    "            print(k, v)\n",
    "        print('----end-----') \n",
    "\n",
    "    def get_credit(self, credit):\n",
    "        print('student [%s] has just get [%s]' % (self.name, credit))\n",
    "        self.credit +=credit"
   ]
  },
  {
   "cell_type": "code",
   "execution_count": 48,
   "metadata": {},
   "outputs": [],
   "source": [
    "class SchoolMember:\n",
    "    \"\"\"\n",
    "    学校成员类\n",
    "    \n",
    "    ...\n",
    "    属性\n",
    "    ____\n",
    "    name: string\n",
    "        姓名\n",
    "    age: int\n",
    "        年龄\n",
    "    gender: string\n",
    "        性别\n",
    "    \n",
    "    方法\n",
    "    ____\n",
    "    tell:\n",
    "        列出该成员的属性\n",
    "    \n",
    "    \"\"\"\n",
    "    __member = 0\n",
    "\n",
    "    def __init__(self, name, age, gender):\n",
    "        self.name = name\n",
    "        self.age = age\n",
    "        self.gender  =  gender\n",
    "        self.__enroll()\n",
    "\n",
    "    def __del__(self):\n",
    "        self.__delist()\n",
    "\n",
    "    def __enroll(self):\n",
    "        # 注册\n",
    "        SchoolMember.__member += 1\n",
    "\n",
    "    def __delist(self):\n",
    "        # 注销\n",
    "        SchoolMember.__member -= 1\n",
    "\n",
    "    def tell(self):\n",
    "        print('----%s----' % self.name)\n",
    "        for k, v in self.__dict__.items():\n",
    "            print(k, v)\n",
    "        print('----end-----')"
   ]
  },
  {
   "cell_type": "code",
   "execution_count": 49,
   "metadata": {},
   "outputs": [],
   "source": [
    "class Teacher(SchoolMember):\n",
    "    \"\"\"\n",
    "    教师类\n",
    "    \n",
    "    ...\n",
    "    属性\n",
    "    ____\n",
    "    salary: int\n",
    "        薪资\n",
    "    course: string\n",
    "        所授课程\n",
    "    \n",
    "    方法\n",
    "    ____\n",
    "    teaching:\n",
    "        某位教师姓名即所授课程\n",
    "    \"\"\"\n",
    "    def __init__(self, name, age, gender, salary, course):\n",
    "        super(Teacher, self).__init__(name, age, gender)\n",
    "        self.salary = salary\n",
    "        self.course = course\n",
    "        print('A Teacher[%s] registered' % (self.name))\n",
    "\n",
    "    def __del__(self):\n",
    "        print('A Teacher[%s] deregistered' % (self.name))          \n",
    "        super(Teacher, self).__del__()\n",
    "\n",
    "    def teaching(self):\n",
    "        print('Teacher [%s] is teaching [%s]' % (self.__name, self.__course))\n",
    " "
   ]
  },
  {
   "cell_type": "code",
   "execution_count": 50,
   "metadata": {},
   "outputs": [],
   "source": [
    "class Student(SchoolMember):\n",
    "    \"\"\"\n",
    "    学生类\n",
    "    \n",
    "    ...\n",
    "    属性\n",
    "    ____\n",
    "    tuition: int\n",
    "        学费\n",
    "    course: string\n",
    "        所上课程\n",
    "    credit: int\n",
    "        修得学分\n",
    "    \n",
    "    方法\n",
    "    ____\n",
    "    teaching:\n",
    "        某位学生姓名即所报课程\n",
    "    \"\"\"\n",
    "\n",
    "    def __init__(self, name, age, gender, course, tuition):\n",
    "        super(Student, self).__init__(name, age, gender)\n",
    "        self.course = course\n",
    "        self.tuition = tuition\n",
    "        self.credit = 0\n",
    "        print('A Student[%s] registered' % (self.name))\n",
    "\n",
    "    def __del__(self):\n",
    "        print('A Student[%s] deregistered' % (self.name))\n",
    "        super(Student, self).__del__()\n",
    "\n",
    "    def get_credit(self, credit):\n",
    "        print('Student [%s] has just get [%s]' % (self.name, credit))\n",
    "        self.credit += credit"
   ]
  },
  {
   "cell_type": "code",
   "execution_count": 51,
   "metadata": {},
   "outputs": [
    {
     "name": "stdout",
     "output_type": "stream",
     "text": [
      "A Student[Richard] registered\n",
      "----Richard----\n",
      "name Richard\n",
      "age 12\n",
      "gender M\n",
      "course Math\n",
      "tuition 1200\n",
      "credit 0\n",
      "----end-----\n",
      "A Student[Richard] deregistered\n"
     ]
    }
   ],
   "source": [
    "s1 = Student('Richard', 12, 'M', 'Math', 1200)\n",
    "s1.tell()\n",
    "del s1\n"
   ]
  },
  {
   "cell_type": "code",
   "execution_count": 52,
   "metadata": {},
   "outputs": [
    {
     "name": "stdout",
     "output_type": "stream",
     "text": [
      "A Teacher[Sam] registered\n",
      "----Sam----\n",
      "name Sam\n",
      "age 36\n",
      "gender M\n",
      "salary Math\n",
      "course 12000\n",
      "----end-----\n",
      "A Teacher[Sam] deregistered\n"
     ]
    }
   ],
   "source": [
    "t1 = Teacher('Sam', 36, 'M', 'Math', 12000)\n",
    "t1.tell()\n",
    "del t1"
   ]
  },
  {
   "cell_type": "markdown",
   "metadata": {},
   "source": [
    "### 多重继承"
   ]
  },
  {
   "cell_type": "code",
   "execution_count": 53,
   "metadata": {},
   "outputs": [],
   "source": [
    "class Rectangle:\n",
    "    \"\"\"\n",
    "    矩形（基类）\n",
    "    \n",
    "    ...\n",
    "    属性\n",
    "    ____\n",
    "    length: float\n",
    "        长\n",
    "    width: float\n",
    "        宽\n",
    "        \n",
    "    方法\n",
    "    ____\n",
    "    area:\n",
    "        求面积\n",
    "    perimeter:\n",
    "        求周长\n",
    "    \"\"\"\n",
    "    def __init__(self, length, width):\n",
    "        self.length = length\n",
    "        self.width = width\n",
    "\n",
    "    def area(self):\n",
    "        return self.length * self.width\n",
    "\n",
    "    def perimeter(self):\n",
    "        return 2 * self.length + 2 * self.width\n",
    "\n",
    "class Square(Rectangle):\n",
    "    \"\"\"\n",
    "    正方形（继承自矩形）\n",
    "    \"\"\"\n",
    "    def __init__(self, length):\n",
    "        super().__init__(length, length)\n"
   ]
  },
  {
   "cell_type": "code",
   "execution_count": 54,
   "metadata": {},
   "outputs": [
    {
     "data": {
      "text/plain": [
       "(54, 27)"
      ]
     },
     "execution_count": 54,
     "metadata": {},
     "output_type": "execute_result"
    }
   ],
   "source": [
    "class Cube(Square):\n",
    "    \"\"\"\n",
    "    立方体，继承自正方形\n",
    "    \n",
    "    ...\n",
    "    \n",
    "    方法\n",
    "    ____\n",
    "    surface_area:\n",
    "        求表面积，每个面面积的6倍\n",
    "    volume：\n",
    "        求体积，一个面面积乘以边长\n",
    "    \"\"\"\n",
    "    def surface_area(self):\n",
    "        face_area = super().area()\n",
    "        return face_area * 6\n",
    "\n",
    "    def volume(self):\n",
    "        face_area = super().area()\n",
    "        return face_area * self.length \n",
    "\n",
    "cube = Cube(3)\n",
    "cube.surface_area(), cube.volume()\n"
   ]
  },
  {
   "cell_type": "code",
   "execution_count": 55,
   "metadata": {},
   "outputs": [],
   "source": [
    "class Rectangle:\n",
    "    def __init__(self, length, width):\n",
    "        self.length = length\n",
    "        self.width = width\n",
    "\n",
    "    def area(self):\n",
    "        return self.length * self.width\n",
    "\n",
    "    def perimeter(self):\n",
    "        return 2 * self.length + 2 * self.width\n",
    "\n",
    "class Square(Rectangle):\n",
    "    def __init__(self, length):\n",
    "        # super()第一个入参是Square\n",
    "        super(Square, self).__init__(length, length)\n"
   ]
  },
  {
   "cell_type": "code",
   "execution_count": 56,
   "metadata": {},
   "outputs": [],
   "source": [
    "class Cube(Square):\n",
    "    def surface_area(self):\n",
    "        face_area = super(Square, self).area()\n",
    "        return face_area * 6\n",
    "\n",
    "    def volume(self):\n",
    "        face_area = super(Square, self).area()\n",
    "        return face_area * self.length\n"
   ]
  },
  {
   "cell_type": "code",
   "execution_count": 57,
   "metadata": {},
   "outputs": [],
   "source": [
    "class Triangle:\n",
    "    \"\"\"\n",
    "    三角形（基类）\n",
    "    \"\"\"\n",
    "    def __init__(self, base, height):\n",
    "        self.base = base\n",
    "        self.height = height\n",
    "\n",
    "    def area(self):\n",
    "        return 0.5 * self.base * self.height\n",
    "\n",
    "class RightPyramid(Triangle, Square):\n",
    "    \"\"\"\n",
    "    金字塔，继承自三角形和正方形\n",
    "    \n",
    "    ...\n",
    "    属性\n",
    "    ————\n",
    "    base： float\n",
    "        底边长度\n",
    "    slant_height：float\n",
    "        斜高：侧面三角形底边上的高\n",
    "    \n",
    "    方法\n",
    "    ___\n",
    "    area():\n",
    "        金字塔的表面积（包括底部的正方形）\n",
    "    \"\"\"\n",
    "    def __init__(self, base, slant_height):\n",
    "        self.base = base\n",
    "        self.slant_height = slant_height\n",
    "\n",
    "    def area(self):\n",
    "        base_area = super().area()\n",
    "        perimeter = super().perimeter()\n",
    "        return 0.5 * perimeter * self.slant_height + base_area\n"
   ]
  },
  {
   "cell_type": "code",
   "execution_count": 58,
   "metadata": {},
   "outputs": [],
   "source": [
    "pyramid = RightPyramid(4, 5)"
   ]
  },
  {
   "cell_type": "code",
   "execution_count": 59,
   "metadata": {},
   "outputs": [
    {
     "ename": "AttributeError",
     "evalue": "'RightPyramid' object has no attribute 'height'",
     "output_type": "error",
     "traceback": [
      "\u001b[1;31m---------------------------------------------------------------------------\u001b[0m",
      "\u001b[1;31mAttributeError\u001b[0m                            Traceback (most recent call last)",
      "\u001b[1;32m<ipython-input-59-ca61fb199c11>\u001b[0m in \u001b[0;36m<module>\u001b[1;34m\u001b[0m\n\u001b[1;32m----> 1\u001b[1;33m \u001b[0mpyramid\u001b[0m\u001b[1;33m.\u001b[0m\u001b[0marea\u001b[0m\u001b[1;33m(\u001b[0m\u001b[1;33m)\u001b[0m\u001b[1;33m\u001b[0m\u001b[1;33m\u001b[0m\u001b[0m\n\u001b[0m",
      "\u001b[1;32m<ipython-input-57-e996cfcd886e>\u001b[0m in \u001b[0;36marea\u001b[1;34m(self)\u001b[0m\n\u001b[0;32m     32\u001b[0m \u001b[1;33m\u001b[0m\u001b[0m\n\u001b[0;32m     33\u001b[0m     \u001b[1;32mdef\u001b[0m \u001b[0marea\u001b[0m\u001b[1;33m(\u001b[0m\u001b[0mself\u001b[0m\u001b[1;33m)\u001b[0m\u001b[1;33m:\u001b[0m\u001b[1;33m\u001b[0m\u001b[1;33m\u001b[0m\u001b[0m\n\u001b[1;32m---> 34\u001b[1;33m         \u001b[0mbase_area\u001b[0m \u001b[1;33m=\u001b[0m \u001b[0msuper\u001b[0m\u001b[1;33m(\u001b[0m\u001b[1;33m)\u001b[0m\u001b[1;33m.\u001b[0m\u001b[0marea\u001b[0m\u001b[1;33m(\u001b[0m\u001b[1;33m)\u001b[0m\u001b[1;33m\u001b[0m\u001b[1;33m\u001b[0m\u001b[0m\n\u001b[0m\u001b[0;32m     35\u001b[0m         \u001b[0mperimeter\u001b[0m \u001b[1;33m=\u001b[0m \u001b[0msuper\u001b[0m\u001b[1;33m(\u001b[0m\u001b[1;33m)\u001b[0m\u001b[1;33m.\u001b[0m\u001b[0mperimeter\u001b[0m\u001b[1;33m(\u001b[0m\u001b[1;33m)\u001b[0m\u001b[1;33m\u001b[0m\u001b[1;33m\u001b[0m\u001b[0m\n\u001b[0;32m     36\u001b[0m         \u001b[1;32mreturn\u001b[0m \u001b[1;36m0.5\u001b[0m \u001b[1;33m*\u001b[0m \u001b[0mperimeter\u001b[0m \u001b[1;33m*\u001b[0m \u001b[0mself\u001b[0m\u001b[1;33m.\u001b[0m\u001b[0mslant_height\u001b[0m \u001b[1;33m+\u001b[0m \u001b[0mbase_area\u001b[0m\u001b[1;33m\u001b[0m\u001b[1;33m\u001b[0m\u001b[0m\n",
      "\u001b[1;32m<ipython-input-57-e996cfcd886e>\u001b[0m in \u001b[0;36marea\u001b[1;34m(self)\u001b[0m\n\u001b[0;32m      8\u001b[0m \u001b[1;33m\u001b[0m\u001b[0m\n\u001b[0;32m      9\u001b[0m     \u001b[1;32mdef\u001b[0m \u001b[0marea\u001b[0m\u001b[1;33m(\u001b[0m\u001b[0mself\u001b[0m\u001b[1;33m)\u001b[0m\u001b[1;33m:\u001b[0m\u001b[1;33m\u001b[0m\u001b[1;33m\u001b[0m\u001b[0m\n\u001b[1;32m---> 10\u001b[1;33m         \u001b[1;32mreturn\u001b[0m \u001b[1;36m0.5\u001b[0m \u001b[1;33m*\u001b[0m \u001b[0mself\u001b[0m\u001b[1;33m.\u001b[0m\u001b[0mbase\u001b[0m \u001b[1;33m*\u001b[0m \u001b[0mself\u001b[0m\u001b[1;33m.\u001b[0m\u001b[0mheight\u001b[0m\u001b[1;33m\u001b[0m\u001b[1;33m\u001b[0m\u001b[0m\n\u001b[0m\u001b[0;32m     11\u001b[0m \u001b[1;33m\u001b[0m\u001b[0m\n\u001b[0;32m     12\u001b[0m \u001b[1;32mclass\u001b[0m \u001b[0mRightPyramid\u001b[0m\u001b[1;33m(\u001b[0m\u001b[0mTriangle\u001b[0m\u001b[1;33m,\u001b[0m \u001b[0mSquare\u001b[0m\u001b[1;33m)\u001b[0m\u001b[1;33m:\u001b[0m\u001b[1;33m\u001b[0m\u001b[1;33m\u001b[0m\u001b[0m\n",
      "\u001b[1;31mAttributeError\u001b[0m: 'RightPyramid' object has no attribute 'height'"
     ]
    }
   ],
   "source": [
    "pyramid.area()"
   ]
  },
  {
   "cell_type": "code",
   "execution_count": 60,
   "metadata": {},
   "outputs": [
    {
     "data": {
      "text/plain": [
       "(__main__.RightPyramid,\n",
       " __main__.Triangle,\n",
       " __main__.Square,\n",
       " __main__.Rectangle,\n",
       " object)"
      ]
     },
     "execution_count": 60,
     "metadata": {},
     "output_type": "execute_result"
    }
   ],
   "source": [
    "RightPyramid.__mro__"
   ]
  },
  {
   "cell_type": "code",
   "execution_count": 61,
   "metadata": {},
   "outputs": [],
   "source": [
    "class RightPyramid(Square, Triangle):\n",
    "    \"\"\"\n",
    "    金字塔，继承自三角形和正方形\n",
    "    调整签名，Square---》Triangle\n",
    "    ...\n",
    "    属性\n",
    "    ————\n",
    "    base： float\n",
    "        底边长度\n",
    "    slant_height：float\n",
    "        斜高：侧面三角形底边上的高\n",
    "    \n",
    "    方法\n",
    "    ___\n",
    "    area():\n",
    "        金字塔的表面积（包括底部的正方形）\n",
    "    \"\"\"\n",
    "    def __init__(self, base, slant_height):\n",
    "        self.base = base\n",
    "        self.slant_height = slant_height\n",
    "        super().__init__(self.base)\n",
    "\n",
    "    def area(self):\n",
    "        base_area = super().area()\n",
    "        perimeter = super().perimeter()\n",
    "        return 0.5 * perimeter * self.slant_height + base_area\n"
   ]
  },
  {
   "cell_type": "code",
   "execution_count": 62,
   "metadata": {},
   "outputs": [],
   "source": [
    "pyramid = RightPyramid(4, 5)"
   ]
  },
  {
   "cell_type": "code",
   "execution_count": 63,
   "metadata": {},
   "outputs": [
    {
     "data": {
      "text/plain": [
       "(__main__.RightPyramid,\n",
       " __main__.Square,\n",
       " __main__.Rectangle,\n",
       " __main__.Triangle,\n",
       " object)"
      ]
     },
     "execution_count": 63,
     "metadata": {},
     "output_type": "execute_result"
    }
   ],
   "source": [
    "RightPyramid.__mro__"
   ]
  },
  {
   "cell_type": "code",
   "execution_count": 64,
   "metadata": {},
   "outputs": [
    {
     "data": {
      "text/plain": [
       "56.0"
      ]
     },
     "execution_count": 64,
     "metadata": {},
     "output_type": "execute_result"
    }
   ],
   "source": [
    "pyramid.area()"
   ]
  },
  {
   "cell_type": "code",
   "execution_count": 65,
   "metadata": {},
   "outputs": [],
   "source": [
    "class Triangle:\n",
    "    def __init__(self, base, height):\n",
    "        self.base = base\n",
    "        self.height = height\n",
    "        super().__init__()\n",
    "\n",
    "    def tri_area(self):\n",
    "        return 0.5 * self.base * self.height\n",
    "        \n",
    "class RightPyramid(Square, Triangle):\n",
    "    def __init__(self, base, slant_height):\n",
    "        self.base = base\n",
    "        self.slant_height = slant_height\n",
    "        super().__init__(self.base)\n",
    "\n",
    "    def area(self):\n",
    "        base_area = super().area()\n",
    "        perimeter = super().perimeter()\n",
    "        return 0.5 * perimeter * self.slant_height + base_area\n",
    "\n",
    "    def area_2(self):\n",
    "        base_area = super().area()\n",
    "        triangle_area = super().tri_area()\n",
    "        return triangle_area * 4 + base_area\n"
   ]
  },
  {
   "cell_type": "code",
   "execution_count": 66,
   "metadata": {},
   "outputs": [],
   "source": [
    "pyramid = RightPyramid(4, 5)"
   ]
  },
  {
   "cell_type": "code",
   "execution_count": 67,
   "metadata": {},
   "outputs": [
    {
     "ename": "AttributeError",
     "evalue": "'RightPyramid' object has no attribute 'height'",
     "output_type": "error",
     "traceback": [
      "\u001b[1;31m---------------------------------------------------------------------------\u001b[0m",
      "\u001b[1;31mAttributeError\u001b[0m                            Traceback (most recent call last)",
      "\u001b[1;32m<ipython-input-67-5d6fb6522005>\u001b[0m in \u001b[0;36m<module>\u001b[1;34m\u001b[0m\n\u001b[1;32m----> 1\u001b[1;33m \u001b[0mpyramid\u001b[0m\u001b[1;33m.\u001b[0m\u001b[0marea_2\u001b[0m\u001b[1;33m(\u001b[0m\u001b[1;33m)\u001b[0m\u001b[1;33m\u001b[0m\u001b[1;33m\u001b[0m\u001b[0m\n\u001b[0m",
      "\u001b[1;32m<ipython-input-65-d02e1a3db5da>\u001b[0m in \u001b[0;36marea_2\u001b[1;34m(self)\u001b[0m\n\u001b[0;32m     21\u001b[0m     \u001b[1;32mdef\u001b[0m \u001b[0marea_2\u001b[0m\u001b[1;33m(\u001b[0m\u001b[0mself\u001b[0m\u001b[1;33m)\u001b[0m\u001b[1;33m:\u001b[0m\u001b[1;33m\u001b[0m\u001b[1;33m\u001b[0m\u001b[0m\n\u001b[0;32m     22\u001b[0m         \u001b[0mbase_area\u001b[0m \u001b[1;33m=\u001b[0m \u001b[0msuper\u001b[0m\u001b[1;33m(\u001b[0m\u001b[1;33m)\u001b[0m\u001b[1;33m.\u001b[0m\u001b[0marea\u001b[0m\u001b[1;33m(\u001b[0m\u001b[1;33m)\u001b[0m\u001b[1;33m\u001b[0m\u001b[1;33m\u001b[0m\u001b[0m\n\u001b[1;32m---> 23\u001b[1;33m         \u001b[0mtriangle_area\u001b[0m \u001b[1;33m=\u001b[0m \u001b[0msuper\u001b[0m\u001b[1;33m(\u001b[0m\u001b[1;33m)\u001b[0m\u001b[1;33m.\u001b[0m\u001b[0mtri_area\u001b[0m\u001b[1;33m(\u001b[0m\u001b[1;33m)\u001b[0m\u001b[1;33m\u001b[0m\u001b[1;33m\u001b[0m\u001b[0m\n\u001b[0m\u001b[0;32m     24\u001b[0m         \u001b[1;32mreturn\u001b[0m \u001b[0mtriangle_area\u001b[0m \u001b[1;33m*\u001b[0m \u001b[1;36m4\u001b[0m \u001b[1;33m+\u001b[0m \u001b[0mbase_area\u001b[0m\u001b[1;33m\u001b[0m\u001b[1;33m\u001b[0m\u001b[0m\n",
      "\u001b[1;32m<ipython-input-65-d02e1a3db5da>\u001b[0m in \u001b[0;36mtri_area\u001b[1;34m(self)\u001b[0m\n\u001b[0;32m      6\u001b[0m \u001b[1;33m\u001b[0m\u001b[0m\n\u001b[0;32m      7\u001b[0m     \u001b[1;32mdef\u001b[0m \u001b[0mtri_area\u001b[0m\u001b[1;33m(\u001b[0m\u001b[0mself\u001b[0m\u001b[1;33m)\u001b[0m\u001b[1;33m:\u001b[0m\u001b[1;33m\u001b[0m\u001b[1;33m\u001b[0m\u001b[0m\n\u001b[1;32m----> 8\u001b[1;33m         \u001b[1;32mreturn\u001b[0m \u001b[1;36m0.5\u001b[0m \u001b[1;33m*\u001b[0m \u001b[0mself\u001b[0m\u001b[1;33m.\u001b[0m\u001b[0mbase\u001b[0m \u001b[1;33m*\u001b[0m \u001b[0mself\u001b[0m\u001b[1;33m.\u001b[0m\u001b[0mheight\u001b[0m\u001b[1;33m\u001b[0m\u001b[1;33m\u001b[0m\u001b[0m\n\u001b[0m\u001b[0;32m      9\u001b[0m \u001b[1;33m\u001b[0m\u001b[0m\n\u001b[0;32m     10\u001b[0m \u001b[1;32mclass\u001b[0m \u001b[0mRightPyramid\u001b[0m\u001b[1;33m(\u001b[0m\u001b[0mSquare\u001b[0m\u001b[1;33m,\u001b[0m \u001b[0mTriangle\u001b[0m\u001b[1;33m)\u001b[0m\u001b[1;33m:\u001b[0m\u001b[1;33m\u001b[0m\u001b[1;33m\u001b[0m\u001b[0m\n",
      "\u001b[1;31mAttributeError\u001b[0m: 'RightPyramid' object has no attribute 'height'"
     ]
    }
   ],
   "source": [
    "pyramid.area_2()"
   ]
  },
  {
   "cell_type": "code",
   "execution_count": 68,
   "metadata": {},
   "outputs": [],
   "source": [
    "class Rectangle:\n",
    "    def __init__(self, length, width, **kwargs):\n",
    "        self.length = length\n",
    "        self.width = width\n",
    "        super().__init__(**kwargs)\n",
    "\n",
    "    def area(self):\n",
    "        return self.length * self.width\n",
    "\n",
    "    def perimeter(self):\n",
    "        return 2 * self.length + 2 * self.width\n",
    "\n",
    "class Square(Rectangle):\n",
    "    def __init__(self, length, **kwargs):\n",
    "        super().__init__(length=length, width=length, **kwargs)\n",
    "\n",
    "class Cube(Square):\n",
    "    def surface_area(self):\n",
    "        face_area = super().area()\n",
    "        return face_area * 6\n",
    "\n",
    "    def volume(self):\n",
    "        face_area = super().area()\n",
    "        return face_area * self.length\n",
    "\n",
    "class Triangle:\n",
    "    def __init__(self, base, height, **kwargs):\n",
    "        self.base = base\n",
    "        self.height = height\n",
    "        super().__init__(**kwargs)\n",
    "\n",
    "    def tri_area(self):\n",
    "        return 0.5 * self.base * self.height\n",
    "\n",
    "class RightPyramid(Square, Triangle):\n",
    "    def __init__(self, base, slant_height, **kwargs):\n",
    "        self.base = base\n",
    "        self.slant_height = slant_height\n",
    "        kwargs[\"height\"] = slant_height\n",
    "        kwargs[\"length\"] = base\n",
    "        super().__init__(base=base, **kwargs)\n",
    "\n",
    "    def area(self):\n",
    "        base_area = super().area()\n",
    "        perimeter = super().perimeter()\n",
    "        return 0.5 * perimeter * self.slant_height + base_area\n",
    "\n",
    "    def area_2(self):\n",
    "        base_area = super().area()\n",
    "        triangle_area = super().tri_area()\n",
    "        return triangle_area * 4 + base_area\n"
   ]
  },
  {
   "cell_type": "code",
   "execution_count": 69,
   "metadata": {},
   "outputs": [
    {
     "data": {
      "text/plain": [
       "(__main__.RightPyramid,\n",
       " __main__.Square,\n",
       " __main__.Rectangle,\n",
       " __main__.Triangle,\n",
       " object)"
      ]
     },
     "execution_count": 69,
     "metadata": {},
     "output_type": "execute_result"
    }
   ],
   "source": [
    "RightPyramid.__mro__"
   ]
  },
  {
   "cell_type": "code",
   "execution_count": 70,
   "metadata": {},
   "outputs": [],
   "source": [
    "pyramid = RightPyramid(4, 5)"
   ]
  },
  {
   "cell_type": "code",
   "execution_count": 71,
   "metadata": {},
   "outputs": [
    {
     "data": {
      "text/plain": [
       "(56.0, 56.0)"
      ]
     },
     "execution_count": 71,
     "metadata": {},
     "output_type": "execute_result"
    }
   ],
   "source": [
    "pyramid.area(), pyramid.area_2()"
   ]
  },
  {
   "cell_type": "markdown",
   "metadata": {},
   "source": [
    "## 6.10\t使用OOP方法的实例：\n",
    "\n",
    "### 6.10.1\t扑克牌"
   ]
  },
  {
   "cell_type": "code",
   "execution_count": 72,
   "metadata": {},
   "outputs": [],
   "source": [
    "class Card:\n",
    "    \"\"\"\n",
    "    一张扑克牌\n",
    "    \n",
    "    ...\n",
    "    属性\n",
    "    ____\n",
    "    rank: string\n",
    "        牌的大小\n",
    "    suit: string\n",
    "        牌的花色\n",
    "    order: int\n",
    "        一张牌在牌堆的顺序\n",
    "    is_dace_up: bool\n",
    "        牌面是否向上\n",
    "    \n",
    "    方法\n",
    "    ____\n",
    "    pic_order:\n",
    "        返回牌在牌堆中的序号\n",
    "    \"\"\"\n",
    "    RANKS = ('A', '2', '3', '4', '5', '6', '7', '8', '9', '10', 'J', 'Q', 'K')\n",
    "    SUITS = ('梅花', '方片', '红桃', '黑桃')\n",
    "\n",
    "    def __init__(self, rank, suit, face_up=True):\n",
    "        self.rank = rank              # 牌面数字1~13\n",
    "        self.suit = suit              # 花色\n",
    "        self.order = self.pic_order()\n",
    "        self.is_face_up = face_up     # 是否显示牌的正面，True为正面，False为反面\n",
    "\n",
    "    def __str__(self):\n",
    "        \"\"\" 打印一张牌的信息 \"\"\"\n",
    "        if self.is_face_up:\n",
    "            rep = self.suit + self.rank\n",
    "        else:\n",
    "            rep = 'XX'\n",
    "        return rep\n",
    "\n",
    "    def pic_order(self):\n",
    "        \"\"\" 牌的顺序号 \"\"\"\n",
    "        if self.rank == 'A':\n",
    "            face_num = 1\n",
    "        elif self.rank == 'J':\n",
    "            face_num = 11\n",
    "        elif self.rank == 'Q':\n",
    "            face_num = 12\n",
    "        elif self.rank == 'K':\n",
    "            face_num = 13\n",
    "        else:\n",
    "            face_num = int(self.rank)\n",
    "        if self.suit == '梅花':\n",
    "            suit = 1\n",
    "        elif self.suit == '方片':\n",
    "            suit = 2\n",
    "        elif self.suit == '红桃':\n",
    "            suit = 3\n",
    "        else:\n",
    "            suit = 4\n",
    "        return (suit - 1) * 13 + face_num"
   ]
  },
  {
   "cell_type": "code",
   "execution_count": 73,
   "metadata": {},
   "outputs": [],
   "source": [
    "class Cards:\n",
    "    \"\"\"\n",
    "    一些牌\n",
    "    \n",
    "    ...\n",
    "    属性\n",
    "    ____\n",
    "    cards: list\n",
    "        一副扑克牌\n",
    "    \n",
    "    方法\n",
    "    ____\n",
    "    shuffle:\n",
    "        洗牌\n",
    "    sort:\n",
    "        理牌\n",
    "    add:\n",
    "        抓牌\n",
    "    \"\"\"\n",
    "\n",
    "    def __init__(self):\n",
    "        self.cards = []     # cards列表变量用来存储牌\n",
    "\n",
    "    def __del__(self):\n",
    "        del self.cards\n",
    "        \n",
    "    def __str__(self):\n",
    "        \"\"\" 将所有的牌显示出来 \"\"\"\n",
    "        if self.cards:\n",
    "            rep = ''\n",
    "            for card in self.cards:\n",
    "                rep += str(card) + '\\t'\n",
    "        else:\n",
    "            rep = '无牌'\n",
    "        return rep\n",
    "        \n",
    "    def shuffle(self):\n",
    "        \"\"\" 洗牌 \"\"\"\n",
    "        import random\n",
    "        random.shuffle(self.cards)\n",
    "    \n",
    "    def sort(self):\n",
    "        \"\"\" 理牌 \"\"\"\n",
    "        self.cards.sort(key=Card.pic_order)\n",
    "    \n",
    "    def add(self, card):\n",
    "        \"\"\" 抓牌 \"\"\"\n",
    "        self.cards.append(card)\n"
   ]
  },
  {
   "cell_type": "code",
   "execution_count": 74,
   "metadata": {},
   "outputs": [],
   "source": [
    "class Hand(Cards):\n",
    "    \"\"\" 玩家的一手牌 \"\"\"\n",
    "\n",
    "    def __init__(self):\n",
    "        super(Hand, self).__init__()\n",
    "        pass\n"
   ]
  },
  {
   "cell_type": "code",
   "execution_count": 75,
   "metadata": {},
   "outputs": [],
   "source": [
    "class Poke(Cards):\n",
    "    \"\"\"\n",
    "    Poke类代表一副52张的牌，继承Cards类。\n",
    "    增加抓牌方法\n",
    "    \"\"\"\n",
    "\n",
    "    def __init__(self):\n",
    "        \"\"\" 生成一副牌 \"\"\"\n",
    "        super(Poke, self).__init__()\n",
    "        for suit in Card.SUITS:\n",
    "            for rank in Card.RANKS:\n",
    "                self.add(Card(rank, suit))\n",
    "     \n",
    "    def get(self):\n",
    "        \"\"\" 抓牌 \"\"\"\n",
    "        if (len(self.cards)):\n",
    "            return self.cards.pop()\n",
    "        else:\n",
    "            print(\"牌发完了\")\n",
    "            return None\n"
   ]
  },
  {
   "cell_type": "code",
   "execution_count": 76,
   "metadata": {},
   "outputs": [
    {
     "name": "stdout",
     "output_type": "stream",
     "text": [
      "牌发完了\n",
      "牌手 1:梅花4\t梅花5\t方片7\t方片8\t方片9\t方片J\t方片Q\t红桃3\t红桃7\t红桃J\t黑桃7\t\n",
      "牌手 1:梅花A\t梅花7\t梅花J\t方片3\t红桃A\t红桃8\t红桃9\t红桃K\t黑桃2\t黑桃6\t黑桃9\t\n",
      "牌手 1:梅花8\t梅花9\t梅花Q\t方片A\t方片4\t方片5\t方片K\t红桃4\t红桃6\t黑桃A\t\n",
      "牌手 1:梅花2\t梅花3\t梅花10\t梅花K\t方片2\t方片10\t黑桃3\t黑桃4\t黑桃10\t黑桃J\t\n",
      "牌手 1:梅花6\t方片6\t红桃2\t红桃5\t红桃10\t红桃Q\t黑桃5\t黑桃8\t黑桃Q\t黑桃K\t\n"
     ]
    }
   ],
   "source": [
    "import math\n",
    "\n",
    "players = [Hand(), Hand(), Hand(), Hand(), Hand()]\n",
    "poke = Poke()   # 生成一副牌\n",
    "poke.shuffle()  # 洗牌\n",
    "per_hand = math.ceil(52 / len(players))\n",
    "\n",
    "\"\"\"\n",
    "抓牌\n",
    "每轮每个玩家依次抓一张\n",
    "\"\"\"\n",
    "for round in range(per_hand):\n",
    "    for hand in players:\n",
    "        card = poke.get();\n",
    "        if (card != None):\n",
    "            hand.add(card)\n",
    "        else:\n",
    "            break\n",
    "\n",
    "n = 1\n",
    "for hand in players:\n",
    "    print('牌手', n, end=':')\n",
    "    hand.sort()\n",
    "    print(hand)\n",
    "    n = n + 1\n"
   ]
  },
  {
   "cell_type": "markdown",
   "metadata": {},
   "source": [
    "### 6.10.2\t螺线"
   ]
  },
  {
   "cell_type": "code",
   "execution_count": 77,
   "metadata": {},
   "outputs": [],
   "source": [
    "import math\n",
    "import matplotlib.pyplot as plt\n",
    "\n",
    "class Spiral:\n",
    "    \"\"\"\n",
    "    螺线\n",
    "    \n",
    "    ...\n",
    "    属性\n",
    "    ____\n",
    "    theta: float\n",
    "        弧度\n",
    "    radii: float\n",
    "        极径\n",
    "        \n",
    "    方法\n",
    "    ____\n",
    "    draw:\n",
    "        绘制螺线\n",
    "    \"\"\"\n",
    "    \n",
    "    def __init__(self):\n",
    "        self.theta = []\n",
    "        self.radii = []\n",
    "        \n",
    "    def draw(self):\n",
    "        # 创建极坐标\n",
    "        ax = plt.axes([0.025, 0.025, 0.95, 0.95], polar=True)\n",
    "        plt.plot(self.theta, self.radii)\n",
    "        \n",
    "        # 将默认的角度转换为弧度制\n",
    "        plt.thetagrids([0, 45, 90, 135, 180, 225, 270, 315], ['0', 'π/4', 'π/2', '3π/4', 'π', '5π/4', '3π/2', '7π/4'])\n",
    "        plt.show()\n"
   ]
  },
  {
   "cell_type": "code",
   "execution_count": 78,
   "metadata": {},
   "outputs": [],
   "source": [
    "class Archimedes(Spiral):\n",
    "    \"\"\" 阿基米德螺线 \"\"\"\n",
    "    \n",
    "    def __init__(self, a, b):\n",
    "        super(Archimedes, self).__init__()\n",
    "        self.a = a\n",
    "        self.b = b\n",
    "        self.f()\n",
    "        \n",
    "    def f(self):\n",
    "        \"\"\"\n",
    "        使用以下方程求轴长和转角\n",
    "        r = aθ + b (a≠0)\n",
    "        \"\"\"\n",
    "        N = 200\n",
    "        i = 0\n",
    "        while (i < N):\n",
    "            t = i * 4 * math.pi / N\n",
    "            self.theta.append(t)\n",
    "            self.radii.append(self.a + self.b*t)\n",
    "            i += 1\n"
   ]
  },
  {
   "cell_type": "code",
   "execution_count": 79,
   "metadata": {},
   "outputs": [],
   "source": [
    "class Log(Spiral):\n",
    "    \"\"\" 对数螺线 \"\"\"\n",
    "    \n",
    "    def __init__(self, a, b):\n",
    "        super(Log, self).__init__()\n",
    "        self.a = a\n",
    "        self.b = b\n",
    "        self.f()\n",
    "        \n",
    "    def f(self):        \n",
    "        \"\"\"\n",
    "        使用以下方程求轴长和转角\n",
    "        r = ae^(bθ)\n",
    "        \"\"\"\n",
    "        N = 800\n",
    "        i = 0\n",
    "        while (i < N):\n",
    "            t = i * 10 * math.pi / N\n",
    "            self.theta.append(t)\n",
    "            self.radii.append(self.a * (math.e ** (self.b*t)))\n",
    "            i += 1\n",
    "\n",
    "class Hyperbolic(Spiral):\n",
    "    \"\"\" 双曲螺线 \"\"\"\n",
    "    \n",
    "    def __init__(self, a):\n",
    "        super(Hyperbolic, self).__init__()\n",
    "        self.a = a\n",
    "        self.f()\n",
    "    \n",
    "    def f(self): \n",
    "        \"\"\"\n",
    "        使用以下方程求轴长和转角\n",
    "        r = a/θ\n",
    "        \"\"\"\n",
    "        N = 50\n",
    "        i = 1\n",
    "        while (i < N):\n",
    "            t = i *  math.pi / 10\n",
    "            self.theta.append(t)\n",
    "            self.radii.append(self.a /t)\n",
    "            i += 1\n",
    "\n",
    "class Fermat(Spiral):\n",
    "    \"\"\" 费马螺线 \"\"\"\n",
    "    \n",
    "    def __init__(self, a):\n",
    "        super(Fermat, self).__init__()\n",
    "        self.a = a\n",
    "        self.f()\n",
    "    \n",
    "    def f(self): \n",
    "        \"\"\"\n",
    "        使用以下方程求轴长和转角\n",
    "        r = asqrt(θ)\n",
    "        \"\"\"\n",
    "        N = 500\n",
    "        i = 0\n",
    "        \n",
    "        while (i < N):\n",
    "            t = i *  math.pi / 50\n",
    "            self.theta.append(t)\n",
    "            self.radii.append(self.a * math.sqrt(t))\n",
    "            i += 1\n"
   ]
  },
  {
   "cell_type": "code",
   "execution_count": 80,
   "metadata": {},
   "outputs": [
    {
     "data": {
      "image/png": "[encoded data removed]",
      "text/plain": [
       "<Figure size 432x288 with 1 Axes>"
      ]
     },
     "metadata": {
      "needs_background": "light"
     },
     "output_type": "display_data"
    },
    {
     "data": {
      "image/png": "[encoded data removed]",
      "text/plain": [
       "<Figure size 432x288 with 1 Axes>"
      ]
     },
     "metadata": {
      "needs_background": "light"
     },
     "output_type": "display_data"
    },
    {
     "data": {
      "image/png": "[encoded data removed]",
      "text/plain": [
       "<Figure size 432x288 with 1 Axes>"
      ]
     },
     "metadata": {
      "needs_background": "light"
     },
     "output_type": "display_data"
    },
    {
     "data": {
      "image/png": "[encoded data removed]",
      "text/plain": [
       "<Figure size 432x288 with 1 Axes>"
      ]
     },
     "metadata": {
      "needs_background": "light"
     },
     "output_type": "display_data"
    }
   ],
   "source": [
    "a = Archimedes(10, 5)\n",
    "a.draw()\n",
    "l = Log(20, 0.1)\n",
    "l.draw()\n",
    "h = Hyperbolic(1)\n",
    "h.draw()\n",
    "f = Fermat(10)\n",
    "f.draw()\n",
    "\n"
   ]
  },
  {
   "cell_type": "markdown",
   "metadata": {},
   "source": [
    "### 6.10.3\t比例数"
   ]
  },
  {
   "cell_type": "code",
   "execution_count": 81,
   "metadata": {},
   "outputs": [],
   "source": [
    "import numbers\n",
    "import math\n",
    "\n",
    "class FixedPoint( numbers.Rational ):\n",
    "    __slots__ = ( \"value\", \"scale\", \"default_format\" )\n",
    "    def __new__(self, value, scale=100 ):\n",
    "        self = super(FixedPoint, self).__new__(self)\n",
    "        if isinstance(value,FixedPoint):\n",
    "            self.value= value.value\n",
    "            self.scale= value.scale\n",
    "        elif isinstance(value,int):\n",
    "            self.value= value\n",
    "            self.scale= scale\n",
    "        elif isinstance(value,float):\n",
    "            self.value= int(scale*value+.5)\n",
    "            self.scale= 1\n",
    "        else:\n",
    "            raise TypeError\n",
    "        digits= int(math.log10(scale))\n",
    "        self.default_format= \"{{0:.{digits}f}}\".format(digits=digits)\n",
    "        return self\n",
    "    \n",
    "    def __str__(self):\n",
    "        return self.__format__( self.default_format )\n",
    "    \n",
    "    def __repr__(self):\n",
    "        return \"%s(%d, scale=%d)\" % (self.__class__.__name__, \n",
    "                                     self.value, self.scale )\n",
    "        \n",
    "    def __format__( self, specification ):\n",
    "        if specification == \"\": \n",
    "            specification = self.default_format\n",
    "        return specification.format( self.value/self.scale )\n",
    "            \n",
    "    def numerator(self):\n",
    "        return self.value\n",
    "    \n",
    "    def denominator(self):\n",
    "        return self.scale\n"
   ]
  },
  {
   "cell_type": "code",
   "execution_count": 87,
   "metadata": {},
   "outputs": [
    {
     "name": "stdout",
     "output_type": "stream",
     "text": [
      "Test method\n"
     ]
    },
    {
     "ename": "AttributeError",
     "evalue": "'FixedPoint' object has no attribute 'new_attribute'",
     "output_type": "error",
     "traceback": [
      "\u001b[1;31m---------------------------------------------------------------------------\u001b[0m",
      "\u001b[1;31mAttributeError\u001b[0m                            Traceback (most recent call last)",
      "\u001b[1;32m<ipython-input-87-5ed75be7db32>\u001b[0m in \u001b[0;36m<module>\u001b[1;34m\u001b[0m\n\u001b[0;32m      9\u001b[0m \u001b[0mf\u001b[0m\u001b[1;33m.\u001b[0m\u001b[0mdefault_format\u001b[0m \u001b[1;33m=\u001b[0m \u001b[0mmethod\u001b[0m \u001b[1;31m# 动态添加方法\u001b[0m\u001b[1;33m\u001b[0m\u001b[1;33m\u001b[0m\u001b[0m\n\u001b[0;32m     10\u001b[0m \u001b[0mf\u001b[0m\u001b[1;33m.\u001b[0m\u001b[0mdefault_format\u001b[0m\u001b[1;33m(\u001b[0m\u001b[0mf\u001b[0m\u001b[1;33m)\u001b[0m\u001b[1;33m\u001b[0m\u001b[1;33m\u001b[0m\u001b[0m\n\u001b[1;32m---> 11\u001b[1;33m \u001b[0mf\u001b[0m\u001b[1;33m.\u001b[0m\u001b[0mnew_attribute\u001b[0m \u001b[1;33m=\u001b[0m \u001b[0mmethod\u001b[0m  \u001b[1;31m# 不在slot元组中，将引发异常\u001b[0m\u001b[1;33m\u001b[0m\u001b[1;33m\u001b[0m\u001b[0m\n\u001b[0m",
      "\u001b[1;31mAttributeError\u001b[0m: 'FixedPoint' object has no attribute 'new_attribute'"
     ]
    }
   ],
   "source": [
    "class FixedPoint():\n",
    "    __slots__ = ( \"value\", \"scale\", \"default_format\" )\n",
    "\n",
    "def method(self):\n",
    "    print(\"Test method\")\n",
    "\n",
    "f = FixedPoint()\n",
    "f.value = 99              # 动态添加属性\n",
    "f.default_format = method # 动态添加方法\n",
    "f.default_format(f)\n",
    "f.new_attribute = method  # 不在slot元组中，将引发异常\n"
   ]
  },
  {
   "cell_type": "code",
   "execution_count": 90,
   "metadata": {},
   "outputs": [],
   "source": [
    "class FixedPoint( numbers.Rational ):\n",
    "    __slots__ = ( \"value\", \"scale\", \"default_format\" )\n",
    "    \n",
    "    def __new__(self, value, scale=100 ):\n",
    "        self = super(FixedPoint, self).__new__(self)\n",
    "        if isinstance(value,FixedPoint):\n",
    "            self.value= value.value\n",
    "            self.scale= value.scale\n",
    "        elif isinstance(value,int):\n",
    "            self.value= value\n",
    "            self.scale= scale\n",
    "        elif isinstance(value,float):\n",
    "            self.value= int(scale*value+.5)\n",
    "            self.scale= 1\n",
    "        else:\n",
    "            raise TypeError\n",
    "        digits= int(math.log10(scale))\n",
    "        self.default_format= \"{{0:.{digits}f}}\".format(digits=digits)\n",
    "        return self\n",
    "    \n",
    "    def __str__(self):\n",
    "        return self.__format__( self.default_format )\n",
    "    \n",
    "    def __repr__(self):\n",
    "        return \"%s(%d, scale=%d)\" % (self.__class__.__name__, \n",
    "                                     self.value, self.scale )\n",
    "        \n",
    "    def __format__( self, specification ):\n",
    "        if specification == \"\": \n",
    "            specification = self.default_format\n",
    "        return specification.format( self.value/self.scale )\n",
    "            \n",
    "    def numerator(self):\n",
    "        return self.value\n",
    "    \n",
    "    def denominator(self):\n",
    "        return self.scale\n",
    "    \n",
    "    def __add__( self, other ):\n",
    "        \"\"\" 前向加法 \"\"\"\n",
    "        if not isinstance(other,FixedPoint):\n",
    "            new_scale= self.scale\n",
    "            new_value= self.value + other*self.scale\n",
    "        else:\n",
    "            new_scale= max(self.scale, other.scale)\n",
    "            new_value= (self.value*(new_scale//self.scale)\n",
    "                        + other.value*(new_scale//other.scale))\n",
    "        return FixedPoint( int(new_value), scale=new_scale )\n",
    "    \n",
    "    def __sub__( self, other ):\n",
    "        \"\"\" 前向减法 \"\"\"\n",
    "        if not isinstance(other,FixedPoint):\n",
    "            new_scale= self.scale\n",
    "            new_value= self.value - other*self.scale\n",
    "        else:\n",
    "            new_scale= max(self.scale, other.scale)\n",
    "            new_value= (self.value*(new_scale//self.scale)\n",
    "                        - other.value*(new_scale//other.scale))\n",
    "        return FixedPoint( int(new_value), scale=new_scale )\n",
    "    \n",
    "    def __mul__( self, other ):\n",
    "        \"\"\" 前向乘法 \"\"\"\n",
    "        if not isinstance(other,FixedPoint):\n",
    "            new_scale= self.scale\n",
    "            new_value= self.value * other\n",
    "        else:\n",
    "            new_scale= self.scale * other.scale\n",
    "            new_value= self.value * other.value\n",
    "        return FixedPoint( int(new_value), scale=new_scale )\n",
    "    \n",
    "    def __truediv__( self, other ):\n",
    "        \"\"\" 前向除法 \"\"\"\n",
    "        if not isinstance(other,FixedPoint):\n",
    "            new_value= int(self.value / other)\n",
    "        else:\n",
    "            new_value= int(self.value / (other.value/other.scale))\n",
    "        return FixedPoint( new_value, scale=self.scale )\n",
    "    \n",
    "    def __floordiv__( self, other ):\n",
    "        \"\"\" 前向地板除法 \"\"\"\n",
    "        if not isinstance(other,FixedPoint):\n",
    "            new_value= int(self.value // other)\n",
    "        else:\n",
    "            new_value= int(self.value // (other.value/other.scale))\n",
    "        return FixedPoint( new_value, scale=self.scale )\n",
    "    \n",
    "    def __mod__( self, other ):        \n",
    "        \"\"\" 前向取模 \"\"\"\n",
    "        if not isinstance(other,FixedPoint):\n",
    "            new_value= (self.value/self.scale) % other\n",
    "        else:\n",
    "            new_value= self.value % (other.value/other.scale)\n",
    "        return FixedPoint( new_value, scale=self.scale )\n",
    "    \n",
    "    def __pow__( self, other ):\n",
    "        \"\"\" 前向幂 \"\"\"\n",
    "        if not isinstance(other,FixedPoint):\n",
    "            new_value= (self.value/self.scale) ** other\n",
    "        else:\n",
    "            new_value= (self.value/self.scale) ** (other.value/other.scale)\n",
    "        return FixedPoint( int(new_value)*self.scale, scale=self.scale )\n",
    "\n",
    "    \n",
    "    def __abs__( self ):\n",
    "        return FixedPoint( abs(self.value), self.scale )\n",
    "    \n",
    "    def __float__( self ):\n",
    "        return self.value/self.scale\n",
    "    \n",
    "    def __int__( self ):\n",
    "        return int(self.value/self.scale)\n",
    "    \n",
    "    def __trunc__( self ):\n",
    "        return FixedPoint( math.trunc(self.value/self.scale), self.scale )\n",
    "    \n",
    "    def __ceil__( self ):\n",
    "        return FixedPoint( math.ceil(self.value/self.scale), self.scale )\n",
    "    \n",
    "    def __floor__( self ):\n",
    "        return FixedPoint( math.floor(self.value/self.scale), self.scale )\n",
    "    \n",
    "    def __round__( self, ndigits ):\n",
    "        return FixedPoint( round(self.value/self.scale, ndigits=0), self.scale )\n",
    "    \n",
    "    def __neg__( self ):\n",
    "        return FixedPoint( -self.value, self.scale )\n",
    "    \n",
    "    def __pos__( self ):\n",
    "        return self\n",
    "\n",
    "    \n",
    "    def __radd__( self, other ):\n",
    "        if not isinstance(other,FixedPoint):\n",
    "            new_scale= self.scale\n",
    "            new_value= other*self.scale + self.value\n",
    "        else:\n",
    "            new_scale= max(self.scale, other.scale)\n",
    "            new_value= (other.value*(new_scale//other.scale)\n",
    "                        + self.value*(new_scale//self.scale))\n",
    "        return FixedPoint( int(new_value), scale=new_scale )\n",
    "    \n",
    "    def __rsub__( self, other ):\n",
    "        if not isinstance(other,FixedPoint):\n",
    "            new_scale= self.scale\n",
    "            new_value= other*self.scale - self.value\n",
    "        else:\n",
    "            new_scale= max(self.scale, other.scale)\n",
    "            new_value= (other.value*(new_scale//other.scale)\n",
    "                        - self.value*(new_scale//self.scale))\n",
    "        return FixedPoint( int(new_value), scale=new_scale )\n",
    "    \n",
    "    def __rmul__( self, other ):\n",
    "        if not isinstance(other,FixedPoint):\n",
    "            new_scale= self.scale\n",
    "            new_value= other*self.value\n",
    "        else:\n",
    "            new_scale= self.scale*other.scale\n",
    "            new_value= other.value*self.value\n",
    "        return FixedPoint( int(new_value), scale=new_scale )\n",
    "    \n",
    "    def __rtruediv__( self, other ):\n",
    "        if not isinstance(other,FixedPoint):\n",
    "            new_value= self.scale*int(other / (self.value/self.scale))\n",
    "        else:\n",
    "            new_value= int((other.value/other.scale) / self.value)\n",
    "        return FixedPoint( new_value, scale=self.scale )\n",
    "    \n",
    "    def __rfloordiv__( self, other ):\n",
    "        if not isinstance(other,FixedPoint):\n",
    "            new_value= self.scale*int(other // (self.value/self.scale))\n",
    "        else:\n",
    "            new_value= int((other.value/other.scale) // self.value)\n",
    "        return FixedPoint( new_value, scale=self.scale )\n",
    "    \n",
    "    def __rmod__( self, other ):\n",
    "        if not isinstance(other,FixedPoint):\n",
    "            new_value= other % (self.value/self.scale)\n",
    "        else:\n",
    "            new_value= (other.value/other.scale) % (self.value/self.scale)\n",
    "        return FixedPoint( new_value, scale=self.scale )\n",
    "    \n",
    "    def __rpow__( self, other ):\n",
    "        if not isinstance(other,FixedPoint):\n",
    "            new_value= other ** (self.value/self.scale)\n",
    "        else:\n",
    "            new_value= (other.value/other.scale) ** self.value/self.scale\n",
    "        return FixedPoint( int(new_value)*self.scale, scale=self.scale )\n",
    "    \n",
    "    def __eq__( self, other ):\n",
    "        if isinstance(other, FixedPoint):\n",
    "            if self.scale == other.scale:\n",
    "                return self.value == other.value\n",
    "            else:\n",
    "                return self.value*other.scale//self.scale == other.value\n",
    "        else:\n",
    "            return abs(self.value/self.scale - float(other)) < .5/self.scale\n",
    "        \n",
    "    def __ne__( self, other ):\n",
    "        return not (self == other)\n",
    "    \n",
    "    def __le__( self, other ):\n",
    "        return self.value/self.scale <= float(other)\n",
    "    \n",
    "    def __lt__( self, other ):\n",
    "        return self.value/self.scale <  float(other)\n",
    "    \n",
    "    def __ge__( self, other ):\n",
    "        return self.value/self.scale >= float(other)\n",
    "    \n",
    "    def __gt__( self, other ):\n",
    "        return self.value/self.scale >  float(other)\n"
   ]
  },
  {
   "cell_type": "code",
   "execution_count": 91,
   "metadata": {},
   "outputs": [
    {
     "name": "stdout",
     "output_type": "stream",
     "text": [
      "123.0 1.3\n",
      "124.3\n",
      "FixedPoint(123, scale=1)\n"
     ]
    }
   ],
   "source": [
    "f1 = FixedPoint(12.3, 10)\n",
    "f2 = FixedPoint(13, 10)\n",
    "print(f1, f2)\n",
    "print(f1+f2)\n",
    "print(repr(f1))\n",
    "\n"
   ]
  },
  {
   "cell_type": "markdown",
   "metadata": {},
   "source": [
    "## 6.12\t练习\n",
    "\n"
   ]
  },
  {
   "cell_type": "code",
   "execution_count": 48,
   "metadata": {},
   "outputs": [
    {
     "ename": "TypeError",
     "evalue": "'Eqint' object is not callable",
     "output_type": "error",
     "traceback": [
      "\u001b[1;31m---------------------------------------------------------------------------\u001b[0m",
      "\u001b[1;31mTypeError\u001b[0m                                 Traceback (most recent call last)",
      "\u001b[1;32m<ipython-input-48-77cd924df8e2>\u001b[0m in \u001b[0;36m<module>\u001b[1;34m\u001b[0m\n\u001b[0;32m     20\u001b[0m \u001b[0mq1\u001b[0m \u001b[1;33m=\u001b[0m \u001b[0mEqint\u001b[0m\u001b[1;33m(\u001b[0m\u001b[1;33m(\u001b[0m\u001b[1;36m1\u001b[0m\u001b[1;33m,\u001b[0m\u001b[1;36m2\u001b[0m\u001b[1;33m,\u001b[0m\u001b[1;36m3\u001b[0m\u001b[1;33m,\u001b[0m\u001b[1;36m4\u001b[0m\u001b[1;33m)\u001b[0m\u001b[1;33m)\u001b[0m\u001b[1;33m\u001b[0m\u001b[1;33m\u001b[0m\u001b[0m\n\u001b[0;32m     21\u001b[0m \u001b[0mq2\u001b[0m \u001b[1;33m=\u001b[0m \u001b[0mEqint\u001b[0m\u001b[1;33m(\u001b[0m\u001b[1;33m[\u001b[0m\u001b[1;36m1\u001b[0m\u001b[1;33m,\u001b[0m\u001b[1;36m2\u001b[0m\u001b[1;33m,\u001b[0m\u001b[1;36m3\u001b[0m\u001b[1;33m,\u001b[0m\u001b[1;36m4\u001b[0m\u001b[1;33m]\u001b[0m\u001b[1;33m)\u001b[0m\u001b[1;33m\u001b[0m\u001b[1;33m\u001b[0m\u001b[0m\n\u001b[1;32m---> 22\u001b[1;33m \u001b[0mq1\u001b[0m\u001b[1;33m(\u001b[0m\u001b[1;33m)\u001b[0m\u001b[1;33m\u001b[0m\u001b[1;33m\u001b[0m\u001b[0m\n\u001b[0m",
      "\u001b[1;31mTypeError\u001b[0m: 'Eqint' object is not callable"
     ]
    }
   ],
   "source": [
    "# 练习1\n",
    "\n",
    "class Eqint:\n",
    "    def __init__(self, sequence):\n",
    "        self.__s = []\n",
    "        self.__length = 0\n",
    "        for i in sequence:\n",
    "            self.__s.append(int(i))\n",
    "            self.__length += 1\n",
    "    \n",
    "    def __str__(self):\n",
    "        return (str(self.__length))\n",
    "    \n",
    "    def __eq__(self, other):\n",
    "        if self.__length != other.__length:\n",
    "            return False\n",
    "        else:\n",
    "            return True\n",
    "        \n",
    "q1 = Eqint((1,2,3,4))\n",
    "q2 = Eqint([1,2,3,4])\n",
    "q1()"
   ]
  },
  {
   "cell_type": "code",
   "execution_count": 56,
   "metadata": {},
   "outputs": [
    {
     "data": {
      "text/plain": [
       "(False, True, True)"
      ]
     },
     "execution_count": 56,
     "metadata": {},
     "output_type": "execute_result"
    }
   ],
   "source": [
    "zero = Eqint([])\n",
    "one_list = Eqint([1])\n",
    "one_tuple = Eqint((1,))\n",
    "one_string = Eqint('1')\n",
    "zero == one_list, one_tuple == one_list,one_tuple == one_string"
   ]
  },
  {
   "cell_type": "code",
   "execution_count": 74,
   "metadata": {},
   "outputs": [
    {
     "name": "stdout",
     "output_type": "stream",
     "text": [
      "2\n"
     ]
    }
   ],
   "source": [
    "# 练习3\n",
    "\n",
    "class Eqint:\n",
    "    def __init__(self, sequence):\n",
    "        self.__s = []\n",
    "        self.__length = 0\n",
    "        for i in sequence:\n",
    "            self.__s.append(i)\n",
    "            self.__length += 1\n",
    "    \n",
    "    def __str__(self):\n",
    "        return (str(self.__length))\n",
    "    \n",
    "    def __repr__(self):\n",
    "        return str(self.__length)\n",
    "    \n",
    "    def __eq__(self, other):\n",
    "        if self.__length != other.__length:\n",
    "            return False\n",
    "        else:\n",
    "            return True\n",
    "        \n",
    "    def __add__(self, other):\n",
    "        return Eqint(self.__s + other.__s)\n",
    "    \n",
    "    \n",
    "\n",
    "one_list = Eqint([1])\n",
    "one_tuple = Eqint((1,))\n",
    "print(one_list + one_tuple)"
   ]
  },
  {
   "cell_type": "code",
   "execution_count": 82,
   "metadata": {},
   "outputs": [
    {
     "data": {
      "text/plain": [
       "[0, 1, 2, 3, 4, 5, 6, 7, 8, 9]"
      ]
     },
     "execution_count": 82,
     "metadata": {},
     "output_type": "execute_result"
    }
   ],
   "source": [
    "# 练习4\n",
    "\n",
    "positive_integers = []\n",
    "i = 0\n",
    "while i < 10:\n",
    "    eqn = Eqint(positive_integers)\n",
    "    positive_integers.append(eqn)\n",
    "    i += 1\n",
    "positive_integers"
   ]
  },
  {
   "cell_type": "code",
   "execution_count": 80,
   "metadata": {},
   "outputs": [
    {
     "data": {
      "text/plain": [
       "[0, 1, 2, 3, 4, 5, 6, 7, 8, 9, 10]"
      ]
     },
     "execution_count": 80,
     "metadata": {},
     "output_type": "execute_result"
    }
   ],
   "source": [
    "positive_integers"
   ]
  }
 ],
 "metadata": {
  "kernelspec": {
   "display_name": "Python 3",
   "language": "python",
   "name": "python3"
  },
  "language_info": {
   "codemirror_mode": {
    "name": "ipython",
    "version": 3
   },
   "file_extension": ".py",
   "mimetype": "text/x-python",
   "name": "python",
   "nbconvert_exporter": "python",
   "pygments_lexer": "ipython3",
   "version": "3.8.3"
  }
 },
 "nbformat": 4,
 "nbformat_minor": 4
}
