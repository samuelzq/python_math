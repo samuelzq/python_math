{
 "cells": [
  {
   "cell_type": "markdown",
   "metadata": {},
   "source": [
    "# 第4章 循环\n",
    "\n",
    "## 4.1\tWhile循环"
   ]
  },
  {
   "cell_type": "code",
   "execution_count": 1,
   "metadata": {},
   "outputs": [],
   "source": [
    "def f2c(f):\n",
    "    \"\"\"\n",
    "    完成华氏度到摄氏度之间的转换\n",
    "    \n",
    "    参数\n",
    "    ----\n",
    "    f: float\n",
    "       华氏度\n",
    "    \n",
    "    返回值\n",
    "    ----- \n",
    "    c: float\n",
    "       摄氏度\n",
    "    \"\"\"\n",
    "    return (f-32)*5/9\n"
   ]
  },
  {
   "cell_type": "code",
   "execution_count": 2,
   "metadata": {},
   "outputs": [
    {
     "name": "stdout",
     "output_type": "stream",
     "text": [
      "-17.77777777777778\n",
      "-15.0\n",
      "-12.222222222222221\n",
      "-9.444444444444445\n",
      "-6.666666666666667\n",
      "-3.888888888888889\n",
      "-1.1111111111111112\n"
     ]
    }
   ],
   "source": [
    "# DRY 这不是一个好的做法\n",
    "print(f2c(0))\n",
    "print(f2c(5))\n",
    "print(f2c(10))\n",
    "print(f2c(15))\n",
    "print(f2c(20))\n",
    "print(f2c(25))\n",
    "print(f2c(30))"
   ]
  },
  {
   "cell_type": "code",
   "execution_count": 3,
   "metadata": {},
   "outputs": [
    {
     "name": "stdout",
     "output_type": "stream",
     "text": [
      "  0 -17.777778\n",
      "  1 -17.222222\n",
      "  2 -16.666667\n",
      "  3 -16.111111\n",
      "  4 -15.555556\n",
      "  5 -15.000000\n",
      "  6 -14.444444\n",
      "  7 -13.888889\n",
      "  8 -13.333333\n",
      "  9 -12.777778\n",
      " 10 -12.222222\n",
      " 11 -11.666667\n",
      " 12 -11.111111\n",
      " 13 -10.555556\n",
      " 14 -10.000000\n",
      " 15  -9.444444\n",
      " 16  -8.888889\n",
      " 17  -8.333333\n",
      " 18  -7.777778\n",
      " 19  -7.222222\n",
      " 20  -6.666667\n",
      " 21  -6.111111\n",
      " 22  -5.555556\n",
      " 23  -5.000000\n",
      " 24  -4.444444\n",
      " 25  -3.888889\n",
      " 26  -3.333333\n",
      " 27  -2.777778\n",
      " 28  -2.222222\n",
      " 29  -1.666667\n",
      " 30  -1.111111\n",
      " 31  -0.555556\n",
      " 32   0.000000\n",
      " 33   0.555556\n",
      " 34   1.111111\n",
      " 35   1.666667\n",
      " 36   2.222222\n",
      " 37   2.777778\n",
      " 38   3.333333\n",
      " 39   3.888889\n",
      " 40   4.444444\n",
      " 41   5.000000\n",
      " 42   5.555556\n",
      " 43   6.111111\n",
      " 44   6.666667\n",
      " 45   7.222222\n",
      " 46   7.777778\n",
      " 47   8.333333\n",
      " 48   8.888889\n",
      " 49   9.444444\n",
      " 50  10.000000\n",
      " 51  10.555556\n",
      " 52  11.111111\n",
      " 53  11.666667\n",
      " 54  12.222222\n",
      " 55  12.777778\n",
      " 56  13.333333\n",
      " 57  13.888889\n",
      " 58  14.444444\n",
      " 59  15.000000\n",
      " 60  15.555556\n",
      " 61  16.111111\n",
      " 62  16.666667\n",
      " 63  17.222222\n",
      " 64  17.777778\n",
      " 65  18.333333\n",
      " 66  18.888889\n",
      " 67  19.444444\n",
      " 68  20.000000\n",
      " 69  20.555556\n",
      " 70  21.111111\n",
      " 71  21.666667\n",
      " 72  22.222222\n",
      " 73  22.777778\n",
      " 74  23.333333\n",
      " 75  23.888889\n",
      " 76  24.444444\n",
      " 77  25.000000\n",
      " 78  25.555556\n",
      " 79  26.111111\n",
      " 80  26.666667\n",
      " 81  27.222222\n",
      " 82  27.777778\n",
      " 83  28.333333\n",
      " 84  28.888889\n",
      " 85  29.444444\n",
      " 86  30.000000\n",
      " 87  30.555556\n",
      " 88  31.111111\n",
      " 89  31.666667\n",
      " 90  32.222222\n",
      " 91  32.777778\n",
      " 92  33.333333\n",
      " 93  33.888889\n",
      " 94  34.444444\n",
      " 95  35.000000\n",
      " 96  35.555556\n",
      " 97  36.111111\n",
      " 98  36.666667\n",
      " 99  37.222222\n",
      "100  37.777778\n"
     ]
    }
   ],
   "source": [
    "\"\"\"\n",
    "（1） 循环应从零开始，因此我们的初始条件应为f = 0。\n",
    "（2） 要重复执行的操作是数值的转换和结果的输出。\n",
    "（3） 我们希望循环在到达100后停止，因此我们的条件表达式变为f <= 100。\n",
    "（4） 我们希望每次转换的温度相差1F°，因此我们需要在每次循环中为变量增加1。\n",
    "\"\"\"\n",
    "\n",
    "f = 0\n",
    "while f <= 100:\n",
    "    print(\"%3d % 10.6f\"%(f, f2c(f)))  # 请注意%之后的空格, 它表示数据右对齐左侧空格补齐\n",
    "    f += 1\n"
   ]
  },
  {
   "cell_type": "markdown",
   "metadata": {},
   "source": [
    "## 4.2\t使用列表存储数据\n",
    "\n",
    "### 4.2.1\t创建列表"
   ]
  },
  {
   "cell_type": "code",
   "execution_count": 4,
   "metadata": {},
   "outputs": [],
   "source": [
    "mylist = [0, 1, 2, 3, 4, 5, 6, 7, 8, 9, 10]"
   ]
  },
  {
   "cell_type": "code",
   "execution_count": 5,
   "metadata": {},
   "outputs": [
    {
     "data": {
      "text/plain": [
       "False"
      ]
     },
     "execution_count": 5,
     "metadata": {},
     "output_type": "execute_result"
    }
   ],
   "source": [
    "mylist2 = [10, 9, 8, 7, 6, 5, 4, 3, 2, 1, 0]\n",
    "mylist == mylist2"
   ]
  },
  {
   "cell_type": "code",
   "execution_count": 6,
   "metadata": {},
   "outputs": [],
   "source": [
    "mylist = [21.42, 'foobar', 3, 4, 'bark', False, 3.14159]"
   ]
  },
  {
   "cell_type": "code",
   "execution_count": 7,
   "metadata": {},
   "outputs": [
    {
     "data": {
      "text/plain": [
       "['bark', 'meow', 'woof', 'bark', 'cheep', 'bark']"
      ]
     },
     "execution_count": 7,
     "metadata": {},
     "output_type": "execute_result"
    }
   ],
   "source": [
    "mylist = ['bark', 'meow', 'woof', 'bark', 'cheep', 'bark']\n",
    "mylist"
   ]
  },
  {
   "cell_type": "code",
   "execution_count": 8,
   "metadata": {},
   "outputs": [
    {
     "name": "stdout",
     "output_type": "stream",
     "text": [
      "4\n",
      "-3.5\n",
      "String\n",
      "3\n"
     ]
    },
    {
     "ename": "IndexError",
     "evalue": "list index out of range",
     "output_type": "error",
     "traceback": [
      "\u001b[1;31m---------------------------------------------------------------------------\u001b[0m",
      "\u001b[1;31mIndexError\u001b[0m                                Traceback (most recent call last)",
      "\u001b[1;32m<ipython-input-8-5334fccfa5aa>\u001b[0m in \u001b[0;36m<module>\u001b[1;34m\u001b[0m\n\u001b[0;32m      4\u001b[0m \u001b[0mprint\u001b[0m\u001b[1;33m(\u001b[0m\u001b[0mmylist\u001b[0m\u001b[1;33m[\u001b[0m\u001b[1;36m2\u001b[0m\u001b[1;33m]\u001b[0m\u001b[1;33m)\u001b[0m\u001b[1;33m\u001b[0m\u001b[1;33m\u001b[0m\u001b[0m\n\u001b[0;32m      5\u001b[0m \u001b[0mprint\u001b[0m\u001b[1;33m(\u001b[0m\u001b[0mlen\u001b[0m\u001b[1;33m(\u001b[0m\u001b[0mmylist\u001b[0m\u001b[1;33m)\u001b[0m\u001b[1;33m)\u001b[0m     \u001b[1;31m# 输出列表长度\u001b[0m\u001b[1;33m\u001b[0m\u001b[1;33m\u001b[0m\u001b[0m\n\u001b[1;32m----> 6\u001b[1;33m \u001b[0mprint\u001b[0m\u001b[1;33m(\u001b[0m\u001b[0mmylist\u001b[0m\u001b[1;33m[\u001b[0m\u001b[1;36m3\u001b[0m\u001b[1;33m]\u001b[0m\u001b[1;33m)\u001b[0m       \u001b[1;31m# 列表索引越界\u001b[0m\u001b[1;33m\u001b[0m\u001b[1;33m\u001b[0m\u001b[0m\n\u001b[0m",
      "\u001b[1;31mIndexError\u001b[0m: list index out of range"
     ]
    }
   ],
   "source": [
    "mylist = [4, -3.5, 'String']\n",
    "print(mylist[0])\n",
    "print(mylist[1])\n",
    "print(mylist[2])\n",
    "print(len(mylist))     # 输出列表长度\n",
    "print(mylist[3])       # 列表索引越界\n"
   ]
  },
  {
   "cell_type": "code",
   "execution_count": 9,
   "metadata": {},
   "outputs": [
    {
     "name": "stdout",
     "output_type": "stream",
     "text": [
      "String\n",
      "-3.5\n",
      "4\n"
     ]
    },
    {
     "ename": "TypeError",
     "evalue": "list indices must be integers or slices, not float",
     "output_type": "error",
     "traceback": [
      "\u001b[1;31m---------------------------------------------------------------------------\u001b[0m",
      "\u001b[1;31mTypeError\u001b[0m                                 Traceback (most recent call last)",
      "\u001b[1;32m<ipython-input-9-edac86b0b6aa>\u001b[0m in \u001b[0;36m<module>\u001b[1;34m\u001b[0m\n\u001b[0;32m      3\u001b[0m \u001b[0mprint\u001b[0m\u001b[1;33m(\u001b[0m\u001b[0mmylist\u001b[0m\u001b[1;33m[\u001b[0m\u001b[1;33m-\u001b[0m\u001b[1;36m2\u001b[0m\u001b[1;33m]\u001b[0m\u001b[1;33m)\u001b[0m\u001b[1;33m\u001b[0m\u001b[1;33m\u001b[0m\u001b[0m\n\u001b[0;32m      4\u001b[0m \u001b[0mprint\u001b[0m\u001b[1;33m(\u001b[0m\u001b[0mmylist\u001b[0m\u001b[1;33m[\u001b[0m\u001b[1;33m-\u001b[0m\u001b[1;36m3\u001b[0m\u001b[1;33m]\u001b[0m\u001b[1;33m)\u001b[0m\u001b[1;33m\u001b[0m\u001b[1;33m\u001b[0m\u001b[0m\n\u001b[1;32m----> 5\u001b[1;33m \u001b[0mprint\u001b[0m\u001b[1;33m(\u001b[0m\u001b[0mmylist\u001b[0m\u001b[1;33m[\u001b[0m\u001b[1;36m1.5\u001b[0m\u001b[1;33m]\u001b[0m\u001b[1;33m)\u001b[0m\u001b[1;33m\u001b[0m\u001b[1;33m\u001b[0m\u001b[0m\n\u001b[0m",
      "\u001b[1;31mTypeError\u001b[0m: list indices must be integers or slices, not float"
     ]
    }
   ],
   "source": [
    "mylist = [4, -3.5, 'String']\n",
    "print(mylist[-1])\n",
    "print(mylist[-2])\n",
    "print(mylist[-3])\n",
    "print(mylist[1.5])"
   ]
  },
  {
   "cell_type": "code",
   "execution_count": 11,
   "metadata": {},
   "outputs": [
    {
     "data": {
      "text/plain": [
       "['baz', 'qux', 'quux']"
      ]
     },
     "execution_count": 11,
     "metadata": {},
     "output_type": "execute_result"
    }
   ],
   "source": [
    "mylist = ['foo', 'bar', 'baz', 'qux', 'quux', 'corge']\n",
    "mylist[2:5]"
   ]
  },
  {
   "cell_type": "code",
   "execution_count": 12,
   "metadata": {},
   "outputs": [
    {
     "data": {
      "text/plain": [
       "['baz', 'qux', 'quux']"
      ]
     },
     "execution_count": 12,
     "metadata": {},
     "output_type": "execute_result"
    }
   ],
   "source": [
    "mylist[-4:5]"
   ]
  },
  {
   "cell_type": "code",
   "execution_count": 13,
   "metadata": {},
   "outputs": [
    {
     "data": {
      "text/plain": [
       "[]"
      ]
     },
     "execution_count": 13,
     "metadata": {},
     "output_type": "execute_result"
    }
   ],
   "source": [
    "mylist[-4:2]   # 混用出错"
   ]
  },
  {
   "cell_type": "code",
   "execution_count": 14,
   "metadata": {},
   "outputs": [
    {
     "data": {
      "text/plain": [
       "['baz', 'qux']"
      ]
     },
     "execution_count": 14,
     "metadata": {},
     "output_type": "execute_result"
    }
   ],
   "source": [
    "mylist[-4:-2]"
   ]
  },
  {
   "cell_type": "code",
   "execution_count": 15,
   "metadata": {},
   "outputs": [
    {
     "data": {
      "text/plain": [
       "(['foo', 'bar', 'baz', 'qux'], ['foo', 'bar', 'baz', 'qux'])"
      ]
     },
     "execution_count": 15,
     "metadata": {},
     "output_type": "execute_result"
    }
   ],
   "source": [
    "mylist[:4], mylist[0:4]"
   ]
  },
  {
   "cell_type": "code",
   "execution_count": 16,
   "metadata": {},
   "outputs": [
    {
     "data": {
      "text/plain": [
       "(['baz', 'qux', 'quux', 'corge'], ['baz', 'qux', 'quux', 'corge'])"
      ]
     },
     "execution_count": 16,
     "metadata": {},
     "output_type": "execute_result"
    }
   ],
   "source": [
    "mylist[2:], mylist[2:len(mylist)]"
   ]
  },
  {
   "cell_type": "code",
   "execution_count": 17,
   "metadata": {},
   "outputs": [
    {
     "data": {
      "text/plain": [
       "['foo', 'bar', 'baz', 'qux', 'quux', 'corge']"
      ]
     },
     "execution_count": 17,
     "metadata": {},
     "output_type": "execute_result"
    }
   ],
   "source": [
    "mylist[:4] + mylist[4:]"
   ]
  },
  {
   "cell_type": "code",
   "execution_count": 18,
   "metadata": {},
   "outputs": [
    {
     "data": {
      "text/plain": [
       "True"
      ]
     },
     "execution_count": 18,
     "metadata": {},
     "output_type": "execute_result"
    }
   ],
   "source": [
    "mylist[:4] + mylist[4:] == mylist"
   ]
  },
  {
   "cell_type": "code",
   "execution_count": 19,
   "metadata": {},
   "outputs": [
    {
     "data": {
      "text/plain": [
       "['foo', 'baz', 'quux']"
      ]
     },
     "execution_count": 19,
     "metadata": {},
     "output_type": "execute_result"
    }
   ],
   "source": [
    "mylist[0:6:2]  # 间隔2个元素"
   ]
  },
  {
   "cell_type": "code",
   "execution_count": 20,
   "metadata": {},
   "outputs": [
    {
     "data": {
      "text/plain": [
       "['corge', 'qux', 'bar']"
      ]
     },
     "execution_count": 20,
     "metadata": {},
     "output_type": "execute_result"
    }
   ],
   "source": [
    "mylist[6:0:-2] # 逆序间隔2个元素"
   ]
  },
  {
   "cell_type": "code",
   "execution_count": 21,
   "metadata": {},
   "outputs": [
    {
     "data": {
      "text/plain": [
       "True"
      ]
     },
     "execution_count": 21,
     "metadata": {},
     "output_type": "execute_result"
    }
   ],
   "source": [
    "'qux' in mylist"
   ]
  },
  {
   "cell_type": "code",
   "execution_count": 22,
   "metadata": {},
   "outputs": [
    {
     "data": {
      "text/plain": [
       "True"
      ]
     },
     "execution_count": 22,
     "metadata": {},
     "output_type": "execute_result"
    }
   ],
   "source": [
    "'thud' not in mylist"
   ]
  },
  {
   "cell_type": "code",
   "execution_count": 23,
   "metadata": {},
   "outputs": [
    {
     "data": {
      "text/plain": [
       "6"
      ]
     },
     "execution_count": 23,
     "metadata": {},
     "output_type": "execute_result"
    }
   ],
   "source": [
    "len(mylist)"
   ]
  },
  {
   "cell_type": "code",
   "execution_count": 24,
   "metadata": {},
   "outputs": [
    {
     "data": {
      "text/plain": [
       "'bar'"
      ]
     },
     "execution_count": 24,
     "metadata": {},
     "output_type": "execute_result"
    }
   ],
   "source": [
    "min(mylist)"
   ]
  },
  {
   "cell_type": "code",
   "execution_count": 25,
   "metadata": {},
   "outputs": [
    {
     "data": {
      "text/plain": [
       "'qux'"
      ]
     },
     "execution_count": 25,
     "metadata": {},
     "output_type": "execute_result"
    }
   ],
   "source": [
    "max(mylist)"
   ]
  },
  {
   "cell_type": "code",
   "execution_count": 26,
   "metadata": {},
   "outputs": [
    {
     "data": {
      "text/plain": [
       "['foo', 'bar', 'baz', 'qux', 'quux', 'corge', 'grault', 'garply']"
      ]
     },
     "execution_count": 26,
     "metadata": {},
     "output_type": "execute_result"
    }
   ],
   "source": [
    "mylist + ['grault', 'garply']"
   ]
  },
  {
   "cell_type": "code",
   "execution_count": 27,
   "metadata": {},
   "outputs": [
    {
     "data": {
      "text/plain": [
       "['foo',\n",
       " 'bar',\n",
       " 'baz',\n",
       " 'qux',\n",
       " 'quux',\n",
       " 'corge',\n",
       " 'foo',\n",
       " 'bar',\n",
       " 'baz',\n",
       " 'qux',\n",
       " 'quux',\n",
       " 'corge']"
      ]
     },
     "execution_count": 27,
     "metadata": {},
     "output_type": "execute_result"
    }
   ],
   "source": [
    "mylist * 2"
   ]
  },
  {
   "cell_type": "code",
   "execution_count": 28,
   "metadata": {},
   "outputs": [
    {
     "ename": "TypeError",
     "evalue": "'int' object is not iterable",
     "output_type": "error",
     "traceback": [
      "\u001b[1;31m---------------------------------------------------------------------------\u001b[0m",
      "\u001b[1;31mTypeError\u001b[0m                                 Traceback (most recent call last)",
      "\u001b[1;32m<ipython-input-28-273a84cd674c>\u001b[0m in \u001b[0;36m<module>\u001b[1;34m\u001b[0m\n\u001b[0;32m      1\u001b[0m \u001b[0mmylist\u001b[0m \u001b[1;33m=\u001b[0m \u001b[1;33m[\u001b[0m\u001b[1;34m'foo'\u001b[0m\u001b[1;33m,\u001b[0m \u001b[1;34m'bar'\u001b[0m\u001b[1;33m,\u001b[0m \u001b[1;34m'baz'\u001b[0m\u001b[1;33m,\u001b[0m \u001b[1;34m'qux'\u001b[0m\u001b[1;33m,\u001b[0m \u001b[1;34m'quux'\u001b[0m\u001b[1;33m,\u001b[0m \u001b[1;34m'corge'\u001b[0m\u001b[1;33m]\u001b[0m\u001b[1;33m\u001b[0m\u001b[1;33m\u001b[0m\u001b[0m\n\u001b[1;32m----> 2\u001b[1;33m \u001b[0mmylist\u001b[0m \u001b[1;33m+=\u001b[0m \u001b[1;36m20\u001b[0m\u001b[1;33m\u001b[0m\u001b[1;33m\u001b[0m\u001b[0m\n\u001b[0m",
      "\u001b[1;31mTypeError\u001b[0m: 'int' object is not iterable"
     ]
    }
   ],
   "source": [
    "mylist = ['foo', 'bar', 'baz', 'qux', 'quux', 'corge']\n",
    "mylist += 20"
   ]
  },
  {
   "cell_type": "code",
   "execution_count": 29,
   "metadata": {},
   "outputs": [
    {
     "data": {
      "text/plain": [
       "['foo', 'bar', 'baz', 'qux', 'quux', 'corge', 20]"
      ]
     },
     "execution_count": 29,
     "metadata": {},
     "output_type": "execute_result"
    }
   ],
   "source": [
    "mylist += [20]\n",
    "mylist"
   ]
  },
  {
   "cell_type": "code",
   "execution_count": 30,
   "metadata": {},
   "outputs": [
    {
     "data": {
      "text/plain": [
       "['foo', 'bar', 'baz', 'qux', 'quux', 'c', 'o', 'r', 'g', 'e']"
      ]
     },
     "execution_count": 30,
     "metadata": {},
     "output_type": "execute_result"
    }
   ],
   "source": [
    "mylist = ['foo', 'bar', 'baz', 'qux', 'quux']\n",
    "mylist += 'corge'\n",
    "mylist"
   ]
  },
  {
   "cell_type": "code",
   "execution_count": 31,
   "metadata": {},
   "outputs": [
    {
     "data": {
      "text/plain": [
       "['a', 'b', 123]"
      ]
     },
     "execution_count": 31,
     "metadata": {},
     "output_type": "execute_result"
    }
   ],
   "source": [
    "mylist = ['a', 'b']\n",
    "mylist.append(123)\n",
    "mylist\n"
   ]
  },
  {
   "cell_type": "code",
   "execution_count": 32,
   "metadata": {},
   "outputs": [
    {
     "name": "stdout",
     "output_type": "stream",
     "text": [
      "None\n"
     ]
    }
   ],
   "source": [
    "mylist = ['a', 'b']\n",
    "x = mylist.append(123)\n",
    "print(x)"
   ]
  },
  {
   "cell_type": "code",
   "execution_count": 33,
   "metadata": {},
   "outputs": [
    {
     "data": {
      "text/plain": [
       "['a', 'b', [1, 2, 3]]"
      ]
     },
     "execution_count": 33,
     "metadata": {},
     "output_type": "execute_result"
    }
   ],
   "source": [
    "mylist = ['a', 'b']\n",
    "mylist.append([1, 2, 3])\n",
    "mylist"
   ]
  },
  {
   "cell_type": "code",
   "execution_count": 34,
   "metadata": {},
   "outputs": [
    {
     "data": {
      "text/plain": [
       "['a', 'b', 'foo']"
      ]
     },
     "execution_count": 34,
     "metadata": {},
     "output_type": "execute_result"
    }
   ],
   "source": [
    "mylist = ['a', 'b']\n",
    "mylist.append('foo')\n",
    "mylist"
   ]
  },
  {
   "cell_type": "code",
   "execution_count": 35,
   "metadata": {},
   "outputs": [
    {
     "data": {
      "text/plain": [
       "(3.14159, ['foo', 'bar', 'baz', 3.14159, 'qux', 'quux', 'corge'])"
      ]
     },
     "execution_count": 35,
     "metadata": {},
     "output_type": "execute_result"
    }
   ],
   "source": [
    "mylist = ['foo', 'bar', 'baz', 'qux', 'quux', 'corge']\n",
    "mylist.insert(3, 3.14159)\n",
    "mylist[3], mylist"
   ]
  },
  {
   "cell_type": "code",
   "execution_count": 36,
   "metadata": {},
   "outputs": [
    {
     "data": {
      "text/plain": [
       "['foo', 'bar', 'qux', 'quux', 'corge']"
      ]
     },
     "execution_count": 36,
     "metadata": {},
     "output_type": "execute_result"
    }
   ],
   "source": [
    "mylist = ['foo', 'bar', 'baz', 'qux', 'quux', 'corge']\n",
    "mylist.remove('baz')\n",
    "mylist"
   ]
  },
  {
   "cell_type": "code",
   "execution_count": 37,
   "metadata": {},
   "outputs": [
    {
     "ename": "ValueError",
     "evalue": "list.remove(x): x not in list",
     "output_type": "error",
     "traceback": [
      "\u001b[1;31m---------------------------------------------------------------------------\u001b[0m",
      "\u001b[1;31mValueError\u001b[0m                                Traceback (most recent call last)",
      "\u001b[1;32m<ipython-input-37-3231d5f41ad8>\u001b[0m in \u001b[0;36m<module>\u001b[1;34m\u001b[0m\n\u001b[1;32m----> 1\u001b[1;33m \u001b[0mmylist\u001b[0m\u001b[1;33m.\u001b[0m\u001b[0mremove\u001b[0m\u001b[1;33m(\u001b[0m\u001b[1;34m'Bark!'\u001b[0m\u001b[1;33m)\u001b[0m\u001b[1;33m\u001b[0m\u001b[1;33m\u001b[0m\u001b[0m\n\u001b[0m",
      "\u001b[1;31mValueError\u001b[0m: list.remove(x): x not in list"
     ]
    }
   ],
   "source": [
    "mylist.remove('Bark!')"
   ]
  },
  {
   "cell_type": "code",
   "execution_count": 38,
   "metadata": {},
   "outputs": [
    {
     "name": "stdout",
     "output_type": "stream",
     "text": [
      "[1, 2, 3, 6]\n"
     ]
    }
   ],
   "source": [
    "mylist = [1,2,3,4]\n",
    "mylist2 = mylist\n",
    "mylist2[-1] = 6\n",
    "print(mylist)"
   ]
  },
  {
   "cell_type": "markdown",
   "metadata": {},
   "source": [
    "## 4.3\tFor循环"
   ]
  },
  {
   "cell_type": "code",
   "execution_count": 39,
   "metadata": {},
   "outputs": [
    {
     "name": "stdout",
     "output_type": "stream",
     "text": [
      "  0 -17.777778\n",
      "  1 -17.222222\n",
      "  2 -16.666667\n",
      "  3 -16.111111\n",
      "  4 -15.555556\n",
      "  5 -15.000000\n",
      "  6 -14.444444\n",
      "  7 -13.888889\n",
      "  8 -13.333333\n",
      "  9 -12.777778\n",
      " 10 -12.222222\n",
      " 11 -11.666667\n",
      " 12 -11.111111\n",
      " 13 -10.555556\n",
      " 14 -10.000000\n",
      " 15  -9.444444\n",
      " 16  -8.888889\n",
      " 17  -8.333333\n",
      " 18  -7.777778\n",
      " 19  -7.222222\n",
      " 20  -6.666667\n",
      " 21  -6.111111\n",
      " 22  -5.555556\n",
      " 23  -5.000000\n",
      " 24  -4.444444\n",
      " 25  -3.888889\n",
      " 26  -3.333333\n",
      " 27  -2.777778\n",
      " 28  -2.222222\n",
      " 29  -1.666667\n",
      " 30  -1.111111\n",
      " 31  -0.555556\n",
      " 32   0.000000\n",
      " 33   0.555556\n",
      " 34   1.111111\n",
      " 35   1.666667\n",
      " 36   2.222222\n",
      " 37   2.777778\n",
      " 38   3.333333\n",
      " 39   3.888889\n",
      " 40   4.444444\n",
      " 41   5.000000\n",
      " 42   5.555556\n",
      " 43   6.111111\n",
      " 44   6.666667\n",
      " 45   7.222222\n",
      " 46   7.777778\n",
      " 47   8.333333\n",
      " 48   8.888889\n",
      " 49   9.444444\n",
      " 50  10.000000\n",
      " 51  10.555556\n",
      " 52  11.111111\n",
      " 53  11.666667\n",
      " 54  12.222222\n",
      " 55  12.777778\n",
      " 56  13.333333\n",
      " 57  13.888889\n",
      " 58  14.444444\n",
      " 59  15.000000\n",
      " 60  15.555556\n",
      " 61  16.111111\n",
      " 62  16.666667\n",
      " 63  17.222222\n",
      " 64  17.777778\n",
      " 65  18.333333\n",
      " 66  18.888889\n",
      " 67  19.444444\n",
      " 68  20.000000\n",
      " 69  20.555556\n",
      " 70  21.111111\n",
      " 71  21.666667\n",
      " 72  22.222222\n",
      " 73  22.777778\n",
      " 74  23.333333\n",
      " 75  23.888889\n",
      " 76  24.444444\n",
      " 77  25.000000\n",
      " 78  25.555556\n",
      " 79  26.111111\n",
      " 80  26.666667\n",
      " 81  27.222222\n",
      " 82  27.777778\n",
      " 83  28.333333\n",
      " 84  28.888889\n",
      " 85  29.444444\n",
      " 86  30.000000\n",
      " 87  30.555556\n",
      " 88  31.111111\n",
      " 89  31.666667\n",
      " 90  32.222222\n",
      " 91  32.777778\n",
      " 92  33.333333\n",
      " 93  33.888889\n",
      " 94  34.444444\n",
      " 95  35.000000\n",
      " 96  35.555556\n",
      " 97  36.111111\n",
      " 98  36.666667\n",
      " 99  37.222222\n",
      "100  37.777778\n"
     ]
    }
   ],
   "source": [
    "for f in range(101):\n",
    "    print(\"%3d % 10.6f\"%(f, f2c(f)))\n"
   ]
  },
  {
   "cell_type": "markdown",
   "metadata": {},
   "source": [
    "## 4.4\t中止当前循环"
   ]
  },
  {
   "cell_type": "code",
   "execution_count": 40,
   "metadata": {},
   "outputs": [
    {
     "name": "stdout",
     "output_type": "stream",
     "text": [
      "Hello\n",
      "循环结束\n"
     ]
    }
   ],
   "source": [
    "strings = \"Hello World!\"\n",
    "\n",
    "for s in strings:\n",
    "    if s == ' ':\n",
    "        break # 终止循环\n",
    "    print(s, end=\"\")\n",
    "print(\"\\n循环结束\")\n"
   ]
  },
  {
   "cell_type": "code",
   "execution_count": 41,
   "metadata": {},
   "outputs": [
    {
     "name": "stdout",
     "output_type": "stream",
     "text": [
      "Hello\n",
      "\n",
      "World!\n",
      "循环结束\n"
     ]
    }
   ],
   "source": [
    "strings = \"Hello World!\"\n",
    "\n",
    "for s in strings:\n",
    "    if s == ' ':\n",
    "        print('\\n')\n",
    "        continue     # 中止当前循环，开始新一次的循环判断\n",
    "    print(s, end=\"\")\n",
    "print(\"\\n循环结束\")\n"
   ]
  },
  {
   "cell_type": "markdown",
   "metadata": {},
   "source": [
    "## 4.5\t列表推导式（list comprehension）\n",
    "\n",
    "### 4.5.2\t使用For循环填充列表"
   ]
  },
  {
   "cell_type": "code",
   "execution_count": 42,
   "metadata": {},
   "outputs": [
    {
     "name": "stdout",
     "output_type": "stream",
     "text": [
      "[0, 1, 2, 3, 4]\n"
     ]
    }
   ],
   "source": [
    "mylist = []\n",
    "for a in range(5):\n",
    "    mylist.append(a)\n",
    "print(mylist)\n"
   ]
  },
  {
   "cell_type": "markdown",
   "metadata": {},
   "source": [
    "### 4.5.3\t数列求和"
   ]
  },
  {
   "cell_type": "code",
   "execution_count": 43,
   "metadata": {},
   "outputs": [
    {
     "name": "stdout",
     "output_type": "stream",
     "text": [
      "5050\n"
     ]
    }
   ],
   "source": [
    "sum = 0\n",
    "for i in range(1, 101):\n",
    "    sum += i\n",
    "print(sum)\n"
   ]
  },
  {
   "cell_type": "markdown",
   "metadata": {},
   "source": [
    "### 4.5.4\t更改列表中的元素"
   ]
  },
  {
   "cell_type": "code",
   "execution_count": 44,
   "metadata": {},
   "outputs": [
    {
     "name": "stdout",
     "output_type": "stream",
     "text": [
      "[1, 3, 12]\n"
     ]
    }
   ],
   "source": [
    "v = [-1, 1, 10]\n",
    "for i in range(len(v)):\n",
    "    v[i] = v[i] + 2\n",
    "print(v)\n"
   ]
  },
  {
   "cell_type": "code",
   "execution_count": 45,
   "metadata": {},
   "outputs": [
    {
     "name": "stdout",
     "output_type": "stream",
     "text": [
      "[-1, 1, 10]\n"
     ]
    }
   ],
   "source": [
    "v = [-1, 1, 10]\n",
    "for e in v:\n",
    "    e=e+2\n",
    "print(v)\n"
   ]
  },
  {
   "cell_type": "markdown",
   "metadata": {},
   "source": [
    "### 4.5.5\t创建列表的简便方式"
   ]
  },
  {
   "cell_type": "code",
   "execution_count": 46,
   "metadata": {},
   "outputs": [
    {
     "name": "stdout",
     "output_type": "stream",
     "text": [
      "[0, 1, 2, 3, 4]\n"
     ]
    }
   ],
   "source": [
    "mylist = [b for b in range(5)]\n",
    "print(mylist)\n"
   ]
  },
  {
   "cell_type": "code",
   "execution_count": 47,
   "metadata": {},
   "outputs": [
    {
     "name": "stdout",
     "output_type": "stream",
     "text": [
      "['ppppppp', 'yyyyyyy', 'ttttttt', 'hhhhhhh', 'ooooooo', 'nnnnnnn']\n",
      "[1, 3, 5]\n",
      "[(0, 25), (0, 100), (1, 25), (1, 100), (2, 25), (2, 100)]\n",
      "[[0, 1, 2], [3, 4, 5], [6, 7, 8], [9, 10, 11], [12, 13, 14], [15, 16, 17], [18, 19, 20]]\n"
     ]
    }
   ],
   "source": [
    "# in后面跟其他可迭代对象，如字符串\n",
    "list_a = [7 * c for c in \"python\"]\n",
    "\n",
    "# 带if条件语句的列表推导式\n",
    "list_b = [d for d in range(6) if d % 2 != 0]\n",
    "\n",
    "# 多个for循环\n",
    "list_c = [(e, f * f) for e in range(3) for f in range(5, 15, 5)]\n",
    "\n",
    "# 嵌套列表推导式,多个并列条件\n",
    "list_d = [[x for x in range(g - 3, g)]\n",
    "          for g in range(22) if g % 3 == 0 and g != 0]\n",
    "\n",
    "print(list_a)\n",
    "print(list_b)\n",
    "print(list_c)\n",
    "print(list_d)\n"
   ]
  },
  {
   "cell_type": "markdown",
   "metadata": {},
   "source": [
    "### 4.5.6\tzip()函数"
   ]
  },
  {
   "cell_type": "code",
   "execution_count": 49,
   "metadata": {},
   "outputs": [
    {
     "name": "stdout",
     "output_type": "stream",
     "text": [
      "1 101\n",
      "5 78\n",
      "4 37\n",
      "2 15\n",
      "10 62\n",
      "7 99\n"
     ]
    }
   ],
   "source": [
    "list1 = [1, 5, 4, 2, 10, 7]\n",
    "list2 = [101, 78, 37, 15, 62, 99]\n",
    "for x, y in zip(list1, list2):\n",
    "    print(x,y)"
   ]
  },
  {
   "cell_type": "code",
   "execution_count": 50,
   "metadata": {},
   "outputs": [
    {
     "name": "stdout",
     "output_type": "stream",
     "text": [
      "(1, 'w')\n",
      "(2, 'x')\n",
      "(3, 'y')\n"
     ]
    }
   ],
   "source": [
    "list1 = [1, 2, 3]\n",
    "list2 = ['w', 'x', 'y', 'z']\n",
    "for i in zip(list1, list2):\n",
    "    print(i)"
   ]
  },
  {
   "cell_type": "markdown",
   "metadata": {},
   "source": [
    "## 4.6\t列表嵌套"
   ]
  },
  {
   "cell_type": "code",
   "execution_count": 51,
   "metadata": {},
   "outputs": [
    {
     "name": "stdout",
     "output_type": "stream",
     "text": [
      "[0, 1, 2, 3, 4, 5, 6, 7, 8, 9]\n",
      "[10, 11, 12, 13, 14, 15, 16, 17, 18, 19]\n",
      "[[0, 1, 2, 3, 4, 5, 6, 7, 8, 9], [10, 11, 12, 13, 14, 15, 16, 17, 18, 19]]\n"
     ]
    }
   ],
   "source": [
    "list1 = list(range(10))\n",
    "list2 = list(range(10, 20))\n",
    "list3 = [list1, list2]  # 列表的成员是两个列表\n",
    "print(list1)\n",
    "print(list2)\n",
    "print(list3)\n"
   ]
  },
  {
   "cell_type": "code",
   "execution_count": 52,
   "metadata": {},
   "outputs": [
    {
     "name": "stdout",
     "output_type": "stream",
     "text": [
      "9\n",
      "7\n",
      "-1\n",
      "5\n",
      "6\n"
     ]
    }
   ],
   "source": [
    "L = [[9, 7], [-1, 5, 6]]\n",
    "for row in L:\n",
    "    for column in row:\n",
    "        print(column)"
   ]
  },
  {
   "cell_type": "markdown",
   "metadata": {},
   "source": [
    "## 4.8\tTuples"
   ]
  },
  {
   "cell_type": "code",
   "execution_count": 53,
   "metadata": {},
   "outputs": [],
   "source": [
    "t = (2, 4, 6, 'temp.pdf')\n",
    "t = 2, 4, 6, 'temp.pdf'"
   ]
  },
  {
   "cell_type": "code",
   "execution_count": 54,
   "metadata": {},
   "outputs": [
    {
     "name": "stdout",
     "output_type": "stream",
     "text": [
      "(2, 4, 6, 'temp.pdf', -1.0, -2.0)\n",
      "4\n",
      "(6, 'temp.pdf', -1.0, -2.0)\n",
      "True\n"
     ]
    }
   ],
   "source": [
    "t = t + (-1.0, -2.0) # 将两个元组串联\n",
    "print(t)\n",
    "print(t[1])\n",
    "print(t[2:])\n",
    "print(6 in t)"
   ]
  },
  {
   "cell_type": "code",
   "execution_count": 55,
   "metadata": {},
   "outputs": [
    {
     "ename": "TypeError",
     "evalue": "'tuple' object does not support item assignment",
     "output_type": "error",
     "traceback": [
      "\u001b[1;31m---------------------------------------------------------------------------\u001b[0m",
      "\u001b[1;31mTypeError\u001b[0m                                 Traceback (most recent call last)",
      "\u001b[1;32m<ipython-input-55-d6b0ce29b2aa>\u001b[0m in \u001b[0;36m<module>\u001b[1;34m\u001b[0m\n\u001b[1;32m----> 1\u001b[1;33m \u001b[0mt\u001b[0m\u001b[1;33m[\u001b[0m\u001b[1;36m1\u001b[0m\u001b[1;33m]\u001b[0m \u001b[1;33m=\u001b[0m \u001b[1;36m1\u001b[0m\u001b[1;33m\u001b[0m\u001b[1;33m\u001b[0m\u001b[0m\n\u001b[0m",
      "\u001b[1;31mTypeError\u001b[0m: 'tuple' object does not support item assignment"
     ]
    }
   ],
   "source": [
    "t[1] = 1"
   ]
  },
  {
   "cell_type": "code",
   "execution_count": 56,
   "metadata": {},
   "outputs": [
    {
     "ename": "AttributeError",
     "evalue": "'tuple' object has no attribute 'append'",
     "output_type": "error",
     "traceback": [
      "\u001b[1;31m---------------------------------------------------------------------------\u001b[0m",
      "\u001b[1;31mAttributeError\u001b[0m                            Traceback (most recent call last)",
      "\u001b[1;32m<ipython-input-56-027f59be7fb0>\u001b[0m in \u001b[0;36m<module>\u001b[1;34m\u001b[0m\n\u001b[1;32m----> 1\u001b[1;33m \u001b[0mt\u001b[0m\u001b[1;33m.\u001b[0m\u001b[0mappend\u001b[0m\u001b[1;33m(\u001b[0m\u001b[1;36m0\u001b[0m\u001b[1;33m)\u001b[0m\u001b[1;33m\u001b[0m\u001b[1;33m\u001b[0m\u001b[0m\n\u001b[0m",
      "\u001b[1;31mAttributeError\u001b[0m: 'tuple' object has no attribute 'append'"
     ]
    }
   ],
   "source": [
    "t.append(0)"
   ]
  },
  {
   "cell_type": "code",
   "execution_count": 57,
   "metadata": {},
   "outputs": [
    {
     "ename": "TypeError",
     "evalue": "'tuple' object doesn't support item deletion",
     "output_type": "error",
     "traceback": [
      "\u001b[1;31m---------------------------------------------------------------------------\u001b[0m",
      "\u001b[1;31mTypeError\u001b[0m                                 Traceback (most recent call last)",
      "\u001b[1;32m<ipython-input-57-77cea8bc7ee1>\u001b[0m in \u001b[0;36m<module>\u001b[1;34m\u001b[0m\n\u001b[1;32m----> 1\u001b[1;33m \u001b[1;32mdel\u001b[0m \u001b[0mt\u001b[0m\u001b[1;33m[\u001b[0m\u001b[1;36m1\u001b[0m\u001b[1;33m]\u001b[0m\u001b[1;33m\u001b[0m\u001b[1;33m\u001b[0m\u001b[0m\n\u001b[0m",
      "\u001b[1;31mTypeError\u001b[0m: 'tuple' object doesn't support item deletion"
     ]
    }
   ],
   "source": [
    "del t[1]"
   ]
  },
  {
   "cell_type": "markdown",
   "metadata": {},
   "source": [
    "## 4.9\t求方程近似解\n",
    "\n",
    "### 4.9.1\t二分法"
   ]
  },
  {
   "cell_type": "code",
   "execution_count": 58,
   "metadata": {},
   "outputs": [],
   "source": [
    "def bisection(f, x1, x2, tol = 1e-6):\n",
    "    \"\"\"\n",
    "    用二分法求方程近似解\n",
    "\n",
    "    参数\n",
    "    ----\n",
    "    f : 函数\n",
    "        待解方程的函数。\n",
    "    x1 : 浮点型\n",
    "        求近似解的区间下界。\n",
    "    x2 : 浮点型\n",
    "        求近似解的区间上界。\n",
    "    tol : 浮点型, 可选参数\n",
    "        近似解的公差值，默认值1e-6。\n",
    "\n",
    "    返回值\n",
    "    ------\n",
    "    m : 浮点型\n",
    "        方程f的近似解。\n",
    "    \"\"\"\n",
    "    if f(x1) * f(x2) > 0:\n",
    "        print('区间[%g, %g]之间无解！'%(x1, x2))\n",
    "        return\n",
    "    m = (x1 + x2) / 2\n",
    "    while abs(f(m)) > tol:\n",
    "        if f(x1) * f(m) < 0: \n",
    "            x2 = m\n",
    "        else:\n",
    "            x1 = m\n",
    "        m = (x1 + x2) / 2\n",
    "    return m\n"
   ]
  },
  {
   "cell_type": "markdown",
   "metadata": {},
   "source": [
    "### 4.9.2\t牛顿迭代法"
   ]
  },
  {
   "cell_type": "code",
   "execution_count": 62,
   "metadata": {},
   "outputs": [],
   "source": [
    "def Newton(f, dfdx, x0, tol = 1e-6):\n",
    "    \"\"\"\n",
    "    牛顿迭代法求方程近似解\n",
    "\n",
    "    参数\n",
    "    ----\n",
    "    f : 函数\n",
    "        待解方程的函数。\n",
    "    dfdx : 函数\n",
    "        待解方程的导数函数。\n",
    "    x0 : 浮点型\n",
    "        求近似解的迭代起点。\n",
    "    tol : 浮点型, 可选参数\n",
    "        近似解的公差值，默认值1e-6。\n",
    "\n",
    "    返回值\n",
    "    ------\n",
    "    m : 浮点型\n",
    "        方程f的近似解。\n",
    "    \"\"\"\n",
    "    f0 = f(x0)\n",
    "    while abs(f0) > tol:\n",
    "        x1 = x0 - f0/dfdx(x0)\n",
    "        x0=x1\n",
    "        f0 = f(x0)\n",
    "    return x0"
   ]
  },
  {
   "cell_type": "code",
   "execution_count": 63,
   "metadata": {},
   "outputs": [
    {
     "name": "stdout",
     "output_type": "stream",
     "text": [
      "利用二分法求得近似解x = 0.213348。 f(0.213348) = -3.41372e-07\n",
      "利用牛顿迭代法求得近似解x = 0.213348。 f(0.213348) = 4.52213e-09\n"
     ]
    }
   ],
   "source": [
    "#求解方程f(x)= x**2-4*x+exp(-x)\n",
    "# 利用二分法在区间[-0.5, 1]上求解\n",
    "import math\n",
    "\n",
    "f = lambda x: x**2 - 4*x + math.exp(-x)\n",
    "sol = bisection(f, -0.5, 1)\n",
    "print('利用二分法求得近似解x = %g。 f(%g) = %g'%(sol, sol, f(sol)))\n",
    "\n",
    "# 利用牛顿迭代求解\n",
    "dfdx = lambda x: 2*x -4 - math.exp(-x) # 导数方程\n",
    "sol = Newton(f, dfdx, 0)\n",
    "print('利用牛顿迭代法求得近似解x = %g。 f(%g) = %g'%(sol, sol, f(sol)))\n"
   ]
  },
  {
   "cell_type": "markdown",
   "metadata": {},
   "source": [
    "## 4.11\t练习"
   ]
  },
  {
   "cell_type": "code",
   "execution_count": 71,
   "metadata": {},
   "outputs": [
    {
     "name": "stdout",
     "output_type": "stream",
     "text": [
      "100 以内的质数有：\n",
      "2 3 5 7 11 13 17 19 23 29 31 37 41 43 47 53 59 61 67 71 73 79 83 89 97 "
     ]
    }
   ],
   "source": [
    "# 练习1\n",
    "\n",
    "d = [i for i in range(100)]\n",
    "i = 2\n",
    "j = 1\n",
    "while i < 99:\n",
    "    a = d[i]\n",
    "    if a == 0:\n",
    "        i += 1\n",
    "        continue\n",
    "    j = i+1\n",
    "    while j < 100:\n",
    "        if d[j] != 0 and d[j] % a == 0:\n",
    "            d[j] = 0\n",
    "        j += 1\n",
    "    i += 1\n",
    "\n",
    "print(\"100 以内的质数有：\")\n",
    "for i in d[2:]:\n",
    "    if i != 0:\n",
    "        print(\"%d \"%(i),end=\"\")"
   ]
  },
  {
   "cell_type": "code",
   "execution_count": 3,
   "metadata": {},
   "outputs": [
    {
     "name": "stdout",
     "output_type": "stream",
     "text": [
      "找到一个反例 p=11， masson: 2047 = 23 * 89\n"
     ]
    }
   ],
   "source": [
    "# 练习2\n",
    "\n",
    "import math\n",
    "\n",
    "def get_frac(n):\n",
    "    \"\"\"查找一个整数的最小因数\n",
    "    \n",
    "    入参\n",
    "    ____\n",
    "    n: int\n",
    "        待检验整数\n",
    "        \n",
    "    返回值\n",
    "    ______\n",
    "    f: int\n",
    "        n的最小因数\n",
    "    \"\"\"\n",
    "    \n",
    "    for i in range(2, int(math.sqrt(n)) + 1): \n",
    "        f = n % i\n",
    "        if  f == 0: \n",
    "            return i\n",
    "    return 1\n",
    " \n",
    "def isPrime(n):\n",
    "    \"\"\"检测一个整数是否为质数\n",
    "    \n",
    "    入参\n",
    "    ____\n",
    "    n: int\n",
    "        待检验整数\n",
    "        \n",
    "    返回值\n",
    "    ______\n",
    "    p：bool\n",
    "        True，输入为质数\n",
    "        False，输入不是质数\n",
    "    \"\"\"\n",
    "    if n <= 1: \n",
    "        return False\n",
    "    for i in range(2, int(math.sqrt(n)) + 1): \n",
    "        if n % i == 0: \n",
    "            return False\n",
    "    return True\n",
    "\n",
    "found = False\n",
    "p = 2\n",
    "while not found:\n",
    "    if isPrime(p):\n",
    "        masson = math.pow(2, p) - 1\n",
    "        if not isPrime(masson):\n",
    "            f = get_frac(masson)\n",
    "            print(\"找到一个反例 p=%d， masson: %d = %d * %d\" % (p, masson, f, masson/f))\n",
    "            found = True\n",
    "    p += 1    "
   ]
  },
  {
   "cell_type": "code",
   "execution_count": 9,
   "metadata": {},
   "outputs": [
    {
     "name": "stdout",
     "output_type": "stream",
     "text": [
      "40以内的梅森素数有：\n",
      "3 7 31 "
     ]
    }
   ],
   "source": [
    "# 练习3\n",
    "\n",
    "import math\n",
    "\n",
    "def is_prime(n):\n",
    "    \"\"\"检测一个整数是否为质数\n",
    "    \n",
    "    入参\n",
    "    ____\n",
    "    n: int\n",
    "        待检验整数\n",
    "        \n",
    "    返回值\n",
    "    ______\n",
    "    p：bool\n",
    "        True，输入为质数\n",
    "        False，输入不是质数\n",
    "    \"\"\"\n",
    "    if n <= 1: \n",
    "        return False\n",
    "    for i in range(2, int(math.sqrt(n)) + 1): \n",
    "        if n % i == 0: \n",
    "            return False\n",
    "    return True\n",
    "\n",
    "p = 2\n",
    "masson = []\n",
    "m = math.pow(2, p) - 1\n",
    "while m < 40:\n",
    "    if is_prime(m):\n",
    "        masson.append(m)        \n",
    "    p += 1\n",
    "    m = math.pow(2, p) - 1\n",
    "\n",
    "if masson:\n",
    "    print(\"40以内的梅森素数有：\")\n",
    "    for mm in masson:\n",
    "        print(\"%d \"%(mm), end=\"\")\n",
    "else:\n",
    "    print(\"不存在40以内的梅森素数\")"
   ]
  },
  {
   "cell_type": "code",
   "execution_count": 34,
   "metadata": {},
   "outputs": [
    {
     "name": "stdout",
     "output_type": "stream",
     "text": [
      "请输入一个整数: 27\n",
      "27 = 3×3×3\n"
     ]
    }
   ],
   "source": [
    "# 练习4\n",
    "import math\n",
    "\n",
    "def factor(n):\n",
    "    \"\"\"分解质因数\n",
    "    \n",
    "    参数\n",
    "    ____\n",
    "    n: int\n",
    "        待分解的整数\n",
    "    \n",
    "    返回值\n",
    "    ______\n",
    "    factor: int list\n",
    "        质因数列表    \n",
    "    \"\"\"\n",
    "    m = []\n",
    "    while n!=1:    # n==1时，已分解到最后一个质因数\n",
    "        for i in range(2, int(math.sqrt(n)) + 1):\n",
    "            while n % i == 0:\n",
    "                m.append(i)\n",
    "                n = n/i\n",
    "        if n!=1:\n",
    "            m.append(n)\n",
    "            break\n",
    "    return m\n",
    "\n",
    "def test_factor():\n",
    "    # 测试函数\n",
    "    n1, f1 = 24, [2, 2,2,3]\n",
    "    n2, f2 = 31, [31]\n",
    "    assert f1 == factor(n1), '第一组测试结果错误 {}'.format(factor(n1))\n",
    "    assert f2 == factor(n2), '第一组测试结果错误 {}'.format(factor(n2))\n",
    "    \n",
    "n = int(input('请输入一个整数: '))\n",
    "f = factor(n)\n",
    "\n",
    "if f:\n",
    "    fs = []\n",
    "    for i in f:\n",
    "        fs.append(str(i))\n",
    "    print(n, '=', '×'.join(fs))\n",
    "else:\n",
    "    print(n, \"是一个质数\")"
   ]
  },
  {
   "cell_type": "code",
   "execution_count": 42,
   "metadata": {},
   "outputs": [
    {
     "name": "stdout",
     "output_type": "stream",
     "text": [
      "请输入一个整数: 12\n",
      "1  2  3  4  6  "
     ]
    }
   ],
   "source": [
    "# 练习5\n",
    "\n",
    "def defactor(n):\n",
    "    \"\"\"计算整数n所有真因数之和\n",
    "    \n",
    "    参数\n",
    "    ____\n",
    "    n: int\n",
    "        待分解的整数\n",
    "    \n",
    "    返回值\n",
    "    ______\n",
    "    factor: int list\n",
    "        真因数列表      \n",
    "    \"\"\"\n",
    "    df = []\n",
    "    for i in range(1, n//2+1):\n",
    "        if n % i == 0:\n",
    "            df.append(i)\n",
    "    return df\n",
    "\n",
    "def test_dfactor():\n",
    "    # 测试函数\n",
    "    n1, f1 = 12, [1, 2, 3, 4, 6]\n",
    "    n2, f2 = 31, [1]\n",
    "    assert f1 == defactor(n1), '第一组测试结果错误 {}'.format(defactor(n1))\n",
    "    assert f2 == defactor(n2), '第一组测试结果错误 {}'.format(defactor(n2))\n",
    "\n",
    "n = int(input('请输入一个整数: '))\n",
    "f = defactor(n)\n",
    "\n",
    "for i in f:\n",
    "    print(i, ' ', end=\"\")"
   ]
  },
  {
   "cell_type": "code",
   "execution_count": 45,
   "metadata": {},
   "outputs": [
    {
     "name": "stdout",
     "output_type": "stream",
     "text": [
      "10000以内的完美数有：\n",
      "6 28 496 8128 "
     ]
    }
   ],
   "source": [
    "# 练习6\n",
    "\n",
    "perfect = []\n",
    "\n",
    "for i in range(1, 10000):\n",
    "    f = defactor(i)\n",
    "    if i == sum(f):\n",
    "        perfect.append(i)\n",
    "\n",
    "print(\"10000以内的完美数有：\")\n",
    "for i in perfect:\n",
    "    print(i, end=\" \")"
   ]
  }
 ],
 "metadata": {
  "kernelspec": {
   "display_name": "Python 3",
   "language": "python",
   "name": "python3"
  },
  "language_info": {
   "codemirror_mode": {
    "name": "ipython",
    "version": 3
   },
   "file_extension": ".py",
   "mimetype": "text/x-python",
   "name": "python",
   "nbconvert_exporter": "python",
   "pygments_lexer": "ipython3",
   "version": "3.8.3"
  }
 },
 "nbformat": 4,
 "nbformat_minor": 4
}
