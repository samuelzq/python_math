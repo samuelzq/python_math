{
 "cells": [
  {
   "cell_type": "markdown",
   "metadata": {},
   "source": [
    "测试NumPy库是否安装成功"
   ]
  },
  {
   "cell_type": "code",
   "execution_count": 1,
   "metadata": {},
   "outputs": [
    {
     "data": {
      "text/plain": [
       "array([[1., 0., 0., 0.],\n",
       "       [0., 1., 0., 0.],\n",
       "       [0., 0., 1., 0.],\n",
       "       [0., 0., 0., 1.]])"
      ]
     },
     "execution_count": 1,
     "metadata": {},
     "output_type": "execute_result"
    }
   ],
   "source": [
    "import numpy as np\n",
    "np.eye(4)"
   ]
  },
  {
   "cell_type": "code",
   "execution_count": 2,
   "metadata": {},
   "outputs": [
    {
     "name": "stdout",
     "output_type": "stream",
     "text": [
      "[1 2 3 4]\n",
      "类型： <class 'numpy.ndarray'>\n",
      "维度： 1\n",
      "形状： (4,)\n",
      "元素个数： 4\n",
      "数据形状： int32\n",
      "占据内存空间：16 字节\n"
     ]
    }
   ],
   "source": [
    "# 创建一个ndarray类的实例\n",
    "a = np.array([1, 2, 3, 4])\n",
    "print(a)\n",
    "print('类型：', type(a))\n",
    "print('维度：', a.ndim)\n",
    "print('形状：', a.shape)\n",
    "print('元素个数：', a.size)\n",
    "print('数据形状：', a.dtype)\n",
    "print('占据内存空间：%d 字节' % (a.nbytes))\n"
   ]
  },
  {
   "cell_type": "markdown",
   "metadata": {},
   "source": [
    "创建为1维NumPy数组："
   ]
  },
  {
   "cell_type": "code",
   "execution_count": 3,
   "metadata": {},
   "outputs": [
    {
     "name": "stdout",
     "output_type": "stream",
     "text": [
      "[1 2 3]\n"
     ]
    }
   ],
   "source": [
    "a = np.array([1,2,3])\n",
    "print (a)\n"
   ]
  },
  {
   "cell_type": "markdown",
   "metadata": {},
   "source": [
    "构造2维数组"
   ]
  },
  {
   "cell_type": "code",
   "execution_count": 4,
   "metadata": {},
   "outputs": [
    {
     "name": "stdout",
     "output_type": "stream",
     "text": [
      "[[1 2]\n",
      " [3 4]]\n"
     ]
    }
   ],
   "source": [
    "a = np.array([[1, 2], [3, 4]])\n",
    "print(a)\n"
   ]
  },
  {
   "cell_type": "markdown",
   "metadata": {},
   "source": [
    "创建复数数组"
   ]
  },
  {
   "cell_type": "code",
   "execution_count": 5,
   "metadata": {},
   "outputs": [
    {
     "name": "stdout",
     "output_type": "stream",
     "text": [
      "[1.+0.j 2.+0.j 3.+0.j]\n"
     ]
    }
   ],
   "source": [
    "a = np.array([1, 2, 3], dtype = complex)\n",
    "print(a)\n"
   ]
  },
  {
   "cell_type": "markdown",
   "metadata": {},
   "source": [
    "numpy.arange() 函数"
   ]
  },
  {
   "cell_type": "code",
   "execution_count": 6,
   "metadata": {},
   "outputs": [
    {
     "name": "stdout",
     "output_type": "stream",
     "text": [
      "[0 1 2 3 4]\n"
     ]
    }
   ],
   "source": [
    "x = np.arange(5)\n",
    "print (x)\n"
   ]
  },
  {
   "cell_type": "markdown",
   "metadata": {},
   "source": [
    "numpy.linspace()函数来创建等差数组"
   ]
  },
  {
   "cell_type": "code",
   "execution_count": 7,
   "metadata": {},
   "outputs": [
    {
     "name": "stdout",
     "output_type": "stream",
     "text": [
      "step is: 1 \n",
      "\n",
      "Array is:\n",
      " [ 0  1  2  3  4  5  6  7  8  9 10 11 12 13 14 15 16 17 18 19]\n"
     ]
    }
   ],
   "source": [
    "a, step= np.linspace(0, 19, 20, dtype='i', retstep=True)\n",
    "print('step is: %d \\n' % (step))\n",
    "print('Array is:\\n', a)"
   ]
  },
  {
   "cell_type": "code",
   "execution_count": 8,
   "metadata": {},
   "outputs": [
    {
     "data": {
      "text/plain": [
       "array([[  2.        ,   5.        ,   9.        ],\n",
       "       [ 12.88888889,  18.88888889,  25.77777778],\n",
       "       [ 23.77777778,  32.77777778,  42.55555556],\n",
       "       [ 34.66666667,  46.66666667,  59.33333333],\n",
       "       [ 45.55555556,  60.55555556,  76.11111111],\n",
       "       [ 56.44444444,  74.44444444,  92.88888889],\n",
       "       [ 67.33333333,  88.33333333, 109.66666667],\n",
       "       [ 78.22222222, 102.22222222, 126.44444444],\n",
       "       [ 89.11111111, 116.11111111, 143.22222222],\n",
       "       [100.        , 130.        , 160.        ]])"
      ]
     },
     "execution_count": 8,
     "metadata": {},
     "output_type": "execute_result"
    }
   ],
   "source": [
    "output = np.linspace(start=[2, 5, 9], stop=[100, 130, 160], num=10)\n",
    "output"
   ]
  },
  {
   "cell_type": "code",
   "execution_count": 9,
   "metadata": {},
   "outputs": [
    {
     "data": {
      "text/plain": [
       "(10, 3)"
      ]
     },
     "execution_count": 9,
     "metadata": {},
     "output_type": "execute_result"
    }
   ],
   "source": [
    "output.shape"
   ]
  },
  {
   "cell_type": "markdown",
   "metadata": {},
   "source": [
    "通过将可选参数axis设置为1，可以返回该数组的转置版本"
   ]
  },
  {
   "cell_type": "code",
   "execution_count": 10,
   "metadata": {},
   "outputs": [
    {
     "data": {
      "text/plain": [
       "array([[  2.        ,  12.88888889,  23.77777778,  34.66666667,\n",
       "         45.55555556,  56.44444444,  67.33333333,  78.22222222,\n",
       "         89.11111111, 100.        ],\n",
       "       [  5.        ,  18.88888889,  32.77777778,  46.66666667,\n",
       "         60.55555556,  74.44444444,  88.33333333, 102.22222222,\n",
       "        116.11111111, 130.        ],\n",
       "       [  9.        ,  25.77777778,  42.55555556,  59.33333333,\n",
       "         76.11111111,  92.88888889, 109.66666667, 126.44444444,\n",
       "        143.22222222, 160.        ]])"
      ]
     },
     "execution_count": 10,
     "metadata": {},
     "output_type": "execute_result"
    }
   ],
   "source": [
    "output = np.linspace(start=[2, 5, 9],\n",
    "                     stop=[100, 130, 160],\n",
    "                     num=10,\n",
    "                     axis=1)\n",
    "output"
   ]
  },
  {
   "cell_type": "code",
   "execution_count": 11,
   "metadata": {},
   "outputs": [
    {
     "data": {
      "text/plain": [
       "(3, 10)"
      ]
     },
     "execution_count": 11,
     "metadata": {},
     "output_type": "execute_result"
    }
   ],
   "source": [
    "output.shape"
   ]
  },
  {
   "cell_type": "markdown",
   "metadata": {},
   "source": [
    "numpy.logspace() 函数用于创建一个等比数列"
   ]
  },
  {
   "cell_type": "code",
   "execution_count": 12,
   "metadata": {},
   "outputs": [
    {
     "data": {
      "text/plain": [
       "array([ 1,  2,  4,  8, 16], dtype=int32)"
      ]
     },
     "execution_count": 12,
     "metadata": {},
     "output_type": "execute_result"
    }
   ],
   "source": [
    "np.logspace(0, 4, num=5, dtype='i', base=2)"
   ]
  },
  {
   "cell_type": "markdown",
   "metadata": {},
   "source": [
    "特殊数组"
   ]
  },
  {
   "cell_type": "code",
   "execution_count": 13,
   "metadata": {},
   "outputs": [
    {
     "name": "stdout",
     "output_type": "stream",
     "text": [
      "这是一个０数组:\n",
      " [[0. 0. 0. 0.]\n",
      " [0. 0. 0. 0.]\n",
      " [0. 0. 0. 0.]]\n",
      "\n",
      "这是一个１数组:\n",
      " [[[1 1 1 1]\n",
      "  [1 1 1 1]\n",
      "  [1 1 1 1]]\n",
      "\n",
      " [[1 1 1 1]\n",
      "  [1 1 1 1]\n",
      "  [1 1 1 1]]]\n",
      "\n",
      "这是一个空数组:\n",
      " [[0. 0. 0.]\n",
      " [0. 0. 0.]]\n"
     ]
    }
   ],
   "source": [
    "az = np.zeros((3,4))                     # 3x4浮点型零数组\n",
    "ao = np.ones((2,3,4), dtype=np.int16)    # 2x3x4 int16型1数组\n",
    "ae = np.empty((2,3))                     # 2x3 浮点型空数组\n",
    "print('这是一个０数组:\\n', az)\n",
    "print('\\n这是一个１数组:\\n', ao)\n",
    "print('\\n这是一个空数组:\\n', ae)\n"
   ]
  },
  {
   "cell_type": "markdown",
   "metadata": {},
   "source": [
    "ndarray.reshape()方法"
   ]
  },
  {
   "cell_type": "code",
   "execution_count": 14,
   "metadata": {},
   "outputs": [
    {
     "data": {
      "text/plain": [
       "array([[  1,   9, -13],\n",
       "       [ 20,   5,  -6]])"
      ]
     },
     "execution_count": 14,
     "metadata": {},
     "output_type": "execute_result"
    }
   ],
   "source": [
    "np.array([1, 9, -13, 20, 5, -6]).reshape(2, 3)"
   ]
  },
  {
   "cell_type": "code",
   "execution_count": 15,
   "metadata": {},
   "outputs": [
    {
     "name": "stdout",
     "output_type": "stream",
     "text": [
      "行等差数组\n",
      " [[ 0  1  2  3]\n",
      " [ 4  5  6  7]\n",
      " [ 8  9 10 11]]\n",
      "\n",
      "列等差数组\n",
      " [[ 0  3  6  9]\n",
      " [ 1  4  7 10]\n",
      " [ 2  5  8 11]]\n",
      "\n",
      "行等比数组\n",
      " [[   2    4    8   16]\n",
      " [  32   64  128  256]\n",
      " [ 512 1024 2048 4096]]\n",
      "\n",
      "列等比数组\n",
      " [[   2   16  128 1024]\n",
      " [   4   32  256 2048]\n",
      " [   8   64  512 4096]]\n"
     ]
    }
   ],
   "source": [
    "m1 = np.arange(12).reshape(3,4)\n",
    "print('行等差数组\\n', m1)\n",
    "m2 = np.arange(12).reshape((3,4), order='F')\n",
    "print('\\n列等差数组\\n', m2)\n",
    "m3 = np.logspace(1, 12, num=12, base=2, dtype='i').reshape(3,4)\n",
    "print('\\n行等比数组\\n', m3)\n",
    "m4 = np.logspace(1, 12, num=12, base=2,\n",
    "                 dtype='i').reshape((3,4), order='F')\n",
    "print('\\n列等比数组\\n', m4)\n"
   ]
  },
  {
   "cell_type": "code",
   "execution_count": 16,
   "metadata": {},
   "outputs": [
    {
     "data": {
      "text/plain": [
       "array([[1, 0, 0, 0],\n",
       "       [0, 1, 0, 0],\n",
       "       [0, 0, 1, 0],\n",
       "       [0, 0, 0, 1]], dtype=int32)"
      ]
     },
     "execution_count": 16,
     "metadata": {},
     "output_type": "execute_result"
    }
   ],
   "source": [
    "np.identity(4, dtype='i')"
   ]
  },
  {
   "cell_type": "markdown",
   "metadata": {},
   "source": [
    "### 7.3.3\t字节序\n",
    "创建一个32位大端整数类型"
   ]
  },
  {
   "cell_type": "code",
   "execution_count": 17,
   "metadata": {},
   "outputs": [
    {
     "name": "stdout",
     "output_type": "stream",
     "text": [
      "类型名称： int32\n",
      "字节序： >\n",
      "数据大小： 4\n",
      "True\n"
     ]
    }
   ],
   "source": [
    "dt = np.dtype('>i4')\n",
    "print('类型名称：', dt.name)\n",
    "print('字节序：', dt.byteorder)\n",
    "print('数据大小：', dt.itemsize)\n",
    "print(dt.type is np.int32)"
   ]
  },
  {
   "cell_type": "code",
   "execution_count": 18,
   "metadata": {},
   "outputs": [
    {
     "data": {
      "text/plain": [
       "'|'"
      ]
     },
     "execution_count": 18,
     "metadata": {},
     "output_type": "execute_result"
    }
   ],
   "source": [
    "np.dtype('i1').byteorder"
   ]
  },
  {
   "cell_type": "markdown",
   "metadata": {},
   "source": [
    "### 7.3.4\t结构化数据"
   ]
  },
  {
   "cell_type": "code",
   "execution_count": 19,
   "metadata": {},
   "outputs": [
    {
     "name": "stdout",
     "output_type": "stream",
     "text": [
      "<U16 ('<f8', (2,))\n",
      "('Sarah', [8., 7.])\n",
      "('John', [6., 7.])\n"
     ]
    }
   ],
   "source": [
    "dt = np.dtype([('name', np.unicode_, 16), ('grades', np.float64, (2,))])\n",
    "print(dt['name'], dt['grades'])\n",
    "x = np.array([('Sarah', (8.0, 7.0)), ('John', (6.0, 7.0))], dtype=dt)\n",
    "print(x[0])\n",
    "print(x[1])"
   ]
  },
  {
   "cell_type": "markdown",
   "metadata": {},
   "source": [
    "## 7.4\t操作数组\n",
    "\n",
    "### 7.4.1\t数组切片和索引"
   ]
  },
  {
   "cell_type": "code",
   "execution_count": 20,
   "metadata": {},
   "outputs": [
    {
     "name": "stdout",
     "output_type": "stream",
     "text": [
      "5\n",
      "5\n",
      "[3 4 5]\n",
      "5\n"
     ]
    }
   ],
   "source": [
    "a = np.array([[1,2,3],[3,4,5],[4,5,6]])\n",
    "print(a[1][2]) # 2维数组中第2行第3个元素\n",
    "print(a[1, 2]) # 2维数组中第2行第3个元素\n",
    "b = a[1]       # 数组第2行\n",
    "print(a[1])\n",
    "print(b[2])    # 第3个元素\n"
   ]
  },
  {
   "cell_type": "markdown",
   "metadata": {},
   "source": [
    "#### 7.4.1.1\t数组切片"
   ]
  },
  {
   "cell_type": "code",
   "execution_count": 21,
   "metadata": {},
   "outputs": [
    {
     "name": "stdout",
     "output_type": "stream",
     "text": [
      "[2 4 6]\n",
      "[2 3 4 5 6 7 8 9]\n",
      "[8 9]\n",
      "[2 4 6]\n",
      "[0 1 2 3 4 5 6 7 0 9]\n"
     ]
    }
   ],
   "source": [
    "a = np.arange(10) # [0 1 2 3 4 5 6 7 8 9]\n",
    "b = a[2:7:2]      # 切片：从索引 2 开始到索引 7 停止，间隔为 2\n",
    "c = a[2:]         # 切片：从索引 2 之后的元素\n",
    "d = a[-2:10]      # 切片：从索引 8 之后的元素\n",
    "s = slice(2,7,2)  # 创建切片对象\n",
    "print(b)          # [2 4 6]\n",
    "print(c)          # [2 3 4 5 6 7 8 9]\n",
    "print(d)          # [8 9]\n",
    "print(a[s])       # [2 4 6]\n",
    "d[0] = 0          # 切片是对原数组的引用，a[8]将被修改\n",
    "print(a)"
   ]
  },
  {
   "cell_type": "code",
   "execution_count": 22,
   "metadata": {},
   "outputs": [
    {
     "name": "stdout",
     "output_type": "stream",
     "text": [
      "切片： 从索引 1 开始的行\n",
      " [[16 17 18 19 20]\n",
      " [21 22 23 24 25]\n",
      " [26 27 28 29 30]\n",
      " [31 32 33 34 35]]\n",
      "\n",
      "切片： 从索引 2 开始的行, 其中索引 0 3 的列\n",
      " [[21 23]\n",
      " [26 28]\n",
      " [31 33]]\n",
      "\n",
      "切片： 隔2行2列\n",
      " [[11 13 15]\n",
      " [21 23 25]\n",
      " [31 33 35]]\n"
     ]
    }
   ],
   "source": [
    "a = np.arange(11, 36).reshape(5, 5)\n",
    "print('切片： 从索引 1 开始的行\\n', a[1:])\n",
    "print('\\n切片： 从索引 2 开始的行, 其中索引 0 3 的列\\n', a[2:, :3:2])\n",
    "print('\\n切片： 隔2行2列\\n', a[::2, ::2]) "
   ]
  },
  {
   "cell_type": "code",
   "execution_count": 23,
   "metadata": {},
   "outputs": [
    {
     "name": "stdout",
     "output_type": "stream",
     "text": [
      "索引 输出每一行的第2列元素：\n",
      " [2 4 5]\n",
      "切片 输出所有行第2列之后的所有元素：\n",
      " [[2 3]\n",
      " [4 5]\n",
      " [5 6]]\n"
     ]
    }
   ],
   "source": [
    "a = np.array([[1,2,3],[3,4,5],[4,5,6]])\n",
    "print('索引 输出每一行的第2列元素：\\n', a[...,1])\n",
    "print('切片 输出所有行第2列之后的所有元素：\\n', a[...,1:])  "
   ]
  },
  {
   "cell_type": "markdown",
   "metadata": {},
   "source": [
    "#### 7.4.1.2\t花式索引"
   ]
  },
  {
   "cell_type": "code",
   "execution_count": 24,
   "metadata": {},
   "outputs": [
    {
     "name": "stdout",
     "output_type": "stream",
     "text": [
      "[ 0 10 20 30 40 50 60 70 80 90]\n",
      "[10 50 90]\n"
     ]
    }
   ],
   "source": [
    "a = np.arange(0, 100, 10)\n",
    "indices = [1, 5, -1]  # 索引号为1、5和最后一个元素\n",
    "b = a[indices]\n",
    "print(a) # [ 0 10 20 30 40 50 60 70 80 90]\n",
    "print(b) # [10 50 90]"
   ]
  },
  {
   "cell_type": "code",
   "execution_count": 25,
   "metadata": {},
   "outputs": [
    {
     "name": "stdout",
     "output_type": "stream",
     "text": [
      "[[16 17 18 19]\n",
      " [ 8  9 10 11]\n",
      " [20 21 22 23]\n",
      " [28 29 30 31]]\n"
     ]
    }
   ],
   "source": [
    "x = np.arange(32).reshape((8,4))\n",
    "print(x[[4,2,-3,7]])  # 索引号为 4、2、-3、7的行"
   ]
  },
  {
   "cell_type": "code",
   "execution_count": 26,
   "metadata": {},
   "outputs": [
    {
     "name": "stdout",
     "output_type": "stream",
     "text": [
      "[ 4 23 29 10]\n"
     ]
    }
   ],
   "source": [
    "x = np.arange(32).reshape((8,4))\n",
    "print(x[[1,5,7,2],[0,3,1,2]])"
   ]
  },
  {
   "cell_type": "code",
   "execution_count": 27,
   "metadata": {},
   "outputs": [
    {
     "name": "stdout",
     "output_type": "stream",
     "text": [
      "[[16 17 18 19]\n",
      " [20 21 22 23]]\n"
     ]
    }
   ],
   "source": [
    "x = np.arange(32).reshape((2,4,4))\n",
    "print(x[[1,1],[0,1]])"
   ]
  },
  {
   "cell_type": "code",
   "execution_count": 28,
   "metadata": {},
   "outputs": [
    {
     "data": {
      "text/plain": [
       "array([[ 4,  7,  5,  6],\n",
       "       [20, 23, 21, 22],\n",
       "       [28, 31, 29, 30],\n",
       "       [ 8, 11,  9, 10]])"
      ]
     },
     "execution_count": 28,
     "metadata": {},
     "output_type": "execute_result"
    }
   ],
   "source": [
    "x = np.arange(32).reshape((8,4))\n",
    "a = x[[1,5,7,2]][:,[0,3,1,2]]\n",
    "a"
   ]
  },
  {
   "cell_type": "code",
   "execution_count": 29,
   "metadata": {},
   "outputs": [
    {
     "name": "stdout",
     "output_type": "stream",
     "text": [
      "[[[16 18]\n",
      "  [20 22]]\n",
      "\n",
      " [[48 50]\n",
      "  [52 54]]]\n"
     ]
    }
   ],
   "source": [
    "x = np.arange(64).reshape((4,4,4))\n",
    "print(x[[1,3]][:,[0,1]][:,:,[0,2]])"
   ]
  },
  {
   "cell_type": "code",
   "execution_count": 30,
   "metadata": {},
   "outputs": [
    {
     "name": "stdout",
     "output_type": "stream",
     "text": [
      "[[[16 18]\n",
      "  [20 22]]\n",
      "\n",
      " [[48 50]\n",
      "  [52 54]]]\n"
     ]
    }
   ],
   "source": [
    "print(x[np.ix_([1,3],[0,1],[0,2])])"
   ]
  },
  {
   "cell_type": "markdown",
   "metadata": {},
   "source": [
    "#### 7.4.1.3\t布尔索引"
   ]
  },
  {
   "cell_type": "code",
   "execution_count": 31,
   "metadata": {},
   "outputs": [
    {
     "data": {
      "text/plain": [
       "array([ 0, 20, 40, 60, 80])"
      ]
     },
     "execution_count": 31,
     "metadata": {},
     "output_type": "execute_result"
    }
   ],
   "source": [
    "a = np.arange(0, 100, 10)\n",
    "idx = [True, False, True, False, True, False, True, False, True, False]\n",
    "a[idx]    # 从索引0开始，包括0在内，选择所有偶数索引\n"
   ]
  },
  {
   "cell_type": "code",
   "execution_count": 32,
   "metadata": {},
   "outputs": [
    {
     "data": {
      "text/plain": [
       "array([ True, False,  True, False,  True, False,  True, False,  True,\n",
       "       False])"
      ]
     },
     "execution_count": 32,
     "metadata": {},
     "output_type": "execute_result"
    }
   ],
   "source": [
    "a = np.arange(0, 100, 10)\n",
    "idx = a%20==0     # 产生bool数组，长度10\n",
    "idx"
   ]
  },
  {
   "cell_type": "code",
   "execution_count": 33,
   "metadata": {},
   "outputs": [
    {
     "data": {
      "text/plain": [
       "array([ 0, 10,  0, 30,  0, 50,  0, 70,  0, 90])"
      ]
     },
     "execution_count": 33,
     "metadata": {},
     "output_type": "execute_result"
    }
   ],
   "source": [
    "a[idx] = 0\n",
    "a"
   ]
  },
  {
   "cell_type": "code",
   "execution_count": 34,
   "metadata": {},
   "outputs": [
    {
     "name": "stdout",
     "output_type": "stream",
     "text": [
      "我们的数组是：\n",
      " [[ 0  1  2  3]\n",
      " [ 4  5  6  7]\n",
      " [ 8  9 10 11]]\n",
      "大于 5 的元素是：\n",
      " [ 6  7  8  9 10 11]\n"
     ]
    }
   ],
   "source": [
    "x = np.array([0, 1, 2, 3, 4, 5, 6, 7, 8, 9, 10, 11]).reshape(3,4)\n",
    "print('我们的数组是：\\n', x)\n",
    "print('大于 5 的元素是：\\n', x[x >  5])"
   ]
  },
  {
   "cell_type": "code",
   "execution_count": 35,
   "metadata": {},
   "outputs": [
    {
     "data": {
      "image/png": "[encoded data removed]",
      "text/plain": [
       "<Figure size 432x288 with 1 Axes>"
      ]
     },
     "metadata": {
      "needs_background": "light"
     },
     "output_type": "display_data"
    }
   ],
   "source": [
    "import matplotlib.pyplot as plt\n",
    "\n",
    "# 绘制 0 ～ 2π 之间的正弦曲线\n",
    "a = np.linspace(0, 2 * np.pi, 50)\n",
    "b = np.sin(a)\n",
    "plt.plot(a,b)\n",
    "\n",
    "# 标识出正弦曲线在 0 ～ 2π 之间大于0的采样点\n",
    "mask = b >= 0\n",
    "plt.plot(a[mask], b[mask], 'bo')  # 蓝色点\n",
    "\n",
    "# 标识出正弦曲线在 0 ～ π/2 之间大于0的采样点\n",
    "mask = (b >= 0) & (a <= np.pi / 2)\n",
    "plt.plot(a[mask], b[mask], 'g^')  # 绿三角\n",
    "plt.show()"
   ]
  },
  {
   "cell_type": "markdown",
   "metadata": {},
   "source": [
    "### 7.4.2\t迭代数组\n",
    "#### 7.4.2.1\t基本迭代"
   ]
  },
  {
   "cell_type": "code",
   "execution_count": 36,
   "metadata": {},
   "outputs": [
    {
     "name": "stdout",
     "output_type": "stream",
     "text": [
      "迭代输出元素：\n",
      "0, 1, 2, 3, 4, 5, "
     ]
    }
   ],
   "source": [
    "a = np.arange(6).reshape(2,3)\n",
    "print('迭代输出元素：')\n",
    "for x in np.nditer(a):\n",
    "    print(x, end=\", \" )"
   ]
  },
  {
   "cell_type": "code",
   "execution_count": 37,
   "metadata": {},
   "outputs": [
    {
     "name": "stdout",
     "output_type": "stream",
     "text": [
      "对a进行迭代的结果：\n",
      "0, 1, 2, 3, 4, 5, \n",
      "\n",
      "对a.T进行迭代的结果：\n",
      "0, 1, 2, 3, 4, 5, "
     ]
    }
   ],
   "source": [
    "a = np.arange(6).reshape(2,3)\n",
    "print('对a进行迭代的结果：')\n",
    "for x in np.nditer(a):\n",
    "    print(x, end=\", \" )\n",
    "print('\\n')\n",
    "print('对a.T进行迭代的结果：')\n",
    "for x in np.nditer(a.T):\n",
    "    print(x, end=\", \" )"
   ]
  },
  {
   "cell_type": "markdown",
   "metadata": {},
   "source": [
    "#### 7.4.2.2\t控制迭代顺序"
   ]
  },
  {
   "cell_type": "code",
   "execution_count": 38,
   "metadata": {},
   "outputs": [
    {
     "name": "stdout",
     "output_type": "stream",
     "text": [
      "0, 20, 40, 5, 25, 45, 10, 30, 50, 15, 35, 55, \n",
      "\n",
      "0, 20, 40, 5, 25, 45, 10, 30, 50, 15, 35, 55, \n",
      "\n",
      "0, 20, 40, 5, 25, 45, 10, 30, 50, 15, 35, 55, "
     ]
    }
   ],
   "source": [
    "a = np.arange(0,60,5).reshape(3,4)\n",
    "\n",
    "# “行优先”创建转置副本，并进行迭代\n",
    "for x in np.nditer(a.T.copy(order='C')):\n",
    "    print (x, end=\", \" )\n",
    "print('\\n')\n",
    "# 强制列优先迭代a\n",
    "for x in np.nditer(a, order='F'):\n",
    "    print (x, end=\", \" )\n",
    "\n",
    "print('\\n')\n",
    "# 强制行优先迭代，a的转置\n",
    "for x in np.nditer(a.T, order='C'): \n",
    "    print(x, end=\", \" )\n"
   ]
  },
  {
   "cell_type": "markdown",
   "metadata": {},
   "source": [
    "#### 7.4.2.3\t修改数组元素"
   ]
  },
  {
   "cell_type": "code",
   "execution_count": 39,
   "metadata": {},
   "outputs": [
    {
     "name": "stdout",
     "output_type": "stream",
     "text": [
      "初始数组\n",
      " [[0 1 2]\n",
      " [3 4 5]]\n",
      "修改后的数组\n",
      " [[ 0  2  4]\n",
      " [ 6  8 10]]\n"
     ]
    }
   ],
   "source": [
    "a = np.arange(6).reshape(2,3)\n",
    "print('初始数组\\n', a)\n",
    "with np.nditer(a, op_flags=['readwrite']) as it:\n",
    "    for x in it:\n",
    "        x[...] = 2 * x\n",
    "print('修改后的数组\\n', a)"
   ]
  },
  {
   "cell_type": "markdown",
   "metadata": {},
   "source": [
    "#### 7.4.2.4\t使用外部循环"
   ]
  },
  {
   "cell_type": "code",
   "execution_count": 40,
   "metadata": {},
   "outputs": [
    {
     "name": "stdout",
     "output_type": "stream",
     "text": [
      "[ 0  2  4  6  8 10] \n",
      "\n",
      "[0 6] [2 8] [ 4 10] \n",
      "\n",
      "[ 0  2  4  6  8 10] "
     ]
    }
   ],
   "source": [
    "for x in np.nditer(a, flags=['external_loop']):\n",
    "    print(x, end=' ')\n",
    "print('\\n')\n",
    "for x in np.nditer(a, flags=['external_loop'], order='F'):\n",
    "    print(x, end=' ')\n",
    "print('\\n')\n",
    "for x in np.nditer(a, flags=['external_loop'], order='C'):\n",
    "    print(x, end=' ')"
   ]
  },
  {
   "cell_type": "markdown",
   "metadata": {},
   "source": [
    "#### 7.4.2.5\t利用索引号迭代"
   ]
  },
  {
   "cell_type": "code",
   "execution_count": 41,
   "metadata": {},
   "outputs": [
    {
     "name": "stdout",
     "output_type": "stream",
     "text": [
      "(0, 0) 11\n",
      "(0, 1) 14\n",
      "(0, 2) 17\n",
      "(1, 0) 20\n",
      "(1, 1) 23\n",
      "(1, 2) 26\n",
      "(2, 0) 29\n",
      "(2, 1) 32\n",
      "(2, 2) 35\n"
     ]
    }
   ],
   "source": [
    "a = np.arange(11, 38, 3).reshape(3, 3)\n",
    "for idx in np.ndindex(a.shape):\n",
    "    print(idx, a[idx])"
   ]
  },
  {
   "cell_type": "markdown",
   "metadata": {},
   "source": [
    "#### 7.4.2.6\t条件迭代"
   ]
  },
  {
   "cell_type": "code",
   "execution_count": 42,
   "metadata": {},
   "outputs": [
    {
     "data": {
      "text/plain": [
       "array([ 0,  1,  2,  3,  4, 50, 60, 70, 80, 90])"
      ]
     },
     "execution_count": 42,
     "metadata": {},
     "output_type": "execute_result"
    }
   ],
   "source": [
    "a = np.arange(10)\n",
    "\n",
    "# 将不小于5的元素乘10\n",
    "np.where(a < 5, a, 10*a)"
   ]
  },
  {
   "cell_type": "markdown",
   "metadata": {},
   "source": [
    "### 7.4.3\t基本运算"
   ]
  },
  {
   "cell_type": "code",
   "execution_count": 43,
   "metadata": {},
   "outputs": [
    {
     "name": "stdout",
     "output_type": "stream",
     "text": [
      "a + b\n",
      " [[ 10  63   3  17]\n",
      " [  6  61  85   9]\n",
      " [  9  54  14 103]\n",
      " [ 47  19  67  39]]\n",
      "a - b \n",
      " [[-10 -61   1 -11]\n",
      " [  2 -51 -73   5]\n",
      " [  7 -36   6 -81]\n",
      " [-23   7 -39  -9]]\n",
      "a * b\n",
      " [[   0   62    2   42]\n",
      " [   8  280  474   14]\n",
      " [   8  405   40 1012]\n",
      " [ 420   78  742  360]]\n",
      "a / b\n",
      " [[0.         0.01612903 2.         0.21428571]\n",
      " [2.         0.08928571 0.07594937 3.5       ]\n",
      " [8.         0.2        2.5        0.11956522]\n",
      " [0.34285714 2.16666667 0.26415094 0.625     ]]\n",
      "a^2\n",
      " [[  0   1   4   9]\n",
      " [ 16  25  36  49]\n",
      " [ 64  81 100 121]\n",
      " [144 169 196 225]]\n",
      "a < b\n",
      " [[ True  True False  True]\n",
      " [False  True  True False]\n",
      " [False  True False  True]\n",
      " [ True False  True  True]]\n",
      "a > b\n",
      " [[False False  True False]\n",
      " [ True False False  True]\n",
      " [ True False  True False]\n",
      " [False  True False False]]\n"
     ]
    }
   ],
   "source": [
    "a = np.arange(16).reshape((4, 4))\n",
    "\n",
    "b = np.array([10, 62, 1, 14, 2, 56, 79, 2, 1, 45,\n",
    "              4, 92, 35, 6, 53, 24]).reshape((4,4))\n",
    "\n",
    "print('a + b\\n', a + b)\n",
    "print('a - b \\n',a - b)\n",
    "print('a * b\\n', a * b)\n",
    "print('a / b\\n', a / b)\n",
    "print('a^2\\n', a ** 2)\n",
    "print('a < b\\n', a < b)\n",
    "print('a > b\\n', a > b)"
   ]
  },
  {
   "cell_type": "markdown",
   "metadata": {},
   "source": [
    "### 7.4.4\t位操作"
   ]
  },
  {
   "cell_type": "code",
   "execution_count": 44,
   "metadata": {},
   "outputs": [
    {
     "name": "stdout",
     "output_type": "stream",
     "text": [
      "a = \n",
      " [[ 0  1  2  3  4]\n",
      " [ 5  6  7  8  9]\n",
      " [10 11 12 13 14]\n",
      " [15 16 17 18 19]]\n",
      "检测结果：\n",
      "[[ True False False  True False]\n",
      " [False  True  True False  True]\n",
      " [False False  True False  True]\n",
      " [ True False False  True False]]\n",
      "a中能被3整除或者7整除的数字保留：\n",
      "[ 0  3  6  7  9 12 14 15 18]\n"
     ]
    }
   ],
   "source": [
    "a = np.arange(20).reshape([4,5])\n",
    "print(\"a = \\n\", a)\n",
    "b = (a % 3 == 0) | (a % 7 == 0)\n",
    "print('检测结果：')\n",
    "print(b)\n",
    "print(\"a中能被3整除或者7整除的数字保留：\")\n",
    "print(a[b]) # 布尔索引"
   ]
  },
  {
   "cell_type": "markdown",
   "metadata": {},
   "source": [
    "### 7.4.5\t布尔运算"
   ]
  },
  {
   "cell_type": "code",
   "execution_count": 45,
   "metadata": {},
   "outputs": [
    {
     "name": "stdout",
     "output_type": "stream",
     "text": [
      "a == b : [False False  True False False]\n",
      "not(a > b : [ True  True  True False False]\n",
      "(a == b) or (a > b) : [False False  True  True  True]\n",
      "(a == b) and (a > b) : [False False False False False]\n"
     ]
    }
   ],
   "source": [
    "a = np.arange(5)\n",
    "b = np.arange(4,-1,-1)\n",
    "print('a == b :', a == b)\n",
    "print('not(a > b :', np.logical_not(a > b))\n",
    "print('(a == b) or (a > b) :', np.logical_or(a == b, a > b))\n",
    "print('(a == b) and (a > b) :', np.logical_and(a == b, a > b))"
   ]
  },
  {
   "cell_type": "markdown",
   "metadata": {},
   "source": [
    "### 7.4.6\tNumPy广播（Broadcast）"
   ]
  },
  {
   "cell_type": "code",
   "execution_count": 46,
   "metadata": {},
   "outputs": [
    {
     "data": {
      "text/plain": [
       "array([11, 22, 33, 44])"
      ]
     },
     "execution_count": 46,
     "metadata": {},
     "output_type": "execute_result"
    }
   ],
   "source": [
    "a = np.array([1,2,3,4])\n",
    "b = np.array([10,20,30,40])\n",
    "a + b"
   ]
  },
  {
   "cell_type": "code",
   "execution_count": 47,
   "metadata": {},
   "outputs": [
    {
     "data": {
      "text/plain": [
       "array([[ 1,  2,  3],\n",
       "       [11, 12, 13],\n",
       "       [21, 22, 23],\n",
       "       [31, 32, 33]])"
      ]
     },
     "execution_count": 47,
     "metadata": {},
     "output_type": "execute_result"
    }
   ],
   "source": [
    "a = np.array([[ 0, 0, 0], [10,10,10], [20,20,20], [30,30,30]])\n",
    "b = np.array([1,2,3])\n",
    "a + b"
   ]
  },
  {
   "cell_type": "code",
   "execution_count": 48,
   "metadata": {},
   "outputs": [
    {
     "name": "stdout",
     "output_type": "stream",
     "text": [
      "[[ 2  2  4]\n",
      " [ 5  5  7]\n",
      " [ 8  8 10]\n",
      " [11 11 13]]\n"
     ]
    }
   ],
   "source": [
    "x = np.array([[1,2,3], [4,5,6], [7,8,9], [10, 11, 12]])\n",
    "v = np.array([1, 0, 1])\n",
    "y = np.empty_like(x)   # 创建与x大小相同的空数组\n",
    "\n",
    "# 用显式循环将向量v加到矩阵x的每一行\n",
    "for i in range(4):\n",
    "    y[i] = x[i] + v\n",
    "print(y)"
   ]
  },
  {
   "cell_type": "code",
   "execution_count": 49,
   "metadata": {},
   "outputs": [
    {
     "data": {
      "text/plain": [
       "array([[ 2,  2,  4],\n",
       "       [ 5,  5,  7],\n",
       "       [ 8,  8, 10],\n",
       "       [11, 11, 13]])"
      ]
     },
     "execution_count": 49,
     "metadata": {},
     "output_type": "execute_result"
    }
   ],
   "source": [
    "x = np.array([[1,2,3], [4,5,6], [7,8,9], [10, 11, 12]])\n",
    "v = np.array([1, 0, 1])\n",
    "vv = np.tile(v, (4, 1))  # 将v堆叠4次生成4x3的数组\n",
    "x+vv"
   ]
  },
  {
   "cell_type": "code",
   "execution_count": 50,
   "metadata": {},
   "outputs": [
    {
     "data": {
      "text/plain": [
       "array([[ 2,  2,  4],\n",
       "       [ 5,  5,  7],\n",
       "       [ 8,  8, 10],\n",
       "       [11, 11, 13]])"
      ]
     },
     "execution_count": 50,
     "metadata": {},
     "output_type": "execute_result"
    }
   ],
   "source": [
    "x = np.array([[1,2,3], [4,5,6], [7,8,9], [10, 11, 12]])\n",
    "v = np.array([1, 0, 1])\n",
    "x + v"
   ]
  },
  {
   "cell_type": "markdown",
   "metadata": {},
   "source": [
    "### 7.4.7\t数组排序"
   ]
  },
  {
   "cell_type": "code",
   "execution_count": 51,
   "metadata": {},
   "outputs": [
    {
     "name": "stdout",
     "output_type": "stream",
     "text": [
      "排序前 X =  [13  0  7 17 14 18 11 15 14  6]\n",
      "排序后 X =  [13  0  7 17 14 18 11 15 14  6]\n",
      "排序后 a =  [ 0  6  7 11 13 14 14 15 17 18]\n",
      "修改数据源排序后 X =  [ 0  6  7 11 13 14 14 15 17 18]\n"
     ]
    }
   ],
   "source": [
    "x = np.random.randint(20, size =10)\n",
    "print(\"排序前 X = \", x)\n",
    "a = np.sort(x)\n",
    "print(\"排序后 X = \", x)\n",
    "print(\"排序后 a = \", a)\n",
    "x.sort()\n",
    "print(\"修改数据源排序后 X = \", x)"
   ]
  },
  {
   "cell_type": "code",
   "execution_count": 52,
   "metadata": {},
   "outputs": [
    {
     "name": "stdout",
     "output_type": "stream",
     "text": [
      "排序前 X =  [18 13  4 15 12  8  6  6  5 17]\n",
      "排序后 X =  [ 4  5  6  6  8 12 13 15 17 18]\n",
      "排序后的索引 idx =  [2 8 6 7 5 4 1 3 9 0]\n"
     ]
    }
   ],
   "source": [
    "x = np.random.randint(20, size =10)\n",
    "print(\"排序前 X = \", x)\n",
    "print(\"排序后 X = \", np.sort(x))\n",
    "print('排序后的索引 idx = ',  np.argsort(x))"
   ]
  },
  {
   "cell_type": "code",
   "execution_count": 53,
   "metadata": {},
   "outputs": [
    {
     "name": "stdout",
     "output_type": "stream",
     "text": [
      "排序前 x= [91 98 18 24 93  5 54  9 42 73]\n",
      "分隔后 x= [ 5  9 18 24 42 54 73 91 98 93]\n"
     ]
    }
   ],
   "source": [
    "x = np.random.randint(100, size=10)\n",
    "print(\"排序前 x=\", x)\n",
    "\n",
    "a = np.partition(x, 4)\n",
    "print(\"分隔后 x=\", a)"
   ]
  },
  {
   "cell_type": "code",
   "execution_count": 54,
   "metadata": {},
   "outputs": [
    {
     "name": "stdout",
     "output_type": "stream",
     "text": [
      "排序前 x = \n",
      " [[ 9 80 82 13 96]\n",
      " [ 0 12 96 57  3]\n",
      " [31 20  5  7 61]\n",
      " [31 63 83 45 89]]\n",
      "沿着行分隔后的数据是 \n",
      " [[13  9 80 82 96]\n",
      " [ 0  3 12 57 96]\n",
      " [ 7  5 20 31 61]\n",
      " [45 31 63 83 89]]\n"
     ]
    }
   ],
   "source": [
    "x = np.random.randint(100, size=(4,5))\n",
    "print(\"排序前 x = \\n\", x)\n",
    "\n",
    "a = np.partition(x, 3, axis=1)\n",
    "print(\"沿着行分隔后的数据是 \\n\", a)"
   ]
  },
  {
   "cell_type": "markdown",
   "metadata": {},
   "source": [
    "### 7.4.8\t统计运算"
   ]
  },
  {
   "cell_type": "code",
   "execution_count": 55,
   "metadata": {},
   "outputs": [
    {
     "name": "stdout",
     "output_type": "stream",
     "text": [
      "45\n",
      "362880\n",
      "1\n",
      "0\n",
      "8\n",
      "9\n",
      "[ 1  3  6 10 15 21 28 36 45]\n",
      "[     1      2      6     24    120    720   5040  40320 362880]\n"
     ]
    }
   ],
   "source": [
    "a = np.arange(1, 10) # [1, 2, 3, 4, 5, 6, 7, 8, 9]\n",
    "\n",
    "print(a.sum())       # 45\n",
    "print(a.prod())      # 362880\n",
    "print(a.min())       # 1\n",
    "print(a.argmin())    # 0\n",
    "print(a.argmax())    # 9\n",
    "print(a.max())       # 9\n",
    "print(a.cumsum())    # [1  3  6 10 15 21 28 36 45]\n",
    "print(a.cumprod())   # [1  2  6 24 120 720 5040 40320 362880] "
   ]
  },
  {
   "cell_type": "code",
   "execution_count": 56,
   "metadata": {},
   "outputs": [
    {
     "name": "stdout",
     "output_type": "stream",
     "text": [
      "a = \n",
      " [[82 25  3 81 81]\n",
      " [77 30  8 74 45]\n",
      " [84 91 53 73 35]\n",
      " [45 41 99 51 33]]\n",
      "a每一行的最大值是：  [82 77 91 99]\n",
      "a每一列的和是： [288 187 163 279 194]\n",
      "a每一列的积是： [23866920  2798250   125928 22315662  4209975]\n",
      "a每一列累加和是：\n",
      " [[ 82  25   3  81  81]\n",
      " [159  55  11 155 126]\n",
      " [243 146  64 228 161]\n",
      " [288 187 163 279 194]]\n"
     ]
    }
   ],
   "source": [
    "a = np.random.randint(100, size=(4,5))\n",
    "print(\"a = \\n\", a)\n",
    "\n",
    "# 求最大值，每一行\n",
    "b = a.max(axis=1)\n",
    "print(\"a每一行的最大值是： \", b)\n",
    "\n",
    "# 求每一列的和\n",
    "c = a.sum(axis=0)\n",
    "print(\"a每一列的和是：\", c)\n",
    "\n",
    "# 每一列积\n",
    "c = a.prod(axis=0)\n",
    "print(\"a每一列的积是：\", c)\n",
    "\n",
    "# 每一列累加\n",
    "c = a.cumsum(axis = 0)\n",
    "print(\"a每一列累加和是：\\n\", c)"
   ]
  },
  {
   "cell_type": "markdown",
   "metadata": {},
   "source": [
    "## 7.5\t用numpy处理代数问题\n",
    "###  7.5.1\t向量化计算"
   ]
  },
  {
   "cell_type": "code",
   "execution_count": 57,
   "metadata": {},
   "outputs": [],
   "source": [
    "def H(x):\n",
    "    return (0 if x < 0 else 1)"
   ]
  },
  {
   "cell_type": "code",
   "execution_count": 58,
   "metadata": {},
   "outputs": [],
   "source": [
    "def Hv(x):\n",
    "    return np.where(x < 0, 0, 1)"
   ]
  },
  {
   "cell_type": "code",
   "execution_count": 59,
   "metadata": {},
   "outputs": [
    {
     "data": {
      "image/png": "[encoded data removed]",
      "text/plain": [
       "<Figure size 432x288 with 1 Axes>"
      ]
     },
     "metadata": {
      "needs_background": "light"
     },
     "output_type": "display_data"
    }
   ],
   "source": [
    "import matplotlib.pyplot as plt\n",
    "\n",
    "x = np.linspace(-10, 10, 9)\n",
    "plt.plot(x, Hv(x), drawstyle='steps-post')\n",
    "plt.show()"
   ]
  },
  {
   "cell_type": "code",
   "execution_count": 60,
   "metadata": {},
   "outputs": [
    {
     "name": "stdout",
     "output_type": "stream",
     "text": [
      "[0 0 0 0 1 1 1 1 1]\n"
     ]
    }
   ],
   "source": [
    "x = np.linspace(-10, 10, 9)\n",
    "hv = np.vectorize(H)\n",
    "print(hv(x))"
   ]
  },
  {
   "cell_type": "code",
   "execution_count": 61,
   "metadata": {},
   "outputs": [],
   "source": [
    "def Fv1(x):\n",
    "    condition1 = x <= -1\n",
    "    condition2 = np.logical_and(x > -1, x < 2)\n",
    "    condition3 = x >= 2\n",
    "\n",
    "    r = np.where(condition1, x + 2, 0.0)\n",
    "    r = np.where(condition2, x**2, r)\n",
    "    r = np.where(condition3, 2*x, r)\n",
    "    return r"
   ]
  },
  {
   "cell_type": "code",
   "execution_count": 62,
   "metadata": {},
   "outputs": [],
   "source": [
    "def Fv2(x):\n",
    "    condition1 = x <= -1\n",
    "    condition2 = np.logical_and(x > -1, x < 2)\n",
    "    condition3 = x >= 2\n",
    "\n",
    "    r = np.zeros(len(x))\n",
    "    r[condition1] = x[condition1] + 2\n",
    "    r[condition2] = x[condition2] ** 2\n",
    "    r[condition3] = 2 * x[condition3]\n",
    "    return r"
   ]
  },
  {
   "cell_type": "code",
   "execution_count": 63,
   "metadata": {},
   "outputs": [],
   "source": [
    "class Wave():\n",
    "    def __init__(self, amp, wl, v):\n",
    "        self.__amp = amp\n",
    "        self.__wl = wl\n",
    "        self.__v = v\n",
    "\n",
    "    def get_wave(self, x, t=0):\n",
    "        wave = self.__amp * np.sin((2*np.pi/self.__wl)\n",
    "                                      * (x - self.__v*t))\n",
    "        return wave\n",
    "\n",
    "    @staticmethod\n",
    "    def plot_wave(x, ax, wave):\n",
    "        ax.plot(x, wave)"
   ]
  },
  {
   "cell_type": "code",
   "execution_count": 64,
   "metadata": {},
   "outputs": [
    {
     "data": {
      "image/png": "[encoded data removed]",
      "text/plain": [
       "<Figure size 432x288 with 1 Axes>"
      ]
     },
     "metadata": {
      "needs_background": "light"
     },
     "output_type": "display_data"
    }
   ],
   "source": [
    "x = np.linspace(-10, 10, 100)\n",
    "w1 = Wave(2, 5, 2)\n",
    "fig = plt.figure()\n",
    "w1.plot_wave(x, plt.gca(), w1.get_wave(x, 0))\n",
    "plt.show()"
   ]
  },
  {
   "cell_type": "code",
   "execution_count": 65,
   "metadata": {},
   "outputs": [
    {
     "data": {
      "image/png": "[encoded data removed]",
      "text/plain": [
       "<Figure size 432x288 with 1 Axes>"
      ]
     },
     "metadata": {
      "needs_background": "light"
     },
     "output_type": "display_data"
    }
   ],
   "source": [
    "sampling = 100\n",
    "x_range = -10, 10\n",
    "\n",
    "amplitudes = [1.7, 0.8]\n",
    "wavelengths = [4, 7.5]\n",
    "velocities = [2, 1.5]\n",
    "\n",
    "x = np.linspace(x_range[0], x_range[1], sampling)\n",
    "\n",
    "w1 = Wave(amplitudes[0], wavelengths[0], velocities[0])\n",
    "w2 = Wave(amplitudes[1], wavelengths[1], velocities[1])\n",
    "\n",
    "fig = plt.figure()\n",
    "w1.plot_wave(x, plt.gca(), w1.get_wave(x, 0))\n",
    "w2.plot_wave(x, plt.gca(), w2.get_wave(x, 0))\n",
    "plt.show()"
   ]
  },
  {
   "cell_type": "code",
   "execution_count": 66,
   "metadata": {},
   "outputs": [
    {
     "data": {
      "image/png": "[encoded data removed]",
      "text/plain": [
       "<Figure size 432x288 with 1 Axes>"
      ]
     },
     "metadata": {
      "needs_background": "light"
     },
     "output_type": "display_data"
    }
   ],
   "source": [
    "Wave.plot_wave(x, plt.gca(), w2.get_wave(x, 0)+w1.get_wave(x, 0))"
   ]
  },
  {
   "cell_type": "code",
   "execution_count": 67,
   "metadata": {},
   "outputs": [
    {
     "name": "stdout",
     "output_type": "stream",
     "text": [
      "Using matplotlib backend: Qt5Agg\n"
     ]
    }
   ],
   "source": [
    "%matplotlib auto\n",
    "\n",
    "w1 = Wave(amplitudes[0], wavelengths[0], velocities[0])\n",
    "w2 = Wave(amplitudes[1], wavelengths[1], velocities[1])\n",
    "\n",
    "for time in np.arange(0, 40, 0.2):\n",
    "    plt.clf()  # Clear last figure\n",
    "    Wave.plot_wave(x, plt.gca(), \n",
    "                   w2.get_wave(x, time)+w1.get_wave(x, time))\n",
    "    plt.ylim(-3, 3)  # Fix the limits on the y-axis\n",
    "    plt.pause(0.1)  # Insert short pause to create animation\n"
   ]
  },
  {
   "cell_type": "code",
   "execution_count": 68,
   "metadata": {},
   "outputs": [],
   "source": [
    "sampling = 50\n",
    "R = 50 \n",
    "x_ = R * np.linspace(-1, 1, sampling)\n",
    "y_ = np.sqrt(R ** 2 - x_ ** 2)"
   ]
  },
  {
   "cell_type": "code",
   "execution_count": 69,
   "metadata": {},
   "outputs": [],
   "source": [
    "x_return = x_[len(x_)-2:0:-1]\n",
    "y_return = -np.sqrt(R ** 2 - x_return ** 2)\n",
    "\n",
    "x_ = np.concatenate((x_, x_return))\n",
    "y_ = np.concatenate((y_, y_return))"
   ]
  },
  {
   "cell_type": "code",
   "execution_count": 70,
   "metadata": {},
   "outputs": [],
   "source": [
    "plt.scatter(x_, y_)\n",
    "plt.axis(\"square\")\n",
    "plt.show()"
   ]
  },
  {
   "cell_type": "code",
   "execution_count": 71,
   "metadata": {},
   "outputs": [],
   "source": [
    "x_ = R * np.cos(np.linspace(-np.pi, 0, sampling))\n",
    "x_return = x_[len(x_)-2: 0: -1]\n",
    "\n",
    "y_ = np.sqrt(R ** 2 - x_ ** 2)\n",
    "y_return = -np.sqrt(R ** 2 - x_return ** 2)\n",
    "\n",
    "x_ = np.concatenate((x_, x_return))\n",
    "y_ = np.concatenate((y_, y_return))\n",
    "\n",
    "plt.scatter(x_, y_)\n",
    "plt.axis(\"square\")\n",
    "plt.show()"
   ]
  },
  {
   "cell_type": "code",
   "execution_count": 72,
   "metadata": {},
   "outputs": [
    {
     "name": "stdout",
     "output_type": "stream",
     "text": [
      "Using matplotlib backend: Qt5Agg\n"
     ]
    }
   ],
   "source": [
    "import matplotlib.animation\n",
    "%matplotlib auto\n",
    "sampling = 250\n",
    "\n",
    "# ...\n",
    "\n",
    "fig, ax = plt.subplots()\n",
    "ax.set_aspect(\"equal\")\n",
    "ax.set_axis_off()\n",
    "\n",
    "images = []\n",
    "for x_coord, y_coord in zip(x_, y_):\n",
    "    img = ax.scatter(x_coord, y_coord, s=250, c=\"r\")\n",
    "    img2 = ax.scatter(0, 0, s=1000, c=\"y\")\n",
    "    images.append([img, img2])\n",
    "\n",
    "animation = matplotlib.animation.ArtistAnimation(fig,\n",
    "                                                 images,\n",
    "                                                 interval=2.5,\n",
    "                                                 blit=True\n",
    "                                                 )\n",
    "plt.show()"
   ]
  },
  {
   "cell_type": "markdown",
   "metadata": {},
   "source": [
    "### 7.5.2\t向量和矩阵\n",
    "#### 7.5.2.1\t加减法"
   ]
  },
  {
   "cell_type": "code",
   "execution_count": 73,
   "metadata": {},
   "outputs": [
    {
     "data": {
      "text/plain": [
       "array([4, 6])"
      ]
     },
     "execution_count": 73,
     "metadata": {},
     "output_type": "execute_result"
    }
   ],
   "source": [
    "a = np.array([1, 2])\n",
    "b = np.array([3, 4])\n",
    "a + b                # 求两向量和"
   ]
  },
  {
   "cell_type": "code",
   "execution_count": 74,
   "metadata": {},
   "outputs": [
    {
     "data": {
      "text/plain": [
       "array([[ 6,  8],\n",
       "       [10, 12]])"
      ]
     },
     "execution_count": 74,
     "metadata": {},
     "output_type": "execute_result"
    }
   ],
   "source": [
    "m1 = np.array([[1, 2], [3, 4]])\n",
    "m2 = np.array([[5, 6], [7, 8]])\n",
    "m1 + m2              # 求两矩阵和"
   ]
  },
  {
   "cell_type": "code",
   "execution_count": 75,
   "metadata": {},
   "outputs": [
    {
     "data": {
      "text/plain": [
       "array([[-4, -4],\n",
       "       [-4, -4]])"
      ]
     },
     "execution_count": 75,
     "metadata": {},
     "output_type": "execute_result"
    }
   ],
   "source": [
    "m1 - m2              # 求两矩阵差"
   ]
  },
  {
   "cell_type": "markdown",
   "metadata": {},
   "source": [
    "#### 7.5.2.2\t标量乘/除法"
   ]
  },
  {
   "cell_type": "code",
   "execution_count": 76,
   "metadata": {},
   "outputs": [
    {
     "data": {
      "text/plain": [
       "array([4, 8])"
      ]
     },
     "execution_count": 76,
     "metadata": {},
     "output_type": "execute_result"
    }
   ],
   "source": [
    "4*a"
   ]
  },
  {
   "cell_type": "code",
   "execution_count": 77,
   "metadata": {},
   "outputs": [
    {
     "data": {
      "text/plain": [
       "array([[ 4,  8],\n",
       "       [12, 16]])"
      ]
     },
     "execution_count": 77,
     "metadata": {},
     "output_type": "execute_result"
    }
   ],
   "source": [
    "4*m1"
   ]
  },
  {
   "cell_type": "markdown",
   "metadata": {},
   "source": [
    "#### 7.5.2.3\t向量内积"
   ]
  },
  {
   "cell_type": "code",
   "execution_count": 78,
   "metadata": {},
   "outputs": [
    {
     "data": {
      "text/plain": [
       "11"
      ]
     },
     "execution_count": 78,
     "metadata": {},
     "output_type": "execute_result"
    }
   ],
   "source": [
    "a.dot(b)"
   ]
  },
  {
   "cell_type": "code",
   "execution_count": 79,
   "metadata": {},
   "outputs": [
    {
     "data": {
      "text/plain": [
       "11"
      ]
     },
     "execution_count": 79,
     "metadata": {},
     "output_type": "execute_result"
    }
   ],
   "source": [
    "b.dot(a)"
   ]
  },
  {
   "cell_type": "code",
   "execution_count": 80,
   "metadata": {},
   "outputs": [
    {
     "data": {
      "text/plain": [
       "11"
      ]
     },
     "execution_count": 80,
     "metadata": {},
     "output_type": "execute_result"
    }
   ],
   "source": [
    "np.dot(a, b)"
   ]
  },
  {
   "cell_type": "markdown",
   "metadata": {},
   "source": [
    "#### 7.5.2.4\t向量的外积"
   ]
  },
  {
   "cell_type": "code",
   "execution_count": 81,
   "metadata": {},
   "outputs": [
    {
     "name": "stdout",
     "output_type": "stream",
     "text": [
      "[-20   0   5]\n",
      "[20  0 -5]\n"
     ]
    }
   ],
   "source": [
    "u = np.array([1, 2, 4])\n",
    "v = np.array([-1, 3, -4])\n",
    "print(np.cross(u, v))\n",
    "print(np.cross(v, u))"
   ]
  },
  {
   "cell_type": "markdown",
   "metadata": {},
   "source": [
    "#### 7.5.2.5\t向量模"
   ]
  },
  {
   "cell_type": "code",
   "execution_count": 82,
   "metadata": {},
   "outputs": [
    {
     "name": "stdout",
     "output_type": "stream",
     "text": [
      "6.164414002968976\n"
     ]
    }
   ],
   "source": [
    "a = np.array([2, 3, 5])\n",
    "print(np.sqrt(a.dot(a)))"
   ]
  },
  {
   "cell_type": "markdown",
   "metadata": {},
   "source": [
    "#### 7.5.2.6\t向量夹角"
   ]
  },
  {
   "cell_type": "code",
   "execution_count": 83,
   "metadata": {},
   "outputs": [
    {
     "data": {
      "text/plain": [
       "22.207654298596495"
      ]
     },
     "execution_count": 83,
     "metadata": {},
     "output_type": "execute_result"
    }
   ],
   "source": [
    "u = np.array([1, 2, 3])\n",
    "v = np.array([1, 1, 1])\n",
    "ctheata = u.dot(v)/ np.sqrt(v.dot(v) * u.dot(u))\n",
    "np.arccos(ctheata) * 180 / np.pi\n"
   ]
  },
  {
   "cell_type": "markdown",
   "metadata": {},
   "source": [
    "#### 7.5.2.7\t矩阵乘法"
   ]
  },
  {
   "cell_type": "code",
   "execution_count": 84,
   "metadata": {},
   "outputs": [
    {
     "data": {
      "text/plain": [
       "array([[-68, -71, -74, -77],\n",
       "       [-28,  -9,  10,  29]])"
      ]
     },
     "execution_count": 84,
     "metadata": {},
     "output_type": "execute_result"
    }
   ],
   "source": [
    "m1 = np.array([1, 9, -13, 20, 5, -6]).reshape(2, 3)\n",
    "m2 = np.arange(12).reshape((3,4))\n",
    "m1.dot(m2)"
   ]
  },
  {
   "cell_type": "code",
   "execution_count": 85,
   "metadata": {},
   "outputs": [
    {
     "data": {
      "text/plain": [
       "array([[-68, -71, -74, -77],\n",
       "       [-28,  -9,  10,  29]])"
      ]
     },
     "execution_count": 85,
     "metadata": {},
     "output_type": "execute_result"
    }
   ],
   "source": [
    "np.dot(m1, m2)"
   ]
  },
  {
   "cell_type": "code",
   "execution_count": 86,
   "metadata": {},
   "outputs": [
    {
     "ename": "ValueError",
     "evalue": "shapes (3,4) and (2,3) not aligned: 4 (dim 1) != 2 (dim 0)",
     "output_type": "error",
     "traceback": [
      "\u001b[1;31m---------------------------------------------------------------------------\u001b[0m",
      "\u001b[1;31mValueError\u001b[0m                                Traceback (most recent call last)",
      "\u001b[1;32m<ipython-input-86-07e1c52db8bf>\u001b[0m in \u001b[0;36m<module>\u001b[1;34m\u001b[0m\n\u001b[1;32m----> 1\u001b[1;33m \u001b[0mnp\u001b[0m\u001b[1;33m.\u001b[0m\u001b[0mdot\u001b[0m\u001b[1;33m(\u001b[0m\u001b[0mm2\u001b[0m\u001b[1;33m,\u001b[0m \u001b[0mm1\u001b[0m\u001b[1;33m)\u001b[0m\u001b[1;33m\u001b[0m\u001b[1;33m\u001b[0m\u001b[0m\n\u001b[0m",
      "\u001b[1;32m<__array_function__ internals>\u001b[0m in \u001b[0;36mdot\u001b[1;34m(*args, **kwargs)\u001b[0m\n",
      "\u001b[1;31mValueError\u001b[0m: shapes (3,4) and (2,3) not aligned: 4 (dim 1) != 2 (dim 0)"
     ]
    }
   ],
   "source": [
    "np.dot(m2, m1)"
   ]
  },
  {
   "cell_type": "code",
   "execution_count": 87,
   "metadata": {},
   "outputs": [
    {
     "data": {
      "text/plain": [
       "array([[-68, -71, -74, -77],\n",
       "       [-28,  -9,  10,  29]])"
      ]
     },
     "execution_count": 87,
     "metadata": {},
     "output_type": "execute_result"
    }
   ],
   "source": [
    "m1 = np.array([1, 9, -13, 20, 5, -6]).reshape(2, 3)\n",
    "m2 = np.arange(12).reshape((3,4))\n",
    "m1 @ m2"
   ]
  },
  {
   "cell_type": "markdown",
   "metadata": {},
   "source": [
    "#### 7.5.2.8\t转移矩阵"
   ]
  },
  {
   "cell_type": "code",
   "execution_count": 88,
   "metadata": {},
   "outputs": [
    {
     "name": "stdout",
     "output_type": "stream",
     "text": [
      "[[1 3]\n",
      " [2 4]]\n",
      "[[1 2]\n",
      " [3 4]]\n",
      "[[1 2]\n",
      " [3 4]]\n",
      "[[1 2]\n",
      " [3 4]]\n"
     ]
    }
   ],
   "source": [
    "m1 = np.array([[1, 3],[2, 4]])\n",
    "m2 = m1.transpose()\n",
    "m3 = m1.T.copy(order='C')\n",
    "m4 = np.transpose(m1)\n",
    "print(m1)\n",
    "print(m2)\n",
    "print(m3)\n",
    "print(m4)"
   ]
  },
  {
   "cell_type": "markdown",
   "metadata": {},
   "source": [
    "#### 7.5.2.9\t共轭转置矩阵"
   ]
  },
  {
   "cell_type": "code",
   "execution_count": 89,
   "metadata": {},
   "outputs": [
    {
     "name": "stdout",
     "output_type": "stream",
     "text": [
      "原矩阵\n",
      " [[1.-1.j 2.-2.j]\n",
      " [3.-3.j 4.-4.j]]\n",
      "共轭转置\n",
      " [[1.+1.j 3.+3.j]\n",
      " [2.+2.j 4.+4.j]]\n"
     ]
    },
    {
     "data": {
      "text/plain": [
       "array([[10.+0.j, 22.+0.j],\n",
       "       [22.+0.j, 50.+0.j]])"
      ]
     },
     "execution_count": 89,
     "metadata": {},
     "output_type": "execute_result"
    }
   ],
   "source": [
    "m = np.array([[1, 2], [3, 4]])\n",
    "m = m - 1j*m\n",
    "print('原矩阵\\n', m)\n",
    "mt = np.conjugate(np.transpose(m))\n",
    "print('共轭转置\\n', mt)\n",
    "m @ mt"
   ]
  },
  {
   "cell_type": "markdown",
   "metadata": {},
   "source": [
    "#### 7.5.2.10\t范数"
   ]
  },
  {
   "cell_type": "code",
   "execution_count": 90,
   "metadata": {},
   "outputs": [
    {
     "data": {
      "text/plain": [
       "5.0"
      ]
     },
     "execution_count": 90,
     "metadata": {},
     "output_type": "execute_result"
    }
   ],
   "source": [
    "b = np.array([3, 4])\n",
    "np.linalg.norm(b, ord=2)"
   ]
  },
  {
   "cell_type": "markdown",
   "metadata": {},
   "source": [
    "#### 7.5.2.11\t矩阵特征值"
   ]
  },
  {
   "cell_type": "code",
   "execution_count": 91,
   "metadata": {},
   "outputs": [
    {
     "name": "stdout",
     "output_type": "stream",
     "text": [
      "特征值： [4. 2.]\n",
      "特征向量： [[ 0.70710678  0.70710678]\n",
      " [-0.70710678  0.70710678]]\n"
     ]
    }
   ],
   "source": [
    "A = np.array([[3, -1], [-1, 3]])\n",
    "w, v = np.linalg.eig(A)\n",
    "print(\"特征值：\", w)\n",
    "print(\"特征向量：\", v)"
   ]
  },
  {
   "cell_type": "markdown",
   "metadata": {},
   "source": [
    "#### 7.5.2.12\t矩阵的秩"
   ]
  },
  {
   "cell_type": "code",
   "execution_count": 92,
   "metadata": {},
   "outputs": [
    {
     "name": "stdout",
     "output_type": "stream",
     "text": [
      "[[8 6 1 7]\n",
      " [4 4 9 1]\n",
      " [5 6 2 4]\n",
      " [3 8 5 2]]\n",
      "4\n",
      "3\n"
     ]
    }
   ],
   "source": [
    "A = np.random.randint(1, 10, (4, 4))\n",
    "print(A)\n",
    "# matrix_rank表示求矩阵的秩\n",
    "print(np.linalg.matrix_rank(A))  # 4\n",
    "# 将最后一行全部改成0\n",
    "A[-1] = 0\n",
    "print(np.linalg.matrix_rank(A))  # 3"
   ]
  },
  {
   "cell_type": "markdown",
   "metadata": {},
   "source": [
    "#### 7.5.2.13\t逆矩阵"
   ]
  },
  {
   "cell_type": "code",
   "execution_count": 93,
   "metadata": {},
   "outputs": [
    {
     "data": {
      "text/plain": [
       "array([[-2. ,  1. ],\n",
       "       [ 1.5, -0.5]])"
      ]
     },
     "execution_count": 93,
     "metadata": {},
     "output_type": "execute_result"
    }
   ],
   "source": [
    "m = np.array([[1, 2], [3, 4]])\n",
    "np.linalg.inv(m)"
   ]
  },
  {
   "cell_type": "code",
   "execution_count": 94,
   "metadata": {},
   "outputs": [
    {
     "name": "stdout",
     "output_type": "stream",
     "text": [
      "[[-0.68695652  0.06086957  0.52173913]\n",
      " [ 0.32173913  0.03478261 -0.13043478]]\n",
      "[[ 1.  0. -0.]\n",
      " [ 0.  0.  0.]\n",
      " [-0.  0.  1.]]\n"
     ]
    }
   ],
   "source": [
    "A = np.random.randint(1, 10, (3, 2))\n",
    "\n",
    "# 求逆矩阵使用inv，如果不是方阵，那么使用pinv\n",
    "B = np.linalg.pinv(A)\n",
    "print(B)\n",
    "print((A @ B).round())"
   ]
  },
  {
   "cell_type": "markdown",
   "metadata": {},
   "source": [
    "#### 7.5.2.14\t行列式"
   ]
  },
  {
   "cell_type": "code",
   "execution_count": 95,
   "metadata": {},
   "outputs": [
    {
     "name": "stdout",
     "output_type": "stream",
     "text": [
      "[[7 2 5 7 9 1 8 7]\n",
      " [7 3 8 2 9 9 5 5]\n",
      " [2 9 8 8 2 4 5 4]\n",
      " [1 1 8 8 3 7 1 3]\n",
      " [1 3 8 7 8 3 6 9]\n",
      " [9 5 2 5 1 4 6 6]\n",
      " [2 7 7 3 3 1 8 5]\n",
      " [9 2 4 5 5 7 4 1]]\n",
      "1009840.0\n"
     ]
    }
   ],
   "source": [
    "a = np.random.randint(1, 10, (8, 8))\n",
    "print(a)\n",
    "print(np.linalg.det(a).round())"
   ]
  },
  {
   "cell_type": "code",
   "execution_count": 96,
   "metadata": {},
   "outputs": [
    {
     "name": "stdout",
     "output_type": "stream",
     "text": [
      "[[5 3]\n",
      " [2 6]]\n",
      "23.999999999999993\n"
     ]
    }
   ],
   "source": [
    "a = np.array([[5, 3], [2, 6]])\n",
    "print(a)\n",
    "print(np.linalg.det(a))"
   ]
  },
  {
   "cell_type": "code",
   "execution_count": 97,
   "metadata": {},
   "outputs": [
    {
     "data": {
      "text/plain": [
       "(-1155.0, -1155.0)"
      ]
     },
     "execution_count": 97,
     "metadata": {},
     "output_type": "execute_result"
    }
   ],
   "source": [
    "determinant = np.random.randint(1, 10, (5, 5)) # （1） 行列式和它的转置行列式是相等\n",
    "np.linalg.det(determinant).round(), np.linalg.det(determinant.T).round()"
   ]
  },
  {
   "cell_type": "code",
   "execution_count": 98,
   "metadata": {},
   "outputs": [
    {
     "name": "stdout",
     "output_type": "stream",
     "text": [
      "1819.0 -1819.0\n"
     ]
    }
   ],
   "source": [
    "determinant = np.random.randint(1, 10, (5, 5))\n",
    "determinant_1 = determinant.copy()\n",
    "\n",
    "# 将第1行和第4行交换位置, 行列式会变号\n",
    "determinant_1[[0, 3]] = determinant_1[[3, 0]]\n",
    "print(np.linalg.det(determinant).round(),\n",
    "      np.linalg.det(determinant_1).round())\n"
   ]
  },
  {
   "cell_type": "code",
   "execution_count": 99,
   "metadata": {},
   "outputs": [
    {
     "name": "stdout",
     "output_type": "stream",
     "text": [
      "0.0\n"
     ]
    }
   ],
   "source": [
    "a = np.random.randint(1, 10, (5, 5))\n",
    "a[2] = a[0] # 让第3行和第1行相同\n",
    "print(np.linalg.det(a).round())  # 0.0"
   ]
  },
  {
   "cell_type": "code",
   "execution_count": 100,
   "metadata": {},
   "outputs": [
    {
     "name": "stdout",
     "output_type": "stream",
     "text": [
      "[[5 1 6 2]\n",
      " [8 6 4 1]\n",
      " [1 4 5 8]\n",
      " [5 9 6 8]]\n",
      "[[ 5  1  6  2]\n",
      " [ 8  6  4  1]\n",
      " [ 1  4  5  8]\n",
      " [ 6 10  7  9]]\n",
      "[[ 5  1  6  2]\n",
      " [ 8  6  4  1]\n",
      " [ 1  4  5  8]\n",
      " [11 19 13 17]]\n",
      "-437.0\n",
      "-437.0\n"
     ]
    }
   ],
   "source": [
    "a = np.random.randint(1, 10, (4, 4))\n",
    "b = a.copy()\n",
    "c = a.copy()\n",
    "b[3] = b[3] + 1\n",
    "c[3] = b[3] + a[3] # 该行列式等于两个行列式之和\n",
    "print(a)\n",
    "print(b)\n",
    "print(c)\n",
    "\n",
    "print(np.linalg.det(a).round() + np.linalg.det(b).round())\n",
    "print(np.linalg.det(c).round())"
   ]
  },
  {
   "cell_type": "code",
   "execution_count": 101,
   "metadata": {},
   "outputs": [
    {
     "name": "stdout",
     "output_type": "stream",
     "text": [
      "-228.0\n",
      "[[ 5  1  6  2]\n",
      " [ 8  6  4  1]\n",
      " [ 9 10  9  9]\n",
      " [ 5  9  6  8]]\n",
      "-228.0\n"
     ]
    }
   ],
   "source": [
    "print(np.linalg.det(a).round())\n",
    "a[2] = a[1]+a[2]\n",
    "print(a)\n",
    "print(np.linalg.det(a).round())"
   ]
  },
  {
   "cell_type": "code",
   "execution_count": 103,
   "metadata": {},
   "outputs": [
    {
     "name": "stdout",
     "output_type": "stream",
     "text": [
      "[[3 4 7 1 8]\n",
      " [0 3 9 2 6]\n",
      " [0 0 4 7 3]\n",
      " [0 0 0 2 1]\n",
      " [0 0 0 0 3]]\n",
      "216.0\n"
     ]
    },
    {
     "data": {
      "text/plain": [
       "216"
      ]
     },
     "execution_count": 103,
     "metadata": {},
     "output_type": "execute_result"
    }
   ],
   "source": [
    "a = np.random.randint(1, 10, (5, 5))\n",
    "a = a - np.tril(a,-1)\n",
    "print(a)\n",
    "\n",
    "# 行列式的值\n",
    "print(np.linalg.det(a).round())\n",
    "\n",
    "# 求对角线元素乘积\n",
    "np.prod(np.diagonal(a)) "
   ]
  },
  {
   "cell_type": "markdown",
   "metadata": {},
   "source": [
    "### 7.5.3\t用numpy求解线性方程组"
   ]
  },
  {
   "cell_type": "markdown",
   "metadata": {},
   "source": [
    "#### 7.5.3.1\t高斯消除法"
   ]
  },
  {
   "cell_type": "code",
   "execution_count": 104,
   "metadata": {},
   "outputs": [
    {
     "ename": "NameError",
     "evalue": "name 'gaussElimin' is not defined",
     "output_type": "error",
     "traceback": [
      "\u001b[1;31m---------------------------------------------------------------------------\u001b[0m",
      "\u001b[1;31mNameError\u001b[0m                                 Traceback (most recent call last)",
      "\u001b[1;32m<ipython-input-104-8a59402e9bf9>\u001b[0m in \u001b[0;36m<module>\u001b[1;34m\u001b[0m\n\u001b[0;32m     41\u001b[0m                  [1, -2, 4]], dtype=float)\n\u001b[0;32m     42\u001b[0m \u001b[0mb\u001b[0m \u001b[1;33m=\u001b[0m \u001b[0mnp\u001b[0m\u001b[1;33m.\u001b[0m\u001b[0marray\u001b[0m\u001b[1;33m(\u001b[0m\u001b[1;33m[\u001b[0m\u001b[1;36m11\u001b[0m\u001b[1;33m,\u001b[0m \u001b[1;33m-\u001b[0m\u001b[1;36m16\u001b[0m\u001b[1;33m,\u001b[0m \u001b[1;36m17\u001b[0m\u001b[1;33m]\u001b[0m\u001b[1;33m,\u001b[0m \u001b[0mdtype\u001b[0m\u001b[1;33m=\u001b[0m\u001b[0mfloat\u001b[0m\u001b[1;33m)\u001b[0m\u001b[1;33m\u001b[0m\u001b[1;33m\u001b[0m\u001b[0m\n\u001b[1;32m---> 43\u001b[1;33m \u001b[0mc\u001b[0m \u001b[1;33m=\u001b[0m \u001b[0mgaussElimin\u001b[0m\u001b[1;33m(\u001b[0m\u001b[0ma\u001b[0m\u001b[1;33m,\u001b[0m \u001b[0mb\u001b[0m\u001b[1;33m)\u001b[0m\u001b[1;33m\u001b[0m\u001b[1;33m\u001b[0m\u001b[0m\n\u001b[0m\u001b[0;32m     44\u001b[0m \u001b[0mc\u001b[0m\u001b[1;33m\u001b[0m\u001b[1;33m\u001b[0m\u001b[0m\n",
      "\u001b[1;31mNameError\u001b[0m: name 'gaussElimin' is not defined"
     ]
    }
   ],
   "source": [
    "def gauss_elimin(a, b):\n",
    "    '''\n",
    "    高斯消元法解线性方程组\n",
    "    \n",
    "    参数\n",
    "    ___\n",
    "    a: float numpy array\n",
    "        系数参数矩阵\n",
    "    b: float numpy array\n",
    "        常数项矩阵\n",
    "    \n",
    "    返回值\n",
    "    ______\n",
    "    b: float numpy array\n",
    "        解矩阵\n",
    "    '''\n",
    "    n = len(b)\n",
    "    \n",
    "    '''\n",
    "    高斯消元\n",
    "    λ = A[i,k] / A[k,k]\n",
    "    A[i,j] ← A[i,j] − λA[k,j], j = k, k+1, ..., n\n",
    "    b[i]   ← b[i] − λb[k]\n",
    "    '''\n",
    "    for k in range(0, n-1):\n",
    "        for i in range(k+1, n):\n",
    "            if a[i,k] != 0.0:\n",
    "                lam = a[i,k]/a[k,k]\n",
    "                a[i,k:n] = a[i,k:n] - lam*a[k,k:n]\n",
    "                b[i] = b[i] - lam*b[k]\n",
    "    '''\n",
    "    反向替换 \n",
    "    A[k,k]x[k] + A[k,k+1]x[k+1] +··· + A[k,n]x[n] = b[k]\n",
    "    '''\n",
    "    for k in range(n-1,-1,-1):\n",
    "        b[k] = (b[k] - np.dot(a[k,k+1:n],b[k+1:n]))/a[k,k]\n",
    "    return b\n",
    "\n",
    "a = np.array([[4, -2, 1],\n",
    "                 [-2, 4, -2],\n",
    "                 [1, -2, 4]], dtype=float)\n",
    "b = np.array([11, -16, 17], dtype=float)\n",
    "c = gauss_elimin(a, b)\n",
    "c"
   ]
  },
  {
   "cell_type": "code",
   "execution_count": 105,
   "metadata": {},
   "outputs": [
    {
     "data": {
      "text/plain": [
       "array([[ 1.00000000e+01,  3.00000000e+00],\n",
       "       [ 2.20000000e+01, -1.00000000e+00],\n",
       "       [ 1.40000000e+01, -1.77635684e-16]])"
      ]
     },
     "execution_count": 105,
     "metadata": {},
     "output_type": "execute_result"
    }
   ],
   "source": [
    "a = np.array([[6., -4., 1.],\n",
    "              [-4., 6., -4.],\n",
    "              [1., -4., 6.]])\n",
    "b = np.array([[-14., 22.],\n",
    "              [36., -18.],\n",
    "              [6., 7.]])\n",
    "c = gauss_elimin(a, b)\n",
    "c"
   ]
  },
  {
   "cell_type": "markdown",
   "metadata": {},
   "source": [
    "#### 7.5.3.2\tLU分解法"
   ]
  },
  {
   "cell_type": "code",
   "execution_count": 28,
   "metadata": {},
   "outputs": [],
   "source": [
    "def vandermode(v):\n",
    "    n = len(v)\n",
    "    a = np.zeros((n,n))\n",
    "    for j in range(n):\n",
    "        a[:,j] = v**(n-j-1)\n",
    "    return a\n",
    "\n",
    "v = np.array([1.0, 1.2, 1.4, 1.6, 1.8, 2.0])\n",
    "b = np.array([0.0, 1.0, 0.0, 1.0, 0.0, 1.0])\n",
    "a = vandermode(v)"
   ]
  },
  {
   "cell_type": "code",
   "execution_count": 29,
   "metadata": {},
   "outputs": [
    {
     "data": {
      "text/plain": [
       "array([[ 1.     ,  1.     ,  1.     ,  1.     ,  1.     ,  1.     ],\n",
       "       [ 2.48832,  2.0736 ,  1.728  ,  1.44   ,  1.2    ,  1.     ],\n",
       "       [ 5.37824,  3.8416 ,  2.744  ,  1.96   ,  1.4    ,  1.     ],\n",
       "       [10.48576,  6.5536 ,  4.096  ,  2.56   ,  1.6    ,  1.     ],\n",
       "       [18.89568, 10.4976 ,  5.832  ,  3.24   ,  1.8    ,  1.     ],\n",
       "       [32.     , 16.     ,  8.     ,  4.     ,  2.     ,  1.     ]])"
      ]
     },
     "execution_count": 29,
     "metadata": {},
     "output_type": "execute_result"
    }
   ],
   "source": [
    "a"
   ]
  },
  {
   "cell_type": "code",
   "execution_count": null,
   "metadata": {},
   "outputs": [],
   "source": [
    "def LUdecomp(a):\n",
    "    '''\n",
    "    Doolittle变换\n",
    "    将系数矩阵A转换成[L\\\\U]的形式\n",
    "    （1） 上三角矩阵U由高斯消元法产生。\n",
    "    （2） 下三角矩阵L的非对角线元素为高斯消除过\n",
    "          程中A矩阵中同一位置元素相对于主元的倍数。\n",
    "\n",
    "    参数\n",
    "    ___\n",
    "    a: float numpy array\n",
    "        系数参数矩阵\n",
    "\n",
    "    返回值\n",
    "    ______\n",
    "    a: float numpy array\n",
    "        L和U的混合矩阵[L\\\\U]\n",
    "    '''\n",
    "    n = len(a)\n",
    "\n",
    "    for k in range(0, n-1):\n",
    "        for i in range(k+1, n):\n",
    "            if a[i,k] != 0.0:\n",
    "                lam = a [i,k]/a[k,k]\n",
    "                a[i,k+1:n] = a[i,k+1:n] - lam*a[k,k+1:n]\n",
    "                a[i,k] = lam\n",
    "    return a\n",
    "\n",
    "def LUsolve(a, b):\n",
    "    '''\n",
    "    LU分解法解线性方程\n",
    "\n",
    "    参数\n",
    "    ___\n",
    "    a: float numpy array\n",
    "        经Doolittle变换过后的系数矩阵\n",
    "    b: float numpy array\n",
    "        常系数矩阵\n",
    "\n",
    "    返回值\n",
    "    ______\n",
    "    b: float numpy array\n",
    "        线性方程的解\n",
    "    '''\n",
    "    n = len(a)\n",
    "    for k in range(1,n):\n",
    "        b[k] = b[k] - np.dot(a[k,0:k],b[0:k])\n",
    "    b[n-1] = b[n-1]/a[n-1,n-1]\n",
    "    for k in range(n-2,-1,-1):\n",
    "        b[k] = (b[k] - np.dot(a[k,k+1:n],b[k+1:n]))/a[k,k]\n",
    "    return b\n",
    "\n",
    "a = np.array([[6, -4, 1],\n",
    "              [-4, 6, -4],\n",
    "              [1, -4, 6]], dtype=float)\n",
    "b = np.array([[-14, 22],\n",
    "              [36, -18],\n",
    "              [6, 7]], dtype=float)\n",
    "a = LUdecomp(a)\n",
    "LUsolve(a,b)\n"
   ]
  },
  {
   "cell_type": "markdown",
   "metadata": {},
   "source": [
    "#### 7.5.3.3\t对称带状系数矩阵"
   ]
  },
  {
   "cell_type": "code",
   "execution_count": 107,
   "metadata": {},
   "outputs": [],
   "source": [
    "## module LUdecomp3\n",
    "'''c,d,e = LUdecomp3(c,d,e).\n",
    "   LU decomposition of tridiagonal matrix [c\\d\\e]. On output\n",
    "   {c},{d} and {e} are the diagonals of the decomposed matrix.\n",
    "   x = LUsolve(c,d,e,b).Solves [c\\d\\e]{x} = {b}, where {c}, {d} and {e} are the\n",
    "   vectors returned from LUdecomp3.\n",
    "'''\n",
    "\n",
    "def LUdecomp3(c, d, e):\n",
    "    '''\n",
    "    针对3对角线矩阵的Doolittle变换\n",
    "    \n",
    "    参数\n",
    "    ___\n",
    "    c: float numpy vector\n",
    "        下对角线元素组成的向量\n",
    "    d: float numpy vector\n",
    "        对角线元素组成的向量\n",
    "    e: float numpy vector\n",
    "        上对角线元素组成的向量\n",
    "    \n",
    "    返回值\n",
    "    ______\n",
    "    c: float numpy vector\n",
    "        Doolittle变换后的下对角线元素\n",
    "    d: float numpy vector\n",
    "        Doolittle变换后的对角线元素\n",
    "    e: float numpy vector\n",
    "        Doolittle变换后的上对角线元素\n",
    "    '''\n",
    "    n = len(d)\n",
    "    for k in range(1,n):\n",
    "        lam = c[k-1]/d[k-1]\n",
    "        d[k] = d[k] - lam*e[k-1]\n",
    "        c[k-1] = lam\n",
    "    return c,d,e\n",
    "\n",
    "def LUsolve3(c, d, e, b):\n",
    "    '''\n",
    "    LU分解法解线性方程\n",
    "\n",
    "    参数\n",
    "    ___\n",
    "    c: float numpy vector\n",
    "        Doolittle变换后的下对角线元素\n",
    "    d: float numpy vector\n",
    "        Doolittle变换后的对角线元素\n",
    "    e: float numpy vector\n",
    "        Doolittle变换后的上对角线元素\n",
    "    b: float numpy array\n",
    "        常系数矩阵\n",
    "\n",
    "    返回值\n",
    "    ______\n",
    "    b: float numpy array\n",
    "        线性方程的解\n",
    "    '''\n",
    "    \n",
    "    n = len(d)\n",
    "    for k in range(1,n):\n",
    "        b[k] = b[k] - c[k-1]*b[k-1]\n",
    "    b[n-1] = b[n-1]/d[n-1]\n",
    "    for k in range(n-2,-1,-1):\n",
    "        b[k] = (b[k] - e[k]*b[k+1])/d[k]\n",
    "    return b"
   ]
  },
  {
   "cell_type": "code",
   "execution_count": 109,
   "metadata": {},
   "outputs": [
    {
     "data": {
      "text/plain": [
       "array([ 2., -1.,  1., -1.,  2.])"
      ]
     },
     "execution_count": 109,
     "metadata": {},
     "output_type": "execute_result"
    }
   ],
   "source": [
    "d = np.ones((5))*2.0\n",
    "c = np.ones((4))*(-1.0)\n",
    "b = np.array([5.0, -5.0, 4.0, -5.0, 5.0])\n",
    "e = c.copy()\n",
    "c, d, e = LUdecomp3(c, d, e)\n",
    "LUsolve3(c, d, e, b)"
   ]
  },
  {
   "cell_type": "code",
   "execution_count": null,
   "metadata": {},
   "outputs": [],
   "source": []
  },
  {
   "cell_type": "code",
   "execution_count": null,
   "metadata": {},
   "outputs": [],
   "source": []
  },
  {
   "cell_type": "code",
   "execution_count": 108,
   "metadata": {},
   "outputs": [],
   "source": [
    "## module swap\n",
    "''' swapRows(v,i,j).\n",
    "    Swaps rows i and j of a vector or matrix [v].\n",
    "    \n",
    "    swapCols(v,i,j).\n",
    "    Swaps columns of matrix [v].\n",
    "'''\n",
    "def swapRows(v, i, j):\n",
    "    '''\n",
    "    交换矩阵中的两行\n",
    "    \n",
    "    本函数可以扩展到多维，i、j分别\n",
    "    为n维数组第1个维度上的两个索引\n",
    "    \n",
    "    参数\n",
    "    ___\n",
    "    v: numpy array\n",
    "        矩阵\n",
    "    i: int\n",
    "        待交换行号\n",
    "    j: int\n",
    "        待交换行号\n",
    "\n",
    "    返回值\n",
    "    ______\n",
    "        无\n",
    "    \n",
    "    '''\n",
    "    if len(v.shape) == 1:\n",
    "        v[i],v[j] = v[j],v[i]\n",
    "    else:\n",
    "        v[[i,j],:] = v[[j,i],:]\n",
    "        \n",
    "def swapCols(v,i,j):\n",
    "    '''\n",
    "    交换矩阵中的两列\n",
    "    \n",
    "    本函数可以扩展到多维，i、j分别\n",
    "    为n维数组第1个维度上的两个索引\n",
    "    \n",
    "    参数\n",
    "    ___\n",
    "    v: numpy array\n",
    "        矩阵\n",
    "    i: int\n",
    "        待交换行号\n",
    "    j: int\n",
    "        待交换行号\n",
    "\n",
    "    返回值\n",
    "    ______\n",
    "        无\n",
    "    \n",
    "    '''    \n",
    "    v[:,[i,j]] = v[:,[j,i]]"
   ]
  },
  {
   "cell_type": "code",
   "execution_count": 47,
   "metadata": {},
   "outputs": [],
   "source": [
    "## module gaussPivot\n",
    "'''x = gaussPivot(a,b,tol=1.0e-12).\n",
    "   Solves [a]{x} = {b} by Gauss elimination with\n",
    "   scaled row pivoting\n",
    "'''\n",
    "\n",
    "import numpy as np\n",
    "\n",
    "def gaussPivot(a, b, tol=1.0e-12):\n",
    "    '''\n",
    "    增加了枢轴元素选取的高斯消元法\n",
    "    解线性方程组\n",
    "    \n",
    "    参数\n",
    "    ___\n",
    "    a: float numpy array\n",
    "        系数参数矩阵\n",
    "    b: float numpy array\n",
    "        常数项矩阵\n",
    "    tol： float\n",
    "        用来判断矩阵是否存在奇异值\n",
    "    \n",
    "    返回值\n",
    "    ______\n",
    "    b: float numpy array\n",
    "        解矩阵\n",
    "    '''\n",
    "    n = len(b)\n",
    "    \n",
    "    # 缩放比\n",
    "    s = np.zeros(n)\n",
    "    for i in range(n):\n",
    "        s[i] = max(np.abs(a[i,:]))\n",
    "        \n",
    "    for k in range(0,n-1):        \n",
    "        p = np.argmax(np.abs(a[k:n,k])/s[k:n]) + k\n",
    "        if abs(a[p,k]) < tol: err('奇异矩阵')\n",
    "        \n",
    "        if p != k:           # 行交换\n",
    "            swapRows(b,k,p)\n",
    "            swapRows(s,k,p)\n",
    "            swapRows(a,k,p)\n",
    "            \n",
    "        # 消元\n",
    "        for i in range(k+1,n):\n",
    "            if a[i,k] != 0.0:\n",
    "                lam = a[i,k]/a[k,k]\n",
    "                a[i,k+1:n] = a[i,k+1:n] - lam*a[k,k+1:n]\n",
    "                b[i] = b[i] - lam*b[k]\n",
    "                \n",
    "    if abs(a[n-1,n-1]) < tol: err('奇异矩阵')\n",
    "        \n",
    "    # 后向替换\n",
    "    b[n-1] = b[n-1]/a[n-1,n-1]\n",
    "    for k in range(n-2,-1,-1):\n",
    "        b[k] = (b[k] - np.dot(a[k,k+1:n],b[k+1:n]))/a[k,k]\n",
    "    \n",
    "    return (b)"
   ]
  },
  {
   "cell_type": "code",
   "execution_count": 23,
   "metadata": {},
   "outputs": [
    {
     "data": {
      "text/plain": [
       "array([ 0.65306122, -1.14285714,  1.73469388])"
      ]
     },
     "execution_count": 23,
     "metadata": {},
     "output_type": "execute_result"
    }
   ],
   "source": [
    "a = np.array([[2, -3, -1],\n",
    "              [3, 2, -5],\n",
    "              [2, 4, -1]], dtype=float)\n",
    "b = np.array([3, -9, -5], dtype=float)\n",
    "gaussPivot(a, b)"
   ]
  },
  {
   "cell_type": "code",
   "execution_count": 19,
   "metadata": {},
   "outputs": [
    {
     "data": {
      "text/plain": [
       "array([[ 1.00000000e+01,  3.00000000e+00],\n",
       "       [ 2.20000000e+01, -1.00000000e+00],\n",
       "       [ 1.40000000e+01, -1.77635684e-16]])"
      ]
     },
     "execution_count": 19,
     "metadata": {},
     "output_type": "execute_result"
    }
   ],
   "source": [
    "a = np.array([[6, -4, 1],\n",
    "                 [-4, 6, -4],\n",
    "                 [1, -4, 6]], dtype=float)\n",
    "b = np.array([[-14, 22],\n",
    "                 [36, -18],\n",
    "                 [6, 7]], dtype=float)\n",
    "gaussPivot(a, b)"
   ]
  },
  {
   "cell_type": "code",
   "execution_count": 26,
   "metadata": {},
   "outputs": [
    {
     "ename": "ModuleNotFoundError",
     "evalue": "No module named 'error'",
     "output_type": "error",
     "traceback": [
      "\u001b[1;31m---------------------------------------------------------------------------\u001b[0m",
      "\u001b[1;31mModuleNotFoundError\u001b[0m                       Traceback (most recent call last)",
      "\u001b[1;32m<ipython-input-26-50fda08c8b62>\u001b[0m in \u001b[0;36m<module>\u001b[1;34m\u001b[0m\n\u001b[0;32m     13\u001b[0m \u001b[1;33m\u001b[0m\u001b[0m\n\u001b[0;32m     14\u001b[0m \u001b[1;32mimport\u001b[0m \u001b[0mnumpy\u001b[0m \u001b[1;32mas\u001b[0m \u001b[0mnp\u001b[0m\u001b[1;33m\u001b[0m\u001b[1;33m\u001b[0m\u001b[0m\n\u001b[1;32m---> 15\u001b[1;33m \u001b[1;32mimport\u001b[0m \u001b[0merror\u001b[0m\u001b[1;33m\u001b[0m\u001b[1;33m\u001b[0m\u001b[0m\n\u001b[0m\u001b[0;32m     16\u001b[0m \u001b[1;33m\u001b[0m\u001b[0m\n\u001b[0;32m     17\u001b[0m \u001b[1;32mdef\u001b[0m \u001b[0mLUdecomp\u001b[0m\u001b[1;33m(\u001b[0m\u001b[0ma\u001b[0m\u001b[1;33m,\u001b[0m\u001b[0mtol\u001b[0m\u001b[1;33m=\u001b[0m\u001b[1;36m1.0e-9\u001b[0m\u001b[1;33m)\u001b[0m\u001b[1;33m:\u001b[0m\u001b[1;33m\u001b[0m\u001b[1;33m\u001b[0m\u001b[0m\n",
      "\u001b[1;31mModuleNotFoundError\u001b[0m: No module named 'error'"
     ]
    }
   ],
   "source": [
    "## module LUpivot\n",
    "'''a,seq = LUdecomp(a,tol=1.0e-9).\n",
    "   LU decomposition of matrix [a] using scaled row pivoting.\n",
    "   The returned matrix [a] = contains [U] in the upper\n",
    "   triangle and the nondiagonal terms of [L] in the lower triangle.\n",
    "   Note that [L][U] is a row-wise permutation of the original [a];\n",
    "   the permutations are recorded in the vector {seq}.\n",
    "   \n",
    "   x = LUsolve(a,b,seq).\n",
    "   Solves [L][U]{x} = {b}, where the matrix [a] = and the\n",
    "   permutation vector {seq} are returned from LUdecomp.\n",
    "'''\n",
    "\n",
    "import numpy as np\n",
    "import error\n",
    "\n",
    "def LUdecomp(a,tol=1.0e-9):\n",
    "    '''\n",
    "    增加了枢轴元素选取的Doolittle变换\n",
    "    将系数矩阵A转换成[L\\\\U]的形式\n",
    "    （1） 上三角矩阵U由高斯消元法产生。\n",
    "    （2） 下三角矩阵L的非对角线元素为高斯消除过\n",
    "          程中A矩阵中同一位置元素相对于主元的倍数。\n",
    "\n",
    "    参数\n",
    "    ___\n",
    "    a: float numpy array\n",
    "        系数参数矩阵        \n",
    "    tol： float\n",
    "        用来判断矩阵是否存在奇异值\n",
    "    \n",
    "    返回值\n",
    "    ______\n",
    "    a: float numpy array\n",
    "        L和U的混合矩阵[L\\\\U]\n",
    "    seq: int array\n",
    "        原矩阵中每一行在新矩阵中的排列\n",
    "    '''\n",
    "    n = len(a)\n",
    "    seq = np.array(range(n))\n",
    "    \n",
    "    # 缩放系数\n",
    "    s = np.zeros((n))\n",
    "    for i in range(n):\n",
    "        s[i] = max(abs(a[i,:]))\n",
    "        \n",
    "    for k in range(0,n-1):\n",
    "        # 判断是否需要行变换\n",
    "        p = np.argmax(np.abs(a[k:n,k])/s[k:n]) + k\n",
    "        if abs(a[p,k]) <  tol: error.err('奇异矩阵')\n",
    "        if p != k:\n",
    "            swapRows(s,k,p)\n",
    "            swapRows(a,k,p)\n",
    "            swapRows(seq,k,p)\n",
    "        \n",
    "        # 消元\n",
    "        for i in range(k+1,n):\n",
    "            if a[i,k] != 0.0:\n",
    "                lam = a[i,k]/a[k,k]\n",
    "                a[i,k+1:n] = a[i,k+1:n] - lam*a[k,k+1:n]\n",
    "                a[i,k] = lam\n",
    "    return a, seq\n",
    "\n",
    "def LUsolve(a, b, seq):\n",
    "    '''\n",
    "    LU分解法解线性方程\n",
    "\n",
    "    参数\n",
    "    ___\n",
    "    a: float numpy array\n",
    "        经Doolittle变换过后的系数矩阵\n",
    "    b: float numpy array\n",
    "        常系数向量\n",
    "    seq：int array\n",
    "        原始系数矩阵每一行新的排列\n",
    "\n",
    "    返回值\n",
    "    ______\n",
    "    b: float numpy array\n",
    "        线性方程的解\n",
    "    '''\n",
    "    n = len(a)\n",
    "    \n",
    "    # 重新排列常系数向量\n",
    "    x = b.copy()\n",
    "    for i in range(n):\n",
    "        x[i] = b[seq[i]]\n",
    "        \n",
    "    # 求解\n",
    "    for k in range(1,n):\n",
    "        x[k] = x[k] - np.dot(a[k,0:k],x[0:k])\n",
    "    x[n-1] = x[n-1]/a[n-1,n-1]\n",
    "    for k in range(n-2,-1,-1):\n",
    "        x[k] = (x[k] - np.dot(a[k,k+1:n],x[k+1:n]))/a[k,k]\n",
    "    return x"
   ]
  },
  {
   "cell_type": "code",
   "execution_count": 30,
   "metadata": {},
   "outputs": [],
   "source": [
    "## module LUdecomp3\n",
    "''' c,d,e = LUdecomp3(c,d,e).\n",
    "    LU decomposition of tridiagonal matrix [c\\d\\e]. On output\n",
    "    {c},{d} and {e} are the diagonals of the decomposed matrix\n",
    "    x = LUsolve(c,d,e,b).\n",
    "    Solves [c\\d\\e]{x} = {b}, where {c}, {d} and {e} are the\n",
    "    vectors returned from LUdecomp3.\n",
    "'''\n",
    "def LUdecomp3(c,d,e):\n",
    "    n = len(d)\n",
    "    for k in range(1,n):\n",
    "        lam = c[k-1]/d[k-1]\n",
    "        d[k] = d[k] - lam*e[k-1]\n",
    "        c[k-1] = lam\n",
    "    return c,d,e\n",
    "\n",
    "def LUsolve3(c,d,e,b):\n",
    "    n = len(d)\n",
    "    for k in range(1,n):\n",
    "        b[k] = b[k] - c[k-1]*b[k-1]\n",
    "    b[n-1] = b[n-1]/d[n-1]\n",
    "    for k in range(n-2,-1,-1):\n",
    "        b[k] = (b[k] - e[k]*b[k+1])/d[k]\n",
    "    return b"
   ]
  },
  {
   "cell_type": "code",
   "execution_count": null,
   "metadata": {},
   "outputs": [],
   "source": [
    "## module LUdecomp5\n",
    "''' d,e,f = LUdecomp5(d,e,f).\n",
    "    LU decomposition of symmetric pentadiagonal matrix [a], where\n",
    "    {f}, {e} and {d} are the diagonals of [a]. On output\n",
    "    {d},{e} and {f} are the diagonals of the decomposed matrix.\n",
    "    \n",
    "    x = LUsolve5(d,e,f,b).\n",
    "    Solves [a]{x} = {b}, where {d}, {e} and {f} are the vectors\n",
    "    returned from LUdecomp5.\n",
    "'''\n",
    "def LUdecomp5(d,e,f):\n",
    "    n = len(d)\n",
    "    for k in range(n-2):\n",
    "        lam = e[k]/d[k]\n",
    "        d[k+1] = d[k+1] - lam*e[k]\n",
    "        e[k+1] = e[k+1] - lam*f[k]\n",
    "        e[k] = lam\n",
    "        lam = f[k]/d[k]\n",
    "        d[k+2] = d[k+2] - lam*f[k]\n",
    "        f[k] = lam\n",
    "    lam = e[n-2]/d[n-2]\n",
    "    d[n-1] = d[n-1] - lam*e[n-2]\n",
    "    e[n-2] = lam\n",
    "    return d,e,f\n",
    "\n",
    "def LUsolve5(d,e,f,b):\n",
    "    n = len(d)\n",
    "    b[1] = b[1] - e[0]*b[0]\n",
    "    for k in range(2,n):\n",
    "        b[k] = b[k] - e[k-1]*b[k-1] - f[k-2]*b[k-2]\n",
    "    b[n-1] = b[n-1]/d[n-1]\n",
    "    b[n-2] = b[n-2]/d[n-2] - e[n-2]*b[n-1]\n",
    "    for k in range(n-3,-1,-1):\n",
    "        b[k] = b[k]/d[k] - e[k]*b[k+1] - f[k]*b[k+2]\n",
    "    return b"
   ]
  },
  {
   "cell_type": "code",
   "execution_count": 24,
   "metadata": {},
   "outputs": [],
   "source": [
    "def matInv(a):\n",
    "    '''\n",
    "    求矩阵a的逆\n",
    "    \n",
    "    参数\n",
    "    ____\n",
    "    a: numpy array\n",
    "        n阶矩阵\n",
    "    \n",
    "    返回值\n",
    "    ______\n",
    "    aInv：\n",
    "        矩阵a的逆\n",
    "    '''\n",
    "    n = len(a[0])\n",
    "    aInv = np.identity(n)\n",
    "    a, seq = LUdecomp(a)\n",
    "    for i in range(n):\n",
    "        aInv[:, i] = LUsolve(a, aInv[:,i], seq)\n",
    "    return aInv\n"
   ]
  },
  {
   "cell_type": "code",
   "execution_count": 25,
   "metadata": {},
   "outputs": [
    {
     "name": "stderr",
     "output_type": "stream",
     "text": [
      "<ipython-input-7-ef58421aacb1>:33: RuntimeWarning: divide by zero encountered in double_scalars\n",
      "  lam = a [i,k]/a[k,k]\n"
     ]
    },
    {
     "ename": "ValueError",
     "evalue": "too many values to unpack (expected 2)",
     "output_type": "error",
     "traceback": [
      "\u001b[1;31m---------------------------------------------------------------------------\u001b[0m",
      "\u001b[1;31mValueError\u001b[0m                                Traceback (most recent call last)",
      "\u001b[1;32m<ipython-input-25-8d5276e2f764>\u001b[0m in \u001b[0;36m<module>\u001b[1;34m\u001b[0m\n\u001b[0;32m      3\u001b[0m               [ 0.6, -1.0,  0.5]])\n\u001b[0;32m      4\u001b[0m \u001b[0maOrig\u001b[0m \u001b[1;33m=\u001b[0m \u001b[0ma\u001b[0m\u001b[1;33m.\u001b[0m\u001b[0mcopy\u001b[0m\u001b[1;33m(\u001b[0m\u001b[1;33m)\u001b[0m  \u001b[1;31m# Save original [a]\u001b[0m\u001b[1;33m\u001b[0m\u001b[1;33m\u001b[0m\u001b[0m\n\u001b[1;32m----> 5\u001b[1;33m \u001b[0maInv\u001b[0m \u001b[1;33m=\u001b[0m \u001b[0mmatInv\u001b[0m\u001b[1;33m(\u001b[0m\u001b[0ma\u001b[0m\u001b[1;33m)\u001b[0m  \u001b[1;31m# Invert [a] (original [a] is destroyed)\u001b[0m\u001b[1;33m\u001b[0m\u001b[1;33m\u001b[0m\u001b[0m\n\u001b[0m\u001b[0;32m      6\u001b[0m \u001b[0mprint\u001b[0m\u001b[1;33m(\u001b[0m\u001b[1;34m\"\\naInv =\\n\"\u001b[0m\u001b[1;33m,\u001b[0m\u001b[0maInv\u001b[0m\u001b[1;33m)\u001b[0m\u001b[1;33m\u001b[0m\u001b[1;33m\u001b[0m\u001b[0m\n\u001b[0;32m      7\u001b[0m \u001b[0mprint\u001b[0m\u001b[1;33m(\u001b[0m\u001b[1;34m\"\\nCheck: a*aInv =\\n\"\u001b[0m\u001b[1;33m,\u001b[0m \u001b[0mnp\u001b[0m\u001b[1;33m.\u001b[0m\u001b[0mdot\u001b[0m\u001b[1;33m(\u001b[0m\u001b[0maOrig\u001b[0m\u001b[1;33m,\u001b[0m\u001b[0maInv\u001b[0m\u001b[1;33m)\u001b[0m\u001b[1;33m)\u001b[0m\u001b[1;33m\u001b[0m\u001b[1;33m\u001b[0m\u001b[0m\n",
      "\u001b[1;32m<ipython-input-24-9f809e1dbd01>\u001b[0m in \u001b[0;36mmatInv\u001b[1;34m(a)\u001b[0m\n\u001b[0;32m     15\u001b[0m     \u001b[0mn\u001b[0m \u001b[1;33m=\u001b[0m \u001b[0mlen\u001b[0m\u001b[1;33m(\u001b[0m\u001b[0ma\u001b[0m\u001b[1;33m[\u001b[0m\u001b[1;36m0\u001b[0m\u001b[1;33m]\u001b[0m\u001b[1;33m)\u001b[0m\u001b[1;33m\u001b[0m\u001b[1;33m\u001b[0m\u001b[0m\n\u001b[0;32m     16\u001b[0m     \u001b[0maInv\u001b[0m \u001b[1;33m=\u001b[0m \u001b[0mnp\u001b[0m\u001b[1;33m.\u001b[0m\u001b[0midentity\u001b[0m\u001b[1;33m(\u001b[0m\u001b[0mn\u001b[0m\u001b[1;33m)\u001b[0m\u001b[1;33m\u001b[0m\u001b[1;33m\u001b[0m\u001b[0m\n\u001b[1;32m---> 17\u001b[1;33m     \u001b[0ma\u001b[0m\u001b[1;33m,\u001b[0m \u001b[0mseq\u001b[0m \u001b[1;33m=\u001b[0m \u001b[0mLUdecomp\u001b[0m\u001b[1;33m(\u001b[0m\u001b[0ma\u001b[0m\u001b[1;33m)\u001b[0m\u001b[1;33m\u001b[0m\u001b[1;33m\u001b[0m\u001b[0m\n\u001b[0m\u001b[0;32m     18\u001b[0m     \u001b[1;32mfor\u001b[0m \u001b[0mi\u001b[0m \u001b[1;32min\u001b[0m \u001b[0mrange\u001b[0m\u001b[1;33m(\u001b[0m\u001b[0mn\u001b[0m\u001b[1;33m)\u001b[0m\u001b[1;33m:\u001b[0m\u001b[1;33m\u001b[0m\u001b[1;33m\u001b[0m\u001b[0m\n\u001b[0;32m     19\u001b[0m         \u001b[0maInv\u001b[0m\u001b[1;33m[\u001b[0m\u001b[1;33m:\u001b[0m\u001b[1;33m,\u001b[0m \u001b[0mi\u001b[0m\u001b[1;33m]\u001b[0m \u001b[1;33m=\u001b[0m \u001b[0mLUsolve\u001b[0m\u001b[1;33m(\u001b[0m\u001b[0ma\u001b[0m\u001b[1;33m,\u001b[0m \u001b[0maInv\u001b[0m\u001b[1;33m[\u001b[0m\u001b[1;33m:\u001b[0m\u001b[1;33m,\u001b[0m\u001b[0mi\u001b[0m\u001b[1;33m]\u001b[0m\u001b[1;33m,\u001b[0m \u001b[0mseq\u001b[0m\u001b[1;33m)\u001b[0m\u001b[1;33m\u001b[0m\u001b[1;33m\u001b[0m\u001b[0m\n",
      "\u001b[1;31mValueError\u001b[0m: too many values to unpack (expected 2)"
     ]
    }
   ],
   "source": [
    "a = np.array([[ 0.6, -0.4,  1.0],\\\n",
    "              [-0.3,  0.2,  0.5],\\\n",
    "              [ 0.6, -1.0,  0.5]])\n",
    "aOrig = a.copy()  # Save original [a]\n",
    "aInv = matInv(a)  # Invert [a] (original [a] is destroyed)\n",
    "print(\"\\naInv =\\n\",aInv)\n",
    "print(\"\\nCheck: a*aInv =\\n\", np.dot(aOrig, aInv))"
   ]
  },
  {
   "cell_type": "code",
   "execution_count": 12,
   "metadata": {},
   "outputs": [
    {
     "name": "stdout",
     "output_type": "stream",
     "text": [
      "System of equations:\n",
      "[ 10*x1 +  -1*x2 +   2*x3 +   0*x4] = [  6]\n",
      "[ -1*x1 +  11*x2 +  -1*x3 +   3*x4] = [ 25]\n",
      "[  2*x1 +  -1*x2 +  10*x3 +  -1*x4] = [-11]\n",
      "[  0*x1 +   3*x2 +  -1*x3 +   8*x4] = [ 15]\n",
      "迭代 0: x = [ 0.6         2.32727273 -0.98727273  0.87886364], tol = 2.742864757228523\n",
      "迭代 1: x = [ 1.03018182  2.03693802 -1.0144562   0.98434122], tol = 0.5302971831879818\n",
      "迭代 2: x = [ 1.00658504  2.00355502 -1.00252738  0.99835095], tol = 0.044830810568892446\n",
      "迭代 3: x = [ 1.00086098  2.00029825 -1.00030728  0.99984975], tol = 0.007109620693563937\n",
      "迭代 4: x = [ 1.00009128  2.00002134 -1.00003115  0.9999881 ], tol = 0.0008743589512860802\n",
      "迭代 5: x = [ 1.00000836  2.00000117 -1.00000275  0.99999922], tol = 9.062087893700401e-05\n",
      "迭代 6: x = [ 1.00000067  2.00000002 -1.00000021  0.99999996], tol = 8.219392164848766e-06\n",
      "迭代 7: x = [ 1.00000004  1.99999999 -1.00000001  1.        ], tol = 6.539341071620232e-07\n",
      "迭代 8: x = [ 1.  2. -1.  1.], tol = 4.423370190603661e-08\n",
      "Solution: [ 1.  2. -1.  1.]\n",
      "Error: [ 5.57651703e-11 -1.38831524e-09  2.94534175e-10  0.00000000e+00]\n"
     ]
    }
   ],
   "source": [
    "import numpy as np\n",
    "\n",
    "def gauss_seidel(a, b, x0, iters=1000):\n",
    "    '''\n",
    "    Gauss_Seidel 迭代\n",
    "    \n",
    "    参数\n",
    "    ____\n",
    "    a: float Matrix\n",
    "        系数矩阵\n",
    "    b: float vector\n",
    "        常数向量\n",
    "    x0：float vector\n",
    "        解的初始值\n",
    "    iters: int\n",
    "        迭代次数，默认1000次\n",
    "        \n",
    "    返回值\n",
    "    ______\n",
    "    x：float vector\n",
    "        解向量\n",
    "    '''\n",
    "    \n",
    "    m, n = a.shape\n",
    "    x = x0\n",
    "    if m != n:\n",
    "        raise ValueError(\"输入必须是方阵！\")\n",
    "    \n",
    "    for k in range(iters):\n",
    "        # 进行迭代\n",
    "        x_i_old = x.copy()\n",
    "        for i in range(n):\n",
    "            sum_new = (a[i, : i] * x[: i]).sum()\n",
    "            sum_old = (a[i, i + 1 :] * x[i + 1 :]).sum()\n",
    "            x[i] = 1 / a[i, i] * (b[i] - sum_new - sum_old)\n",
    "\n",
    "        # 计算偏差值\n",
    "        tol = np.sqrt(np.dot(x-x_i_old,x-x_i_old))    \n",
    "        if tol / n < 1e-8:\n",
    "            break\n",
    "        print(\"迭代 {0}: x = {1}, tol = {2}\".format(k, x, tol))\n",
    "        \n",
    "    return x\n",
    "\n",
    "ITERATION_LIMIT = 1000\n",
    "\n",
    "# initialize the matrix\n",
    "A = np.array([[10., -1., 2., 0.],\n",
    "              [-1., 11., -1., 3.],\n",
    "              [2., -1., 10., -1.],\n",
    "              [0., 3., -1., 8.]])\n",
    "# initialize the RHS vector\n",
    "b = np.array([6., 25., -11., 15.])\n",
    "\n",
    "print(\"System of equations:\")\n",
    "for i in range(A.shape[0]):\n",
    "    row = [\"{0:3g}*x{1}\".format(A[i, j], j + 1) for j in range(A.shape[1])]\n",
    "    print(\"[{0}] = [{1:3g}]\".format(\" + \".join(row), b[i]))\n",
    "\n",
    "x = np.zeros_like(b)\n",
    "\n",
    "x = gauss_seidel(A, b, x0=x, iters=ITERATION_LIMIT)\n",
    "\n",
    "print(\"Solution: {0}\".format(x))\n",
    "error = np.dot(A, x) - b\n",
    "print(\"Error: {0}\".format(error))"
   ]
  },
  {
   "cell_type": "code",
   "execution_count": 14,
   "metadata": {},
   "outputs": [],
   "source": [
    "## module newtonPoly\n",
    "'''p = evalPoly(a,xData,x).\n",
    "   Evaluates Newton’s polynomial p at x. The coefficient\n",
    "   vector {a} can be computed by the function ’coeffts’.\n",
    "   \n",
    "   a = coeffts(xData,yData).\n",
    "   Computes the coefficients of Newton’s polynomial.\n",
    "'''\n",
    "def eval_newtonpoly(a, xs, x):\n",
    "    '''\n",
    "    评估牛顿多项式在某一点的值\n",
    "    \n",
    "    参数\n",
    "    ____\n",
    "    a: vector\n",
    "        牛顿多项式的系数向量\n",
    "    xs: vector\n",
    "        已知数据集中的x值\n",
    "    x: float\n",
    "        x值\n",
    "        \n",
    "    返回值\n",
    "    ______\n",
    "    p: float\n",
    "        牛顿多项式的值p(x)\n",
    "    '''\n",
    "    n = len(xs) - 1  # Degree of polynomial\n",
    "    p = a[n]\n",
    "    for k in range(1,n+1):\n",
    "        p = a[n-k] + (x -xs[n-k])*p\n",
    "    return p\n",
    "\n",
    "def newton_coeffts(xs, ys):\n",
    "    '''\n",
    "    根据数据集，递推牛顿多项式的系数\n",
    "    \n",
    "    参数\n",
    "    ____\n",
    "    xs: float vector\n",
    "        数据集中的x值\n",
    "    ys: float vector\n",
    "        数据集中的y值\n",
    "\n",
    "    返回值\n",
    "    ______\n",
    "    a: float vector\n",
    "        牛顿多项式的系数向量\n",
    "    '''\n",
    "    m = len(xs) \n",
    "    a = ys.copy()\n",
    "    for k in range(1,m):\n",
    "        a[k:m] = (a[k:m] - a[k-1])/(xs[k:m] - xs[k-1])\n",
    "    return a"
   ]
  },
  {
   "cell_type": "code",
   "execution_count": 15,
   "metadata": {},
   "outputs": [],
   "source": [
    "import matplotlib.pyplot as plt\n",
    "\n",
    "x = np.arange(-4, 4.1, 0.1)\n",
    "y = eval_newtonpoly(a, xs, x)\n",
    "plt.plot(x, y, c='k')\n",
    "plt.scatter(xs, ys)\n",
    "plt.show()"
   ]
  },
  {
   "cell_type": "code",
   "execution_count": 3,
   "metadata": {},
   "outputs": [
    {
     "name": "stdout",
     "output_type": "stream",
     "text": [
      "插入节点个数:4\n",
      "输入x的值:3\n",
      "插入第1个y值：3\n",
      "插入第2个y值：-15\n",
      "插入第3个y值：-4\n",
      "插入第4个y值：15\n",
      "插入第1个x值：-2\n",
      "插入第2个x值：-1\n",
      "插入第3个x值：4\n",
      "插入第4个x值：5\n",
      "\n",
      "\n",
      " 3.000000\n",
      "\n",
      "\n",
      " -15.000000\n",
      " -87.000000\n",
      "\n",
      "\n",
      " -4.000000\n",
      " -6.200000\n",
      " -19.666667\n",
      "\n",
      "\n",
      " 15.000000\n",
      " -23.000000\n",
      " -17.400000\n",
      " -18.047619\n"
     ]
    }
   ],
   "source": [
    "#coding=gbk\n",
    "import numpy as np\n",
    "'''\n",
    "Created on 2014-8-31\n",
    "\n",
    "@author: Administrator\n",
    "'''\n",
    "\n",
    "def Neville(xt,m,n,x):\n",
    "    for i in range(1,n):\n",
    "        for j in range(1,n):\n",
    "            w[i-j][i]=(x-xt[i-j])/(xt[i]-xt[i-j])\n",
    "            m[i][j]=m[i-1][j-1]+w[i-j][i]*(m[i][j-1]-m[i-1][j-1])\n",
    "    for i in range(n):\n",
    "        for j in range(0,i+1):\n",
    "            if j%n==0:\n",
    "                print(\"\\n\")\n",
    "            #print(' %f' %m[i][j])\n",
    "    return \n",
    "\n",
    "n = int(input('插入节点个数:'))\n",
    "x = float(input('输入x的值:'))\n",
    "m = [[0 for i in range(n)] for j in range(n)]    #创建n*n矩阵\n",
    "w = [[0 for i in range(n)] for j in range(n)]\n",
    "xt = [0]*n\n",
    "for i in range(n):\n",
    "    m[i][0] = float(input('插入第%d个y值：' %(i+1)))\n",
    "for i in range(n):\n",
    "    xt[i] = float(input('插入第%d个x值：' %(i+1)))\n",
    "Neville(xt,m,n,x)"
   ]
  },
  {
   "cell_type": "code",
   "execution_count": 8,
   "metadata": {},
   "outputs": [
    {
     "data": {
      "text/plain": [
       "-17"
      ]
     },
     "execution_count": 8,
     "metadata": {},
     "output_type": "execute_result"
    }
   ],
   "source": [
    "def neville(xs, ys, x):\n",
    "    '''\n",
    "    内维尔插值\n",
    "    \n",
    "    参数\n",
    "    ____\n",
    "    xs: float vector\n",
    "        数据点集中的x值\n",
    "    ys: float vector\n",
    "        数据点集中的y值\n",
    "    x: float\n",
    "        插值点的x值\n",
    "    \n",
    "    返回值    \n",
    "    ______\n",
    "    y: float\n",
    "        插值点的y值\n",
    "    '''\n",
    "    m = len(xs)\n",
    "    y = ys.copy()\n",
    "    for k in range(1,m):\n",
    "        y[0:m-k] = ((x - xs[k:m])*y[0:m-k] +      \\\n",
    "                    (xs[0:m-k] - x)*y[1:m-k+1])/  \\\n",
    "                   (xs[0:m-k] - xs[k:m])\n",
    "    return y[0]\n",
    "\n",
    "x = 3\n",
    "xd = np.array([-2, -1, 4, 5])\n",
    "yd = np.array([3, -15, -4, 15])\n",
    "\n",
    "neville(xd, yd, x)"
   ]
  },
  {
   "cell_type": "code",
   "execution_count": 14,
   "metadata": {},
   "outputs": [
    {
     "ename": "NameError",
     "evalue": "name 'xs' is not defined",
     "output_type": "error",
     "traceback": [
      "\u001b[1;31m---------------------------------------------------------------------------\u001b[0m",
      "\u001b[1;31mNameError\u001b[0m                                 Traceback (most recent call last)",
      "\u001b[1;32m<ipython-input-14-c4ad45542799>\u001b[0m in \u001b[0;36m<module>\u001b[1;34m\u001b[0m\n\u001b[0;32m     27\u001b[0m     \u001b[1;32mreturn\u001b[0m \u001b[0my\u001b[0m\u001b[1;33m\u001b[0m\u001b[1;33m\u001b[0m\u001b[0m\n\u001b[0;32m     28\u001b[0m \u001b[1;33m\u001b[0m\u001b[0m\n\u001b[1;32m---> 29\u001b[1;33m \u001b[0mlagrange\u001b[0m\u001b[1;33m(\u001b[0m\u001b[0mx\u001b[0m\u001b[1;33m,\u001b[0m \u001b[0mxs\u001b[0m\u001b[1;33m,\u001b[0m \u001b[0mys\u001b[0m\u001b[1;33m)\u001b[0m\u001b[1;33m\u001b[0m\u001b[1;33m\u001b[0m\u001b[0m\n\u001b[0m",
      "\u001b[1;31mNameError\u001b[0m: name 'xs' is not defined"
     ]
    }
   ],
   "source": [
    "def lagrange(xs, ys, x):\n",
    "    '''\n",
    "    计算拉格朗日插值\n",
    "    \n",
    "    参数\n",
    "    ____\n",
    "    x: float\n",
    "        插值点\n",
    "    xs: float vector\n",
    "        数据集的x值\n",
    "    ys: float vector\n",
    "        数据集的y值\n",
    "        \n",
    "    返回值\n",
    "    ______\n",
    "    y: float\n",
    "        插值\n",
    "    '''\n",
    "    y = 0\n",
    "    n = len(xt)\n",
    "    for i in range(n):\n",
    "        t = 1\n",
    "        for j in range(n):\n",
    "            if i!=j:\n",
    "                t = t*(x - xs[j])/(xs[i] - xs[j])\n",
    "        y = y+t*yt[i]\n",
    "    return y    \n",
    "\n",
    "lagrange(xs, ys, x)"
   ]
  },
  {
   "cell_type": "code",
   "execution_count": 20,
   "metadata": {},
   "outputs": [],
   "source": [
    "def rational(xs, ys,x):\n",
    "    '''\n",
    "    有理函数插值\n",
    "    \n",
    "    参数\n",
    "    ____\n",
    "    xs: float vector\n",
    "        数据集的x值\n",
    "    ys: float vector\n",
    "        数据集的y值\n",
    "    x: float\n",
    "        插值点的x值\n",
    "    \n",
    "    返回值\n",
    "    ______\n",
    "    y: float\n",
    "        插值点的y值\n",
    "    '''\n",
    "    m = len(xs)\n",
    "    r = ys.copy()\n",
    "    rOld = np.zeros(m)\n",
    "    \n",
    "    for k in range(m-1):\n",
    "        for i in range(m-k-1):\n",
    "            if abs(x - xs[i+k+1]) < 1.0e-9:\n",
    "                return ys[i+k+1]\n",
    "            else:\n",
    "                c1 = r[i+1] - r[i]\n",
    "                c2 = r[i+1] - rOld[i+1]\n",
    "                c3 = (x - xs[i])/(x - xs[i+k+1])\n",
    "                r[i] = r[i+1] + c1/(c3*(1.0 - c1/c2) - 1.0)\n",
    "                rOld[i+1] = r[i+1]\n",
    "    return r[0]"
   ]
  },
  {
   "cell_type": "code",
   "execution_count": 22,
   "metadata": {},
   "outputs": [
    {
     "ename": "NameError",
     "evalue": "name 'plt' is not defined",
     "output_type": "error",
     "traceback": [
      "\u001b[1;31m---------------------------------------------------------------------------\u001b[0m",
      "\u001b[1;31mNameError\u001b[0m                                 Traceback (most recent call last)",
      "\u001b[1;32m<ipython-input-22-c4d6a0681875>\u001b[0m in \u001b[0;36m<module>\u001b[1;34m\u001b[0m\n\u001b[0;32m      6\u001b[0m \u001b[1;32mfor\u001b[0m \u001b[0mi\u001b[0m \u001b[1;32min\u001b[0m \u001b[0mrange\u001b[0m\u001b[1;33m(\u001b[0m\u001b[0mlen\u001b[0m\u001b[1;33m(\u001b[0m\u001b[0my\u001b[0m\u001b[1;33m)\u001b[0m\u001b[1;33m)\u001b[0m\u001b[1;33m:\u001b[0m\u001b[1;33m\u001b[0m\u001b[1;33m\u001b[0m\u001b[0m\n\u001b[0;32m      7\u001b[0m     \u001b[0my\u001b[0m\u001b[1;33m[\u001b[0m\u001b[0mi\u001b[0m\u001b[1;33m]\u001b[0m \u001b[1;33m=\u001b[0m \u001b[0mrational\u001b[0m\u001b[1;33m(\u001b[0m\u001b[0mxs\u001b[0m\u001b[1;33m,\u001b[0m \u001b[0mys\u001b[0m\u001b[1;33m,\u001b[0m \u001b[0mx\u001b[0m\u001b[1;33m[\u001b[0m\u001b[0mi\u001b[0m\u001b[1;33m]\u001b[0m\u001b[1;33m)\u001b[0m\u001b[1;33m\u001b[0m\u001b[1;33m\u001b[0m\u001b[0m\n\u001b[1;32m----> 8\u001b[1;33m \u001b[0mplt\u001b[0m\u001b[1;33m.\u001b[0m\u001b[0mplot\u001b[0m\u001b[1;33m(\u001b[0m\u001b[0mx\u001b[0m\u001b[1;33m,\u001b[0m \u001b[0my\u001b[0m\u001b[1;33m,\u001b[0m \u001b[0mc\u001b[0m\u001b[1;33m=\u001b[0m\u001b[1;34m'k'\u001b[0m\u001b[1;33m)\u001b[0m\u001b[1;33m\u001b[0m\u001b[1;33m\u001b[0m\u001b[0m\n\u001b[0m\u001b[0;32m      9\u001b[0m \u001b[0mplt\u001b[0m\u001b[1;33m.\u001b[0m\u001b[0mscatter\u001b[0m\u001b[1;33m(\u001b[0m\u001b[0mxs\u001b[0m\u001b[1;33m,\u001b[0m \u001b[0mys\u001b[0m\u001b[1;33m)\u001b[0m\u001b[1;33m\u001b[0m\u001b[1;33m\u001b[0m\u001b[0m\n\u001b[0;32m     10\u001b[0m \u001b[0mplt\u001b[0m\u001b[1;33m.\u001b[0m\u001b[0mshow\u001b[0m\u001b[1;33m(\u001b[0m\u001b[1;33m)\u001b[0m\u001b[1;33m\u001b[0m\u001b[1;33m\u001b[0m\u001b[0m\n",
      "\u001b[1;31mNameError\u001b[0m: name 'plt' is not defined"
     ]
    }
   ],
   "source": [
    "xs = np.array([-2, 1, 4, -1, 3, -4], dtype=float)\n",
    "ys = np.array([-1, 2, 59, 4, 24, -53], dtype=float)\n",
    "\n",
    "x = np.arange(-4, 4.1, 0.01)\n",
    "y = np.zeros_like(x)\n",
    "for i in range(len(y)):\n",
    "    y[i] = rational(xs, ys, x[i])\n",
    "plt.plot(x, y, c='k')\n",
    "plt.scatter(xs, ys)\n",
    "plt.show()"
   ]
  },
  {
   "cell_type": "code",
   "execution_count": 44,
   "metadata": {},
   "outputs": [],
   "source": [
    "def curvatures(xs, ys):\n",
    "    '''\n",
    "    求三次样条函数在每个数据点上的二阶导数\n",
    "    \n",
    "    参数\n",
    "    ____\n",
    "    xs: float vector\n",
    "        数据集的x值\n",
    "    ysL float vector\n",
    "        数据集的y值\n",
    "    \n",
    "    返回值\n",
    "    k: float vector\n",
    "        三次样条函数在每个数据点上的二阶导数\n",
    "    ______\n",
    "    '''\n",
    "    n = len(xs) - 1\n",
    "    c = np.zeros(n)\n",
    "    d = np.ones(n+1)\n",
    "    e = np.zeros(n)\n",
    "    k = np.zeros(n+1)\n",
    "    \n",
    "    # 构建系数项和常数项\n",
    "    c[0:n-1] = xs[0:n-1] - xs[1:n]\n",
    "    d[1:n] = 2.0*(xs[0:n-1] - xs[2:n+1])\n",
    "    e[1:n] = xs[1:n] - xs[2:n+1]\n",
    "    k[1:n] = 6.0*(ys[0:n-1] - ys[1:n])    \\\n",
    "             /(xs[0:n-1] - xs[1:n])       \\\n",
    "             - 6.0*(ys[1:n] - ys[2:n+1])  \\\n",
    "             /(xs[1:n] - xs[2:n+1])\n",
    "    \n",
    "    # 解线性方程组\n",
    "    LUdecomp3(c, d, e)\n",
    "    LUsolve3(c, d, e, k)\n",
    "    return k\n",
    "\n",
    "def evalSpline(xs, ys, k, x):\n",
    "    '''\n",
    "    三次样条插值\n",
    "    \n",
    "    参数\n",
    "    ____\n",
    "    xs: float vector\n",
    "        数据集的x值\n",
    "    ys: float vector\n",
    "        数据集的y值\n",
    "    k: float vector\n",
    "        三次样条函数在每个数据点上的二阶导数\n",
    "    x: float\n",
    "        插值点的x值\n",
    "    \n",
    "    返回值\n",
    "    ______\n",
    "    y: float\n",
    "        插值点的y值\n",
    "    '''\n",
    "    def findSegment(xs, x):\n",
    "        '''\n",
    "        查找插值点的区间\n",
    "        '''\n",
    "        iLeft = 0\n",
    "        iRight = len(xs)- 1\n",
    "        \n",
    "        while 1:\n",
    "            if (iRight-iLeft) <= 1: \n",
    "                return iLeft\n",
    "            i = (iLeft + iRight) // 2\n",
    "            if x < xs[i]:\n",
    "                iRight = i\n",
    "            else:\n",
    "                iLeft = i\n",
    "    \n",
    "    i = findSegment(xs, x)\n",
    "    h = xs[i] - xs[i+1]\n",
    "    y = ((x - xs[i+1])**3/h - (x - xs[i+1])*h)*k[i]/6.0 \\\n",
    "        - ((x - xs[i])**3/h - (x - xs[i])*h)*k[i+1]/6.0 \\\n",
    "        + (ys[i]*(x - xs[i+1])                           \\\n",
    "        - ys[i+1]*(x - xs[i]))/h\n",
    "    return y"
   ]
  },
  {
   "cell_type": "code",
   "execution_count": 45,
   "metadata": {},
   "outputs": [
    {
     "data": {
      "image/png": "[encoded data removed]",
      "text/plain": [
       "<Figure size 432x288 with 1 Axes>"
      ]
     },
     "metadata": {
      "needs_background": "light"
     },
     "output_type": "display_data"
    }
   ],
   "source": [
    "import matplotlib.pyplot as plt\n",
    "\n",
    "xs = np.array([1., 2, 3, 4, 5], dtype=float)\n",
    "ys = np.array([0, 1, 0, 1, 0], dtype=float)\n",
    "k = curvatures(xs, ys)\n",
    "x = np.arange(1, 5., 0.01)\n",
    "y = np.zeros_like(x)\n",
    "for i in range(len(y)):\n",
    "    y[i] = evalSpline(xs, ys, k, x[i])\n",
    "plt.plot(x, y, c='k')\n",
    "plt.scatter(xs, ys)\n",
    "plt.show()"
   ]
  },
  {
   "cell_type": "code",
   "execution_count": 147,
   "metadata": {},
   "outputs": [],
   "source": [
    "import math\n",
    "\n",
    "def poly_fit(xs, ys, m):\n",
    "    '''\n",
    "    使用最小二乘法进行多项式拟合\n",
    "    \n",
    "    首先生成矩阵方程 Aa=b的系数矩阵A\n",
    "    和常数向量b，然后使用带枢轴交换\n",
    "    的高斯方法解线性方程组。\n",
    "    \n",
    "    参数\n",
    "    ____\n",
    "    xs: float vector\n",
    "        数据集中的x值\n",
    "    ys: float vector\n",
    "        数据集中的y值\n",
    "    m: int\n",
    "        多项式的最高阶数\n",
    "    \n",
    "    返回值\n",
    "    ______\n",
    "    a: float vector\n",
    "        多项式系数\n",
    "    '''\n",
    "    a = np.zeros((m+1,m+1))\n",
    "    b = np.zeros(m+1)\n",
    "    s = np.zeros(2*m+1)\n",
    "    \n",
    "    # 生成系数矩阵和常数向量\n",
    "    for i in range(len(xs)):\n",
    "        temp = ys[i]\n",
    "        for j in range(m+1):\n",
    "            b[j] = b[j] + temp\n",
    "            temp = temp*xs[i]\n",
    "        temp = 1.0\n",
    "        for j in range(2*m+1):\n",
    "            s[j] = s[j] + temp\n",
    "            temp = temp*xs[i]\n",
    "    for i in range(m+1):\n",
    "        for j in range(m+1):\n",
    "            a[i,j] = s[i+j]\n",
    "            \n",
    "    return gaussPivot(a, b) # 求解线性方程组\n",
    "\n",
    "def std_dev(c, xs, ys):\n",
    "    '''\n",
    "    计算残差，评估拟合度\n",
    "    \n",
    "    参数\n",
    "    ____\n",
    "    c: float vector\n",
    "        拟合函数的系数向量\n",
    "    xs: float vector\n",
    "        数据集中的x值\n",
    "    ys: float vector\n",
    "        数据集中的y值\n",
    "    \n",
    "    返回值\n",
    "    ______\n",
    "    sigma: float\n",
    "        残差平方和的平方根\n",
    "    '''\n",
    "    def eval_poly(c, x):\n",
    "        '''\n",
    "        根据拟合函数评估某一点的值\n",
    "        '''\n",
    "        m = len(c) - 1\n",
    "        p = c[m]\n",
    "        for j in range(m):\n",
    "            p = p*x + c[m-j-1]\n",
    "    return p\n",
    "    \n",
    "    n = len(xs) - 1\n",
    "    m = len(c) - 1\n",
    "    sigma = 0.0\n",
    "    \n",
    "    for i in range(n+1):\n",
    "        p = eval_poly(c, xs[i])\n",
    "        sigma = sigma + (ys[i] - p)**2\n",
    "    sigma = math.sqrt(sigma/(n - m))\n",
    "    return sigma\n",
    "\n",
    "def plot_poly(xs, ys, c):\n",
    "    '''\n",
    "    根据系数绘制拟合曲线\n",
    "    \n",
    "    参数\n",
    "    ____\n",
    "    xs: float vector\n",
    "        数据集中的x值\n",
    "    ys: float vector\n",
    "        数据集中的y值\n",
    "    c: float vector\n",
    "        拟合函数的系数向量\n",
    "    \n",
    "    返回值\n",
    "    ______\n",
    "        无\n",
    "    '''\n",
    "    m = len(c)\n",
    "    x1 = min(xs)\n",
    "    x2 = max(xs)\n",
    "    dx = (x2 - x1)/20.0\n",
    "    x = np.arange(x1,x2 + dx/10.0,dx)\n",
    "    y = np.zeros((len(x)))*1.0\n",
    "    for i in range(m):\n",
    "        y = y + c[i]*x**i\n",
    "    plt.plot(xs, ys, 'o', label='Original data')\n",
    "    plt.plot(x, y, 'k-', label='Fitted line')\n",
    "    plt.grid(True)\n",
    "    plt.legend()\n",
    "    plt.show()"
   ]
  },
  {
   "cell_type": "code",
   "execution_count": 148,
   "metadata": {},
   "outputs": [
    {
     "data": {
      "image/png": "[encoded data removed]",
      "text/plain": [
       "<Figure size 432x288 with 1 Axes>"
      ]
     },
     "metadata": {
      "needs_background": "light"
     },
     "output_type": "display_data"
    },
    {
     "data": {
      "image/png": "[encoded data removed]",
      "text/plain": [
       "<Figure size 432x288 with 1 Axes>"
      ]
     },
     "metadata": {
      "needs_background": "light"
     },
     "output_type": "display_data"
    },
    {
     "data": {
      "image/png": "[encoded data removed]",
      "text/plain": [
       "<Figure size 432x288 with 1 Axes>"
      ]
     },
     "metadata": {
      "needs_background": "light"
     },
     "output_type": "display_data"
    }
   ],
   "source": [
    "xs = np.array([0.,1.0,2.,2.5,3.])\n",
    "ys=np.array([2.9,3.7,4.1,4.4,5.])\n",
    "c1 = poly_fit(xs, ys, 1)\n",
    "c2 = poly_fit(xs, ys, 2)\n",
    "c3 = poly_fit(xs, ys, 3)\n",
    "plot_poly(xs, ys, c1)\n",
    "plot_poly(xs, ys, c2)\n",
    "plot_poly(xs, ys, c3)"
   ]
  },
  {
   "cell_type": "code",
   "execution_count": 131,
   "metadata": {},
   "outputs": [
    {
     "data": {
      "text/plain": [
       "array([2.92672414, 0.64310345])"
      ]
     },
     "execution_count": 131,
     "metadata": {},
     "output_type": "execute_result"
    }
   ],
   "source": [
    "c1"
   ]
  },
  {
   "cell_type": "code",
   "execution_count": 135,
   "metadata": {},
   "outputs": [
    {
     "data": {
      "text/plain": [
       "array([0.64310345, 2.92672414])"
      ]
     },
     "execution_count": 135,
     "metadata": {},
     "output_type": "execute_result"
    }
   ],
   "source": [
    "x"
   ]
  },
  {
   "cell_type": "code",
   "execution_count": 151,
   "metadata": {},
   "outputs": [
    {
     "data": {
      "image/png": "[encoded data removed]",
      "text/plain": [
       "<Figure size 432x288 with 1 Axes>"
      ]
     },
     "metadata": {
      "needs_background": "light"
     },
     "output_type": "display_data"
    }
   ],
   "source": [
    "import numpy as np\n",
    "\n",
    "A =  np.vstack([xs, np.ones(len(xs))]).T\n",
    "a1, a0 = np.linalg.lstsq(A,ys,rcond=None)[0]\n",
    "plt.grid(True)\n",
    "plt.plot(xs, ys, 'o', label='Original data')\n",
    "plt.plot(xs, a1*xs + a0, 'k', label='Fitted line')\n",
    "plt.legend()\n",
    "plt.show()"
   ]
  },
  {
   "cell_type": "code",
   "execution_count": 137,
   "metadata": {},
   "outputs": [
    {
     "data": {
      "image/png": "[encoded data removed]",
      "text/plain": [
       "<Figure size 432x288 with 1 Axes>"
      ]
     },
     "metadata": {
      "needs_background": "light"
     },
     "output_type": "display_data"
    }
   ],
   "source": [
    "plot_poly(xs, ys, x)"
   ]
  },
  {
   "cell_type": "code",
   "execution_count": 128,
   "metadata": {},
   "outputs": [
    {
     "data": {
      "text/plain": [
       "array([2.9, 3.7, 4.1, 4.4, 5. ])"
      ]
     },
     "execution_count": 128,
     "metadata": {},
     "output_type": "execute_result"
    }
   ],
   "source": [
    "ys"
   ]
  },
  {
   "cell_type": "code",
   "execution_count": 107,
   "metadata": {},
   "outputs": [
    {
     "data": {
      "image/png": "[encoded data removed]",
      "text/plain": [
       "<Figure size 432x288 with 1 Axes>"
      ]
     },
     "metadata": {
      "needs_background": "light"
     },
     "output_type": "display_data"
    }
   ],
   "source": [
    "_ = plt.plot(xs, ys, 'o', label='Original data', markersize=10)\n",
    "\n",
    "_ = plt.plot(xs, x*xs + residuals, 'r', label='Fitted line')\n",
    "\n",
    "_ = plt.legend()\n",
    "\n",
    "plt.show()"
   ]
  },
  {
   "cell_type": "code",
   "execution_count": 108,
   "metadata": {},
   "outputs": [
    {
     "data": {
      "image/png": "[encoded data removed]",
      "text/plain": [
       "<Figure size 432x288 with 1 Axes>"
      ]
     },
     "metadata": {
      "needs_background": "light"
     },
     "output_type": "display_data"
    }
   ],
   "source": [
    "x = np.array([0, 1, 2, 3])\n",
    "y = np.array([-1, 0.2, 0.9, 2.1])\n",
    "A = np.vstack([x, np.ones(len(x))]).T\n",
    "m, c = np.linalg.lstsq(A, y, rcond=None)[0]\n",
    "_ = plt.plot(x, y, 'o', label='Original data', markersize=10)\n",
    "_ = plt.plot(x, m*x + c, 'r', label='Fitted line')\n",
    "_ = plt.legend()\n",
    "plt.show()"
   ]
  },
  {
   "cell_type": "code",
   "execution_count": 110,
   "metadata": {},
   "outputs": [],
   "source": [
    "A = np.array([[1, 2, 1],\n",
    "              [1,1,2],\n",
    "              [2,1,1],\n",
    "              [1,1,1]])\n",
    "b = np.array([[4,3,5,4],[1,2,3,4]]).T # transpose to align dimensions\n",
    "x, residuals, rank, s = np.linalg.lstsq(A,b, rcond=None)"
   ]
  },
  {
   "cell_type": "code",
   "execution_count": 111,
   "metadata": {},
   "outputs": [
    {
     "data": {
      "text/plain": [
       "array([[ 2.05263158,  1.63157895],\n",
       "       [ 1.05263158, -0.36842105],\n",
       "       [ 0.05263158,  0.63157895]])"
      ]
     },
     "execution_count": 111,
     "metadata": {},
     "output_type": "execute_result"
    }
   ],
   "source": [
    "x"
   ]
  },
  {
   "cell_type": "code",
   "execution_count": 112,
   "metadata": {},
   "outputs": [
    {
     "data": {
      "image/png": "[encoded data removed]",
      "text/plain": [
       "<Figure size 432x288 with 1 Axes>"
      ]
     },
     "metadata": {
      "needs_background": "light"
     },
     "output_type": "display_data"
    }
   ],
   "source": [
    "x = np.array([1., 2., 3., 4.])\n",
    "y = np.array([6., 5., 7., 10.])\n",
    "A = np.vstack([x, np.ones(len(x))]).T\n",
    "m, c = np.linalg.lstsq(A, y, rcond=None)[0]\n",
    "_ = plt.plot(x, y, 'o', label='Original data', markersize=10)\n",
    "_ = plt.plot(x, m*x + c, 'r', label='Fitted line')\n",
    "_ = plt.legend()\n",
    "plt.show()"
   ]
  },
  {
   "cell_type": "code",
   "execution_count": 113,
   "metadata": {},
   "outputs": [
    {
     "data": {
      "image/png": "[encoded data removed]",
      "text/plain": [
       "<Figure size 432x288 with 1 Axes>"
      ]
     },
     "metadata": {
      "needs_background": "light"
     },
     "output_type": "display_data"
    }
   ],
   "source": [
    "c = poly_fit(x, y, 1)\n",
    "plot_poly(x, y, c)"
   ]
  },
  {
   "cell_type": "code",
   "execution_count": null,
   "metadata": {},
   "outputs": [],
   "source": []
  }
 ],
 "metadata": {
  "kernelspec": {
   "display_name": "Python 3",
   "language": "python",
   "name": "python3"
  },
  "language_info": {
   "codemirror_mode": {
    "name": "ipython",
    "version": 3
   },
   "file_extension": ".py",
   "mimetype": "text/x-python",
   "name": "python",
   "nbconvert_exporter": "python",
   "pygments_lexer": "ipython3",
   "version": "3.8.3"
  }
 },
 "nbformat": 4,
 "nbformat_minor": 4
}
